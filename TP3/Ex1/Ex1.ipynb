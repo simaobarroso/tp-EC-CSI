{
 "cells": [
  {
   "cell_type": "code",
   "execution_count": 259,
   "metadata": {},
   "outputs": [
    {
     "name": "stdout",
     "output_type": "stream",
     "text": [
      "p = 65537\n",
      "n = 17\n",
      "k = 10\n",
      "s = 47728\n"
     ]
    }
   ],
   "source": [
    "from sage.modules.free_module_integer import IntegerLattice\n",
    "\n",
    "\n",
    "p = next_prime(2^16)\n",
    "n = ceil(log(p, 2))\n",
    "k = ceil(sqrt(n)) + ceil(log(n, 2))\n",
    "s = random.randint(1, p - 1)\n",
    "\n",
    "print(f\"p = {p}\")\n",
    "print(f\"n = {n}\")\n",
    "print(f\"k = {k}\")\n",
    "print(f\"s = {s}\")"
   ]
  },
  {
   "cell_type": "code",
   "execution_count": 285,
   "metadata": {},
   "outputs": [],
   "source": [
    "def represent_in_Zq(x, q):\n",
    "    return x % q\n",
    "\n",
    "def msb_k(y, k, p):\n",
    "    B = p // (2 ** k)\n",
    "    return y // B"
   ]
  },
  {
   "cell_type": "code",
   "execution_count": 286,
   "metadata": {},
   "outputs": [
    {
     "name": "stdout",
     "output_type": "stream",
     "text": [
      "[(14723, 181), (51525, 630), (30841, 284), (60491, 202), (40345, 680), (30564, 563), (55289, 806), (41187, 880), (54345, 317), (22073, 912), (62215, 736), (36429, 816), (14417, 337), (43728, 378), (8584, 396), (60759, 380), (257, 166)]\n"
     ]
    }
   ],
   "source": [
    "def generate_pairs(N, q, k, s):\n",
    "    pairs = []\n",
    "    for i in range(N):\n",
    "        x_i = random.randint(0, q - 1)\n",
    "        u_i = msb_k((s * x_i) % q, k, q)\n",
    "        pairs.append((x_i, u_i))\n",
    "    return pairs\n",
    "\n",
    "pairs = generate_pairs(n, p, k, s)\n",
    "print(pairs)"
   ]
  },
  {
   "cell_type": "code",
   "execution_count": 299,
   "metadata": {},
   "outputs": [
    {
     "name": "stdout",
     "output_type": "stream",
     "text": [
      "[[65537, 0, 0, 0, 0, 0, 0, 0, 0, 0, 0, 0, 0, 0, 0, 0, 0, 0], [0, 65537, 0, 0, 0, 0, 0, 0, 0, 0, 0, 0, 0, 0, 0, 0, 0, 0], [0, 0, 65537, 0, 0, 0, 0, 0, 0, 0, 0, 0, 0, 0, 0, 0, 0, 0], [0, 0, 0, 65537, 0, 0, 0, 0, 0, 0, 0, 0, 0, 0, 0, 0, 0, 0], [0, 0, 0, 0, 65537, 0, 0, 0, 0, 0, 0, 0, 0, 0, 0, 0, 0, 0], [0, 0, 0, 0, 0, 65537, 0, 0, 0, 0, 0, 0, 0, 0, 0, 0, 0, 0], [0, 0, 0, 0, 0, 0, 65537, 0, 0, 0, 0, 0, 0, 0, 0, 0, 0, 0], [0, 0, 0, 0, 0, 0, 0, 65537, 0, 0, 0, 0, 0, 0, 0, 0, 0, 0], [0, 0, 0, 0, 0, 0, 0, 0, 65537, 0, 0, 0, 0, 0, 0, 0, 0, 0], [0, 0, 0, 0, 0, 0, 0, 0, 0, 65537, 0, 0, 0, 0, 0, 0, 0, 0], [0, 0, 0, 0, 0, 0, 0, 0, 0, 0, 65537, 0, 0, 0, 0, 0, 0, 0], [0, 0, 0, 0, 0, 0, 0, 0, 0, 0, 0, 65537, 0, 0, 0, 0, 0, 0], [0, 0, 0, 0, 0, 0, 0, 0, 0, 0, 0, 0, 65537, 0, 0, 0, 0, 0], [0, 0, 0, 0, 0, 0, 0, 0, 0, 0, 0, 0, 0, 65537, 0, 0, 0, 0], [0, 0, 0, 0, 0, 0, 0, 0, 0, 0, 0, 0, 0, 0, 65537, 0, 0, 0], [0, 0, 0, 0, 0, 0, 0, 0, 0, 0, 0, 0, 0, 0, 0, 65537, 0, 0], [0, 0, 0, 0, 0, 0, 0, 0, 0, 0, 0, 0, 0, 0, 0, 0, 65537, 0], [14723, 51525, 30841, 60491, 40345, 30564, 55289, 41187, 54345, 22073, 62215, 36429, 14417, 43728, 8584, 60759, 257, 0]]\n",
      "Free module of degree 18 and rank 17 over Integer Ring\n",
      "User basis matrix:\n",
      "[  4424   8654  -4483 -10410   1097   3050   5899  -7842 -10543  -1687   3511 -12125  -6182   1842  -4890  12586   9336      0]\n",
      "[ 10395   -198  -7319  -6002  26117 -14610   -968  -9923  12040   4643  -8653  -1010   6836 -18278   9457   6967   5345      0]\n",
      "[ -2862   1927  -2581  19356   2342  27003   2139  20776   2643   8765   5106 -13340 -11585   7756    971  -8557  -4025      0]\n",
      "[ 10307   1052  26309  -6506 -10999   2158  12425    425  -5053 -16063  14861  22578  -7855  -6819  -3245  -9875  -7877      0]\n",
      "[-10714 -11655  30915   4175   3180   9857   8557  14666   -273   2219  11970 -11789  -2746   2472  -6349  13902  -4122      0]\n",
      "[  7201    487   3769 -18337 -16243  16075  -4901  -3728    838  -5131  13670  15062  -3574  11857  16128 -17467  16974      0]\n",
      "[  1778  -4403  11679  16141  23047    811  -6962  11366   4266 -19551   4522  -5910    419   5303   3427   9621 -27772      0]\n",
      "[ -6096  15096 -11955    834  14606 -12143 -13580   7843  13461   1495 -15504   1538 -10799  19268  25700  -4899   1594      0]\n",
      "[ -2608   1298 -10275   2937  -3728   8394  -8218 -15050  -6110   5972   5752  13903  35287  17876  10823 -16545   1370      0]\n",
      "[  6379  21100  -3842 -11129  18366    -76   8491   9521  -5410   7004 -19899  -2921   3678 -13669  13659 -16902  -8226      0]\n",
      "[  2927  10555 -13321  -1110 -25569  -3641    629  10307  -5657 -12834  -9069  -1104  26160  -2070 -13931  -4324  -2593      0]\n",
      "[  4986   3650   1199 -25065  -6141  -8710 -18565 -14349   7761   2454 -12605  -1903  -6197   4624 -16118  -1992  -4529      0]\n",
      "[-12276 -22236 -27558  -4771   -259 -20196    519   1732   7627  -4859   3353  13676  15021  -7126  -2430   9873  -9433      0]\n",
      "[ -3895   3195  -9993  -4434  10515  -8522  15620 -27553  14245 -18321   5575  -1576   8850  -2955   5283  15673 -11775      0]\n",
      "[-11733  -1649  24111  -7619   5342  -4504   6502  12354   3622 -12636  17635  20054    663  21217 -14911   2085  23000      0]\n",
      "[-14994  13393   4202  -2464  15155   9158  -7342   -383  -3465   7999   5729  -8473  15560 -24079  25284   5044   8178      0]\n",
      "[  1906 -18137  -1487  22832   5539 -11663  -8569  20146   -661  -1349  23941 -28304   3914  12467  -1929  -1629  -8540      0]\n"
     ]
    }
   ],
   "source": [
    "def build_integer_lattice(oracle_inputs):\n",
    "    l = len(oracle_inputs) + 1  # Dimension of the lattice\n",
    "    basis_vectors = []\n",
    "\n",
    "    # Add basis vectors for oracle inputs\n",
    "    for i in range(l-1):\n",
    "        p_vector = [0] * (l)\n",
    "        p_vector[i] = p\n",
    "        basis_vectors.append(p_vector)\n",
    "\n",
    "\n",
    "    # Add the last basis vector with appropriate values\n",
    "    A = 1 // (2 ** k)\n",
    "    last_basis_vector = oracle_inputs + [A]\n",
    "    basis_vectors.append(last_basis_vector)\n",
    "    print(basis_vectors)\n",
    "    # Construct the lattice using IntegerLattice\n",
    "    return IntegerLattice(basis_vectors)\n",
    "\n",
    "input_lattice = build_integer_lattice([x_i for x_i, _ in pairs])\n",
    "print(input_lattice)"
   ]
  },
  {
   "cell_type": "code",
   "execution_count": 303,
   "metadata": {},
   "outputs": [
    {
     "ename": "KeyboardInterrupt",
     "evalue": "",
     "output_type": "error",
     "traceback": [
      "\u001b[0;31m---------------------------------------------------------------------------\u001b[0m",
      "\u001b[0;31mKeyError\u001b[0m                                  Traceback (most recent call last)",
      "File \u001b[0;32m/usr/lib/python3.12/site-packages/sage/misc/cachefunc.pyx:1962\u001b[0m, in \u001b[0;36msage.misc.cachefunc.CachedMethodCaller.__call__ (build/cythonized/sage/misc/cachefunc.c:13418)\u001b[0;34m()\u001b[0m\n\u001b[1;32m   1961\u001b[0m try:\n\u001b[0;32m-> 1962\u001b[0m     return cache[k]\n\u001b[1;32m   1963\u001b[0m except TypeError:  # k is not hashable\n",
      "\u001b[0;31mKeyError\u001b[0m: ((None,), ())",
      "\nDuring handling of the above exception, another exception occurred:\n",
      "\u001b[0;31mKeyboardInterrupt\u001b[0m                         Traceback (most recent call last)",
      "Cell \u001b[0;32mIn[303], line 48\u001b[0m\n\u001b[1;32m     46\u001b[0m target_vector \u001b[38;5;241m=\u001b[39m [B \u001b[38;5;241m*\u001b[39m ui \u001b[38;5;28;01mfor\u001b[39;00m ui \u001b[38;5;129;01min\u001b[39;00m oracle_inputs] \u001b[38;5;241m+\u001b[39m [Integer(\u001b[38;5;241m0\u001b[39m)]\n\u001b[1;32m     47\u001b[0m \u001b[38;5;66;03m# Find the lattice point closest to the target vector within distance B\u001b[39;00m\n\u001b[0;32m---> 48\u001b[0m closest_point \u001b[38;5;241m=\u001b[39m \u001b[43mfind_closest_point\u001b[49m\u001b[43m(\u001b[49m\u001b[43minput_lattice\u001b[49m\u001b[43m,\u001b[49m\u001b[43m \u001b[49m\u001b[43mtarget_vector\u001b[49m\u001b[43m,\u001b[49m\u001b[43m \u001b[49m\u001b[43mB\u001b[49m\u001b[43m)\u001b[49m\n\u001b[1;32m     49\u001b[0m \u001b[38;5;66;03m# Recover the secret from the lattice point\u001b[39;00m\n\u001b[1;32m     50\u001b[0m recovered_secret \u001b[38;5;241m=\u001b[39m recover_secret_from_lattice_point(closest_point, p, k)\n",
      "Cell \u001b[0;32mIn[303], line 14\u001b[0m, in \u001b[0;36mfind_closest_point\u001b[0;34m(lattice, target_vector, B)\u001b[0m\n\u001b[1;32m      1\u001b[0m \u001b[38;5;28;01mdef\u001b[39;00m \u001b[38;5;21mfind_closest_point\u001b[39m(lattice, target_vector, B):\n\u001b[1;32m      2\u001b[0m \u001b[38;5;250m    \u001b[39m\u001b[38;5;124;03m\"\"\"\u001b[39;00m\n\u001b[1;32m      3\u001b[0m \u001b[38;5;124;03m    Find the lattice point closest to the target vector within distance B.\u001b[39;00m\n\u001b[1;32m      4\u001b[0m \n\u001b[0;32m   (...)\u001b[0m\n\u001b[1;32m     11\u001b[0m \u001b[38;5;124;03m        list: The lattice point closest to the target vector.\u001b[39;00m\n\u001b[1;32m     12\u001b[0m \u001b[38;5;124;03m    \"\"\"\u001b[39;00m\n\u001b[0;32m---> 14\u001b[0m     closest_point \u001b[38;5;241m=\u001b[39m \u001b[43mlattice\u001b[49m\u001b[38;5;241;43m.\u001b[39;49m\u001b[43mclosest_vector\u001b[49m\u001b[43m(\u001b[49m\u001b[43mtarget_vector\u001b[49m\u001b[43m)\u001b[49m\n\u001b[1;32m     15\u001b[0m     \u001b[38;5;66;03m# Calculate the distance between the closest point and the target vector\u001b[39;00m\n\u001b[1;32m     16\u001b[0m     distance \u001b[38;5;241m=\u001b[39m \u001b[38;5;28msum\u001b[39m(\u001b[38;5;28mabs\u001b[39m(a \u001b[38;5;241m-\u001b[39m b) \u001b[38;5;28;01mfor\u001b[39;00m a, b \u001b[38;5;129;01min\u001b[39;00m \u001b[38;5;28mzip\u001b[39m(closest_point, target_vector))\n",
      "File \u001b[0;32m/usr/lib/python3.12/site-packages/sage/modules/free_module_integer.py:779\u001b[0m, in \u001b[0;36mFreeModule_submodule_with_basis_integer.closest_vector\u001b[0;34m(self, t)\u001b[0m\n\u001b[1;32m    738\u001b[0m \u001b[38;5;28;01mdef\u001b[39;00m \u001b[38;5;21mclosest_vector\u001b[39m(\u001b[38;5;28mself\u001b[39m, t):\n\u001b[1;32m    739\u001b[0m \u001b[38;5;250m    \u001b[39m\u001b[38;5;124;03m\"\"\"\u001b[39;00m\n\u001b[1;32m    740\u001b[0m \u001b[38;5;124;03m    Compute the closest vector in the embedded lattice to a given vector.\u001b[39;00m\n\u001b[1;32m    741\u001b[0m \n\u001b[0;32m   (...)\u001b[0m\n\u001b[1;32m    777\u001b[0m \u001b[38;5;124;03m        (2, 0, 1)\u001b[39;00m\n\u001b[1;32m    778\u001b[0m \u001b[38;5;124;03m    \"\"\"\u001b[39;00m\n\u001b[0;32m--> 779\u001b[0m     voronoi_cell \u001b[38;5;241m=\u001b[39m \u001b[38;5;28;43mself\u001b[39;49m\u001b[38;5;241;43m.\u001b[39;49m\u001b[43mvoronoi_cell\u001b[49m\u001b[43m(\u001b[49m\u001b[43m)\u001b[49m\n\u001b[1;32m    781\u001b[0m     \u001b[38;5;28;01mdef\u001b[39;00m \u001b[38;5;21mprojection\u001b[39m(M, v):\n\u001b[1;32m    782\u001b[0m         Mt \u001b[38;5;241m=\u001b[39m M\u001b[38;5;241m.\u001b[39mtranspose()\n",
      "File \u001b[0;32m/usr/lib/python3.12/site-packages/sage/misc/cachefunc.pyx:1967\u001b[0m, in \u001b[0;36msage.misc.cachefunc.CachedMethodCaller.__call__ (build/cythonized/sage/misc/cachefunc.c:13554)\u001b[0;34m()\u001b[0m\n\u001b[1;32m   1965\u001b[0m         return cache[k]\n\u001b[1;32m   1966\u001b[0m except KeyError:\n\u001b[0;32m-> 1967\u001b[0m     w = self._instance_call(*args, **kwds)\n\u001b[1;32m   1968\u001b[0m     cache[k] = w\n\u001b[1;32m   1969\u001b[0m     return w\n",
      "File \u001b[0;32m/usr/lib/python3.12/site-packages/sage/misc/cachefunc.pyx:1842\u001b[0m, in \u001b[0;36msage.misc.cachefunc.CachedMethodCaller._instance_call (build/cythonized/sage/misc/cachefunc.c:13003)\u001b[0;34m()\u001b[0m\n\u001b[1;32m   1840\u001b[0m         True\n\u001b[1;32m   1841\u001b[0m     \"\"\"\n\u001b[0;32m-> 1842\u001b[0m     return self.f(self._instance, *args, **kwds)\n\u001b[1;32m   1843\u001b[0m \n\u001b[1;32m   1844\u001b[0m cdef fix_args_kwds(self, tuple args, dict kwds) noexcept:\n",
      "File \u001b[0;32m/usr/lib/python3.12/site-packages/sage/modules/free_module_integer.py:698\u001b[0m, in \u001b[0;36mFreeModule_submodule_with_basis_integer.voronoi_cell\u001b[0;34m(self, radius)\u001b[0m\n\u001b[1;32m    695\u001b[0m B \u001b[38;5;241m=\u001b[39m \u001b[38;5;28mself\u001b[39m\u001b[38;5;241m.\u001b[39mreduced_basis\n\u001b[1;32m    697\u001b[0m \u001b[38;5;28;01mfrom\u001b[39;00m \u001b[38;5;21;01m.\u001b[39;00m\u001b[38;5;21;01mdiamond_cutting\u001b[39;00m \u001b[38;5;28;01mimport\u001b[39;00m calculate_voronoi_cell\n\u001b[0;32m--> 698\u001b[0m \u001b[38;5;28;01mreturn\u001b[39;00m \u001b[43mcalculate_voronoi_cell\u001b[49m\u001b[43m(\u001b[49m\u001b[43mB\u001b[49m\u001b[43m,\u001b[49m\u001b[43m \u001b[49m\u001b[43mradius\u001b[49m\u001b[38;5;241;43m=\u001b[39;49m\u001b[43mradius\u001b[49m\u001b[43m)\u001b[49m\n",
      "File \u001b[0;32m/usr/lib/python3.12/site-packages/sage/modules/diamond_cutting.py:280\u001b[0m, in \u001b[0;36mcalculate_voronoi_cell\u001b[0;34m(basis, radius, verbose)\u001b[0m\n\u001b[1;32m    278\u001b[0m     ieqs\u001b[38;5;241m.\u001b[39mappend(plane_inequality(v))\n\u001b[1;32m    279\u001b[0m     ieqs\u001b[38;5;241m.\u001b[39mappend(plane_inequality(\u001b[38;5;241m-\u001b[39mv))\n\u001b[0;32m--> 280\u001b[0m Q \u001b[38;5;241m=\u001b[39m \u001b[43mPolyhedron\u001b[49m\u001b[43m(\u001b[49m\u001b[43mieqs\u001b[49m\u001b[38;5;241;43m=\u001b[39;49m\u001b[43mieqs\u001b[49m\u001b[43m)\u001b[49m\n\u001b[1;32m    282\u001b[0m \u001b[38;5;66;03m# twice the length of longest vertex in Q is a safe choice\u001b[39;00m\n\u001b[1;32m    283\u001b[0m \u001b[38;5;28;01mif\u001b[39;00m radius \u001b[38;5;129;01mis\u001b[39;00m \u001b[38;5;28;01mNone\u001b[39;00m:\n",
      "File \u001b[0;32m/usr/lib/python3.12/site-packages/sage/geometry/polyhedron/constructor.py:768\u001b[0m, in \u001b[0;36mPolyhedron\u001b[0;34m(vertices, rays, lines, ieqs, eqns, ambient_dim, base_ring, minimize, verbose, backend, mutable)\u001b[0m\n\u001b[1;32m    766\u001b[0m \u001b[38;5;28;01mif\u001b[39;00m got_Vrep:\n\u001b[1;32m    767\u001b[0m     Vrep \u001b[38;5;241m=\u001b[39m [vertices, rays, lines]\n\u001b[0;32m--> 768\u001b[0m \u001b[38;5;28;01mreturn\u001b[39;00m \u001b[43mparent\u001b[49m\u001b[43m(\u001b[49m\u001b[43mVrep\u001b[49m\u001b[43m,\u001b[49m\u001b[43m \u001b[49m\u001b[43mHrep\u001b[49m\u001b[43m,\u001b[49m\u001b[43m \u001b[49m\u001b[43mconvert\u001b[49m\u001b[38;5;241;43m=\u001b[39;49m\u001b[43mconvert\u001b[49m\u001b[43m,\u001b[49m\u001b[43m \u001b[49m\u001b[43mverbose\u001b[49m\u001b[38;5;241;43m=\u001b[39;49m\u001b[43mverbose\u001b[49m\u001b[43m,\u001b[49m\u001b[43m \u001b[49m\u001b[43mmutable\u001b[49m\u001b[38;5;241;43m=\u001b[39;49m\u001b[43mmutable\u001b[49m\u001b[43m)\u001b[49m\n",
      "File \u001b[0;32m/usr/lib/python3.12/site-packages/sage/structure/parent.pyx:903\u001b[0m, in \u001b[0;36msage.structure.parent.Parent.__call__ (build/cythonized/sage/structure/parent.c:12722)\u001b[0;34m()\u001b[0m\n\u001b[1;32m    901\u001b[0m         return mor._call_(x)\n\u001b[1;32m    902\u001b[0m     else:\n\u001b[0;32m--> 903\u001b[0m         return mor._call_with_args(x, args, kwds)\n\u001b[1;32m    904\u001b[0m \n\u001b[1;32m    905\u001b[0m raise TypeError(_LazyString(\"No conversion defined from %s to %s\", (R, self), {}))\n",
      "File \u001b[0;32m/usr/lib/python3.12/site-packages/sage/structure/coerce_maps.pyx:177\u001b[0m, in \u001b[0;36msage.structure.coerce_maps.DefaultConvertMap_unique._call_with_args (build/cythonized/sage/structure/coerce_maps.c:7464)\u001b[0;34m()\u001b[0m\n\u001b[1;32m    175\u001b[0m             return C._element_constructor(x, *args)\n\u001b[1;32m    176\u001b[0m         else:\n\u001b[0;32m--> 177\u001b[0m             return C._element_constructor(x, *args, **kwds)\n\u001b[1;32m    178\u001b[0m except Exception:\n\u001b[1;32m    179\u001b[0m     if print_warnings:\n",
      "File \u001b[0;32m/usr/lib/python3.12/site-packages/sage/geometry/polyhedron/parent.py:695\u001b[0m, in \u001b[0;36mPolyhedra_base._element_constructor_\u001b[0;34m(self, *args, **kwds)\u001b[0m\n\u001b[1;32m    693\u001b[0m     \u001b[38;5;28;01mif\u001b[39;00m convert \u001b[38;5;129;01mand\u001b[39;00m Vrep:\n\u001b[1;32m    694\u001b[0m         Vrep \u001b[38;5;241m=\u001b[39m [convert_base_ring(_) \u001b[38;5;28;01mfor\u001b[39;00m _ \u001b[38;5;129;01min\u001b[39;00m Vrep]\n\u001b[0;32m--> 695\u001b[0m     \u001b[38;5;28;01mreturn\u001b[39;00m \u001b[38;5;28;43mself\u001b[39;49m\u001b[38;5;241;43m.\u001b[39;49m\u001b[43melement_class\u001b[49m\u001b[43m(\u001b[49m\u001b[38;5;28;43mself\u001b[39;49m\u001b[43m,\u001b[49m\u001b[43m \u001b[49m\u001b[43mVrep\u001b[49m\u001b[43m,\u001b[49m\u001b[43m \u001b[49m\u001b[43mHrep\u001b[49m\u001b[43m,\u001b[49m\u001b[43m \u001b[49m\u001b[38;5;241;43m*\u001b[39;49m\u001b[38;5;241;43m*\u001b[39;49m\u001b[43mkwds\u001b[49m\u001b[43m)\u001b[49m\n\u001b[1;32m    696\u001b[0m \u001b[38;5;28;01mif\u001b[39;00m nargs \u001b[38;5;241m==\u001b[39m \u001b[38;5;241m1\u001b[39m \u001b[38;5;129;01mand\u001b[39;00m is_Polyhedron(args[\u001b[38;5;241m0\u001b[39m]):\n\u001b[1;32m    697\u001b[0m     copy \u001b[38;5;241m=\u001b[39m kwds\u001b[38;5;241m.\u001b[39mpop(\u001b[38;5;124m'\u001b[39m\u001b[38;5;124mcopy\u001b[39m\u001b[38;5;124m'\u001b[39m, args[\u001b[38;5;241m0\u001b[39m]\u001b[38;5;241m.\u001b[39mparent() \u001b[38;5;129;01mis\u001b[39;00m \u001b[38;5;129;01mnot\u001b[39;00m \u001b[38;5;28mself\u001b[39m)\n",
      "File \u001b[0;32m/usr/lib/python3.12/site-packages/sage/geometry/polyhedron/backend_ppl.py:70\u001b[0m, in \u001b[0;36mPolyhedron_ppl.__init__\u001b[0;34m(self, parent, Vrep, Hrep, ppl_polyhedron, mutable, **kwds)\u001b[0m\n\u001b[1;32m     68\u001b[0m     Polyhedron_mutable\u001b[38;5;241m.\u001b[39m\u001b[38;5;21m__init__\u001b[39m(\u001b[38;5;28mself\u001b[39m, parent, Vrep, Hrep, \u001b[38;5;241m*\u001b[39m\u001b[38;5;241m*\u001b[39mkwds)\n\u001b[1;32m     69\u001b[0m \u001b[38;5;28;01mif\u001b[39;00m \u001b[38;5;129;01mnot\u001b[39;00m mutable:\n\u001b[0;32m---> 70\u001b[0m     \u001b[38;5;28;43mself\u001b[39;49m\u001b[38;5;241;43m.\u001b[39;49m\u001b[43mset_immutable\u001b[49m\u001b[43m(\u001b[49m\u001b[43m)\u001b[49m\n",
      "File \u001b[0;32m/usr/lib/python3.12/site-packages/sage/geometry/polyhedron/backend_ppl.py:189\u001b[0m, in \u001b[0;36mPolyhedron_ppl.set_immutable\u001b[0;34m(self)\u001b[0m\n\u001b[1;32m    187\u001b[0m \u001b[38;5;28;01mif\u001b[39;00m \u001b[38;5;129;01mnot\u001b[39;00m \u001b[38;5;28mhasattr\u001b[39m(\u001b[38;5;28mself\u001b[39m, \u001b[38;5;124m'\u001b[39m\u001b[38;5;124m_Vrepresentation\u001b[39m\u001b[38;5;124m'\u001b[39m):\n\u001b[1;32m    188\u001b[0m     \u001b[38;5;28;01mtry\u001b[39;00m:\n\u001b[0;32m--> 189\u001b[0m         \u001b[38;5;28;43mself\u001b[39;49m\u001b[38;5;241;43m.\u001b[39;49m\u001b[43m_init_Vrepresentation_from_ppl\u001b[49m\u001b[43m(\u001b[49m\u001b[38;5;28;43;01mTrue\u001b[39;49;00m\u001b[43m)\u001b[49m\n\u001b[1;32m    190\u001b[0m     \u001b[38;5;28;01mexcept\u001b[39;00m \u001b[38;5;167;01mTypeError\u001b[39;00m \u001b[38;5;28;01mas\u001b[39;00m e:\n\u001b[1;32m    191\u001b[0m         \u001b[38;5;66;03m# Apparently the polyhedron is (no longer) integral.\u001b[39;00m\n\u001b[1;32m    192\u001b[0m         \u001b[38;5;28mself\u001b[39m\u001b[38;5;241m.\u001b[39m_clear_cache()\n",
      "File \u001b[0;32m/usr/lib/python3.12/site-packages/sage/geometry/polyhedron/backend_ppl.py:300\u001b[0m, in \u001b[0;36mPolyhedron_ppl._init_Vrepresentation_from_ppl\u001b[0;34m(self, minimize)\u001b[0m\n\u001b[1;32m    298\u001b[0m     \u001b[38;5;28;01mraise\u001b[39;00m \u001b[38;5;167;01mTypeError\u001b[39;00m(\u001b[38;5;124m\"\u001b[39m\u001b[38;5;124mVrepresentation of mutable polyhedra cannot be recomputed\u001b[39m\u001b[38;5;124m\"\u001b[39m)\n\u001b[1;32m    299\u001b[0m \u001b[38;5;28mself\u001b[39m\u001b[38;5;241m.\u001b[39m_Vrepresentation \u001b[38;5;241m=\u001b[39m []\n\u001b[0;32m--> 300\u001b[0m gs \u001b[38;5;241m=\u001b[39m \u001b[38;5;28;43mself\u001b[39;49m\u001b[38;5;241;43m.\u001b[39;49m\u001b[43m_ppl_polyhedron\u001b[49m\u001b[38;5;241;43m.\u001b[39;49m\u001b[43mminimized_generators\u001b[49m\u001b[43m(\u001b[49m\u001b[43m)\u001b[49m\n\u001b[1;32m    301\u001b[0m parent \u001b[38;5;241m=\u001b[39m \u001b[38;5;28mself\u001b[39m\u001b[38;5;241m.\u001b[39mparent()\n\u001b[1;32m    302\u001b[0m \u001b[38;5;28;01mfor\u001b[39;00m g \u001b[38;5;129;01min\u001b[39;00m gs:\n",
      "File \u001b[0;32mppl/polyhedron.pyx:340\u001b[0m, in \u001b[0;36mppl.polyhedron.Polyhedron.minimized_generators\u001b[0;34m()\u001b[0m\n",
      "\u001b[0;31mKeyboardInterrupt\u001b[0m: "
     ]
    }
   ],
   "source": [
    "def find_closest_point(lattice, target_vector, B):\n",
    "    \"\"\"\n",
    "    Find the lattice point closest to the target vector within distance B.\n",
    "\n",
    "    Parameters:\n",
    "        lattice (IntegerLattice): The lattice.\n",
    "        target_vector (list): The target vector.\n",
    "        B (Integer): The distance threshold.\n",
    "\n",
    "    Returns:\n",
    "        list: The lattice point closest to the target vector.\n",
    "    \"\"\"\n",
    "    \n",
    "    closest_point = lattice.closest_vector(target_vector)\n",
    "    # Calculate the distance between the closest point and the target vector\n",
    "    distance = sum(abs(a - b) for a, b in zip(closest_point, target_vector))\n",
    "    if distance > B:\n",
    "        return None\n",
    "    return closest_point\n",
    "\n",
    "def recover_secret_from_lattice_point(lattice_point, p, k):\n",
    "    \"\"\"\n",
    "    Recover the secret from the lattice point.\n",
    "\n",
    "    Parameters:\n",
    "        lattice_point (list): The lattice point.\n",
    "        p (Integer): The prime modulus.\n",
    "        k (Integer): The value of k.\n",
    "\n",
    "    Returns:\n",
    "        Integer: The recovered secret.\n",
    "    \"\"\"\n",
    "    # Extract the last component of the lattice point\n",
    "    s = lattice_point[-1]\n",
    "    # Adjust the secret to be within the range of Z_p\n",
    "    s = s.mod(p)\n",
    "    # Adjust the secret to the correct value range\n",
    "    s = s * (2 ** k) // p\n",
    "    return s\n",
    "\n",
    "# Example usage:\n",
    "# Construct the target vector\n",
    "\n",
    "B = p // (2 ** k)\n",
    "oracle_inputs = [x_i for x_i, _ in pairs]\n",
    "target_vector = [B * ui for ui in oracle_inputs] + [0]\n",
    "# Find the lattice point closest to the target vector within distance B\n",
    "closest_point = find_closest_point(input_lattice, target_vector, B)\n",
    "# Recover the secret from the lattice point\n",
    "recovered_secret = recover_secret_from_lattice_point(closest_point, p, k)\n",
    "print(\"Recovered secret:\", recovered_secret)"
   ]
  },
  {
   "cell_type": "code",
   "execution_count": 291,
   "metadata": {},
   "outputs": [
    {
     "name": "stdout",
     "output_type": "stream",
     "text": [
      "[  4424   8654  -4483 -10410   1097   3050   5899  -7842 -10543  -1687   3511 -12125  -6182   1842  -4890  12586   9336      0]\n",
      "[ 10395   -198  -7319  -6002  26117 -14610   -968  -9923  12040   4643  -8653  -1010   6836 -18278   9457   6967   5345      0]\n",
      "[ -2862   1927  -2581  19356   2342  27003   2139  20776   2643   8765   5106 -13340 -11585   7756    971  -8557  -4025      0]\n",
      "[ 10307   1052  26309  -6506 -10999   2158  12425    425  -5053 -16063  14861  22578  -7855  -6819  -3245  -9875  -7877      0]\n",
      "[-10714 -11655  30915   4175   3180   9857   8557  14666   -273   2219  11970 -11789  -2746   2472  -6349  13902  -4122      0]\n",
      "[  7201    487   3769 -18337 -16243  16075  -4901  -3728    838  -5131  13670  15062  -3574  11857  16128 -17467  16974      0]\n",
      "[  1778  -4403  11679  16141  23047    811  -6962  11366   4266 -19551   4522  -5910    419   5303   3427   9621 -27772      0]\n",
      "[ -6096  15096 -11955    834  14606 -12143 -13580   7843  13461   1495 -15504   1538 -10799  19268  25700  -4899   1594      0]\n",
      "[ -2608   1298 -10275   2937  -3728   8394  -8218 -15050  -6110   5972   5752  13903  35287  17876  10823 -16545   1370      0]\n",
      "[  6379  21100  -3842 -11129  18366    -76   8491   9521  -5410   7004 -19899  -2921   3678 -13669  13659 -16902  -8226      0]\n",
      "[  2927  10555 -13321  -1110 -25569  -3641    629  10307  -5657 -12834  -9069  -1104  26160  -2070 -13931  -4324  -2593      0]\n",
      "[  4986   3650   1199 -25065  -6141  -8710 -18565 -14349   7761   2454 -12605  -1903  -6197   4624 -16118  -1992  -4529      0]\n",
      "[-12276 -22236 -27558  -4771   -259 -20196    519   1732   7627  -4859   3353  13676  15021  -7126  -2430   9873  -9433      0]\n",
      "[ -3895   3195  -9993  -4434  10515  -8522  15620 -27553  14245 -18321   5575  -1576   8850  -2955   5283  15673 -11775      0]\n",
      "[-11733  -1649  24111  -7619   5342  -4504   6502  12354   3622 -12636  17635  20054    663  21217 -14911   2085  23000      0]\n",
      "[-14994  13393   4202  -2464  15155   9158  -7342   -383  -3465   7999   5729  -8473  15560 -24079  25284   5044   8178      0]\n",
      "[  1906 -18137  -1487  22832   5539 -11663  -8569  20146   -661  -1349  23941 -28304   3914  12467  -1929  -1629  -8540      0]\n"
     ]
    }
   ],
   "source": [
    "def lattice_reduction(G):\n",
    "    return G.LLL()\n",
    "\n",
    "reduced_lattice = lattice_reduction(input_lattice)\n",
    "print(reduced_lattice)"
   ]
  },
  {
   "cell_type": "code",
   "execution_count": 297,
   "metadata": {},
   "outputs": [
    {
     "name": "stdout",
     "output_type": "stream",
     "text": [
      "36998\n"
     ]
    }
   ],
   "source": [
    "def get_secret_from_reduced_lattice(reduced_lattice, q):\n",
    "    shortest_vector = reduced_lattice.row(-1)\n",
    "    s = (shortest_vector[-2] * (2 ** k)).ceil()\n",
    "    return represent_in_Zq(s, q)\n",
    "\n",
    "found_secret = get_secret_from_reduced_lattice(reduced_lattice, p)\n",
    "print(found_secret)"
   ]
  },
  {
   "cell_type": "code",
   "execution_count": 298,
   "metadata": {},
   "outputs": [
    {
     "name": "stdout",
     "output_type": "stream",
     "text": [
      "expected:  11584\n",
      "got:  680\n",
      "O segredo extraído está incorreto.\n"
     ]
    }
   ],
   "source": [
    "def verify_secret(s, x_values, u_values, p, k):\n",
    "    for x, u in zip(x_values, u_values):\n",
    "        print('expected: ', u)\n",
    "        print('got: ',msb_k((s * x) % p, k, p))\n",
    "\n",
    "        if msb_k((s * x) % p, k, p) != u:\n",
    "            return False\n",
    "    return True\n",
    "\n",
    "# Verificar o segredo extraído\n",
    "t = [x for x, _ in pairs]\n",
    "B = p // (2 ** k)\n",
    "u = [B*u for _, u in pairs] + [0]\n",
    "is_correct = verify_secret(found_secret, t, u, p, k)\n",
    "\n",
    "if is_correct:\n",
    "    print(\"O segredo extraído está correto.\")\n",
    "else:\n",
    "    print(\"O segredo extraído está incorreto.\")"
   ]
  }
 ],
 "metadata": {
  "kernelspec": {
   "display_name": "SageMath 10.3",
   "language": "sage",
   "name": "sagemath"
  },
  "language_info": {
   "codemirror_mode": {
    "name": "ipython",
    "version": 3
   },
   "file_extension": ".py",
   "mimetype": "text/x-python",
   "name": "python",
   "nbconvert_exporter": "python",
   "pygments_lexer": "ipython3",
   "version": "3.12.3"
  }
 },
 "nbformat": 4,
 "nbformat_minor": 2
}
