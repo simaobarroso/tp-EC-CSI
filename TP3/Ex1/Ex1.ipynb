{
 "cells": [
  {
   "cell_type": "code",
   "execution_count": 501,
   "metadata": {},
   "outputs": [
    {
     "name": "stdout",
     "output_type": "stream",
     "text": [
      "p = 4099\n",
      "n = 12\n",
      "k = 8\n",
      "s = 424\n"
     ]
    }
   ],
   "source": [
    "d = 12\n",
    "p = next_prime(2^d)\n",
    "n = d\n",
    "k = ceil(sqrt(d) + log(d, 2))\n",
    "s = randint(1, p - 1)\n",
    "\n",
    "print(f\"p = {p}\")\n",
    "print(f\"n = {n}\")\n",
    "print(f\"k = {k}\")\n",
    "print(f\"s = {s}\")"
   ]
  },
  {
   "cell_type": "code",
   "execution_count": 502,
   "metadata": {},
   "outputs": [],
   "source": [
    "def represent_in_Zq(val, max):\n",
    "    return val % max\n",
    "\n",
    "def msb_k(y, k, p):\n",
    "    B = p // (2 ** k)\n",
    "    return y // B"
   ]
  },
  {
   "cell_type": "code",
   "execution_count": 503,
   "metadata": {},
   "outputs": [
    {
     "name": "stdout",
     "output_type": "stream",
     "text": [
      "[(2745, 87), (2671, 74), (807, 42), (729, 41), (2339, 138), (2018, 39), (2943, 206), (3608, 202), (2115, 105), (1592, 156), (1242, 23), (2141, 20)]\n"
     ]
    }
   ],
   "source": [
    "def generate_pairs(N, q, k, s):\n",
    "    pairs = []\n",
    "    for i in range(N):\n",
    "        x_i = randint(0, q - 1)\n",
    "        u_i = msb_k((s * x_i) % q, k, q)\n",
    "        pairs.append((x_i, u_i))\n",
    "    return pairs\n",
    "\n",
    "pairs = generate_pairs(n_ex, p_ex, k_ex, s_ex)\n",
    "print(pairs)"
   ]
  },
  {
   "cell_type": "code",
   "execution_count": 504,
   "metadata": {},
   "outputs": [
    {
     "name": "stdout",
     "output_type": "stream",
     "text": [
      "[       4099           0           0           0           0           0           0           0           0           0           0           0           0           0]\n",
      "[          0        4099           0           0           0           0           0           0           0           0           0           0           0           0]\n",
      "[          0           0        4099           0           0           0           0           0           0           0           0           0           0           0]\n",
      "[          0           0           0        4099           0           0           0           0           0           0           0           0           0           0]\n",
      "[          0           0           0           0        4099           0           0           0           0           0           0           0           0           0]\n",
      "[          0           0           0           0           0        4099           0           0           0           0           0           0           0           0]\n",
      "[          0           0           0           0           0           0        4099           0           0           0           0           0           0           0]\n",
      "[          0           0           0           0           0           0           0        4099           0           0           0           0           0           0]\n",
      "[          0           0           0           0           0           0           0           0        4099           0           0           0           0           0]\n",
      "[          0           0           0           0           0           0           0           0           0        4099           0           0           0           0]\n",
      "[          0           0           0           0           0           0           0           0           0           0        4099           0           0           0]\n",
      "[          0           0           0           0           0           0           0           0           0           0           0        4099           0           0]\n",
      "[        444         268        1444        1271        2495        2979         565        2836        1006         524        2016        3619       1/256           0]\n",
      "[  -20495/16 -594355/256 -528771/256   -28693/32 -569761/256   -45089/32 -274633/256 -709127/256 -118871/256 -299227/256 -184455/256 -151663/256           0     1049344]\n"
     ]
    }
   ],
   "source": [
    "def build_integer_lattice(oracle_inputs, secon, p, k):\n",
    "    l = len(oracle_inputs) + 2  # Dimension of the lattice\n",
    "    basis_vectors = []\n",
    "\n",
    "    # Add basis vectors for oracle inputs\n",
    "    for i in range(l-2):\n",
    "        p_vector = [0] * (l)\n",
    "        p_vector[i] = p\n",
    "        basis_vectors.append(p_vector)\n",
    "\n",
    "\n",
    "    # Add the last basis vector with appropriate values\n",
    "    A = 1 / (2 ** k)\n",
    "    M = p * (2 ** k)\n",
    "    last_basis_vector = oracle_inputs + [A,0]\n",
    "    basis_vectors.append(last_basis_vector)\n",
    "    last_last = secon + [0, M]\n",
    "    basis_vectors.append(last_last)\n",
    "    return Matrix(QQ, basis_vectors)\n",
    "\n",
    "B = p / (2 ** k)\n",
    "input_lattice = build_integer_lattice([x_i for x_i, _ in pairs_ex], [-B * u_i for _, u_i in pairs_ex], p_ex,k_ex)\n",
    "print(input_lattice)"
   ]
  },
  {
   "cell_type": "code",
   "execution_count": 505,
   "metadata": {},
   "outputs": [
    {
     "name": "stdout",
     "output_type": "stream",
     "text": [
      "[        0         0         0         0         0         0         0         0         0         0         0         0 -4099/256         0]\n",
      "[     -348       787     -1021       444      -183      -230       665       436       -13       254       414       487    55/128         0]\n",
      "[     -746      -598      -469      -603      -887     -1294       177      -149      -287       -68      -950        31   -47/128         0]\n",
      "[     -930      -229      -255     -1499       147      -756      -131      -955       884      -876       541      -324   359/128         0]\n",
      "[    -1129      1128        21        27      -205     -1288      -375       802       747     -1037      -141      -552     77/32         0]\n",
      "[      308      -885      -180      -817       586     -1257       872      -433       624       105       623      1218 -1181/256         0]\n",
      "[     1048       928      -506       -65      -721      -391      -919      1561      -432      -388      -116       418   187/256         0]\n",
      "[      244      -222      -462      -594       411      -357        52     -1248       -38     -1780      -997      -153 -1255/256         0]\n",
      "[      415        -8      -349      1308      1455      -456       962      1506      -703      -138         1      -781  -673/256         0]\n",
      "[      111        67       361      -707      -401      -280      1166       709     -1798       131       504      -120  1025/256         0]\n",
      "[     -637      -126      -373       106      -653      1016       805      1175       200      -124     -1009      1021 -1377/256         0]\n",
      "[      139     -1504       -28       -36     -1093       351       500       297      -996     -1350       188       736   545/256         0]\n",
      "[      186      -774        51      -520     -1669       971       846       191       643       995      -928      -755    187/32         0]\n",
      "[    49/16  1101/256  1405/256    299/32  1119/256    159/32  1847/256   761/256  1961/256  3621/256  3449/256  3473/256  1997/256   1049344]\n"
     ]
    }
   ],
   "source": [
    "def reduce_lattice(lattice):\n",
    "    return lattice.LLL()\n",
    "\n",
    "reduced_lattice = reduce_lattice(input_lattice)\n",
    "print(reduced_lattice)"
   ]
  },
  {
   "cell_type": "code",
   "execution_count": 506,
   "metadata": {},
   "outputs": [
    {
     "name": "stdout",
     "output_type": "stream",
     "text": [
      "1997\n"
     ]
    }
   ],
   "source": [
    "def get_secret_from_reduced_lattice(reduced_lattice, q, k):\n",
    "    shortest_vector = reduced_lattice.row(-1)\n",
    "    s = (shortest_vector[-2] * (2 ** k)).ceil()\n",
    "    return represent_in_Zq(s, q)\n",
    "\n",
    "found_secret = get_secret_from_reduced_lattice(reduced_lattice, p, k)\n",
    "print(found_secret)"
   ]
  },
  {
   "cell_type": "code",
   "execution_count": 507,
   "metadata": {},
   "outputs": [
    {
     "name": "stdout",
     "output_type": "stream",
     "text": [
      "O segredo extraído está correto.\n"
     ]
    }
   ],
   "source": [
    "def verify_secret(ss, x_values, u_values, q, k):\n",
    "    for x, u in zip(x_values, u_values):\n",
    "        if msb_k((ss * x) % q, k, q) != u:\n",
    "            return False\n",
    "    return True\n",
    "\n",
    "# Verificar o segredo extraído\n",
    "t = [x for x, _ in pairs]\n",
    "u = [u for _, u in pairs] \n",
    "is_correct = verify_secret(found_secret, t, u, p, k)\n",
    "\n",
    "if is_correct:\n",
    "    print(\"O segredo extraído está correto.\")\n",
    "else:\n",
    "    print(\"O segredo extraído está incorreto.\")"
   ]
  },
  {
   "cell_type": "code",
   "execution_count": 509,
   "metadata": {},
   "outputs": [
    {
     "name": "stdout",
     "output_type": "stream",
     "text": [
      "Testando para d = 10...\n",
      "True\n",
      "Testando para d = 11...\n",
      "True\n",
      "Testando para d = 12...\n",
      "True\n",
      "Testando para d = 13...\n",
      "True\n",
      "Testando para d = 14...\n",
      "True\n",
      "Testando para d = 15...\n",
      "True\n",
      "Testando para d = 16...\n",
      "True\n",
      "Testando para d = 17...\n",
      "True\n",
      "Testando para d = 18...\n",
      "True\n",
      "Testando para d = 19...\n",
      "True\n"
     ]
    }
   ],
   "source": [
    "def test_for_d(dd):\n",
    "    pp = next_prime(2**dd)\n",
    "    nn = dd\n",
    "    kk = ceil(sqrt(dd) + log(dd, 2))\n",
    "    ss = randint(1, pp - 1)\n",
    "\n",
    "    \n",
    "    ppairs = generate_pairs(nn, pp, kk, ss)\n",
    "\n",
    "    BB = pp / (2 ** kk)\n",
    "    iinput_lattice = build_integer_lattice([xx for xx, _ in ppairs], [-BB * uu for _, uu in ppairs], pp, kk)\n",
    "    \n",
    "    rreduced_lattice = reduce_lattice(iinput_lattice)\n",
    "    \n",
    "    ffound_secret = get_secret_from_reduced_lattice(rreduced_lattice, pp, kk)\n",
    "\n",
    "    \n",
    "    tt = [x for x, _ in ppairs]\n",
    "    uu = [u for _, u in ppairs] \n",
    "    iis_correct = verify_secret(ffound_secret, tt, uu, pp, kk)\n",
    "    \n",
    "    return iis_correct\n",
    "\n",
    "for i in range(10, 20):\n",
    "    print(f\"Testando para d = {i}...\")\n",
    "    print(test_for_d(i))"
   ]
  }
 ],
 "metadata": {
  "kernelspec": {
   "display_name": "SageMath 9.5",
   "language": "sage",
   "name": "sagemath"
  },
  "language_info": {
   "codemirror_mode": {
    "name": "ipython",
    "version": 3
   },
   "file_extension": ".py",
   "mimetype": "text/x-python",
   "name": "python",
   "nbconvert_exporter": "python",
   "pygments_lexer": "ipython3",
   "version": "3.11.2"
  }
 },
 "nbformat": 4,
 "nbformat_minor": 2
}
