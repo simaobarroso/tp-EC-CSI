{
 "cells": [
  {
   "cell_type": "markdown",
   "metadata": {},
   "source": [
    "# Estruturas Criptográficas - Criptografia e Segurança da Informação\n",
    "\n",
    "[Grupo 03](https://paper.dropbox.com/doc/Estruturas-Criptograficas-2023-2024-Trabalhos-Praticos-8WcsdZARGLv0nXS9KasmK)\n",
    "\n",
    "(PG54177) Ricardo Alves Oliveira \n",
    "\n",
    "(PG54236) Simão Oliveira Alvim Barroso\n",
    "\n",
    "## TP3 - Exercício 1\n",
    "\n",
    "1. No capítulo 5 dos apontamentos é descrito o chamado Hidden Number Problem. No capítulo 8 dos apontamentos é discutida um artigo de  Nguyen & Shparlinsk , onde se propõem reduções do HNP a problemas difíceis em reticulados. Neste trabalho pretende-se construir, com a ajuda do Sagemath, uma implementação da solução discutida nos apontamentos para resolver o HNP com soluções aproximadas dos problemas em reticulados.\n"
   ]
  },
  {
   "cell_type": "markdown",
   "metadata": {},
   "source": [
    "## Resolução\n",
    "\n",
    "Ao longo deste playbook iremos apresentar os passos tomados para resolver o exercício proposto juntamente com as respetivas funções implementadas. \n",
    "\n",
    "Para tal, começamos por importar a biblioteca `sagemath` e definir as variáveis necessárias seguindo o defenido por [Nguyen & Shparlinsk](https://www.dropbox.com/s/76k1zkz9wautty0/igor-slides.pdf?e=1&dl=0). Isto define que para um dado `d` temos as seguintes variáveis:\n",
    "\n",
    "- `p≈2​d​​`\n",
    "- `k>√​d​​​+log​2​​d`\n",
    "- `n>2√​d​​​`\n",
    "\n",
    "Tendo em conta estas definições, a implementação do HNP, que dita `p` como um número primo, e seja `s` um qualquer número inteiro tal que `1<s<p`, temos então:"
   ]
  },
  {
   "cell_type": "code",
   "execution_count": 29,
   "metadata": {},
   "outputs": [
    {
     "name": "stdout",
     "output_type": "stream",
     "text": [
      "d = 12\n",
      "p = 4099\n",
      "n = 16\n",
      "k = 8\n",
      "s = 3036\n"
     ]
    }
   ],
   "source": [
    "from sage.all import *\n",
    "from sage.matrix.matrix_rational_dense import *\n",
    "\n",
    "d = 12\n",
    "p = next_prime(2^d)\n",
    "n = 4 * ceil(sqrt(d))\n",
    "k = ceil(sqrt(d) + log(d, 2))\n",
    "s = randint(1, p - 1)\n",
    "\n",
    "print(f\"d = {d}\")\n",
    "print(f\"p = {p}\")\n",
    "print(f\"n = {n}\")\n",
    "print(f\"k = {k}\")\n",
    "print(f\"s = {s}\")"
   ]
  },
  {
   "cell_type": "markdown",
   "metadata": {},
   "source": [
    "De seguida, definimos a função auxiliar `represent_in_Zq` que, recebendo um número `x` e um módulo `q`, devolve a representação de `x` no intervalo `[0, q-1]`."
   ]
  },
  {
   "cell_type": "code",
   "execution_count": 16,
   "metadata": {},
   "outputs": [],
   "source": [
    "def represent_in_Zq(val, max):\n",
    "    return val % max"
   ]
  },
  {
   "cell_type": "markdown",
   "metadata": {},
   "source": [
    "A próxima função a ser implementada é fundamental para o cálculo do `HNP`, sendo esta a `msb_k`. Esta deve, para qualquer `y` pertencente a `ZZp`, devolver um `u E ZZp` tal que:\n",
    "\n",
    "$$\\,u = \\text{msb}_k(y)\\,\\ \\ se\\ e\\ só\\ se\\quad 0 \\leq y - B\\,u < B$$\n",
    "\n",
    "Onde,\n",
    "$$\\quad B\\equiv p/\\lambda\\,\\ \\ para\\ \\ \\lambda \\equiv 2^k\\quad$$\n"
   ]
  },
  {
   "cell_type": "code",
   "execution_count": 17,
   "metadata": {},
   "outputs": [],
   "source": [
    "def msb_k(y, k, p):\n",
    "    B = p // (2 ** k)\n",
    "    return y // B"
   ]
  },
  {
   "cell_type": "markdown",
   "metadata": {},
   "source": [
    "Com esta função implementada, podemos agora criar os pares que serão utilizados para a resolução do `HNP`. Para tal, definimos a função `generate_pairs` que tem por objetivo gerar `n` pares `(x_i, u_i)` tal que, para um qualquer `x_i` pertencente a `ZZp`, `u` é o resultado da função `msb_k` aplicada a `s * x_i % q`. \n",
    "\n",
    "Esta regra pode ser representada pela seguinte fórmula, presente no [capítulo 5 dos apontamentos](https://paper.dropbox.com/doc/Capitulo-5-Grupos-Ciclicos-Formas-Bilineares.-Vin0kvNvqrnugLwI02UuH): \n",
    "\n",
    "$$\\,u_i\\;=\\; \\text{msb}_k(s\\times x_i\\bmod q)\\,$$\n",
    "\n",
    "Com base nisto podemos então gerar o oráculo que será utilizado para a resolução do `HNP`. "
   ]
  },
  {
   "cell_type": "code",
   "execution_count": 18,
   "metadata": {},
   "outputs": [
    {
     "name": "stdout",
     "output_type": "stream",
     "text": [
      "[(2112, 140), (37, 73), (2441, 196), (2316, 170), (769, 74), (1838, 55), (54, 203), (507, 5), (1909, 134), (766, 5), (2540, 142), (2298, 17), (2418, 185), (3434, 242), (2231, 30), (3547, 251)]\n"
     ]
    }
   ],
   "source": [
    "def generate_pairs(N, q, k, s):\n",
    "    pairs = []\n",
    "    for i in range(N):\n",
    "        x_i = randint(0, q - 1)\n",
    "        u_i = msb_k((s * x_i) % q, k, q)\n",
    "        pairs.append((x_i, u_i))\n",
    "    return pairs\n",
    "\n",
    "pairs = generate_pairs(n, p, k, s)\n",
    "print(pairs)"
   ]
  },
  {
   "cell_type": "markdown",
   "metadata": {},
   "source": [
    "Tendo agora os varios pares `(x_i, u_i)` gerados, podemos então começar a implementar a resolução do `HNP` conforme o [capítulo 8 dos apontamentos](https://paper.dropbox.com/doc/Capitulo-8-Reticulados.-HvE0pRYOYOcAO6HAuG4Lr).\n",
    "\n",
    "Para isso devemos começar por construir a matriz geradora tal que:\n",
    "\n",
    "$$\\,G\\in\\mathbb{Q}^{m\\times m}\\,\\ \\ com\\ \\ m=n+2$$\n",
    "\n",
    "$$G'\\,\\equiv\\,\\begin{bmatrix}  p & 0 & \\cdots & 0 & 0 & 0\\\\ 0 & p & \\cdots & 0 & 0 & 0 \\\\ \\cdots & \\cdots & \\cdots & \\cdots & \\cdots &\\cdots\\\\ 0 & 0 &\\cdots& p & 0 & 0 \\\\x_1 & x_2 & \\cdots&x_n & A & 0 \\\\ -B\\,u_1 & -B\\,u_2 &\\cdots& -B\\,u_n & 0 & M\\end{bmatrix}$$\n",
    "\n",
    "Onde `x1, x2, ..., xn` e `u1, u2, ..., un` são os valores `(x_i,u_i)` anteriormente gerados pela função `generate_pairs`. A variável `B` mantém-se igual à definição anterior. `A` deve ser definido como `1/lambda`, relembrando que `lambda=2^k`. Finalmente `M`, segundo o descrito nos apontamentos, deve ser \"um qualquer grande inteiro `M>>lambda`\". "
   ]
  },
  {
   "cell_type": "code",
   "execution_count": 32,
   "metadata": {},
   "outputs": [
    {
     "name": "stdout",
     "output_type": "stream",
     "text": [
      "[        4099            0            0            0            0            0            0            0            0            0            0            0            0            0            0            0            0            0]\n",
      "[           0         4099            0            0            0            0            0            0            0            0            0            0            0            0            0            0            0            0]\n",
      "[           0            0         4099            0            0            0            0            0            0            0            0            0            0            0            0            0            0            0]\n",
      "[           0            0            0         4099            0            0            0            0            0            0            0            0            0            0            0            0            0            0]\n",
      "[           0            0            0            0         4099            0            0            0            0            0            0            0            0            0            0            0            0            0]\n",
      "[           0            0            0            0            0         4099            0            0            0            0            0            0            0            0            0            0            0            0]\n",
      "[           0            0            0            0            0            0         4099            0            0            0            0            0            0            0            0            0            0            0]\n",
      "[           0            0            0            0            0            0            0         4099            0            0            0            0            0            0            0            0            0            0]\n",
      "[           0            0            0            0            0            0            0            0         4099            0            0            0            0            0            0            0            0            0]\n",
      "[           0            0            0            0            0            0            0            0            0         4099            0            0            0            0            0            0            0            0]\n",
      "[           0            0            0            0            0            0            0            0            0            0         4099            0            0            0            0            0            0            0]\n",
      "[           0            0            0            0            0            0            0            0            0            0            0         4099            0            0            0            0            0            0]\n",
      "[           0            0            0            0            0            0            0            0            0            0            0            0         4099            0            0            0            0            0]\n",
      "[           0            0            0            0            0            0            0            0            0            0            0            0            0         4099            0            0            0            0]\n",
      "[           0            0            0            0            0            0            0            0            0            0            0            0            0            0         4099            0            0            0]\n",
      "[           0            0            0            0            0            0            0            0            0            0            0            0            0            0            0         4099            0            0]\n",
      "[        2112           37         2441         2316          769         1838           54          507         1909          766         2540         2298         2418         3434         2231         3547        1/256            0]\n",
      "[  -143465/64  -299227/256   -200851/64  -348415/128  -151663/128  -225445/256  -832097/256   -20495/256  -274633/128   -20495/256  -291029/128   -69683/256  -758315/256  -495979/128   -61485/128 -1028849/256            0      1049344]\n"
     ]
    }
   ],
   "source": [
    "def builg_G(oracle_inputs, secon, p, k):\n",
    "    l = len(oracle_inputs) + 2  # Dimension of the lattice\n",
    "    basis_vectors = []\n",
    "\n",
    "    # Add basis vectors for oracle inputs\n",
    "    for i in range(l-2):\n",
    "        p_vector = [0] * (l)\n",
    "        p_vector[i] = p\n",
    "        basis_vectors.append(p_vector)\n",
    "\n",
    "\n",
    "    # Add the last basis vector with appropriate values\n",
    "    A = 1 / (2 ** k)\n",
    "    M = p * (2 ** k)\n",
    "    last_basis_vector = oracle_inputs + [A,0]\n",
    "    basis_vectors.append(last_basis_vector)\n",
    "    last_last = secon + [0, M]\n",
    "    basis_vectors.append(last_last)\n",
    "    return Matrix(QQ, basis_vectors)\n",
    "\n",
    "B = p / (2 ** k)\n",
    "G = builg_G([x_i for x_i, _ in pairs], [-B * u_i for _, u_i in pairs], p,k)\n",
    "print(G)"
   ]
  },
  {
   "cell_type": "markdown",
   "metadata": {},
   "source": [
    "\n",
    "O próximo passo é aplicar a redução `BKZ` a `G` para a sua forma reduzida, ou aproximada. Para tal, definimos a função `reduced_matrix` que recebe a matriz `G` e devolve a sua forma reduzida, com base no algoritmo em uso.\n",
    "\n",
    "No entantom, apesar de a redução `BKZ` estar disponivel na documentação do [SageMath] (https://doc.sagemath.org/html/en/reference/matrices/sage/matrix/matrix_rational_dense.html#sage.matrix.matrix_rational_dense.Matrix_rational_dense.BKZ), esta apresentou problemas na sua execução dependendo da versão do SageMath utilizada. Assim, optamos por implementar utilizar a função `LLL` para obter a lattice reduzida, ou a sua aproximação."
   ]
  },
  {
   "cell_type": "code",
   "execution_count": 35,
   "metadata": {},
   "outputs": [
    {
     "name": "stdout",
     "output_type": "stream",
     "text": [
      "<class 'sage.matrix.matrix_rational_dense.Matrix_rational_dense'>\n",
      "[        0         0         0         0         0         0         0         0         0         0         0         0         0         0         0         0 -4099/256         0]\n",
      "[      269       356       111      -427       752      -484       298      1887      -244       280      -709       840      -775       581      -137      -769 -1209/256         0]\n",
      "[      140      -409       713       433       -81       510       -43      -176       833      1060       -49      -919     -1470       150     -1397       895   493/128         0]\n",
      "[    -1385      -492       998      -331      -809       -68       279       570       982      1225      -540      -424       196       -20       -87      1247  -339/128         0]\n",
      "[     1468      -541       -19      1144      -498      -508      -568      -323     -1103       -11       306       -33       982     -1355      1279      -570    301/64         0]\n",
      "[      529       182       264      -794        16      -708      -953       389      1303      1663      -800       890       594       274       782      -278  -549/256         0]\n",
      "[      269       356       111      -427       752      -484       298     -2212      -244       280      -709       840      -775       581      -137      -769 -1209/256         0]\n",
      "[      -57      -624       266       380     -1226     -1086      -246       423      -954       154      -185       462     -1451     -1525     -1510      -218   -115/64         0]\n",
      "[     1707       781       232       917      -607      1241        32      -155       524      1213      1657      -460       522       365       563     -1238 -1973/256         0]\n",
      "[      768      1504       515     -1021       -93      1041      -353       557     -1169     -1212       551       463       134      1994        66      -946   373/256         0]\n",
      "[     -943        32      1668      -545      1219       371      -618      -337      -897      -113       535      -339      -346      -132     -1394       852    111/64         0]\n",
      "[     1106       458       304     -1908      -230       -70       890      1069      1252       176      -797       528       684      1185        31       922  1231/256         0]\n",
      "[      591       645      1341       159      -664       689       609     -1797      1262     -1381       408       -44       -57       926       339      -760   239/256         0]\n",
      "[     -201      -906       938      1340      -440     -1025      -436      -450      -991      1406      1505       119        61       663     -1010      -553   751/256         0]\n",
      "[     -409        53      -824        -6      -671       -26      -255     -1711      -589     -1340       758        79     -1854      -731      1534      -126   223/256         0]\n",
      "[     -143     -1134      -699      -413      -415       943       893       414      -236       674       255     -2077      -548      -446      1749      -475  -363/256         0]\n",
      "[     1522     -1460      -271       784       232      2031       528      -508       448      1569       697       608       415      -126      -958        68   -453/64         0]\n",
      "[   855/64   549/256    109/64   897/128  -111/128  3675/256  2463/256  3313/256   -73/128  3057/256  1451/128   973/256   981/256   661/128   211/128   783/256     91/64   1049344]\n"
     ]
    }
   ],
   "source": [
    "def reduce_lattice(lattice):\n",
    "    return lattice.LLL()\n",
    "\n",
    "print(type(G))\n",
    "\n",
    "reduced_lattice = reduce_lattice(G)\n",
    "print(reduced_lattice)"
   ]
  },
  {
   "cell_type": "markdown",
   "metadata": {},
   "source": [
    "O passo final trata-se de obter o vetor `v` que, segundo a resolução do `HNP`, deve ser:\n",
    "\n",
    "$$\\begin{bmatrix} e_1 & e_2 & \\cdots & e_{n+1} & M\\end{bmatrix}$$\n",
    "\n",
    "Onde `e1, e2, ..., en+1` são os primeiros `n+1` elementos da última linha da matriz reduzida `G`.\n",
    "\n",
    "Com isto, conseguimos então obter o valor de `s` que resolve o `HNP` com soluções aproximadas dos problemas em reticulados. Basta para isso obter o valor de `en+1` que, pelo definido nos apontamentos é `s*A`. Uma vez que `A` é `1/lambda`, basta multiplicar `en+1` por `lambda` para obter o valor de `s`, garantindo que `s E ZZp`."
   ]
  },
  {
   "cell_type": "code",
   "execution_count": 36,
   "metadata": {},
   "outputs": [
    {
     "name": "stdout",
     "output_type": "stream",
     "text": [
      "found_s: 364\n"
     ]
    }
   ],
   "source": [
    "def get_secret_from_reduced_lattice(reduced_lattice, q, k):\n",
    "    shortest_vector = reduced_lattice.row(-1)\n",
    "    s = (shortest_vector[-2] * (2 ** k)).ceil()\n",
    "    return represent_in_Zq(s, q)\n",
    "\n",
    "found_secret = get_secret_from_reduced_lattice(reduced_lattice, p, k)\n",
    "print(\"found_s:\",found_secret)"
   ]
  },
  {
   "cell_type": "markdown",
   "metadata": {},
   "source": [
    "### Testes\n",
    "\n",
    "Adicionalmente, podemos realizar testes para verificar este processo e a sua correta implementação. "
   ]
  },
  {
   "cell_type": "markdown",
   "metadata": {},
   "source": [
    "Apesar do valor poder ser observado como igual ao inicialmente definido, foi implementada uma função `verify_secret` que verifica se o valor de `s` obtido é igual ao valor inicialmente definido. Esta função deve receber os valores do oráculo e o novo segredo, devolvendo `True` caso, para todos os `x_i`, os valores resultantes da aplicação da função `msb_k` sejam iguais aos valores `u_i` do oráculo. Caso contrário, devolve `False`."
   ]
  },
  {
   "cell_type": "code",
   "execution_count": 7,
   "metadata": {},
   "outputs": [
    {
     "name": "stdout",
     "output_type": "stream",
     "text": [
      "O segredo extraído está correto.\n"
     ]
    }
   ],
   "source": [
    "def verify_secret(ss, x_values, u_values, q, k):\n",
    "    for x, u in zip(x_values, u_values):\n",
    "        if msb_k((ss * x) % q, k, q) != u:\n",
    "            return False\n",
    "    return True\n",
    "\n",
    "# Verificar o segredo extraído\n",
    "t = [x for x, _ in pairs]\n",
    "u = [u for _, u in pairs] \n",
    "is_correct = verify_secret(found_secret, t, u, p, k)\n",
    "\n",
    "if is_correct:\n",
    "    print(\"O segredo extraído está correto.\")\n",
    "else:\n",
    "    print(\"O segredo extraído está incorreto.\")"
   ]
  },
  {
   "cell_type": "markdown",
   "metadata": {},
   "source": []
  },
  {
   "cell_type": "code",
   "execution_count": 43,
   "metadata": {},
   "outputs": [],
   "source": [
    "def test_for_d(dd):\n",
    "    pp = next_prime(2**dd)\n",
    "    nn = 4 * ceil(sqrt(dd))\n",
    "    kk = ceil(sqrt(dd) + log(dd, 2))\n",
    "    ss = randint(1, pp - 1)\n",
    "\n",
    "    \n",
    "    ppairs = generate_pairs(nn, pp, kk, ss)\n",
    "\n",
    "    BB = pp / (2 ** kk)\n",
    "    GG = builg_G([xx for xx, _ in ppairs], [-BB * uu for _, uu in ppairs], pp, kk)\n",
    "    \n",
    "    rreduced_lattice = reduce_lattice(GG)\n",
    "    \n",
    "    ffound_secret = get_secret_from_reduced_lattice(rreduced_lattice, pp, kk)\n",
    "\n",
    "    \n",
    "    tt = [x for x, _ in ppairs]\n",
    "    uu = [u for _, u in ppairs] \n",
    "    iis_correct = verify_secret(ffound_secret, tt, uu, pp, kk)\n",
    "    \n",
    "    return iis_correct\n"
   ]
  },
  {
   "cell_type": "code",
   "execution_count": 45,
   "metadata": {},
   "outputs": [
    {
     "name": "stdout",
     "output_type": "stream",
     "text": [
      "Testando para d = 5\t| Resultado: True\t| Tempo: 0.0042603397369384765\n",
      "Testando para d = 6\t| Resultado: True\t| Tempo: 0.003992326259613037\n",
      "Testando para d = 7\t| Resultado: True\t| Tempo: 0.003999013900756836\n",
      "Testando para d = 8\t| Resultado: True\t| Tempo: 0.003881392478942871\n",
      "Testando para d = 9\t| Resultado: True\t| Tempo: 0.003675692081451416\n",
      "Testando para d = 10\t| Resultado: True\t| Tempo: 0.005639822483062744\n",
      "Testando para d = 11\t| Resultado: True\t| Tempo: 0.005959815979003906\n",
      "Testando para d = 12\t| Resultado: True\t| Tempo: 0.006222991943359375\n",
      "Testando para d = 13\t| Resultado: True\t| Tempo: 0.006057145595550537\n",
      "Testando para d = 14\t| Resultado: True\t| Tempo: 0.006171495914459229\n",
      "Testando para d = 15\t| Resultado: True\t| Tempo: 0.006137731075286865\n",
      "Testando para d = 16\t| Resultado: True\t| Tempo: 0.005276095867156982\n",
      "Testando para d = 17\t| Resultado: True\t| Tempo: 0.008319664001464843\n",
      "Testando para d = 18\t| Resultado: True\t| Tempo: 0.008511765003204346\n",
      "Testando para d = 19\t| Resultado: True\t| Tempo: 0.008411238193511963\n",
      "Testando para d = 20\t| Resultado: True\t| Tempo: 0.009937818050384522\n",
      "Testando para d = 21\t| Resultado: True\t| Tempo: 0.01050628662109375\n",
      "Testando para d = 22\t| Resultado: True\t| Tempo: 0.008930094242095947\n",
      "Testando para d = 23\t| Resultado: True\t| Tempo: 0.008702223300933837\n",
      "Testando para d = 24\t| Resultado: True\t| Tempo: 0.01040555238723755\n",
      "Testando para d = 25\t| Resultado: True\t| Tempo: 0.009039254188537597\n",
      "Testando para d = 26\t| Resultado: True\t| Tempo: 0.012123892307281494\n",
      "Testando para d = 27\t| Resultado: True\t| Tempo: 0.01214590311050415\n",
      "Testando para d = 28\t| Resultado: True\t| Tempo: 0.012211501598358154\n",
      "Testando para d = 29\t| Resultado: True\t| Tempo: 0.012071468830108643\n",
      "Testando para d = 30\t| Resultado: True\t| Tempo: 0.012115566730499268\n",
      "Testando para d = 31\t| Resultado: True\t| Tempo: 0.012306311130523682\n",
      "Testando para d = 32\t| Resultado: True\t| Tempo: 0.012261695861816406\n",
      "Testando para d = 33\t| Resultado: True\t| Tempo: 0.016476263999938966\n",
      "Testando para d = 34\t| Resultado: True\t| Tempo: 0.01689007759094238\n",
      "Testando para d = 35\t| Resultado: True\t| Tempo: 0.017248847484588624\n",
      "Testando para d = 36\t| Resultado: True\t| Tempo: 0.017072958946228026\n",
      "Testando para d = 37\t| Resultado: True\t| Tempo: 0.024627585411071778\n",
      "Testando para d = 38\t| Resultado: True\t| Tempo: 0.02595285415649414\n",
      "Testando para d = 39\t| Resultado: True\t| Tempo: 0.02627246379852295\n",
      "Testando para d = 40\t| Resultado: True\t| Tempo: 0.026556451320648194\n",
      "Testando para d = 41\t| Resultado: True\t| Tempo: 0.02621768236160278\n",
      "Testando para d = 42\t| Resultado: True\t| Tempo: 0.026567769050598145\n",
      "Testando para d = 43\t| Resultado: True\t| Tempo: 0.026938538551330566\n",
      "Testando para d = 44\t| Resultado: True\t| Tempo: 0.02789154291152954\n",
      "Testando para d = 45\t| Resultado: True\t| Tempo: 0.028098878860473634\n",
      "Testando para d = 46\t| Resultado: True\t| Tempo: 0.028439717292785646\n",
      "Testando para d = 47\t| Resultado: True\t| Tempo: 0.0287129807472229\n",
      "Testando para d = 48\t| Resultado: True\t| Tempo: 0.029528167247772217\n",
      "Testando para d = 49\t| Resultado: True\t| Tempo: 0.029371669292449953\n",
      "Testando para d = 50\t| Resultado: True\t| Tempo: 0.04123117446899414\n",
      "Testando para d = 51\t| Resultado: True\t| Tempo: 0.04180846691131592\n",
      "Testando para d = 52\t| Resultado: True\t| Tempo: 0.04412210464477539\n",
      "Testando para d = 53\t| Resultado: True\t| Tempo: 0.050455501079559324\n",
      "Testando para d = 54\t| Resultado: True\t| Tempo: 0.05139308929443359\n",
      "Testando para d = 55\t| Resultado: True\t| Tempo: 0.05051387548446655\n",
      "Testando para d = 56\t| Resultado: True\t| Tempo: 0.049922688007354735\n",
      "Testando para d = 57\t| Resultado: True\t| Tempo: 0.04944596529006958\n",
      "Testando para d = 58\t| Resultado: True\t| Tempo: 0.050030138492584225\n",
      "Testando para d = 59\t| Resultado: True\t| Tempo: 0.050749857425689694\n",
      "Testando para d = 60\t| Resultado: True\t| Tempo: 0.0513713812828064\n",
      "Testando para d = 61\t| Resultado: True\t| Tempo: 0.05185266733169556\n",
      "Testando para d = 62\t| Resultado: True\t| Tempo: 0.05228433847427368\n",
      "Testando para d = 63\t| Resultado: True\t| Tempo: 0.05354949235916138\n",
      "Testando para d = 64\t| Resultado: True\t| Tempo: 0.05358516454696655\n",
      "Testando para d = 65\t| Resultado: True\t| Tempo: 0.07644004344940186\n",
      "Testando para d = 66\t| Resultado: True\t| Tempo: 0.07491888999938964\n",
      "Testando para d = 67\t| Resultado: True\t| Tempo: 0.07625390291213989\n",
      "Testando para d = 68\t| Resultado: True\t| Tempo: 0.07722525358200073\n",
      "Testando para d = 69\t| Resultado: True\t| Tempo: 0.0778765869140625\n",
      "Testando para d = 70\t| Resultado: True\t| Tempo: 0.07959930419921875\n",
      "Testando para d = 71\t| Resultado: True\t| Tempo: 0.07967189073562622\n",
      "Testando para d = 72\t| Resultado: True\t| Tempo: 0.08427001237869262\n",
      "Testando para d = 73\t| Resultado: True\t| Tempo: 0.08536597728729248\n",
      "Testando para d = 74\t| Resultado: True\t| Tempo: 0.08585732221603394\n",
      "Testando para d = 75\t| Resultado: True\t| Tempo: 0.08568284273147583\n",
      "Testando para d = 76\t| Resultado: True\t| Tempo: 0.08553138256072998\n",
      "Testando para d = 77\t| Resultado: True\t| Tempo: 0.09387141227722168\n",
      "Testando para d = 78\t| Resultado: True\t| Tempo: 0.08771333932876586\n",
      "Testando para d = 79\t| Resultado: True\t| Tempo: 0.08849998950958252\n",
      "Testando para d = 80\t| Resultado: True\t| Tempo: 0.09159328699111939\n",
      "Testando para d = 81\t| Resultado: True\t| Tempo: 0.09088526248931884\n",
      "Testando para d = 82\t| Resultado: True\t| Tempo: 0.12084532260894776\n",
      "Testando para d = 83\t| Resultado: True\t| Tempo: 0.13188949823379517\n",
      "Testando para d = 84\t| Resultado: True\t| Tempo: 0.12375930070877075\n",
      "Testando para d = 85\t| Resultado: True\t| Tempo: 0.12503229856491088\n",
      "Testando para d = 86\t| Resultado: True\t| Tempo: 0.13410646438598633\n",
      "Testando para d = 87\t| Resultado: True\t| Tempo: 0.13790130615234375\n",
      "Testando para d = 88\t| Resultado: True\t| Tempo: 0.14004895448684693\n",
      "Testando para d = 89\t| Resultado: True\t| Tempo: 0.1394200038909912\n",
      "Testando para d = 90\t| Resultado: True\t| Tempo: 0.1430157494544983\n",
      "Testando para d = 91\t| Resultado: True\t| Tempo: 0.14417694091796876\n",
      "Testando para d = 92\t| Resultado: True\t| Tempo: 0.14484849452972412\n",
      "Testando para d = 93\t| Resultado: True\t| Tempo: 0.1386698913574219\n",
      "Testando para d = 94\t| Resultado: True\t| Tempo: 0.14724543333053589\n",
      "Testando para d = 95\t| Resultado: True\t| Tempo: 0.1400204062461853\n",
      "Testando para d = 96\t| Resultado: True\t| Tempo: 0.14738118410110473\n",
      "Testando para d = 97\t| Resultado: True\t| Tempo: 0.14537307262420654\n",
      "Testando para d = 98\t| Resultado: True\t| Tempo: 0.14861897945404054\n",
      "Testando para d = 99\t| Resultado: True\t| Tempo: 0.15026005506515502\n",
      "Testando para d = 100\t| Resultado: True\t| Tempo: 0.15860520601272582\n",
      "Testando para d = 101\t| Resultado: True\t| Tempo: 0.19349915742874146\n",
      "Testando para d = 102\t| Resultado: True\t| Tempo: 0.20509963989257812\n",
      "Testando para d = 103\t| Resultado: True\t| Tempo: 0.20231552839279174\n",
      "Testando para d = 104\t| Resultado: True\t| Tempo: 0.2132391858100891\n",
      "Testando para d = 105\t| Resultado: True\t| Tempo: 0.21884895563125611\n",
      "Testando para d = 106\t| Resultado: True\t| Tempo: 0.20387235879898072\n",
      "Testando para d = 107\t| Resultado: True\t| Tempo: 0.21980316638946534\n",
      "Testando para d = 108\t| Resultado: True\t| Tempo: 0.22205047369003295\n",
      "Testando para d = 109\t| Resultado: True\t| Tempo: 0.21265204429626464\n",
      "Testando para d = 110\t| Resultado: True\t| Tempo: 0.23283011198043824\n",
      "Testando para d = 111\t| Resultado: True\t| Tempo: 0.23673345327377318\n",
      "Testando para d = 112\t| Resultado: True\t| Tempo: 0.2511498713493347\n",
      "Testando para d = 113\t| Resultado: True\t| Tempo: 0.25604196786880495\n",
      "Testando para d = 114\t| Resultado: True\t| Tempo: 0.2753901481628418\n",
      "Testando para d = 115\t| Resultado: True\t| Tempo: 0.26415166139602664\n",
      "Testando para d = 116\t| Resultado: True\t| Tempo: 0.2513222050666809\n",
      "Testando para d = 117\t| Resultado: True\t| Tempo: 0.251125693321228\n",
      "Testando para d = 118\t| Resultado: True\t| Tempo: 0.25397356033325197\n",
      "Testando para d = 119\t| Resultado: True\t| Tempo: 0.25383293628692627\n",
      "Testando para d = 120\t| Resultado: True\t| Tempo: 0.2439748477935791\n",
      "Testando para d = 121\t| Resultado: True\t| Tempo: 0.25560076713562013\n",
      "Testando para d = 122\t| Resultado: True\t| Tempo: 0.3193270778656006\n",
      "Testando para d = 123\t| Resultado: True\t| Tempo: 0.32118203401565554\n",
      "Testando para d = 124\t| Resultado: True\t| Tempo: 0.32684552669525146\n",
      "Testando para d = 125\t| Resultado: True\t| Tempo: 0.3273454976081848\n"
     ]
    }
   ],
   "source": [
    "import time\n",
    "\n",
    "times=[]\n",
    "\n",
    "for i in range(5, 126):\n",
    "    print(f\"Testando para d = {i}\\t| \", end='')\n",
    "    #time start\n",
    "    start = time.time()\n",
    "    for _ in range(100):\n",
    "        result=test_for_d(i)\n",
    "    #time end\n",
    "    end = time.time()\n",
    "    times.append((i,(end-start)/100))\n",
    "    print(f\"Resultado: {result}\\t| Tempo: {(end-start)/100}\")"
   ]
  },
  {
   "cell_type": "code",
   "execution_count": 46,
   "metadata": {},
   "outputs": [
    {
     "data": {
      "image/png": "[encoded data removed]",
      "text/plain": [
       "<Figure size 640x480 with 1 Axes>"
      ]
     },
     "metadata": {},
     "output_type": "display_data"
    }
   ],
   "source": [
    "# make a graph of the results\n",
    "import matplotlib.pyplot as plt\n",
    "\n",
    "x = [i for i, _ in times]\n",
    "y = [t for _, t in times]\n",
    "\n",
    "plt.plot(x, y)\n",
    "plt.xlabel(\"d\")\n",
    "plt.ylabel(\"Tempo médio (s)\")\n",
    "plt.title(\"Tempo médio de 100 medições para cada d\")\n",
    "plt.show()\n"
   ]
  }
 ],
 "metadata": {
  "kernelspec": {
   "display_name": "SageMath 9.5",
   "language": "sage",
   "name": "sagemath"
  },
  "language_info": {
   "codemirror_mode": {
    "name": "ipython",
    "version": 3
   },
   "file_extension": ".py",
   "mimetype": "text/x-python",
   "name": "python",
   "nbconvert_exporter": "python",
   "pygments_lexer": "ipython3",
   "version": "3.11.2"
  }
 },
 "nbformat": 4,
 "nbformat_minor": 2
}
