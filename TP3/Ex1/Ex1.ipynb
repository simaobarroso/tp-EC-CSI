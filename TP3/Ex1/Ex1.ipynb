{
 "cells": [
  {
   "cell_type": "code",
   "execution_count": 181,
   "metadata": {},
   "outputs": [],
   "source": [
    "from sage.modules.free_module_integer import IntegerLattice\n",
    "\n",
    "\n",
    "p = next_prime(2^16)\n",
    "n = ceil(log(p, 2))\n",
    "k = ceil(sqrt(n)) + ceil(log(n, 2))"
   ]
  },
  {
   "cell_type": "code",
   "execution_count": 182,
   "metadata": {},
   "outputs": [
    {
     "name": "stdout",
     "output_type": "stream",
     "text": [
      "[(12413, 7770), (4926, 1408), (20530, 662), (6217, 9634), (42950, 61554), (36743, 16258), (4254, 23285), (53120, 32693), (13825, 59565), (31212, 16822), (40282, 37965), (55723, 38358), (2606, 46247), (17496, 21129), (14753, 38846), (9554, 34652), (36765, 20682)]\n"
     ]
    }
   ],
   "source": [
    "def generate_pairs(N, q):\n",
    "    pairs = []\n",
    "    for _ in range(N):\n",
    "        x_i = randint(1, q - 1)\n",
    "        u_i = randint(0, q - 1)  # Considerando que u_i é um inteiro positivo\n",
    "        pairs.append((x_i, u_i))\n",
    "    return pairs\n",
    "\n",
    "pairs = generate_pairs(n, p)\n",
    "print(pairs)"
   ]
  },
  {
   "cell_type": "code",
   "execution_count": 183,
   "metadata": {},
   "outputs": [],
   "source": [
    "def msb_k(y, p, B):\n",
    "    return (y // B) % p\n",
    "\n"
   ]
  },
  {
   "cell_type": "code",
   "execution_count": 184,
   "metadata": {},
   "outputs": [],
   "source": [
    "def build_integer_lattice(oracle_inputs):\n",
    "    basis_vectors = []\n",
    "    for i in range(n):\n",
    "        p_vector = [0] * (n+1)\n",
    "        p_vector[i] = p*p\n",
    "        basis_vectors.append(p_vector)\n",
    "    scaled_answers = list(map(lambda oi: oi*p, oracle_inputs))\n",
    "    basis_vectors.append(scaled_answers + [1])\n",
    "    return IntegerLattice(basis_vectors)"
   ]
  },
  {
   "cell_type": "code",
   "execution_count": 185,
   "metadata": {},
   "outputs": [],
   "source": [
    "def lattice_reduction(G):\n",
    "    return G.LLL()"
   ]
  },
  {
   "cell_type": "code",
   "execution_count": 186,
   "metadata": {},
   "outputs": [],
   "source": [
    "def recover_hidden_number(G, u, p, l):\n",
    "    alpha = 0\n",
    "    d = G.ncols() - 1\n",
    "    lambda_val = 2 ** k\n",
    "    B = p // lambda_val\n",
    "    for i in range(d):\n",
    "        alpha += msb_k(u[i], l, B) * G[i, d]\n",
    "    return alpha % p\n"
   ]
  },
  {
   "cell_type": "code",
   "execution_count": 187,
   "metadata": {},
   "outputs": [
    {
     "name": "stdout",
     "output_type": "stream",
     "text": [
      "Recovered hidden number: 36535\n"
     ]
    }
   ],
   "source": [
    "l=40\n",
    "t=[x for (x, _) in pairs]\n",
    "u=[y for (_, y) in pairs]\n",
    "# Step 1: Build the lattice\n",
    "G = build_integer_lattice(t)\n",
    "\n",
    "# Step 2: Apply lattice reduction algorithms\n",
    "G_reduced = lattice_reduction(G)\n",
    "\n",
    "# Step 3: Recover the hidden number\n",
    "alpha = recover_hidden_number(G_reduced, u, p, n)\n",
    "\n",
    "print(\"Recovered hidden number:\", alpha)"
   ]
  },
  {
   "cell_type": "code",
   "execution_count": 188,
   "metadata": {},
   "outputs": [
    {
     "name": "stdout",
     "output_type": "stream",
     "text": [
      "msb_k_calc 8081\n",
      "O segredo extraído está incorreto.\n"
     ]
    }
   ],
   "source": [
    "def verify_secret(s, x_values, u_values, p, k):\n",
    "    lambda_val = 2 ** k\n",
    "    B = p // lambda_val\n",
    "    for x, u in zip(x_values, u_values):\n",
    "        msb_k_calc = msb_k((s * x) , p, B)\n",
    "        print(\"msb_k_calc\", msb_k_calc)\n",
    "        \n",
    "        if msb_k_calc != u:\n",
    "            return False\n",
    "    return True\n",
    "\n",
    "# Verificar o segredo extraído\n",
    "is_correct = verify_secret(alpha, t, u, p, k)\n",
    "\n",
    "if is_correct:\n",
    "    print(\"O segredo extraído está correto.\")\n",
    "else:\n",
    "    print(\"O segredo extraído está incorreto.\")"
   ]
  }
 ],
 "metadata": {
  "kernelspec": {
   "display_name": "SageMath 9.5",
   "language": "sage",
   "name": "sagemath"
  },
  "language_info": {
   "codemirror_mode": {
    "name": "ipython",
    "version": 3
   },
   "file_extension": ".py",
   "mimetype": "text/x-python",
   "name": "python",
   "nbconvert_exporter": "python",
   "pygments_lexer": "ipython3",
   "version": "3.11.2"
  }
 },
 "nbformat": 4,
 "nbformat_minor": 2
}
