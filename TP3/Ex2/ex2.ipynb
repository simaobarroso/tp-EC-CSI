{
 "cells": [
  {
   "cell_type": "markdown",
   "metadata": {},
   "source": [
    "# Estruturas Cripográficas - Criptografia e Segurança da Informação\n",
    "\n",
    "## TP3 - Exercício 2 - KEM\n",
    "\n",
    "Tratalho realizado por:\n",
    "\n",
    "| Número     | Nome                          |\n",
    "|--------|-------------------------------|\n",
    "| PG54177| Ricardo Alves Oliveira        |\n",
    "| PG54236| Simão Oliveira Alvim Barroso  |"
   ]
  },
  {
   "cell_type": "markdown",
   "metadata": {},
   "source": [
    "### Enunciado\n",
    "\n",
    "2. Em Agosto de 2023 a NIST publicou um draf da [norma FIPS203](https://www.dropbox.com/scl/fo/vllnz60fnd4payrkllm1d/h?rlkey=4z7418pn17qcgmx97etxepvzo&e=1&dl=0)  para um Key Encapsulation Mechanism (KEM) derivado dos algoritmos [KYBER](https://www.dropbox.com/scl/fo/y2i97mufz371tmz0orc40/h?rlkey=ffhdgacrx5wb4jsjb84kugclq&e=1&dl=0). \n",
    "    O preâmbulo do “draft” \n",
    "> A key-encapsulation mechanism (or KEM) is a set of algorithms that, under certain conditions, can be used by two parties to establish a shared secret key over a public channel. A shared secret key that is securely established using a KEM can then be used with symmetric-key cryptographic algorithms to perform basic tasks in secure communications, such as encryption and authentication. This standard specifes a key-encapsulation mechanism called ML-KEM. The security of ML-KEM is related to the computational difficulty of the so-called MoDUle Learning with Errorsproblem. At present, ML-KEM is believed to be secure even against adversaries who possess a quantum computer\n",
    "\n",
    "\n",
    "Neste trabalho pretende-se implementar em Sagemath um protótipo deste standard parametrizado de acordo com as variantes sugeridas na norma (512, 768 e 1024 bits de segurança)\n"
   ]
  },
  {
   "cell_type": "markdown",
   "metadata": {},
   "source": [
    "### Imports "
   ]
  },
  {
   "cell_type": "code",
   "execution_count": 27,
   "metadata": {},
   "outputs": [],
   "source": [
    "import hashlib, os\n",
    "from functools import reduce"
   ]
  },
  {
   "cell_type": "markdown",
   "metadata": {},
   "source": [
    "### Inicialização\n",
    "\n",
    "Dependendo das variantes sugeridas na norma, existem diferentes valores para os diferentes parâmetros, como vemos na seguinte imagem retirada da norma FIPS203: \n",
    "\n",
    "![valores da imagens](./images/values.png)"
   ]
  },
  {
   "cell_type": "code",
   "execution_count": 28,
   "metadata": {},
   "outputs": [
    {
     "name": "stdout",
     "output_type": "stream",
     "text": [
      "ML-KEM-768 \n"
     ]
    }
   ],
   "source": [
    "sec_bits = int(input(\"n value: \"))\n",
    "\n",
    "assert sec_bits in [512,768,1024], \"n must be 512, 768 or 1024\"\n",
    "\n",
    "N = 256\n",
    "Q = 3329 \n",
    "\n",
    "if sec_bits == 512:\n",
    "    k_val=2\n",
    "    eta1=3 \n",
    "    eta2=2\n",
    "    DU=10\n",
    "    DV=5\n",
    "    \n",
    "elif sec_bits == 768:\n",
    "    k_val=3\n",
    "    eta1=2 \n",
    "    eta2=2\n",
    "    DU=10\n",
    "    DV=4\n",
    "\n",
    "elif sec_bits == 1024:\n",
    "    k_val=4\n",
    "    eta1=2 \n",
    "    eta2=2\n",
    "    DU=11\n",
    "    DV=5\n",
    "\n",
    "print(f\"ML-KEM-{sec_bits} \")"
   ]
  },
  {
   "cell_type": "markdown",
   "metadata": {},
   "source": [
    "O algoritmo ML-KEM é composto por 3 algoritmos:\n",
    "1. Key generation (ML-KEM.KeyGen)\n",
    "2. Encapsulation (ML-KEM.Encaps)\n",
    "3. Decapsulation (ML-KEM.Decaps)\n",
    "\n",
    "Cada um desses algoritmos é compostos por diferentes sub-algoritmos, que são descritos na norma FIPS203. Ao longo das seguintes células vamos implementar cada um desses algoritmos.\n",
    "\n",
    "![algoritmos](./images/algos.png)"
   ]
  },
  {
   "cell_type": "markdown",
   "metadata": {},
   "source": [
    "Nestas celulas em baixo temos alguns algoritmos auxiliares aos algoritmos utilizado no ML-KEM."
   ]
  },
  {
   "cell_type": "code",
   "execution_count": 29,
   "metadata": {},
   "outputs": [],
   "source": [
    "\n",
    "def bit_rev_7(r):\n",
    "    return int('{:07b}'.format(r)[::-1], 2)\n",
    "\n",
    "def G(c):\n",
    "    G_result = hashlib.sha3_512(c).digest()\n",
    "    return G_result[:32], G_result[32:]\n",
    "\n",
    "\n",
    "def H(c):\n",
    "    return hashlib.sha3_256(c).digest()\n",
    "\n",
    "\n",
    "def J(s, l):\n",
    "    return hashlib.shake_256(s).digest(l)\n",
    "\n",
    "\n",
    "def XOF(rho, i, j):\n",
    "    return hashlib.shake_128(rho + bytes([i]) + bytes([j])).digest(1536)\n",
    "\n",
    "def PRF(eta, s, b):\n",
    "    return hashlib.shake_256(s + b).digest(64 * eta)\n",
    "\n",
    "ZETA = [pow(17, bit_rev_7(k), Q) for k in range(128)]\n",
    "GAMMA = [pow(17, 2 * bit_rev_7(k) + 1, Q) for k in range(128)]"
   ]
  },
  {
   "cell_type": "markdown",
   "metadata": {},
   "source": [
    "Temos aqui em baixo a codificação dos algoritmos 2,3,4 e 5 presentes na lista de algoritmos que está presente no FIPS 203."
   ]
  },
  {
   "cell_type": "code",
   "execution_count": 30,
   "metadata": {},
   "outputs": [],
   "source": [
    "\n",
    "def bits_to_bytes(b):\n",
    "    B = bytearray([0] * (len(b) // 8))\n",
    "    \n",
    "    for i in range(len(b)):\n",
    "        B[i // 8] += b[i] * 2 ** (i % 8)\n",
    "    \n",
    "    return bytes(B)\n",
    "\n",
    "\n",
    "def bytes_to_bits(B):\n",
    "    B_list = list(B)\n",
    "    b = [0] * (len(B_list) * 8)\n",
    "    \n",
    "    for i in range(len(B_list)):\n",
    "        for j in range(8):\n",
    "            b[8 * i + j] = B_list[i] % 2\n",
    "            B_list[i] //= 2\n",
    "\n",
    "    return b\n",
    "\n",
    "\n",
    "def byte_encode(d, F):\n",
    "    b = [0] * (256 * d)\n",
    "    for i in range(256):\n",
    "        a = F[i]\n",
    "        for j in range(d):\n",
    "            b[i * d + j] = a % 2\n",
    "            a = (a - b[i * d + j]) // 2\n",
    "    \n",
    "    return bits_to_bytes(b)\n",
    "\n",
    "\n",
    "def byte_decode(d, B):\n",
    "    m = 2 ** d if d < 12 else Q\n",
    "    b = bytes_to_bits(B)\n",
    "    F = [0] * 256\n",
    "    for i in range(256):\n",
    "        F[i] = sum(b[i * d + j] * (2 ** j) % m for j in range(d))\n",
    "    \n",
    "    return F"
   ]
  },
  {
   "cell_type": "markdown",
   "metadata": {},
   "source": [
    "Temos aqui em baixo a codificação dos algoritmos 6 e 7 presentes na lista de algoritmos que está presente no FIPS 203."
   ]
  },
  {
   "cell_type": "code",
   "execution_count": 31,
   "metadata": {},
   "outputs": [],
   "source": [
    "def sample_ntt(B):\n",
    "    i, j = 0, 0\n",
    "    ac = [0] * 256\n",
    "\n",
    "    while j < 256:\n",
    "        d1 = B[i] + 256 * (B[i + 1] % 16)\n",
    "        d2 = (B[i + 1] // 16) + 16 * B[i + 2]\n",
    "\n",
    "        if d1 < Q:\n",
    "            ac[j] = d1\n",
    "            j += 1\n",
    "\n",
    "        if d2 < Q and j < 256:\n",
    "            ac[j] = d2\n",
    "            j += 1\n",
    "            \n",
    "        i += 3\n",
    "\n",
    "    return ac\n",
    "\n",
    "\n",
    "def sample_poly_cbd(B, eta):\n",
    "    b = bytes_to_bits(B)\n",
    "    f = [0] * 256\n",
    "    \n",
    "    for i in range(256):\n",
    "        x = sum(b[2 * i * eta + j] for j in range(eta))\n",
    "        y = sum(b[2 * i * eta + eta + j] for j in range(eta))\n",
    "        f[i] = (x - y) % Q\n",
    "\n",
    "    return f\n"
   ]
  },
  {
   "cell_type": "markdown",
   "metadata": {},
   "source": [
    "Temos aqui em baixo a codificação dos algoritmos 8, 9, 10 e 11 presentes na lista de algoritmos que está presente no FIPS 203."
   ]
  },
  {
   "cell_type": "code",
   "execution_count": 32,
   "metadata": {},
   "outputs": [],
   "source": [
    "def ntt(f):\n",
    "    fc = f\n",
    "    k = 1\n",
    "    len = 128\n",
    "\n",
    "    while len >= 2:\n",
    "        start = 0\n",
    "        while start < 256:\n",
    "            zeta = ZETA[k]\n",
    "            k += 1\n",
    "            for j in range(start, start + len):\n",
    "                t = (zeta * fc[j + len]) % Q\n",
    "                fc[j + len] = (fc[j] - t) % Q\n",
    "                fc[j] = (fc[j] + t) % Q\n",
    "\n",
    "            start += 2 * len\n",
    "            \n",
    "        len //= 2\n",
    "\n",
    "    return fc\n",
    "\n",
    "\n",
    "def ntt_inv(fc):\n",
    "    f = fc\n",
    "    k = 127\n",
    "    len = 2\n",
    "    while len <= 128:\n",
    "        start = 0\n",
    "        while start < 256:\n",
    "            zeta = ZETA[k]\n",
    "            k -= 1\n",
    "            for j in range(start, start + len):\n",
    "                t = f[j]\n",
    "                f[j] = (t + f[j + len]) % Q\n",
    "                f[j + len] = (zeta * (f[j + len] - t)) % Q\n",
    "\n",
    "            start += 2 * len\n",
    "\n",
    "        len *= 2\n",
    "\n",
    "    return [(felem * 3303) % Q for felem in f]\n",
    "\n",
    "\n",
    "def base_case_multiply(a0, a1, b0, b1, gamma):\n",
    "    c0 = a0 * b0 + a1 * b1 * gamma\n",
    "    c1 = a0 * b1 + a1 * b0\n",
    "\n",
    "    return c0, c1\n",
    "\n",
    "\n",
    "def multiply_ntt_s(fc, gc):\n",
    "    hc = [0] * 256\n",
    "    for i in range(128):\n",
    "        hc[2 * i], hc[2 * i + 1] = base_case_multiply(fc[2 * i], fc[2 * i + 1], gc[2 * i], gc[2 * i + 1], GAMMA[i])\n",
    "    \n",
    "    return hc"
   ]
  },
  {
   "cell_type": "code",
   "execution_count": 33,
   "metadata": {},
   "outputs": [],
   "source": [
    "def vector_add(ac, bc):\n",
    "\treturn [(x + y) % Q for x, y in zip(ac, bc)]\n",
    "\n",
    "def vector_sub(ac, bc):\n",
    "\treturn [(x - y) % Q for x, y in zip(ac, bc)]\n"
   ]
  },
  {
   "cell_type": "markdown",
   "metadata": {},
   "source": []
  },
  {
   "cell_type": "code",
   "execution_count": 34,
   "metadata": {},
   "outputs": [],
   "source": [
    "def k_pke_keygen():\n",
    "    global  k_val\n",
    "    k = k_val\n",
    "    global eta1\n",
    "    d = os.urandom(32)\n",
    "    rho, sigma = G(d)\n",
    "    N = 0\n",
    "    Ac = [[None for _ in range(k)] for _ in range(k)]\n",
    "    s = [None for _ in range(k)]\n",
    "    e = [None for _ in range(k)]\n",
    "\n",
    "    for i in range(k):\n",
    "        for j in range(k):\n",
    "            Ac[i][j] = sample_ntt(XOF(rho, i, j))\n",
    "\n",
    "    for i in range(k):\n",
    "        s[i] = sample_poly_cbd(PRF(eta1, sigma, bytes([N])), eta1)\n",
    "        N += 1\n",
    "\n",
    "    for i in range(k):\n",
    "        e[i] = sample_poly_cbd(PRF(eta1, sigma, bytes([N])), eta1)\n",
    "        N += 1\n",
    "\n",
    "    sc = [ntt(s[i]) for i in range(k)]\n",
    "    ec = [ntt(e[i]) for i in range(k)]\n",
    "    tc = [reduce(vector_add, [multiply_ntt_s(Ac[i][j], sc[j]) for j in range(k)] + [ec[i]]) for i in range(k)]\n",
    "\n",
    "    ek_PKE = b\"\".join(byte_encode(12, tc_elem) for tc_elem in tc) + rho\n",
    "    dk_PKE = b\"\".join(byte_encode(12, sc_elem) for sc_elem in sc)\n",
    "\n",
    "    return ek_PKE, dk_PKE"
   ]
  },
  {
   "cell_type": "code",
   "execution_count": 35,
   "metadata": {},
   "outputs": [],
   "source": [
    "def transparray_array_mult(uct, vc, k):\n",
    "    return reduce(vector_add, [multiply_ntt_s(uct[i], vc[i]) for i in range(k)])\n",
    "\n",
    "\n",
    "def compress(d, x):\n",
    "\treturn [(((n * 2**d) + Q // 2 ) // Q) % (2**d) for n in x]\n",
    "\n",
    "def decompress(d, x):\n",
    "\treturn [(((n * Q) + 2**(d-1) ) // 2**d) % Q for n in x]\n"
   ]
  },
  {
   "cell_type": "code",
   "execution_count": 36,
   "metadata": {},
   "outputs": [],
   "source": [
    "def k_pke_encrypt(ek_PKE, m, rand, k, eta1, eta2):\n",
    "    N = 0\n",
    "    tc = [byte_decode(12, ek_PKE[i * 128 * k : (i + 1) * 128 * k]) for i in range(k)]\n",
    "    rho = ek_PKE[384 * k : 384 * k + 32]\n",
    "    Ac = [[None for _ in range(k)] for _ in range(k)]\n",
    "    r = [None for _ in range(k)]\n",
    "    e1 = [None for _ in range(k)]\n",
    "\n",
    "    for i in range(k):\n",
    "        for j in range(k):\n",
    "            Ac[i][j] = sample_ntt(XOF(rho, i, j))\n",
    "\n",
    "\n",
    "    for i in range(k):\n",
    "        r[i] = sample_poly_cbd(PRF(eta1, rand, bytes([N])), eta1)\n",
    "        N += 1\n",
    "\n",
    "    \n",
    "    for i in range(k):\n",
    "        e1[i] = sample_poly_cbd(PRF(eta2, rand, bytes([N])), eta2)\n",
    "        N += 1\n",
    "\n",
    "    e2 = sample_poly_cbd(PRF(eta2, rand, bytes([N])), eta2)\n",
    "    rc = [ntt(r[i]) for i in range(k)]\n",
    "\n",
    "    \n",
    "    # ntt_mult_Act_rc = [ntt_inv(mult_Act_rc_elem) for mult_Act_rc_elem in mult_Act_rc]\n",
    "    # u = [vector_add(ntt_mult_Act_rc[i], e1[i]) for i in range(k)]\n",
    "    u = [vector_add(ntt_inv(reduce(vector_add, [multiply_ntt_s(Ac[j][i], rc[j]) for j in range(k)])), e1[i]) for i in range(k)]\n",
    "\n",
    "    mu = decompress(1, byte_decode(1, m))\n",
    "\n",
    "    v = vector_add(ntt_inv(reduce(vector_add, [multiply_ntt_s(tc[i], rc[i]) for i in range(k)])), vector_add(e2, mu))\n",
    "\n",
    "    c1 = b\"\".join(byte_encode(DU, compress(DU, u[i])) for i in range(k))\n",
    "    c2 = byte_encode(DV, compress(DV, v))\n",
    "\n",
    "\n",
    "    \n",
    "    return c1 + c2\n"
   ]
  },
  {
   "cell_type": "code",
   "execution_count": 37,
   "metadata": {},
   "outputs": [],
   "source": [
    "def k_pke_decrypt(dk_PKE, c, k):\n",
    "    c1 = c[:32 * DU * k]\n",
    "    c2 = c[32 * DU * k : 32 * (DU * k + DV)]\n",
    "    u = [decompress(DU, byte_decode(DU, c1[i * 32 * DU : (i + 1) * 32 * DU])) for i in range(k)]\n",
    "\n",
    "    v = decompress(DV, byte_decode(DV, c2))\n",
    "\n",
    "    sc = [byte_decode(12, dk_PKE[i * 384 : (i + 1) * 384]) for i in range(k)]\n",
    "\n",
    "    w = vector_sub(v, ntt_inv(reduce(vector_add, [multiply_ntt_s(sc[i], ntt(u[i])) for i in range(k)])))\n",
    "\n",
    "    # w = poly256_sub(v, ntt_inv(reduce(ntt_add, [\n",
    "\t# \tntt_mul(shat[i], ntt(u[i]))\n",
    "\t# \tfor i in range(K)\n",
    "\t# ])))\n",
    "\n",
    "\n",
    "    return byte_encode(1, compress(1, w))"
   ]
  },
  {
   "cell_type": "markdown",
   "metadata": {},
   "source": []
  },
  {
   "cell_type": "code",
   "execution_count": 38,
   "metadata": {},
   "outputs": [],
   "source": [
    "def ml_kem_keygen():\n",
    "    z = os.urandom(32)\n",
    "    ek_PKE, dk_PKE = k_pke_keygen()\n",
    "    ek = ek_PKE\n",
    "    dk = dk_PKE + ek + H(ek) + z\n",
    "\n",
    "    return ek, dk\n",
    "\n",
    "\n",
    "def ml_kem_encaps(ek):\n",
    "    global k_val \n",
    "    assert(len(ek) == 384*k_val+32), len(ek) \n",
    "    m = os.urandom(32)\n",
    "    K, r = G(m + H(ek))\n",
    "    c = k_pke_encrypt(ek, m, r,k_val,eta1,eta2)\n",
    "\n",
    "    return K, c\n",
    "\n",
    "\n",
    "def ml_kem_decaps(c, dk):\n",
    "    dk_PKE = dk[0: 384 * 3]\n",
    "    ek_PKE = dk[384 * 3 : 768 * 3 + 32]\n",
    "    h = dk[768 * 3 + 32 : 768 * 3 + 64]\n",
    "    z = dk[768 * 3 + 64 : 768 * 3 + 96]\n",
    "    ml = k_pke_decrypt(dk_PKE, c, 3)\n",
    "    Kl, rl = G(ml + h)\n",
    "    Kb = J((z + c), 32)\n",
    "    cl = k_pke_encrypt(ek_PKE, ml, rl,k_val,eta1,eta2)\n",
    "    if c != cl:\n",
    "        Kl = Kb\n",
    "\n",
    "    return Kl\n"
   ]
  },
  {
   "cell_type": "markdown",
   "metadata": {},
   "source": []
  },
  {
   "cell_type": "code",
   "execution_count": 39,
   "metadata": {},
   "outputs": [
    {
     "name": "stdout",
     "output_type": "stream",
     "text": [
      "ek: b'|\\x0b\\x99\\x1b\\xf0\\x18\\x02\\xf3a=\\xa8\\xcb\\xee\\x88P\\xe8ja\\xa2\\x89\\x1fE\\x08\\x00\\xaa\\x8bh,9p^\\xa6\\x93ak\\xab\\xbd&\\x1f:2yG\\xe9\\x82_\\x80<4*\\xaa\\xe20\\x18\\x98\\xa8oy\\xfb\\xc2D\\xfaw\\xfe\\x016tY\\x1d\\x87\\xb1[rr\\x13\\x87\\x07\\x8f\\x1d\\x05\\xb4\\x82\\x8cw\\x9e\\x8bVR\\xf5.R\\x81t>I\\x0b\\xd2t\\xb4\\xbc\\x84\\x9d\\x8aI\\x18SF\\x8ad\\xf0gC\\x16Odkt\\xed\\xdc]\\xbb\\xa4\\x1f?G\\x11T\\x0b\\x8d\\xafC\\xca\\xe9U,@1#\\xdc!\\xc7T\\x02b\\x8f\\xc6\\x01#\\x0ch}\\x0bM\\xea4\\xa1\\x88\\x16\\xbb\\xbc5^\\x90\\xc3 \\xf3\\xeb+\\x18\\x12\\x14\\x86\\xf2\\xb3\\xb0\\x1bh\\xffV\\xbb\\xb1Lm\\x1a\\x9a\\x9f#\\xec\\xc0A\\xc8\\x83\\xa1aI\\xeevC-\\x8cQ#T\\x04\\xdeT\\xa3\\xe2\\x17)\\x0e\\x08k\\x98&\\xcc6a\\x83X\\x9c\\x06\\xb1\\x06\\xa9\\x14\\xd7$\\x81\\xa9S\\xc6\\x07\\x8b\\xa8\\x06\\xb4V,n#t\\xbdP\\x15\\xcc\\x8a\\xb2U\\ng\\xa4\\xeaD\\x13\\xab\\xaa\\xcd$@@a\\x94*\\x10\\x15-\\xa2!N[\\xa3\\xbd\\xd4Z\\xcf\\x10[\\x8d\\xd2\\x06\\x93\\xa50\\x83\\xe0(\\xa6\\x9d\\x0bmp\\xd0\\x82\\x87\\x85\\x19\\xe2\\xc8\\x887\\xd7$,\\x8a)M\\x0c\\x1aC\\xa2D\\x94\\xd6\\x92\\xc7\\xa1t\\x18\"\\x0b\\x8b\\xb1\\xbeNJE\\xadf\\x10\\xd7\\x19\\x93\\x14\\x13\\xb5N;E\\xf5\\xc5D\\xca\"\\x96\\xc8LU\\x1a\\xa2\\x0c\\xff%p\\r\\x03\\xb6\\xf2\\x94PE\\x9c*\\r\\xe8\\x8dA\\xab\\xa2\\x05r<\\xa6:3\\xe4\\xe7jQQ\\xc0\\x80\\x88\\x82\\xf1+\\x1d+\\xa54\\x81lkT\\x9cP\\xc0YHE\\x08\\xb8Z\\xca\\x93\\xbdb\\x94<\\xc3\\x13\\xacK\\x8d\\x82\\xdb\\x0b\\xaf(\\t\\x84\\xd6l#\\x81:\\x1d\\xcbM\\x15\\x80k5\\x06s\\xf0L\\xc0\\xb1\\xc6B^\\xb9H\\xdbq \\xd3z\\xb3_\\x97\\xbb>Ae\\xae+d\\x1f;U\\xf0\\xf4a\\xbd2C\\x19&5\\xf5\\x92\\x7f\\x17\\xb0v\\xa7\\x96\\x94\\x1f\\xc0i\\xfet.\\xa7\\xc7gd\\x9c\\xb0hy\\x1ak+\\x99w\\xa0\\x03\\x8ewwyH\\xcf\\xcc\\xf4\\x07\\xd5\\x95\\xc9\\xf5Gzg\\xa5\\x96\\xb7\\x11.*\\x95G\\x8b\\xda#\\xee,\\xc0\\xa5ju9\\xac\\x00\\x97\\xb4\\x0b\\x9aj\\x91;e\\x9fX\\xd2\\x85\\xfd\\x93O\\xe0\\x8c\\x0e\\xc7\\xda<\\x17\\x93\\x9e\\x8cc\\x98\\xc2\\xe2=\\xb2\\xb1,\\x83\\xa6\\xab\\x97Hd\\xf8\\xc6\\xbe9E\\x1b\\xe9<\\xc3\\x8a\\xe0Zh\\xfa\\xad+r\\xc9uCh\\xd9\\xb5\\x91{\\xda\\x0b\\xfc\\xfb\\xc4\\xe7\\xd2\\x9eg\\x17\\xaa\\xfd\\xb1\\x00\\xb6tK\\xce\\x95\\xb9p\\xf5*\\x97\\x80\\xc1\\xe5\\xe6\\xbf\\x15\\x94\\x1e5\\xc0R\\xd1\\x02z\\xcb\\x94\\xcdd\\x9cM/\\x0c\\xa7\\xb6\\x0b\\xb7\\xe2d\\x8b\\xc7\\\\}\\x14\\ne\\xd4h\\xc9\\x03\\xb5\\xc7\\xa1\\xe2\\x18\\x8f\\xdb\\xcc\\xc2\\x94g7BR|t\\xb7\\xc9\\xd4\\x17z\\x17P\\x9fV\\xac<\\xb3\\x1d\\xf05\\x95\\x01aoe\\x8c\\x85\\xa8\\x19\\x80b\\xeb\\x94\\xca\\xb6\\xcc+s2\\x9d\\x13h\\xb0\\t=ew\\x95\\x04\\xd9:c\\xd3~}C\\xa2\\xf1\\xd4{d\\xb94#\\x0b\\xb1\\xc6\\xf9=x\\xc0\\x82\\xa0c\\x8e\\xabu\\xba\\xac\\t\\x10\\x08\\xf5[\\xe0$<\\x05\\x81\\xaf\\xd8q\\xc6\\xed\\x8cn\\xb5&\\x7fc\\xc9G\\xd3q\\x15\\xf5\\x0b\\xcc\\xd8\\xe3\\x96\\x84\\xc0\\xca\\x891\\x87h\\x17w\\x8c\\xe0&g\\xd4a\\xd7\\xfb\\x10Q\\xf6f9\\x17!\\xe7!\\xaa\\xc6\"\\x00\\x19\\x1bO\\xfdy\\x84\\x98\\xda\\xbbD\\xf3_\\xbdv\\xc5\\xcd\\x99na@\\x8cX8\\x91\\xd99\\xbf\\x00|Q\\xf7\\x95BL\\n\\xb6~i\\x85a\\xa1*\\x0b\\xd4\\'N\\x95L\\xdd\\xb9t\\x97\\xb9\\xae\\xe97=\\xe9\\xa5e\\xa8\\xc3j\\x1f{GE\\xeaQ\\xc8\\xe2\\x92!0\\xc7\\x98#Ym\\xc06f`*gK\\x13\\x01Y\\x18\\r*\\x86#\\xb6\\x9a>\\xc0\\x104\\x98kqZ\\t\\xdfQu7I\\n\\xfa\\xd3\\x97K\\x1c1\\xbd\\xf2\\x07G\\x860\\xd9\\xf8\\xb7\\xde\\xab\\x18\\x01\\x96\\t\\xad\\xc1)k\"\\xba`Q-@\\xf0\\xb7.\\x97S\\x8f\\x97\\xcbhy\\x8ff\\x97Y\\x06\\x95\\xc1m\\x0c\\xaa\\x08HF\\xb8J\\x14k\\xb8\\x10\\xa4\\xe6\\x00\\xa0\\xa1\\x94\\xaa03[\\x0c\\x9f\\xa7s\\x9a\\x05\\x93(=\\xa6\\x06xL\\x81\\x85\\x08\\x9a3\\xea{\\xcek\\xcb\\xe3\\xaa!G\\xb1\\xc3#\\xa7}\\xd6Iv\\xd0\\xb7#~\\x048\\x00\\xfb\\xbb\\xe5\\x96\\x0c\\xb7\\xba\\x05\\x96\\x11\\x8c\\xf7\\xa5\\x90\\xebdW`po\\x91%\\xa1\\xf0\\xb9_\\xa4x=\\\\\\xcbz\\xa6\\x996\\xe8Q\\x94\\xd2\\xa4jMu\\xc1g\\x15K\\xbfd\\xb12\\x95\\x01*F\\x83\\xb4\\xf0n@&7\\xd4\\xe1\\xce\\xfb\\xf2\\x96\\xb9\\x1a\\xa8O\\x88\\xc0\\xa1\\nA\\xf5\\xfaOR\\x93n\\xad\\x1c\\xc1j\\xf5\\xc5\\x82K\\x1d\\xa2`\\xcfxG\\xa1\\xeff\\x8c\\x1e\\xfc\\x03\\xe0`E\\xf56\\x96clt\\xcc@\\xfcq\\xf4\\xcd}sc\\t\\xb40h\\x82\\x1as\\xe1F\\x17\\xebd\\xc4\\x88F\\x8b\\xb7@@\\x1d\\xcb\\xb4{'\n",
      "dk: b'(\\xf5}\\xc5\\x978D\\xe4\\xac\\'\\xc4\\x90\\xab\\x8c\\x91\\x15\\x96!\\xa6\\x03\\xbf\\xee\\xb7]\\xef\\x02>\\xdb\\t\\xb6\\xb1\\xf6\\xbce\\xf4\\x89\\xd6\\xc9r\\xa5 \\x95\\x00\\xda\\xb9\\xaak\\xa3\\x94\\xa1\\xbc9\\x05\\x9a\\x80\\xfa\\x9e\\xaa\\'N\\x85lq\\xe6w\\x17F\"\\xadN\\x1b]\\x06\\n\"2\\x9c\\xab\\x1d\\xa7\\xa0PT\\xc9\\xc3\\x07P1\\xe0gTR\\xa5\\x13\\x03\\xa6^\\xe4\\xb3\"\\x90N\\xae\\xbb+\\xd9\\xd1\\xc6`\\xdb\\xbd\\xd2\\xec\\x97\\xad\\x92\\x9e*\\xb0K\\xd7\\xa7\\xba\\xa8qf7\\xbcp\\x18\\xfb\\xa8?\\xe7U-PsD\\x9b\\x03[\\x1a\\x9c\\x87K\\x0b\\'\\x85c\\x8a6\\x96\\x02\\x00Y\\xa9\\xe2\\x9e\\x0c\\xe7\\xcb9\\xc3c\\xd1(3\\xb2\\xa9H\\x94B\\xb8\\xf6\\x8cHK$\\x07\\xbb\\x92\\xcc\\xb1\\x1c\\n\\x96\\\\4n\\xa9q\\xeap$\\xbe\\xd2\\x06{JF\\x9e\\x16\\x1a|\\x12l\\xbdZ\\xc5?D\\x88\\xba\\x8c]$\\xf7e\\xb2\\xb4Dw\\xa94\\x86\\x97(\\x91\\x9br\\xfc\\xfa\\xb3=\\xc4\\x84#7\\xc3\\x9c\\x97\\\\P{\\x97s\\x18\\xc7\\x98\\xf3\\xcf\\x04\\xf8\\xae\\x89G\\xbe\\xf6J7\\xdd\\xba\\xc0\\x07\\xac\\x1b\\x03\\xc6\\xcbo{5\\xee\\xa1\\xba\\xd8\\xb5q\\xf1\\xf5\\x11\\x19h\\xc2\\xd0\\xb0JhT\\x9c\\xe5\\xa56\\xd0duZ\\xfcn\\xe1\\x02\\x97\\xd7\\x10<Cc\\xb4\\x1d\\\\\\x85h\\x95\\xa3\\xb6\\x8c\\x9a(Fc\\x1d\\xe8n\\x0bw\\t\\x19!m\\x04\\xb7YQ\\xea;\\xb4q\\x0f\\xcb\\nXj\\xfaO+a\\xbba6\\x1a\\xbev?\\x13\\x8a(\\x99\\x81+uF2h<\\x18e:\\x1e\\xa6\\x02U\\xf2\\xa1\\xcfb\\xb6s^\\xb0\\x04<\\xab*E\\x87\\xa4\\x8a\\x0c\\x9b,\\x90L\\x0b\\xa9\\x9f\\xc7\\xb3[\\xa2\\\\\\x0fuC\\x0el\\x04NwG2H\\x84_\\xb9R\\x1d\\x0b\\xb3J46s=\\xc7z\\xfb\\xf4\\x13}\\xbc\\x99T\\x9c\\xae\\xc3\\x10\\x93\\xc8\\xf0\\x1f5\\\\1\\xdc\\xa2<\\x8b\\xea\\xa4\\x86Z{>\\xc1\\'\\xda\\xf7\\xcfDIe\\x88\\x14\\xbc\\xaf\\x07\\x97;a\\xac\\xc2\\xc1>\\xe2\\xda\\x91g1A\\x1f\\xe7 0Rmhc|\"i\\x99\\xdb\\\\\\xc3\\xc6\\xbb0\\xaa\\xc4N\\xe9\\xc3!E\\x87;r\\x83\\xb4\\xc8\\x11`\\xa5\\x97\\'Y`\\xad\\xc6(\\x93j\\xc7=\\xc6bj\\xfe\\x15\\xae\\xdak/\\x0eD\\x15\\x95\\xd3\\xa4|\\xec\\x03\\xb0+d\\xdd\\x0c\\xb7\\xe4r\\xa8\\xfb\\xc5C<\\xc7|+\\x80e{(y2\\xb0\\x1f\\xae\\xc0\\xc2c\\x82\\x08\\xc0\\x17^\\r3\\x98\\x85@\\xb5\\xf8\\x1b\\xbe\\x87\\xd8\\xc4J\\xf1H\\x0c\\xd7\\xcc\\x99l\\x06\\xa7\\xc4\\x8f\\xeb7\\xcduz<\\xc6\\x19n\\x0b&W\\xa3\\x14\\x04\\x06\\xe3o\\r\\x83\\xb4\\xf3|c7U\\x05\\xd7\\xc2\\x16)B\\xa1LCM\\xd1\\xf9i%\\t\\x8d7\\x02\\xbc\\x1e\\xf8\\x13\\xa6\\xfa\\x7fVJCf\\x13\\xa9v\\xf9t$\\x00~\\xd3Y\\xa5az&J\\xc1\\x18{\\xf0\\x0b\\xc0XM\\xae\\xd7\\xc0\\xdd\\xd9a0\\n|-\\xfbu\\xb6j\\x1d\\xa3\\x96$\\xa4\\xc8\\x077\\x03\"\\x1f\\xfa\\x7f\\x93\\xa4\\x17IFA\\x7f\\x8c\\xc9_Yl\\x8e7n\\xb86\\xc1\\xa73\\x82\\x1b\\x17\\x82 \\x9a~\\x7fc\\xc5\\xe0IOz\\xd6\\xa7uE\\x9b\\xb3*\\x81\\xe4H*b\\x11\\xc8\\x98\\x99\\x92\\xd5\\xbaq\\\\L\\x81\\xef\\xeb>Cs(\\xda2\\xa7=#@_\\xf5J\"\\xf4oL\\x8c\\xb3\\x9e\\x92\\xb9\\x8b\\x04N\\xfa\\xa9\\xc0\\xef\\xdah\\x02\\x94SE\\xe4O!:\\xa6\\x7f\\xe2\\x19\\xb9\\xd6\\x8d+;\\xbb\\xc7\\x00\\x14d9=\\xc9F\\xc0\\xb9\\x80!\\xb4\\x90MR\\xd4t\\x08\\xf2)tHB\\xdbX\\x83\\x9a\\xd0\\xc9Y{\\x02%\\xc19\\xae\\xa4\\x83\\xfe*`\\xcf\\x92<\\xaf\\xdb\\x89\\x13\\x07\\x8cP\\x9b\\xcd\\x82\\x99\\xb6\\xcb<\\x01.\\xe7o\\x8d\\xbcm\\xb4\\x89F\\x00\\xa6\\x98\\tq9\\x1c%\"\\x81Q\\x95\\xb9\\x1c:\\x99\\nw\\xfa8q\\xd2\\xb3O\\x1a4^\\x840yk\\xd8\\x8d\\xed\\xacKn\\xa0\\x14\\xaeC\\xbb x\\x8fc\\xa1\\x1cj\\x88\\x8b\\xb8\\xb5\\xb8\\x87gD\\xf0\\xe5\\x19\\xd67\\x98$\\x0b0F\\x85\\x1a\\xf3\\xfa\\xb0\\xb6\\x05c\\xd9GC}\\xc0%V\\x8b\\x9f\\xdd\\xd4?v\\xab/3@\\x99\\xa4\\x005\\xfd#\\xaa\\x06\\x85\\xa5\\xb3glc\\x1a5\\xf8\\x1a31:\\x01je\\xa6oF\\xad@V{Y\\x11\\xb4\\xf0@nRLW\\xd8\\xb4\\x7fF\\xc4)\\x9f\\xfb\\\\v`\\x1a\\xeb%\\xc2\\xda\\x16\\xb3\\x1eA\\x84\\xa0\\xbc-UCI\\x88\\xa2V69\\x0b;\\xb6\\xafO\\xb8\\xa1\\xa8\\xe4\\x1b\\x08\\xe9\\x01zU[\\xf6\\xe0\\x98\\x85g\\xcb\\xab\\x98\\x8b\\xcbp\\xcf\\xf0\\x13\\x91I\\xc9\\x91`\\xd3f\\xddq\\x1d\\x81\\xfc\\x10\\xfa\\x0b_\\xcf\\x19m% )\\x11J\\x08\\xb6\\x98\\x91\\xe8\\xa0iGV1\\xb6\\x9a.i\\x8a\\x0b\\xf0\\xbbF\\x97@\\xa1x\\xb1}:\\xf2Fn\\xe0\\r\\xc5{\\x1bCV\\xa8\\xf4\\xea*\\xdd\\x03J\\x9a\\x1b)\\x8b\\\\\\x02\\xdf\\x04j|\\x0b\\x99\\x1b\\xf0\\x18\\x02\\xf3a=\\xa8\\xcb\\xee\\x88P\\xe8ja\\xa2\\x89\\x1fE\\x08\\x00\\xaa\\x8bh,9p^\\xa6\\x93ak\\xab\\xbd&\\x1f:2yG\\xe9\\x82_\\x80<4*\\xaa\\xe20\\x18\\x98\\xa8oy\\xfb\\xc2D\\xfaw\\xfe\\x016tY\\x1d\\x87\\xb1[rr\\x13\\x87\\x07\\x8f\\x1d\\x05\\xb4\\x82\\x8cw\\x9e\\x8bVR\\xf5.R\\x81t>I\\x0b\\xd2t\\xb4\\xbc\\x84\\x9d\\x8aI\\x18SF\\x8ad\\xf0gC\\x16Odkt\\xed\\xdc]\\xbb\\xa4\\x1f?G\\x11T\\x0b\\x8d\\xafC\\xca\\xe9U,@1#\\xdc!\\xc7T\\x02b\\x8f\\xc6\\x01#\\x0ch}\\x0bM\\xea4\\xa1\\x88\\x16\\xbb\\xbc5^\\x90\\xc3 \\xf3\\xeb+\\x18\\x12\\x14\\x86\\xf2\\xb3\\xb0\\x1bh\\xffV\\xbb\\xb1Lm\\x1a\\x9a\\x9f#\\xec\\xc0A\\xc8\\x83\\xa1aI\\xeevC-\\x8cQ#T\\x04\\xdeT\\xa3\\xe2\\x17)\\x0e\\x08k\\x98&\\xcc6a\\x83X\\x9c\\x06\\xb1\\x06\\xa9\\x14\\xd7$\\x81\\xa9S\\xc6\\x07\\x8b\\xa8\\x06\\xb4V,n#t\\xbdP\\x15\\xcc\\x8a\\xb2U\\ng\\xa4\\xeaD\\x13\\xab\\xaa\\xcd$@@a\\x94*\\x10\\x15-\\xa2!N[\\xa3\\xbd\\xd4Z\\xcf\\x10[\\x8d\\xd2\\x06\\x93\\xa50\\x83\\xe0(\\xa6\\x9d\\x0bmp\\xd0\\x82\\x87\\x85\\x19\\xe2\\xc8\\x887\\xd7$,\\x8a)M\\x0c\\x1aC\\xa2D\\x94\\xd6\\x92\\xc7\\xa1t\\x18\"\\x0b\\x8b\\xb1\\xbeNJE\\xadf\\x10\\xd7\\x19\\x93\\x14\\x13\\xb5N;E\\xf5\\xc5D\\xca\"\\x96\\xc8LU\\x1a\\xa2\\x0c\\xff%p\\r\\x03\\xb6\\xf2\\x94PE\\x9c*\\r\\xe8\\x8dA\\xab\\xa2\\x05r<\\xa6:3\\xe4\\xe7jQQ\\xc0\\x80\\x88\\x82\\xf1+\\x1d+\\xa54\\x81lkT\\x9cP\\xc0YHE\\x08\\xb8Z\\xca\\x93\\xbdb\\x94<\\xc3\\x13\\xacK\\x8d\\x82\\xdb\\x0b\\xaf(\\t\\x84\\xd6l#\\x81:\\x1d\\xcbM\\x15\\x80k5\\x06s\\xf0L\\xc0\\xb1\\xc6B^\\xb9H\\xdbq \\xd3z\\xb3_\\x97\\xbb>Ae\\xae+d\\x1f;U\\xf0\\xf4a\\xbd2C\\x19&5\\xf5\\x92\\x7f\\x17\\xb0v\\xa7\\x96\\x94\\x1f\\xc0i\\xfet.\\xa7\\xc7gd\\x9c\\xb0hy\\x1ak+\\x99w\\xa0\\x03\\x8ewwyH\\xcf\\xcc\\xf4\\x07\\xd5\\x95\\xc9\\xf5Gzg\\xa5\\x96\\xb7\\x11.*\\x95G\\x8b\\xda#\\xee,\\xc0\\xa5ju9\\xac\\x00\\x97\\xb4\\x0b\\x9aj\\x91;e\\x9fX\\xd2\\x85\\xfd\\x93O\\xe0\\x8c\\x0e\\xc7\\xda<\\x17\\x93\\x9e\\x8cc\\x98\\xc2\\xe2=\\xb2\\xb1,\\x83\\xa6\\xab\\x97Hd\\xf8\\xc6\\xbe9E\\x1b\\xe9<\\xc3\\x8a\\xe0Zh\\xfa\\xad+r\\xc9uCh\\xd9\\xb5\\x91{\\xda\\x0b\\xfc\\xfb\\xc4\\xe7\\xd2\\x9eg\\x17\\xaa\\xfd\\xb1\\x00\\xb6tK\\xce\\x95\\xb9p\\xf5*\\x97\\x80\\xc1\\xe5\\xe6\\xbf\\x15\\x94\\x1e5\\xc0R\\xd1\\x02z\\xcb\\x94\\xcdd\\x9cM/\\x0c\\xa7\\xb6\\x0b\\xb7\\xe2d\\x8b\\xc7\\\\}\\x14\\ne\\xd4h\\xc9\\x03\\xb5\\xc7\\xa1\\xe2\\x18\\x8f\\xdb\\xcc\\xc2\\x94g7BR|t\\xb7\\xc9\\xd4\\x17z\\x17P\\x9fV\\xac<\\xb3\\x1d\\xf05\\x95\\x01aoe\\x8c\\x85\\xa8\\x19\\x80b\\xeb\\x94\\xca\\xb6\\xcc+s2\\x9d\\x13h\\xb0\\t=ew\\x95\\x04\\xd9:c\\xd3~}C\\xa2\\xf1\\xd4{d\\xb94#\\x0b\\xb1\\xc6\\xf9=x\\xc0\\x82\\xa0c\\x8e\\xabu\\xba\\xac\\t\\x10\\x08\\xf5[\\xe0$<\\x05\\x81\\xaf\\xd8q\\xc6\\xed\\x8cn\\xb5&\\x7fc\\xc9G\\xd3q\\x15\\xf5\\x0b\\xcc\\xd8\\xe3\\x96\\x84\\xc0\\xca\\x891\\x87h\\x17w\\x8c\\xe0&g\\xd4a\\xd7\\xfb\\x10Q\\xf6f9\\x17!\\xe7!\\xaa\\xc6\"\\x00\\x19\\x1bO\\xfdy\\x84\\x98\\xda\\xbbD\\xf3_\\xbdv\\xc5\\xcd\\x99na@\\x8cX8\\x91\\xd99\\xbf\\x00|Q\\xf7\\x95BL\\n\\xb6~i\\x85a\\xa1*\\x0b\\xd4\\'N\\x95L\\xdd\\xb9t\\x97\\xb9\\xae\\xe97=\\xe9\\xa5e\\xa8\\xc3j\\x1f{GE\\xeaQ\\xc8\\xe2\\x92!0\\xc7\\x98#Ym\\xc06f`*gK\\x13\\x01Y\\x18\\r*\\x86#\\xb6\\x9a>\\xc0\\x104\\x98kqZ\\t\\xdfQu7I\\n\\xfa\\xd3\\x97K\\x1c1\\xbd\\xf2\\x07G\\x860\\xd9\\xf8\\xb7\\xde\\xab\\x18\\x01\\x96\\t\\xad\\xc1)k\"\\xba`Q-@\\xf0\\xb7.\\x97S\\x8f\\x97\\xcbhy\\x8ff\\x97Y\\x06\\x95\\xc1m\\x0c\\xaa\\x08HF\\xb8J\\x14k\\xb8\\x10\\xa4\\xe6\\x00\\xa0\\xa1\\x94\\xaa03[\\x0c\\x9f\\xa7s\\x9a\\x05\\x93(=\\xa6\\x06xL\\x81\\x85\\x08\\x9a3\\xea{\\xcek\\xcb\\xe3\\xaa!G\\xb1\\xc3#\\xa7}\\xd6Iv\\xd0\\xb7#~\\x048\\x00\\xfb\\xbb\\xe5\\x96\\x0c\\xb7\\xba\\x05\\x96\\x11\\x8c\\xf7\\xa5\\x90\\xebdW`po\\x91%\\xa1\\xf0\\xb9_\\xa4x=\\\\\\xcbz\\xa6\\x996\\xe8Q\\x94\\xd2\\xa4jMu\\xc1g\\x15K\\xbfd\\xb12\\x95\\x01*F\\x83\\xb4\\xf0n@&7\\xd4\\xe1\\xce\\xfb\\xf2\\x96\\xb9\\x1a\\xa8O\\x88\\xc0\\xa1\\nA\\xf5\\xfaOR\\x93n\\xad\\x1c\\xc1j\\xf5\\xc5\\x82K\\x1d\\xa2`\\xcfxG\\xa1\\xeff\\x8c\\x1e\\xfc\\x03\\xe0`E\\xf56\\x96clt\\xcc@\\xfcq\\xf4\\xcd}sc\\t\\xb40h\\x82\\x1as\\xe1F\\x17\\xebd\\xc4\\x88F\\x8b\\xb7@@\\x1d\\xcb\\xb4{\\xcd\\x14(R\\xa97#\\xce\\xfa\\xf8\\xaa\\xf7\\xc6\\xbfH`@Q\\xe1\\x95\\x85\\xbe\\x1e\\xf2\\xbe\\xeef\\xc5OM\\xdc\\xb14\\xc5\\xbb\\x00\\xe9\\x15\\xa8\\xc2|\\r\\xd4L\\xee\\xc7x\\xf0\\xd5\\x988\\xf7xN)\\xad6\\xdf>\\xce\\x92O\\xb1!'\n",
      "K: b'*\\xfd!\\xd2}\\x0c\\x97\\r\\x8e\\xb7~\\x03\\xd5\\x80\\x04\\xae\\x03\\xfc\\xba\\x07\\x87\\xbb\\x9e\\x92\\x9d\\x8e\\xee\\x08@\\x02\\xce?'\n",
      "c: b'\\xa2\\xfbz\\xee\\xde\\xd3\\xfb\\x0e\\xfch6\\x1b.\\xfa\\xb4r\\x13\\xe7\\xe9\\xce$\\xc4\\xceT\\x8f\\xb1\\xa5\\x8c\\\\\\x05\\xe5e/i\\xec\\xfaL\\xe7\\n\\xe6z\\xc7\\x03\\x8f\\xc7\\xdf\\xca\\x8c\\xafQ\\xf7\\xcb\\xba\\x1f!\\x8a)\\x9b|\\xcaNN4\\x1ek\\x07\\xc4f\\xe2\\xa8:\\x19p\\xc2\\xab<b\\xc8\\xc4J\\x1e\\x9d\\xab\\xcc\\xeay\\x98\\xf7}\\xb4\\xdc\\xbd\\xe9\\xcd\\xd7)\\x1e\\t:\\xf2\\x06DP6\\xfc\\x94A\\xfapD\\x9d\\x11&\\x96\\x10m\\x03\\x1c@\\x14\\x87\\x9c\\xcb\\xb9\\x08\\x10\\xb2\\x01\\x89-;\\xafkQ\\xd1UNJ\\xd5\\x87\\xb3\\xbb\\\\y\\x87\\x13\\xd0]\\x89\\x9329\\x9aI\\xb6\\xe3\\xab\\\\\\x02s-\\x15>\\xb3\\xeb\\xd0\\xe0\\x8e\\xc9\\x12\\xd9_\\xcc\\xc0wN\\xd7eZ*>\\xb1\\xfb\\xf0\\x9a\\xdb\\x83~\\xac\\x0en\\x05Zc\\xadB\\x9a\\x1e\\xf4\\x9e\\xc90\\xc7\\xcey)\\xfbS\"j\\xb9\\x1f\\xb8\\xbb\\x85\\xaaN\\xba\\x9c\\xbax\\x92u\\x05\\xb8\\x9e\\xa36)v>T\\xd9\\x1e\\xd3\\x92\\x0b%\\x03O\\x96\\xfa{\\x80\\xb0\\xdb\\xbb\\x9a\\xcb\\xb1\\x10\\x80\\xd1\\x7fW=\\x8d\\xa3\\x84g\\xa4\\x19\\xf5\\x8d\\xb7*\\xb7\\x93a\\x96\\xd3\\xf6\\xd3\\xca\\xddw\\xe2Y\\x07\\x16Z@0\\xcc\\xcf\\xf8\\xc9B4I\\xa0\\x9f\\x13\\xb1/\\xa3\\xdb\\xa7\\x19)\\x08\\x8f\\x02\\xce4;V\\xe5o8\\x03@C\\xef\\x15\\xcc\\xb3?u\\xd1w\\xdbk!\\xd8\\xa3\\xaa\\xb0\\xed\\xb7z\\x97uU(\\xcf\\x03\\x8a\\xb61u\\xd1\\xd3D\\xf7\\xf8\\xe9GL_D\\xd8\\xc4\\x1e\\x8du/\\x9c\\xd0\\xbd\\x05\\r[\\x1br\\t\\x97\\x88}!v\\x10\\xf8\\xb0b:;\\x9fK_\\xf5\\xebe~\\x85e.\\xdc\\xa3\\x8fD\\xeeI\\xb4\\xd0\\r\\x8f-\\x84<\\xe1]\\xaaB%\\x84\\xd3yq\\xa1\\xb742d !4\\xc0\\x94\\x99\\xff\\x17\\xdd\\xf0\\xda\\xaa\\x06\\x1d\\\\\\xfd\\x0c\\xa7\\xb4\\x0e16\\xd1e\\xb1\\xec\\xb5:\\x94\\x8c#\\xe7\\xd3\\x11\\x1djb\\x95\\x83\\x1eYf\\xe9P\\xe1H{\\x9cC\\xd8\\xa7(5\\x94y\\t<`\\xb8\\x00\\xd2{\\x96\\x1e\\\\}3$\\xb4\\xbbQW\\xe9mS\\xa9\\x0elAmg7\\xeb\\xec)\\x1c\"\\xd0#\\x82\\xe3\\xfc\\xb7}(`z\\x88\\x16\\x14\\xd5\\xf3:\\xa4\\x17\\x05\\x80q\\xac\\xb0\\xac\\xbe\\xe5#\\xc6\\xf9\\xcdB\\x06^E\\xaa\\xf3\\x17\\xa9A\\xba\\xa1\\xb5\\x8d\\x11j\\xa87\\x16\\x8f\\x03:V\\x13\\xd3(\\x84\\x01\\xfb&\\x1a\\x1ek\\\\\\x88r\\x8b\\x1e\\xd8\\xbcJEB\\xb0\\xe8\\xe3\\x98c0!\\x88\\xcc\\xda!\\x8f\\xf2\\x92\\x16\\xa0\\xb2\\xfaa\\xc9\\xd1\\xb8\\x9cU@\\x07\\x11P\\xfd\\x07\"\\x9cC\\t\\xdd<Rm\\x7f \\xf6A\\xd7\"{\\xbd\\xd7hl~\\x9d\\x02\\x08\\r\\xd6\\xe5\\xf7\\xbc\\xd1>\\x07$t<k*d\\x0bH\\xfa\\xe7A\\xd3_6\\xb2\\x87\\xa1e\\x9d\\xd9\\xcf{\\xb8\\xc5\\x1d\\x14\\xb6\\x9a\\x82q\\x1d\\xb6\\n\\xd4\\x16\\xa6U\\xe5\\xd2\\x00\\x95\\x15\\x99 ,t\\xc3%\\xcfeY\\xa0\\x8c\\\\!\\xec$\\xec\\xe8S\\x99O\\xa6\\x91n\\xbe\\xf0M[N\\xc9\\xa72\\xb6O\\xbc\\xb8\\x07\\xe3R\\x84\\xf8Rz\\x90Vo1\\xb8\\x13\\xa8\\xacg\\xc2d&\\xae\"h|V,>\\x15\\xd8\\xee\\xd3\\xaf\\x81\\x04\\xbe{\\x92$\\xc8\\xdf\\x9c\\x07\\x1f\\x12\\x9c\\xd0t\\xf3\\xec\\x06X\\xdeS\\x8e\\xe8\\n)zZ\\xed\\x80\\xc1\\xc8\\x99O\\x84 \\xc8\\x93K\\xa93\\x97\\xd7M\\x80a\\xd4j\\xeb\\xd7Z\\x89\\x94W\\xeb\\x9b\\xact\\xe9\\xa6\\xa0_\\xde\\xd7k\\xc0\\xc4\\xa5\\x902\\xf5y\\xdc\\x9e\\x98o\\xc4?\\x9b\\x14\\xe2S\\xaf\\xd8\\x9b>l\\xc9U\\x86\\x89Y\\xce.\\xf8w\\xac\\xb6\\x0b/\\xd3_ES\\xba\\xd8\\xb2\\xdc\\x7f\\x13\\xf2\\x07Q\\x8e\\xa5f\\xc5!\\xe5z,\\x9b\\xc3Of\\xd6\\xa7\\x84\\xae\\x1e\\x08\\xdd\\xd3C\\r\\xdcy\\x1f\\xb2P\\x92O\\\\I\\xef,\\xbc\\xef%4\\xf3d\\x92\\r~\\x12\\x9e,\\xef(tsx\\x87|\\xcf\\x1b&W\\x04\\xd3\\x0fC\\xd4\\xfa\\xa1\\x8bv\\x0b\\xa4\\xe1\\xc9\\xa7\\xaf\\xe9S\\xe1\"\\x13{\\xb6\\xbf<\\xd8\\xff\\xcf+Dh\\xa2\\xee\\x08\\xe2H,7\\xd3\\x0e\\x93P\\x94w\\r\\xcb@E\\x95<\\xc7\\x9bz\"\\x1b\"\\x13\\xa7\\xf3l\\xcdr+\\n\"\\x0c[,iE\\xc3\\xb5\\x0e\\x83\\x9a\\xa3\\x9eC#\\xbe.\\xb2I\\xb7%9\\x1c\\x17/\\xc2Ca5\\x91u\\x85h\\xbd\\xc6\\x08\\x84\\xc8tU@\\xdfI\\xa2\\x0c@\\xdaP\\x10S\\xf6Z\\xa5\\xe1*\\xe9\\xaf0\\x97}0W\\x15\\xfa\\xe3o\\xad\\x8f_s(+p``3\\x95\\nP\\xce\\xfa\\xee\\xd2\\x15\\xc0!\\x90\\xd4>\\xf6\\xe7\\x95\\x80\\x9bw\\xe2~\\x01jY\\x1e?\\xfc(\\x96\\xcf<\\xfc\\xebEP\\xa3Y\\xe6\\xff'\n"
     ]
    }
   ],
   "source": [
    "rand = os.urandom(32)\n",
    "#message = b'Este e um exemplo de mensagem !!'\n",
    "#ek_PKE, dk_PKE = k_pke_keygen()\n",
    "#  \n",
    "#print('message:', message)\n",
    "#cipher = k_pke_encrypt(ek_PKE, message, rand,k_val,eta1,eta2)\n",
    "#print(cipher)\n",
    "# \n",
    "#message2 = k_pke_decrypt(dk_PKE, cipher, k_val)\n",
    "#print('message:', message2)\n",
    "\n",
    "ek, dk = ml_kem_keygen()\n",
    "print('ek:', ek)\n",
    "print('dk:', dk)\n",
    "\n",
    "K, c = ml_kem_encaps(ek)\n",
    "print('K:', K)\n",
    "print('c:', c)\n",
    "\n",
    "Kl = ml_kem_decaps(c, dk)"
   ]
  }
 ],
 "metadata": {
  "kernelspec": {
   "display_name": "SageMath 10.2",
   "language": "sage",
   "name": "sagemath"
  },
  "language_info": {
   "codemirror_mode": {
    "name": "ipython",
    "version": 3
   },
   "file_extension": ".py",
   "mimetype": "text/x-python",
   "name": "python",
   "nbconvert_exporter": "python",
   "pygments_lexer": "ipython3",
   "version": "3.9.19"
  }
 },
 "nbformat": 4,
 "nbformat_minor": 2
}
