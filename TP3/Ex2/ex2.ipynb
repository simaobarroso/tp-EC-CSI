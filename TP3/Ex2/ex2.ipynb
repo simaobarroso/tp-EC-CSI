{
 "cells": [
  {
   "cell_type": "markdown",
   "metadata": {},
   "source": [
    "# Estruturas Cripográficas - Criptografia e Segurança da Informação\n",
    "\n",
    "## TP3 - Exercício 2 - KEM\n",
    "\n",
    "Tratalho realizado por:\n",
    "\n",
    "| Número     | Nome                          |\n",
    "|--------|-------------------------------|\n",
    "| PG54177| Ricardo Alves Oliveira        |\n",
    "| PG54236| Simão Oliveira Alvim Barroso  |"
   ]
  },
  {
   "cell_type": "markdown",
   "metadata": {},
   "source": [
    "### Enunciado\n",
    "\n",
    "2. Em Agosto de 2023 a NIST publicou um draf da [norma FIPS203](https://www.dropbox.com/scl/fo/vllnz60fnd4payrkllm1d/h?rlkey=4z7418pn17qcgmx97etxepvzo&e=1&dl=0)  para um Key Encapsulation Mechanism (KEM) derivado dos algoritmos [KYBER](https://www.dropbox.com/scl/fo/y2i97mufz371tmz0orc40/h?rlkey=ffhdgacrx5wb4jsjb84kugclq&e=1&dl=0). \n",
    "    O preâmbulo do “draft” \n",
    "> A key-encapsulation mechanism (or KEM) is a set of algorithms that, under certain conditions, can be used by two parties to establish a shared secret key over a public channel. A shared secret key that is securely established using a KEM can then be used with symmetric-key cryptographic algorithms to perform basic tasks in secure communications, such as encryption and authentication. This standard specifes a key-encapsulation mechanism called ML-KEM. The security of ML-KEM is related to the computational difficulty of the so-called MoDUle Learning with Errorsproblem. At present, ML-KEM is believed to be secure even against adversaries who possess a quantum computer\n",
    "\n",
    "\n",
    "Neste trabalho pretende-se implementar em Sagemath um protótipo deste standard parametrizado de acordo com as variantes sugeridas na norma (512, 768 e 1024 bits de segurança)\n"
   ]
  },
  {
   "cell_type": "markdown",
   "metadata": {},
   "source": [
    "### Imports "
   ]
  },
  {
   "cell_type": "code",
   "execution_count": 82,
   "metadata": {},
   "outputs": [],
   "source": [
    "import hashlib, os\n",
    "from functools import reduce"
   ]
  },
  {
   "cell_type": "markdown",
   "metadata": {},
   "source": [
    "### Inicialização\n",
    "\n",
    "Dependendo das variantes sugeridas na norma, existem diferentes valores para os diferentes parâmetros, como vemos na seguinte imagem retirada da norma FIPS203: \n",
    "\n",
    "![valores da imagens](./images/values.png)"
   ]
  },
  {
   "cell_type": "code",
   "execution_count": 83,
   "metadata": {},
   "outputs": [
    {
     "name": "stdout",
     "output_type": "stream",
     "text": [
      "ML-KEM-768 \n"
     ]
    }
   ],
   "source": [
    "sec_bits = int(input(\"n value: \"))\n",
    "\n",
    "assert sec_bits in [512,768,1024], \"n must be 512, 768 or 1024\"\n",
    "\n",
    "N = 256\n",
    "Q = 3329 \n",
    "\n",
    "if sec_bits == 512:\n",
    "    k_val=2\n",
    "    eta1=3 \n",
    "    eta2=2\n",
    "    DU=10\n",
    "    DV=5\n",
    "    \n",
    "elif sec_bits == 768:\n",
    "    k_val=3\n",
    "    eta1=2 \n",
    "    eta2=2\n",
    "    DU=10\n",
    "    DV=4\n",
    "\n",
    "elif sec_bits == 1024:\n",
    "    k_val=4\n",
    "    eta1=2 \n",
    "    eta2=2\n",
    "    DU=11\n",
    "    DV=5\n",
    "\n",
    "print(f\"ML-KEM-{sec_bits} \")"
   ]
  },
  {
   "cell_type": "markdown",
   "metadata": {},
   "source": [
    "O algoritmo ML-KEM é composto por 3 algoritmos:\n",
    "1. Key generation (ML-KEM.KeyGen)\n",
    "2. Encapsulation (ML-KEM.Encaps)\n",
    "3. Decapsulation (ML-KEM.Decaps)\n",
    "\n",
    "Cada um desses algoritmos é compostos por diferentes sub-algoritmos, que são descritos na norma FIPS203. Ao longo das seguintes células vamos implementar cada um desses algoritmos.\n",
    "\n",
    "![algoritmos](./images/algos.png)"
   ]
  },
  {
   "cell_type": "markdown",
   "metadata": {},
   "source": [
    "Nestas celulas em baixo temos alguns algoritmos auxiliares aos algoritmos utilizado no ML-KEM.\n"
   ]
  },
  {
   "cell_type": "code",
   "execution_count": 84,
   "metadata": {},
   "outputs": [],
   "source": [
    "\n",
    "def bit_rev_7(r):\n",
    "    return int('{:07b}'.format(r)[::-1], 2)\n",
    "\n",
    "def G(c):\n",
    "    G_result = hashlib.sha3_512(c).digest()\n",
    "    return G_result[:32], G_result[32:]\n",
    "\n",
    "\n",
    "def H(c):\n",
    "    return hashlib.sha3_256(c).digest()\n",
    "\n",
    "\n",
    "def J(s, l):\n",
    "    return hashlib.shake_256(s).digest(l)\n",
    "\n",
    "\n",
    "def XOF(rho, i, j):\n",
    "    return hashlib.shake_128(rho + bytes([i]) + bytes([j])).digest(1536)\n",
    "\n",
    "def PRF(eta, s, b):\n",
    "    return hashlib.shake_256(s + b).digest(64 * eta)\n",
    "\n",
    "ZETA = [pow(17, bit_rev_7(k), Q) for k in range(128)]\n",
    "GAMMA = [pow(17, 2 * bit_rev_7(k) + 1, Q) for k in range(128)]"
   ]
  },
  {
   "cell_type": "markdown",
   "metadata": {},
   "source": [
    "Temos aqui em baixo a codificação dos algoritmos 2,3,4 e 5 presentes na lista de algoritmos que está presente no FIPS 203."
   ]
  },
  {
   "cell_type": "code",
   "execution_count": 85,
   "metadata": {},
   "outputs": [],
   "source": [
    "\n",
    "def bits_to_bytes(b):\n",
    "    B = bytearray([0] * (len(b) // 8))\n",
    "    \n",
    "    for i in range(len(b)):\n",
    "        B[i // 8] += b[i] * 2 ** (i % 8)\n",
    "    \n",
    "    return bytes(B)\n",
    "\n",
    "\n",
    "def bytes_to_bits(B):\n",
    "    B_list = list(B)\n",
    "    b = [0] * (len(B_list) * 8)\n",
    "    \n",
    "    for i in range(len(B_list)):\n",
    "        for j in range(8):\n",
    "            b[8 * i + j] = B_list[i] % 2\n",
    "            B_list[i] //= 2\n",
    "\n",
    "    return b\n",
    "\n",
    "\n",
    "def byte_encode(d, F):\n",
    "    b = [0] * (256 * d)\n",
    "    for i in range(256):\n",
    "        a = F[i]\n",
    "        for j in range(d):\n",
    "            b[i * d + j] = a % 2\n",
    "            a = (a - b[i * d + j]) // 2\n",
    "    \n",
    "    return bits_to_bytes(b)\n",
    "\n",
    "\n",
    "def byte_decode(d, B):\n",
    "    m = 2 ** d if d < 12 else Q\n",
    "    b = bytes_to_bits(B)\n",
    "    F = [0] * 256\n",
    "    for i in range(256):\n",
    "        F[i] = sum(b[i * d + j] * (2 ** j) % m for j in range(d))\n",
    "    \n",
    "    return F"
   ]
  },
  {
   "cell_type": "markdown",
   "metadata": {},
   "source": [
    "Temos aqui em baixo a codificação dos algoritmos 6 e 7 presentes na lista de algoritmos que está presente no FIPS 203."
   ]
  },
  {
   "cell_type": "code",
   "execution_count": 86,
   "metadata": {},
   "outputs": [],
   "source": [
    "def sample_ntt(B):\n",
    "    i, j = 0, 0\n",
    "    ac = [0] * 256\n",
    "\n",
    "    while j < 256:\n",
    "        d1 = B[i] + 256 * (B[i + 1] % 16)\n",
    "        d2 = (B[i + 1] // 16) + 16 * B[i + 2]\n",
    "\n",
    "        if d1 < Q:\n",
    "            ac[j] = d1\n",
    "            j += 1\n",
    "\n",
    "        if d2 < Q and j < 256:\n",
    "            ac[j] = d2\n",
    "            j += 1\n",
    "            \n",
    "        i += 3\n",
    "\n",
    "    return ac\n",
    "\n",
    "\n",
    "def sample_poly_cbd(B, eta):\n",
    "    b = bytes_to_bits(B)\n",
    "    f = [0] * 256\n",
    "    \n",
    "    for i in range(256):\n",
    "        x = sum(b[2 * i * eta + j] for j in range(eta))\n",
    "        y = sum(b[2 * i * eta + eta + j] for j in range(eta))\n",
    "        f[i] = (x - y) % Q\n",
    "\n",
    "    return f\n"
   ]
  },
  {
   "cell_type": "markdown",
   "metadata": {},
   "source": [
    "Temos aqui em baixo a codificação dos algoritmos 8, 9, 10 e 11 presentes na lista de algoritmos que está presente no FIPS 203."
   ]
  },
  {
   "cell_type": "code",
   "execution_count": 87,
   "metadata": {},
   "outputs": [],
   "source": [
    "def ntt(f):\n",
    "    fc = f\n",
    "    k = 1\n",
    "    len = 128\n",
    "\n",
    "    while len >= 2:\n",
    "        start = 0\n",
    "        while start < 256:\n",
    "            zeta = ZETA[k]\n",
    "            k += 1\n",
    "            for j in range(start, start + len):\n",
    "                t = (zeta * fc[j + len]) % Q\n",
    "                fc[j + len] = (fc[j] - t) % Q\n",
    "                fc[j] = (fc[j] + t) % Q\n",
    "\n",
    "            start += 2 * len\n",
    "            \n",
    "        len //= 2\n",
    "\n",
    "    return fc\n",
    "\n",
    "\n",
    "def ntt_inv(fc):\n",
    "    f = fc\n",
    "    k = 127\n",
    "    len = 2\n",
    "    while len <= 128:\n",
    "        start = 0\n",
    "        while start < 256:\n",
    "            zeta = ZETA[k]\n",
    "            k -= 1\n",
    "            for j in range(start, start + len):\n",
    "                t = f[j]\n",
    "                f[j] = (t + f[j + len]) % Q\n",
    "                f[j + len] = (zeta * (f[j + len] - t)) % Q\n",
    "\n",
    "            start += 2 * len\n",
    "\n",
    "        len *= 2\n",
    "\n",
    "    return [(felem * 3303) % Q for felem in f]\n",
    "\n",
    "\n",
    "def base_case_multiply(a0, a1, b0, b1, gamma):\n",
    "    c0 = a0 * b0 + a1 * b1 * gamma\n",
    "    c1 = a0 * b1 + a1 * b0\n",
    "\n",
    "    return c0, c1\n",
    "\n",
    "\n",
    "def multiply_ntt_s(fc, gc):\n",
    "    hc = [0] * 256\n",
    "    for i in range(128):\n",
    "        hc[2 * i], hc[2 * i + 1] = base_case_multiply(fc[2 * i], fc[2 * i + 1], gc[2 * i], gc[2 * i + 1], GAMMA[i])\n",
    "    \n",
    "    return hc"
   ]
  },
  {
   "cell_type": "code",
   "execution_count": 88,
   "metadata": {},
   "outputs": [],
   "source": [
    "def vector_add(ac, bc):\n",
    "\treturn [(x + y) % Q for x, y in zip(ac, bc)]\n",
    "\n",
    "def vector_sub(ac, bc):\n",
    "\treturn [(x - y) % Q for x, y in zip(ac, bc)]\n"
   ]
  },
  {
   "cell_type": "markdown",
   "metadata": {},
   "source": []
  },
  {
   "cell_type": "code",
   "execution_count": 89,
   "metadata": {},
   "outputs": [],
   "source": [
    "def k_pke_keygen(k, eta1):\n",
    "    d = os.urandom(32)\n",
    "    rho, sigma = G(d)\n",
    "    N = 0\n",
    "    Ac = [[None for _ in range(k)] for _ in range(k)]\n",
    "    s = [None for _ in range(k)]\n",
    "    e = [None for _ in range(k)]\n",
    "\n",
    "    for i in range(k):\n",
    "        for j in range(k):\n",
    "            Ac[i][j] = sample_ntt(XOF(rho, i, j))\n",
    "\n",
    "    for i in range(k):\n",
    "        s[i] = sample_poly_cbd(PRF(eta1, sigma, bytes([N])), eta1)\n",
    "        N += 1\n",
    "\n",
    "    for i in range(k):\n",
    "        e[i] = sample_poly_cbd(PRF(eta1, sigma, bytes([N])), eta1)\n",
    "        N += 1\n",
    "\n",
    "    sc = [ntt(s[i]) for i in range(k)]\n",
    "    ec = [ntt(e[i]) for i in range(k)]\n",
    "    tc = [reduce(vector_add, [multiply_ntt_s(Ac[i][j], sc[j]) for j in range(k)] + [ec[i]]) for i in range(k)]\n",
    "\n",
    "    ek_PKE = b\"\".join(byte_encode(12, tc_elem) for tc_elem in tc) + rho\n",
    "    dk_PKE = b\"\".join(byte_encode(12, sc_elem) for sc_elem in sc)\n",
    "\n",
    "    return ek_PKE, dk_PKE"
   ]
  },
  {
   "cell_type": "code",
   "execution_count": 90,
   "metadata": {},
   "outputs": [],
   "source": [
    "def transparray_array_mult(uct, vc, k):\n",
    "    return reduce(vector_add, [multiply_ntt_s(uct[i], vc[i]) for i in range(k)])\n",
    "\n",
    "\n",
    "def compress(d, x):\n",
    "\treturn [(((n * 2**d) + Q // 2 ) // Q) % (2**d) for n in x]\n",
    "\n",
    "def decompress(d, x):\n",
    "\treturn [(((n * Q) + 2**(d-1) ) // 2**d) % Q for n in x]\n"
   ]
  },
  {
   "cell_type": "code",
   "execution_count": 91,
   "metadata": {},
   "outputs": [],
   "source": [
    "def k_pke_encrypt(ek_PKE, m, rand, k, eta1, eta2, du, dv):\n",
    "    N = 0\n",
    "    tc = [byte_decode(12, ek_PKE[i * 384 : (i + 1) * 384]) for i in range(k)]\n",
    "    rho = ek_PKE[384 * k : 384 * k + 32]\n",
    "    Ac = [[None for _ in range(k)] for _ in range(k)]\n",
    "    r = [None for _ in range(k)]\n",
    "    e1 = [None for _ in range(k)]\n",
    "\n",
    "    for i in range(k):\n",
    "        for j in range(k):\n",
    "            Ac[i][j] = sample_ntt(XOF(rho, i, j))\n",
    "\n",
    "    for i in range(k):\n",
    "        r[i] = sample_poly_cbd(PRF(eta1, rand, bytes([N])), eta1)\n",
    "        N += 1\n",
    "\n",
    "    for i in range(k):\n",
    "        e1[i] = sample_poly_cbd(PRF(eta2, rand, bytes([N])), eta2)\n",
    "        N += 1\n",
    "\n",
    "    e2 = sample_poly_cbd(PRF(eta2, rand, bytes([N])), eta2)\n",
    "    rc = [ntt(r[i]) for i in range(k)]\n",
    "    u = [vector_add(ntt_inv(reduce(vector_add, [multiply_ntt_s(Ac[j][i], rc[j]) for j in range(k)])), e1[i]) for i in range(k)]\n",
    "    mu = decompress(1, byte_decode(1, m))\n",
    "    v = vector_add(ntt_inv(reduce(vector_add, [multiply_ntt_s(tc[i], rc[i]) for i in range(k)])), vector_add(e2, mu))\n",
    "\n",
    "    c1 = b\"\".join(byte_encode(du, compress(du, u[i])) for i in range(k))\n",
    "    c2 = byte_encode(dv, compress(dv, v))\n",
    "\n",
    "    return c1 + c2\n"
   ]
  },
  {
   "cell_type": "code",
   "execution_count": 92,
   "metadata": {},
   "outputs": [],
   "source": [
    "def k_pke_decrypt(dk_PKE, c, k, du, dv):\n",
    "    c1 = c[:32 * du * k]\n",
    "    c2 = c[32 * du * k : 32 * (du * k + dv)]\n",
    "    u = [decompress(du, byte_decode(du, c1[i * 32 * du : (i + 1) * 32 * du])) for i in range(k)]\n",
    "    v = decompress(dv, byte_decode(dv, c2))\n",
    "    sc = [byte_decode(12, dk_PKE[i * 384 : (i + 1) * 384]) for i in range(k)]\n",
    "    w = vector_sub(v, ntt_inv(reduce(vector_add, [multiply_ntt_s(sc[i], ntt(u[i])) for i in range(k)])))\n",
    "\n",
    "    return byte_encode(1, compress(1, w))\n",
    "\n"
   ]
  },
  {
   "cell_type": "markdown",
   "metadata": {},
   "source": []
  },
  {
   "cell_type": "code",
   "execution_count": 93,
   "metadata": {},
   "outputs": [],
   "source": [
    "def ml_kem_keygen(k, eta1):\n",
    "    z = os.urandom(32)\n",
    "    ek_PKE, dk_PKE = k_pke_keygen(k, eta1)\n",
    "    ek = ek_PKE\n",
    "    dk = dk_PKE + ek + H(ek) + z\n",
    "\n",
    "    return ek, dk\n",
    "\n",
    "\n",
    "def ml_kem_encaps(ek, k, eta1, eta2, du, dv):\n",
    "    m = os.urandom(32)\n",
    "    K, r = G(m + H(ek))\n",
    "    c = k_pke_encrypt(ek, m, r, k, eta1, eta2, du, dv)\n",
    "\n",
    "    return K, c\n",
    "\n",
    "\n",
    "def ml_kem_decaps(c, dk, k, eta1, eta2, du, dv):    \n",
    "    dk_PKE = dk[0: 384 * k]\n",
    "    ek_PKE = dk[384 * k : 768 * k + 32]\n",
    "    h = dk[768 * k + 32 : 768 * k + 64]\n",
    "    z = dk[768 * k + 64 : 768 * k + 96]\n",
    "    ml = k_pke_decrypt(dk_PKE, c, k, du, dv)\n",
    "    Kl, rl = G(ml + h)\n",
    "    Kb = J((z + c), 32)\n",
    "    cl = k_pke_encrypt(ek_PKE, ml, rl, k, eta1, eta2, du, dv)\n",
    "    if c != cl:\n",
    "        Kl = Kb\n",
    "\n",
    "    return Kl"
   ]
  },
  {
   "cell_type": "code",
   "execution_count": 94,
   "metadata": {},
   "outputs": [],
   "source": [
    "def ml_kem_test(k, eta1, eta2, du, dv):\n",
    "    ek, dk = ml_kem_keygen(k, eta1)\n",
    "\n",
    "    if type(ek) != bytes or len(ek) != 384 * k + 32:\n",
    "        raise ValueError('invalid ek (type check)')\n",
    "    \n",
    "    if b''.join([byte_encode(12, decoded_ek_elem) for decoded_ek_elem in [byte_decode(12, ek[i * 384 : (i + 1) * 384]) for i in range(k)]]) != ek[:-32]:\n",
    "        raise ValueError('invalid dk (type check)')\n",
    "\n",
    "    K, c = ml_kem_encaps(ek, k, eta1, eta2, du, dv)\n",
    "\n",
    "    if type(c) != bytes or len(c) != 32 * (du * k + dv):\n",
    "        raise ValueError('invalid c (type check)')\n",
    "    \n",
    "    Kl = ml_kem_decaps(c, dk, k, eta1, eta2, du, dv)\n",
    "\n",
    "    print('Equal shared keys?', K == Kl)"
   ]
  },
  {
   "cell_type": "code",
   "execution_count": 95,
   "metadata": {},
   "outputs": [
    {
     "name": "stdout",
     "output_type": "stream",
     "text": [
      "Equal shared keys? True\n"
     ]
    }
   ],
   "source": [
    "print(f\"ML-KEM-{sec_bits}\")\n",
    "\n",
    "ml_kem_test(k_val, eta1, eta2, DU, DV)"
   ]
  }
 ],
 "metadata": {
  "kernelspec": {
   "display_name": "SageMath 10.2",
   "language": "sage",
   "name": "sagemath"
  },
  "language_info": {
   "codemirror_mode": {
    "name": "ipython",
    "version": 3
   },
   "file_extension": ".py",
   "mimetype": "text/x-python",
   "name": "python",
   "nbconvert_exporter": "python",
   "pygments_lexer": "ipython3",
   "version": "3.9.19"
  }
 },
 "nbformat": 4,
 "nbformat_minor": 2
}
