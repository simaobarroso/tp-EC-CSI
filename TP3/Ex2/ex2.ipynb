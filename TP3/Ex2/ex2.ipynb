{
 "cells": [
  {
   "cell_type": "markdown",
   "metadata": {},
   "source": [
    "# Estruturas Cripográficas - Criptografia e Segurança da Informação\n",
    "\n",
    "## TP3 - Exercício 2 - KEM\n",
    "\n",
    "Tratalho realizado por:\n",
    "\n",
    "| Número     | Nome                          |\n",
    "|--------|-------------------------------|\n",
    "| PG54177| Ricardo Alves Oliveira        |\n",
    "| PG54236| Simão Oliveira Alvim Barroso  |"
   ]
  },
  {
   "cell_type": "markdown",
   "metadata": {},
   "source": [
    "### Enunciado\n",
    "\n",
    "2. Em Agosto de 2023 a NIST publicou um draf da [norma FIPS203](https://www.dropbox.com/scl/fo/vllnz60fnd4payrkllm1d/h?rlkey=4z7418pn17qcgmx97etxepvzo&e=1&dl=0)  para um Key Encapsulation Mechanism (KEM) derivado dos algoritmos [KYBER](https://www.dropbox.com/scl/fo/y2i97mufz371tmz0orc40/h?rlkey=ffhdgacrx5wb4jsjb84kugclq&e=1&dl=0). \n",
    "    O preâmbulo do “draft” \n",
    "> A key-encapsulation mechanism (or KEM) is a set of algorithms that, under certain conditions, can be used by two parties to establish a shared secret key over a public channel. A shared secret key that is securely established using a KEM can then be used with symmetric-key cryptographic algorithms to perform basic tasks in secure communications, such as encryption and authentication. This standard specifes a key-encapsulation mechanism called ML-KEM. The security of ML-KEM is related to the computational diffculty of the so-called Module Learning with Errorsproblem. At present, ML-KEM is believed to be secure even against adversaries who possess a quantum computer\n",
    "\n",
    "\n",
    "Neste trabalho pretende-se implementar em Sagemath um protótipo deste standard parametrizado de acordo com as variantes sugeridas na norma (512, 768 e 1024 bits de segurança)\n"
   ]
  },
  {
   "cell_type": "markdown",
   "metadata": {},
   "source": [
    "# Imports + Explicação"
   ]
  },
  {
   "cell_type": "code",
   "execution_count": null,
   "metadata": {},
   "outputs": [],
   "source": []
  },
  {
   "cell_type": "markdown",
   "metadata": {},
   "source": []
  },
  {
   "cell_type": "code",
   "execution_count": 8,
   "metadata": {},
   "outputs": [
    {
     "name": "stdout",
     "output_type": "stream",
     "text": [
      "n value -> 1024\n"
     ]
    }
   ],
   "source": [
    "n = int(input(\"n value: \"))\n",
    "\n",
    "assert n in [512,768,1024], \"n must be 512, 768 or 1024\"\n",
    "\n",
    "print(f\"n value -> {n}\")\n"
   ]
  },
  {
   "cell_type": "markdown",
   "metadata": {},
   "source": []
  },
  {
   "cell_type": "code",
   "execution_count": null,
   "metadata": {},
   "outputs": [],
   "source": []
  }
 ],
 "metadata": {
  "kernelspec": {
   "display_name": "SageMath 10.2",
   "language": "sage",
   "name": "sagemath"
  },
  "language_info": {
   "codemirror_mode": {
    "name": "ipython",
    "version": 3
   },
   "file_extension": ".py",
   "mimetype": "text/x-python",
   "name": "python",
   "nbconvert_exporter": "python",
   "pygments_lexer": "ipython3",
   "version": "3.9.19"
  }
 },
 "nbformat": 4,
 "nbformat_minor": 2
}
