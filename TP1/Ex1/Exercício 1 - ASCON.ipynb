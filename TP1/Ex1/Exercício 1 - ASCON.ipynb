{
 "cells": [
  {
   "cell_type": "markdown",
   "metadata": {},
   "source": [
    "# Estruturas Criptográficas - Criptografia e Segurança da Informação"
   ]
  },
  {
   "cell_type": "markdown",
   "metadata": {},
   "source": [
    "\n",
    "[Grupo 03](https://paper.dropbox.com/doc/Estruturas-Criptograficas-2023-2024-Trabalhos-Praticos-8WcsdZARGLv0nXS9KasmK)\n",
    "\n",
    "(PG54177) Ricardo Alves Oliveira \n",
    "\n",
    "(PG54236) Simão Oliveira Alvim Barroso"
   ]
  },
  {
   "cell_type": "markdown",
   "metadata": {},
   "source": [
    "## TP1 - Exercício 1\n",
    "\n",
    "1. Use a package Cryptography   e  o package ascon (instalar daqui) para  criar um comunicação privada assíncrona em modo  “Lightweight Cryptography” entre um agente Emitter e um agente Receiver que cubra os seguintes aspectos:\n",
    "    1. Autenticação do criptograma e dos metadados (associated data) usando Ascon (ver implementação aqui) em modo de cifra.\n",
    "    2. As chaves de cifra, autenticação  e  os “nounces” são gerados por um gerador pseudo aleatório (PRG)  usando o Ascon em modo XOF. As diferentes chaves para inicialização do PRG são inputs do emissor e do receptor.\n",
    "    3. Para implementar a comunicação cliente-servidor use o package python `asyncio`.\n",
    "\n",
    "\n",
    "## Resolução\n",
    "\n",
    "Para resolver este exercício comecamos por instalar e importar os packages necessarios.\n",
    "\n",
    "Este setup inicial envolveu, para além do referido no exercício, a utilização do package `nest_asyncio` para garantir a execução apropriada do `asyncio` no `Jupyter Notebook`. "
   ]
  },
  {
   "cell_type": "code",
   "execution_count": 13,
   "metadata": {},
   "outputs": [
    {
     "name": "stdout",
     "output_type": "stream",
     "text": [
      "Requirement already satisfied: ascon in /home/kirim/miniconda3/envs/DAA/lib/python3.10/site-packages (0.0.9)\n",
      "Requirement already satisfied: asyncio in /home/kirim/miniconda3/envs/DAA/lib/python3.10/site-packages (3.4.3)\n",
      "Requirement already satisfied: nest_asyncio in /home/kirim/.local/lib/python3.10/site-packages (1.5.6)\n",
      "Note: you may need to restart the kernel to use updated packages.\n"
     ]
    }
   ],
   "source": [
    "%pip install ascon asyncio nest_asyncio\n",
    "\n",
    "import ascon\n",
    "import random\n",
    "import asyncio\n",
    "import hashlib\n",
    "import nest_asyncio"
   ]
  },
  {
   "cell_type": "markdown",
   "metadata": {},
   "source": [
    "Para continuar o setup do ambiente iniciamos o `nest_asyncio` e as variáveis globais do programa.\n",
    "Estas incluem o tamanho utilizado para a geração das hashs e a variável `at` utilizada para a geração dos `nounces` através da expansão de chaves com o `XOF`."
   ]
  },
  {
   "cell_type": "code",
   "execution_count": 14,
   "metadata": {},
   "outputs": [],
   "source": [
    "nest_asyncio.apply()  \n",
    "hashlength=16       \n",
    "at=2"
   ]
  },
  {
   "cell_type": "markdown",
   "metadata": {},
   "source": [
    "Adicionalmente foi criada uma função para calcular a hash de uma mensagem.\n",
    "A hash é calculada utilizando o `SHA3-256` e é utilizada para autenticar a mensagem original, garantindo que esta não é alterada."
   ]
  },
  {
   "cell_type": "code",
   "execution_count": 15,
   "metadata": {},
   "outputs": [],
   "source": [
    "\n",
    "def calculate_sha256(message):\n",
    "    if isinstance(message, str):\n",
    "        message = message.encode()\n",
    "\n",
    "    sha256_hash = hashlib.sha256(message).hexdigest()\n",
    "    return sha256_hash"
   ]
  },
  {
   "cell_type": "markdown",
   "metadata": {},
   "source": [
    "O próximo passo foi a definição da função para cifrar as mensagens para que estas possam ser enviadas. \n",
    "Para tal seguiram-se os seguintes passos:\n",
    "\n",
    "- Foi criada a `associated data` para a mensagem especifica, calculando a hash da mensagem original através da função criada anteriormente.\n",
    "- Segue-se a criação da `nounce_seed` utilizando, nesta primeira fase, a geração de 128 bits pseudo-aleatórios através do package `random`\n",
    "- Para gerar o nounce final, a seed previamente gerada é utilizada como input da função de hash do `ascon`. Assim, com recurso ao `Ascon-XOF`, são gerados os bits \"aleatórios\" para o próprio nounce.\n",
    "- De seguida cifra-se a mensagem original utilizando a chave, o `nounce` e a `associated data`, utilizando o `ascon-128`.\n",
    "- Por fim deve-se retornar o `ciphertext`, o `nounce` e a `associated_data` para que possam ser enviados."
   ]
  },
  {
   "cell_type": "code",
   "execution_count": 16,
   "metadata": {},
   "outputs": [],
   "source": [
    "def cipher_message(in_message,key):\n",
    "    associated_data=calculate_sha256(in_message).encode()\n",
    "    nounce_seed=str(random.getrandbits(128))\n",
    "    nounce=ascon.hash(nounce_seed.encode(),variant=\"Ascon-Xof\", hashlength=hashlength)\n",
    "\n",
    "    try:\n",
    "        out_message=ascon.encrypt(key, nounce, associated_data, in_message.encode(), variant=\"Ascon-128\")\n",
    "        print(f\"Sending: {in_message}\")\n",
    "        print(f\"Outgoing >>> ({out_message},{nounce},{associated_data})\")\n",
    "    except Exception as e:\n",
    "        print(e)\n",
    "    return (out_message,nounce,associated_data)"
   ]
  },
  {
   "cell_type": "markdown",
   "metadata": {},
   "source": [
    "Alternativamente, a função pode ser alterada de modo a que os `nounces` sejam obtidos a partir da hash gerada com base na `seed` original e no algoritmo `Ascon-XOF`. \n",
    "Esta alteração tira proveito da natureza do `XOF` para gerar uma `stream` pseudo-aleatória de bits, que pode ser utilizada para gerar os `nounces` de forma segura, evitando repetições dos mesmos."
   ]
  },
  {
   "cell_type": "code",
   "execution_count": 17,
   "metadata": {},
   "outputs": [],
   "source": [
    "def cipher_message(in_message,key,seed):\n",
    "    global at\n",
    "    associated_data=calculate_sha256(in_message).encode()\n",
    "    nounce=ascon.hash(seed.encode(),variant=\"Ascon-Xof\", hashlength=hashlength*at)[(-1*hashlength):]\n",
    "    at+=1\n",
    "    try:\n",
    "        out_message=ascon.encrypt(key, nounce, associated_data, in_message.encode(), variant=\"Ascon-128\")\n",
    "        print(f\"Sending: {in_message}\")\n",
    "        print(f\"Outgoing >>> ({out_message},{nounce},{associated_data})\")\n",
    "    except Exception as e:\n",
    "        print(e)\n",
    "    return (out_message,nounce,associated_data)"
   ]
  },
  {
   "cell_type": "markdown",
   "metadata": {},
   "source": [
    "Para decifrar as mensagens recebidas o processo passa por:\n",
    "\n",
    "- Decifrar a mensagem utilizando a chave, o `nounce` e a `associated data` com o `ascon-128`.\n",
    "- Garantir que foi possível decifrar a mensagem, caso contrário a mensagem é inválida.\n",
    "- Após decifrar a mensagem é calculada a sua hash (através da função criada anteriormente) e comparada com a `associated data` recebida. Caso estas não coincidam a mensagem é inválida pois foi alterada.\n",
    "- Por fim é retornada a mensagem original ou o erro encontrado."
   ]
  },
  {
   "cell_type": "code",
   "execution_count": 18,
   "metadata": {},
   "outputs": [],
   "source": [
    "def read_message(text,key,nounce,associated_data):\n",
    "    print(f\"Incoming <<< ({text},{nounce},{associated_data})\")\n",
    "    try:\n",
    "        out_message=ascon.decrypt(key, nounce, associated_data, text, variant=\"Ascon-128\")\n",
    "    except Exception as e:\n",
    "        return \"[ERROR] Message could not be decrypted\"\n",
    "    if out_message==None:\n",
    "        return \"[ERROR] Message has been tampered\"\n",
    "    elif calculate_sha256(out_message.decode())!=associated_data.decode():\n",
    "        return \"[ERROR] Message has been tampered\"\n",
    "    return out_message.decode()"
   ]
  },
  {
   "cell_type": "markdown",
   "metadata": {},
   "source": [
    "Para além destas funções, foi criada uma função para enviar mensagens para o recetor.\n",
    "Esta segue os seguintes passos:\n",
    "\n",
    "- O processo inicia-se com a geração da chave privada através do `ascon-XOF` e da `seed` fornecida.\n",
    "- Aguardar `input` do utilizador para enviar uma nova mensagem.\n",
    "- Cifrar a mensagem introduzida com recurso à chave e à função previamente criada para cifrar mensagens.\n",
    "- Adicionar a mensagem cifrada à queue do recetor.\n",
    "- Repetir até que seja inserido o código para terminar pelo utilizador (\"exit\") "
   ]
  },
  {
   "cell_type": "code",
   "execution_count": 19,
   "metadata": {},
   "outputs": [],
   "source": [
    "async def emitter(queue,seed):\n",
    "    key=ascon.hash(seed.encode(),variant=\"Ascon-Xof\", hashlength=hashlength)\n",
    "    print(f\"Sender Key: {key}\")\n",
    "    loop = asyncio.get_event_loop()\n",
    "    while True:\n",
    "        message=await loop.run_in_executor(None, input, \"Message to send > \")\n",
    "        out=cipher_message(message,key,seed)\n",
    "        await queue.put(out)\n",
    "        if message==\"exit\":\n",
    "            break"
   ]
  },
  {
   "cell_type": "markdown",
   "metadata": {},
   "source": [
    "A função para receber as mensagens cifradas, para além de as decifrar, deve verificar se o _nounce_ associado já foi recebido previamente, descartando a mensagem caso tal aconteça. Assim, esta função segue os seguintes passos:\n",
    "\n",
    "- O processo inicia-se com a geração da chave privada através do `ascon-XOF` e da `seed` fornecida.\n",
    "- Inicia uma lista para armzenar os `nounces` recebidos na sessão\n",
    "- Aguarda que uma nova mensagem seja obtida da queue\n",
    "- Verifica se o `nounce` já foi recebido previamente\n",
    "    - Se sim a mensagem deve ser rejeitada\n",
    "    - Se não o `nounce` é adicionado à lista de `nounces` recebidos previamente\n",
    "- Decifrar a mensagem com recurso à chave, `nounce`, `associated_data` e à função previamente criada\n",
    "- Repetir até que seja recebido um código para terminar pelo emissor (\"exit\") "
   ]
  },
  {
   "cell_type": "code",
   "execution_count": 20,
   "metadata": {},
   "outputs": [],
   "source": [
    "async def receiver(queue,seed):\n",
    "    key=ascon.hash(seed.encode(),variant=\"Ascon-Xof\", hashlength=hashlength)\n",
    "    print(f\"Receiver Key: {key}\")\n",
    "    known_nounces=[]\n",
    "    while True:\n",
    "        message,nounce,associated_data=await queue.get()\n",
    "        if nounce in known_nounces:\n",
    "            print(\"Repeated nounce, ignoring message\")\n",
    "        else:\n",
    "            known_nounces.append(nounce)\n",
    "            text=read_message(message,key,nounce,associated_data)\n",
    "            print(f\"Received: {text}\")\n",
    "        if text==\"exit\":\n",
    "            break"
   ]
  },
  {
   "cell_type": "markdown",
   "metadata": {},
   "source": [
    "Finalmente a função principal do programa foi criada com a seguinte estrutura para a execução das diferentes tarefas necessárias para a comunicação segura entre emissor e recetor de forma assíncrona:\n",
    "\n",
    "- Criar a queue onde serão transmitidas mensagens entre o emissor e o recetor\n",
    "- Obter uma seed fornecida pelo utilizador para a posterior geração de chaves privadas e `nounces`\n",
    "- Criar e lançar os processos para o emissor e recetor das mensagens\n",
    "- Aguardar que ambos os processos terminem"
   ]
  },
  {
   "cell_type": "code",
   "execution_count": 21,
   "metadata": {},
   "outputs": [],
   "source": [
    "async def main():\n",
    "    queue = asyncio.Queue()\n",
    "    key_seed=input(\"Seed for key > \")\n",
    "    # Create separate tasks for emitter and receiver\n",
    "    emitter_task = asyncio.create_task(emitter(queue,key_seed))\n",
    "    receiver_task = asyncio.create_task(receiver(queue, key_seed))\n",
    "    # Wait for both tasks to complete\n",
    "    await asyncio.gather(emitter_task, receiver_task)\n",
    "    print(\"All tasks completed\")"
   ]
  },
  {
   "cell_type": "markdown",
   "metadata": {},
   "source": [
    "Assim o programa pode ser testado:"
   ]
  },
  {
   "cell_type": "code",
   "execution_count": 22,
   "metadata": {},
   "outputs": [
    {
     "name": "stdout",
     "output_type": "stream",
     "text": [
      "Sender Key: b'\\xf1\\x94\\xac_\\xfdj\\xdc-\\xd9\\xd5D*\\x87\\xb6\\x8en'\n",
      "Receiver Key: b'\\xf1\\x94\\xac_\\xfdj\\xdc-\\xd9\\xd5D*\\x87\\xb6\\x8en'\n",
      "Sending: hello\n",
      "Outgoing >>> (b'FB\\xf2$\\xa6gBZ{\\xfd\\xe0^\\xe7\\xa5g7\\x9cyr*\\x05',b'\\x91\\xc1`\\x92\\x08\\xe8h\\xba\\x9e\\x1a\\x93\\x10\\x1cTi5',b'2cf24dba5fb0a30e26e83b2ac5b9e29e1b161e5c1fa7425e73043362938b9824')\n",
      "Incoming <<< (b'FB\\xf2$\\xa6gBZ{\\xfd\\xe0^\\xe7\\xa5g7\\x9cyr*\\x05',b'\\x91\\xc1`\\x92\\x08\\xe8h\\xba\\x9e\\x1a\\x93\\x10\\x1cTi5',b'2cf24dba5fb0a30e26e83b2ac5b9e29e1b161e5c1fa7425e73043362938b9824')\n",
      "Received: hello\n",
      "Sending: how are you bro\n",
      "Outgoing >>> (b'{\\xe5\\xef\\xc4G\\xc0\\x08h\\x07|\\xe5\\x00\\xe2\\xa2\\xf4\\xb6\\xc5e\\xfdo\\x0c\\xcb\\xde\\xff@[Ss<3[',b'\\xa8&\\xee\\xb9\\xcb\\x85H>\\x90\\x9bOh_\\xb7S\\x9b',b'f25bfb5b88cdd7ba9b16c956fb1033ef8b74e94f31fa0dda216bc70807bd7f26')\n",
      "Incoming <<< (b'{\\xe5\\xef\\xc4G\\xc0\\x08h\\x07|\\xe5\\x00\\xe2\\xa2\\xf4\\xb6\\xc5e\\xfdo\\x0c\\xcb\\xde\\xff@[Ss<3[',b'\\xa8&\\xee\\xb9\\xcb\\x85H>\\x90\\x9bOh_\\xb7S\\x9b',b'f25bfb5b88cdd7ba9b16c956fb1033ef8b74e94f31fa0dda216bc70807bd7f26')\n",
      "Received: how are you bro\n",
      "Sending: did it all work?\n",
      "Outgoing >>> (b'{\\x9f^\\x98:\\xed\\x08r\\xd0\\x99\\x06\\xc5z^\\xc2\\xd4f\\xe9\\xe7\\xbe\\xcb\\xc8\\x89\\xfb\\x0621l6\\x80\\xd2\\xfd',b'_ \\x8d(F\\x04a]*A\\x9d4\\xaeD]{',b'5551d8ef23f21f9ecb2bef4443a4f175f408373d46f705218f8bdd7ccbf3e230')\n",
      "Incoming <<< (b'{\\x9f^\\x98:\\xed\\x08r\\xd0\\x99\\x06\\xc5z^\\xc2\\xd4f\\xe9\\xe7\\xbe\\xcb\\xc8\\x89\\xfb\\x0621l6\\x80\\xd2\\xfd',b'_ \\x8d(F\\x04a]*A\\x9d4\\xaeD]{',b'5551d8ef23f21f9ecb2bef4443a4f175f408373d46f705218f8bdd7ccbf3e230')\n",
      "Received: did it all work?\n",
      "Sending: bruhhh\n",
      "Outgoing >>> (b'\\xcfh\\xf24y\\xef\\xf6-\\x84\\x1dV\\xb2#2\\x10\\xb88\\xe5\\xbc{\\xf4\\xaf',b\"[J\\xfa\\xd1V\\x92Z>pe\\x85\\xfb\\x8e'\\x0e\\xf9\",b'7873ed83db223b48032429e6efe02c1ce2d0d8afe44edecc0721aef250e8f818')\n",
      "Incoming <<< (b'\\xcfh\\xf24y\\xef\\xf6-\\x84\\x1dV\\xb2#2\\x10\\xb88\\xe5\\xbc{\\xf4\\xaf',b\"[J\\xfa\\xd1V\\x92Z>pe\\x85\\xfb\\x8e'\\x0e\\xf9\",b'7873ed83db223b48032429e6efe02c1ce2d0d8afe44edecc0721aef250e8f818')\n",
      "Received: bruhhh\n",
      "Sending: exit\n",
      "Outgoing >>> (b'\\x9c\\x08?/\\xe8reu\\xc2$\\xc5\\x17<\\x1aq#\\xea\\xe6\\xfdX',b'0\\x9a,\\xf2<\\x13\\x88\\xf1O\\x7f\\x12\\xaa\\xd7\\x93\\xaeu',b'e596899f114b5162402325dfb31fdaa792fabed718628336cc7a35a24f38eaa9')\n",
      "Incoming <<< (b'\\x9c\\x08?/\\xe8reu\\xc2$\\xc5\\x17<\\x1aq#\\xea\\xe6\\xfdX',b'0\\x9a,\\xf2<\\x13\\x88\\xf1O\\x7f\\x12\\xaa\\xd7\\x93\\xaeu',b'e596899f114b5162402325dfb31fdaa792fabed718628336cc7a35a24f38eaa9')\n",
      "Received: exit\n",
      "All tasks completed\n"
     ]
    }
   ],
   "source": [
    "await main()"
   ]
  },
  {
   "cell_type": "markdown",
   "metadata": {},
   "source": [
    "__Possiveis Problemas:__\n",
    "\n",
    "- Alterações à mensagem enviada \n",
    "- Retransmissões de mensagens com o mesmo `nounce`\n",
    "\n",
    "Para testar estes possiveis problemas foram adicionados os comandos `altered_test` e `repeat_test` à função `cipher_message()` para simular, respetivamente, estas atitudes.\n",
    "\n",
    "Para o primeiro teste, a mensagem é alterada após ser cifrada. Isto irá resultar numa falha na autenticação da mensagem, uma vez que a hash da mensagem original não irá coincidir com a `associated data` recebida. A alteração da mensagem é feita através da alteração de um byte (neste caso o terceiro da mensagem).\n",
    "\n",
    "No que toca ao segundo teste, a mensagem é repetida com o mesmo `nounce`. Isto irá resultar numa falha na autenticação da mensagem, uma vez que o `nounce` já foi utilizado previamente. A repetição da mensagem é feita através da reutilização do primeiro `nounce` gerado após a chave através do `Ascon-Xof`."
   ]
  },
  {
   "cell_type": "code",
   "execution_count": 25,
   "metadata": {},
   "outputs": [],
   "source": [
    "sent_nounces=[]\n",
    "\n",
    "def cipher_message(in_message,key,seed):\n",
    "    global at\n",
    "    associated_data=calculate_sha256(in_message).encode()\n",
    "    nounce=ascon.hash(seed.encode(),variant=\"Ascon-Xof\", hashlength=hashlength*at)[(-1*hashlength):]\n",
    "    # Message is repeated\n",
    "    if in_message==\"repeat_test\":    \n",
    "        nounce=sent_nounces[-1]\n",
    "    at+=1\n",
    "\n",
    "\n",
    "    try:\n",
    "        out_message=ascon.encrypt(key, nounce, associated_data, in_message.encode(), variant=\"Ascon-128\")\n",
    "        print(f\"Sending: {in_message}\")\n",
    "\n",
    "        # Message data is altered\n",
    "        if in_message==\"altered_test\":\n",
    "            print(f\"Original >>> ({out_message},{nounce},{associated_data})\")\n",
    "            out_message=out_message[:2]+(f'{out_message[2]+1}'.encode())+out_message[3:]\n",
    "\n",
    "        print(f\"Outgoing >>> ({out_message},{nounce},{associated_data})\")\n",
    "        sent_nounces.append(nounce)\n",
    "    except Exception as e:\n",
    "        print(e)\n",
    "    \n",
    "    return (out_message,nounce,associated_data)"
   ]
  },
  {
   "cell_type": "markdown",
   "metadata": {},
   "source": [
    "Assim podemos testar estas atitudes iniciando o programa e, após o envio da primeira mensagem, introduzir o comando pretendido:\n",
    "\n",
    "- `altered_test` => Para enviar uma mensagem com a `associated_data` alterada\n",
    "- `repeat_test` => Para enviar uma mensagem com o `nounce` anterior "
   ]
  },
  {
   "cell_type": "code",
   "execution_count": 26,
   "metadata": {},
   "outputs": [
    {
     "name": "stdout",
     "output_type": "stream",
     "text": [
      "Sender Key: b'\\xa7\\xed\\xc5_?FO;\\x8a\\xc5g\\x0e\\xeb\\xe4\\xd1\\xf3'\n",
      "Receiver Key: b'\\xa7\\xed\\xc5_?FO;\\x8a\\xc5g\\x0e\\xeb\\xe4\\xd1\\xf3'\n",
      "Sending: altered_test\n",
      "Original >>> (b'd\\xb0N\\xfd\\x9c\\xc2+\\x8cB\\xb6\\xaa\\xe9\\xfa\\xc8\\x82{\\x1ak\\xf0\\xa9\\x85q\\xdf\\x9d\\xbePw\\xee',b'X$\\xba\\x8e\\xc5R\\xf8\\xd7\\xd3\\xa3\\xc5\\x98;\\xfbR\\xd2',b'4db0985a79cdcb5f0ae754067b4f6316812e19b52edb3c833ae81250e81b1c53')\n",
      "Outgoing >>> (b'd\\xb079\\xfd\\x9c\\xc2+\\x8cB\\xb6\\xaa\\xe9\\xfa\\xc8\\x82{\\x1ak\\xf0\\xa9\\x85q\\xdf\\x9d\\xbePw\\xee',b'X$\\xba\\x8e\\xc5R\\xf8\\xd7\\xd3\\xa3\\xc5\\x98;\\xfbR\\xd2',b'4db0985a79cdcb5f0ae754067b4f6316812e19b52edb3c833ae81250e81b1c53')\n",
      "Incoming <<< (b'd\\xb079\\xfd\\x9c\\xc2+\\x8cB\\xb6\\xaa\\xe9\\xfa\\xc8\\x82{\\x1ak\\xf0\\xa9\\x85q\\xdf\\x9d\\xbePw\\xee',b'X$\\xba\\x8e\\xc5R\\xf8\\xd7\\xd3\\xa3\\xc5\\x98;\\xfbR\\xd2',b'4db0985a79cdcb5f0ae754067b4f6316812e19b52edb3c833ae81250e81b1c53')\n",
      "Received: [ERROR] Message could not be decrypted\n",
      "Sending: hello\n",
      "Outgoing >>> (b'} \\xbf} \\xc9\\x13\\x1b\\xfa0\\xc1\\xc4\\n\\x0e1O\\x0e\\xaa\\xbdO\"',b'\\x06\\xfe=wN$\\x87\\x95\\x96\\x06\\x7f\\xcc6\\x92\\xed\\x9a',b'2cf24dba5fb0a30e26e83b2ac5b9e29e1b161e5c1fa7425e73043362938b9824')\n",
      "Incoming <<< (b'} \\xbf} \\xc9\\x13\\x1b\\xfa0\\xc1\\xc4\\n\\x0e1O\\x0e\\xaa\\xbdO\"',b'\\x06\\xfe=wN$\\x87\\x95\\x96\\x06\\x7f\\xcc6\\x92\\xed\\x9a',b'2cf24dba5fb0a30e26e83b2ac5b9e29e1b161e5c1fa7425e73043362938b9824')\n",
      "Received: hello\n",
      "Sending: repeat_test\n",
      "Outgoing >>> (b'v(}\\xd5\\xc4\\xaf\\x9e\\xb9\\xd2z\\xf2\\x16\\xf8\\xa1\\xd7\\xc1\\xe8!\\x10\\x14+SF\\xc5\\xb5.f',b'\\x06\\xfe=wN$\\x87\\x95\\x96\\x06\\x7f\\xcc6\\x92\\xed\\x9a',b'0e62efe6ed04ab0881f10deff96d7271d6c7999317d566ef684a101ee40704be')\n",
      "Repeated nounce, ignoring message\n",
      "Sending: hello\n",
      "Outgoing >>> (b'\\x01R\\xc4$\\xc1]^\\xefJ@)\\xef+P\\x89Bt\\xbf\\x96k\\xeb',b'}\\xf9`\\xc0\\x12\\xd6\\xb7\\xcd\\xc4\\x0f\\xf6\\xfd\\xdd~\\x88\\xcc',b'2cf24dba5fb0a30e26e83b2ac5b9e29e1b161e5c1fa7425e73043362938b9824')\n",
      "Incoming <<< (b'\\x01R\\xc4$\\xc1]^\\xefJ@)\\xef+P\\x89Bt\\xbf\\x96k\\xeb',b'}\\xf9`\\xc0\\x12\\xd6\\xb7\\xcd\\xc4\\x0f\\xf6\\xfd\\xdd~\\x88\\xcc',b'2cf24dba5fb0a30e26e83b2ac5b9e29e1b161e5c1fa7425e73043362938b9824')\n",
      "Received: hello\n",
      "Sending: exit\n",
      "Outgoing >>> (b'RL\\xe9r\\xd7\\xd3\\x07\\xb2\\xe5Es\\xbcl\\x13\\x80\\x95\\xc9=\\x1eV',b'0\"/\\xbdF\\t\\xf1\\xb1`e\\xd1=q\\xe3\\xe1\\xdd',b'e596899f114b5162402325dfb31fdaa792fabed718628336cc7a35a24f38eaa9')\n",
      "Incoming <<< (b'RL\\xe9r\\xd7\\xd3\\x07\\xb2\\xe5Es\\xbcl\\x13\\x80\\x95\\xc9=\\x1eV',b'0\"/\\xbdF\\t\\xf1\\xb1`e\\xd1=q\\xe3\\xe1\\xdd',b'e596899f114b5162402325dfb31fdaa792fabed718628336cc7a35a24f38eaa9')\n",
      "Received: exit\n",
      "All tasks completed\n"
     ]
    }
   ],
   "source": [
    "await main()"
   ]
  }
 ],
 "metadata": {
  "kernelspec": {
   "display_name": "Python 3",
   "language": "python",
   "name": "python3"
  },
  "language_info": {
   "codemirror_mode": {
    "name": "ipython",
    "version": 3
   },
   "file_extension": ".py",
   "mimetype": "text/x-python",
   "name": "python",
   "nbconvert_exporter": "python",
   "pygments_lexer": "ipython3",
   "version": "3.10.13"
  }
 },
 "nbformat": 4,
 "nbformat_minor": 2
}
