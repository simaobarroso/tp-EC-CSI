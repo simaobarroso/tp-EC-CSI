{
 "cells": [
  {
   "cell_type": "markdown",
   "metadata": {},
   "source": [
    "# CSI-EC - TP1 - Exercice 1 - Receiver"
   ]
  },
  {
   "cell_type": "markdown",
   "metadata": {},
   "source": [
    "*Warning:* Before running this playbook make sure the following packages are installed."
   ]
  },
  {
   "cell_type": "code",
   "execution_count": 1,
   "metadata": {},
   "outputs": [
    {
     "name": "stdout",
     "output_type": "stream",
     "text": [
      "Requirement already satisfied: ascon in /home/kirim/.local/lib/python3.11/site-packages (0.0.9)\n",
      "Note: you may need to restart the kernel to use updated packages.\n",
      "Requirement already satisfied: asyncio in /home/kirim/Documents/University/EC/.conda/lib/python3.11/site-packages (3.4.3)\n",
      "Note: you may need to restart the kernel to use updated packages.\n"
     ]
    }
   ],
   "source": [
    "%pip install ascon\n",
    "%pip install asyncio\n",
    "\n",
    "import ascon\n",
    "import asyncio"
   ]
  },
  {
   "cell_type": "markdown",
   "metadata": {},
   "source": [
    "To start we first need to get the seed for generating the key and nonce that will be used by ascon. This should be the same as the ones provided to the emmiter."
   ]
  },
  {
   "cell_type": "code",
   "execution_count": 2,
   "metadata": {},
   "outputs": [],
   "source": [
    "key_seed=input(\"Seed for key > \")\n",
    "nonce_seed=input(\"Seed for nonce > \")"
   ]
  },
  {
   "cell_type": "markdown",
   "metadata": {},
   "source": [
    "After we have the input parameters we need to generate the key and nonce using ascon in XOF mode. \n",
    "Additionally, in this step, we configure some extra parameters such as the hash length and the associated data."
   ]
  },
  {
   "cell_type": "code",
   "execution_count": 3,
   "metadata": {},
   "outputs": [],
   "source": [
    "hashlength=16\n",
    "key=ascon.hash(key_seed.encode(),variant=\"Ascon-Xof\", hashlength=hashlength)\n",
    "nonce=ascon.hash(nonce_seed.encode(),variant=\"Ascon-Xof\", hashlength=hashlength)\n",
    "associated_data=f'''message_{len(key_seed)*len(nonce_seed)}'''.encode()"
   ]
  },
  {
   "cell_type": "markdown",
   "metadata": {},
   "source": [
    "We can now verify that the key and nonce is now hashed."
   ]
  },
  {
   "cell_type": "code",
   "execution_count": 4,
   "metadata": {},
   "outputs": [
    {
     "name": "stdout",
     "output_type": "stream",
     "text": [
      "Key: b'\\xf1\\x94\\xac_\\xfdj\\xdc-\\xd9\\xd5D*\\x87\\xb6\\x8en'\n",
      "Nonce: b'n\\x1d\\x8d\\xe4\\x82j\\x04]>5\\xac\\xc7\\r^Y\\xff'\n"
     ]
    }
   ],
   "source": [
    "print(f'''Key: {key}\n",
    "Nonce: {nonce}''')"
   ]
  },
  {
   "cell_type": "markdown",
   "metadata": {},
   "source": [
    "Having the needed variables we can now create a function that will reverse the cipher and reveal the messages according to the key, nonce and associated data defined previously."
   ]
  },
  {
   "cell_type": "code",
   "execution_count": 5,
   "metadata": {},
   "outputs": [],
   "source": [
    "def read_message(text,key, nonce, associated_data):\n",
    "    try:\n",
    "        out_message=ascon.decrypt(key, nonce, associated_data, text, variant=\"Ascon-128\")\n",
    "    except Exception as e:\n",
    "        pass\n",
    "    return out_message"
   ]
  },
  {
   "cell_type": "markdown",
   "metadata": {},
   "source": [
    "To execute the program all is left is connecting to the server and receive its messages."
   ]
  },
  {
   "cell_type": "code",
   "execution_count": 6,
   "metadata": {},
   "outputs": [
    {
     "name": "stdout",
     "output_type": "stream",
     "text": [
      "[Server] now i can\n"
     ]
    }
   ],
   "source": [
    "on=False\n",
    "try:\n",
    "    reader, writer = await asyncio.open_connection('localhost', 8888)\n",
    "    on=True\n",
    "except:\n",
    "    print(\"Server not found!\")\n",
    "\n",
    "try:\n",
    "    while on:\n",
    "        data = await reader.read(256)\n",
    "        if not data:\n",
    "            break\n",
    "        try:\n",
    "            message = read_message(data, key, nonce, associated_data)\n",
    "            if message.decode().lower()=='exit':\n",
    "                 on=False\n",
    "            else:\n",
    "                print(f\"[Server] {message.decode()}\")\n",
    "            \n",
    "        except Exception as e:\n",
    "            print(f\"Error decrypting message: {e}\")\n",
    "            continue\n",
    "except asyncio.CancelledError:\n",
    "    print(\"Connection Canceled\")\n"
   ]
  }
 ],
 "metadata": {
  "kernelspec": {
   "display_name": "Python 3",
   "language": "python",
   "name": "python3"
  },
  "language_info": {
   "codemirror_mode": {
    "name": "ipython",
    "version": 3
   },
   "file_extension": ".py",
   "mimetype": "text/x-python",
   "name": "python",
   "nbconvert_exporter": "python",
   "pygments_lexer": "ipython3",
   "version": "3.11.7"
  }
 },
 "nbformat": 4,
 "nbformat_minor": 2
}
