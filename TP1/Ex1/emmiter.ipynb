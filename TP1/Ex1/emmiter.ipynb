{
 "cells": [
  {
   "cell_type": "markdown",
   "metadata": {},
   "source": [
    "# CSI-EC - TP1 - Exercice 1 - Emmiter"
   ]
  },
  {
   "cell_type": "markdown",
   "metadata": {},
   "source": [
    "*Warning:* Before running this playbook make sure the following packages are installed."
   ]
  },
  {
   "cell_type": "code",
   "execution_count": 1,
   "metadata": {},
   "outputs": [
    {
     "name": "stdout",
     "output_type": "stream",
     "text": [
      "Requirement already satisfied: ascon in /home/kirim/.local/lib/python3.11/site-packages (0.0.9)\n",
      "Note: you may need to restart the kernel to use updated packages.\n",
      "Requirement already satisfied: asyncio in /home/kirim/Documents/University/EC/.conda/lib/python3.11/site-packages (3.4.3)\n",
      "Note: you may need to restart the kernel to use updated packages.\n"
     ]
    }
   ],
   "source": [
    "%pip install ascon\n",
    "%pip install asyncio\n",
    "\n",
    "import ascon\n",
    "import asyncio"
   ]
  },
  {
   "cell_type": "markdown",
   "metadata": {},
   "source": [
    "To start we first need to get the seed for generating the key and nonce that will be used by ascon."
   ]
  },
  {
   "cell_type": "code",
   "execution_count": 2,
   "metadata": {},
   "outputs": [],
   "source": [
    "key_seed=input(\"Seed for key > \")\n",
    "nonce_seed=input(\"Seed for nonce > \")"
   ]
  },
  {
   "cell_type": "markdown",
   "metadata": {},
   "source": [
    "After we have the input parameters we need to generate the key and nonce using ascon in XOF mode. \n",
    "Additionally, in this step, we configure some extra parameters such as the hash length and the associated data."
   ]
  },
  {
   "cell_type": "code",
   "execution_count": 3,
   "metadata": {},
   "outputs": [],
   "source": [
    "hashlength=16\n",
    "key=ascon.hash(key_seed.encode(),variant=\"Ascon-Xof\", hashlength=hashlength)\n",
    "nonce=ascon.hash(nonce_seed.encode(),variant=\"Ascon-Xof\", hashlength=hashlength)\n",
    "associated_data=f'''message_{len(key_seed)*len(nonce_seed)}'''.encode()"
   ]
  },
  {
   "cell_type": "markdown",
   "metadata": {},
   "source": [
    "We can now verify that the key and nonce is now hashed."
   ]
  },
  {
   "cell_type": "code",
   "execution_count": 4,
   "metadata": {},
   "outputs": [
    {
     "name": "stdout",
     "output_type": "stream",
     "text": [
      "Key: b'\\xf1\\x94\\xac_\\xfdj\\xdc-\\xd9\\xd5D*\\x87\\xb6\\x8en'\n",
      "Nonce: b'n\\x1d\\x8d\\xe4\\x82j\\x04]>5\\xac\\xc7\\r^Y\\xff'\n"
     ]
    }
   ],
   "source": [
    "print(f'''Key: {key}\n",
    "Nonce: {nonce}''')"
   ]
  },
  {
   "cell_type": "markdown",
   "metadata": {},
   "source": [
    "Having the needed variables we can now create a function that will cipher the messages before sending them according to the key, nonce and associated data defined previously."
   ]
  },
  {
   "cell_type": "code",
   "execution_count": 5,
   "metadata": {},
   "outputs": [],
   "source": [
    "def cipher_message(in_message,key, nonce, associated_data):\n",
    "    try:\n",
    "        out_message=ascon.encrypt(key, nonce, associated_data, in_message.encode(), variant=\"Ascon-128\")\n",
    "    except Exception as e:\n",
    "        print(e)\n",
    "    return out_message"
   ]
  },
  {
   "cell_type": "markdown",
   "metadata": {},
   "source": [
    "Now we need a asyncronous function that will await new connections to, once a client is connected, send the encrypted message.\n",
    "To do so we created a simple loop that will allow to send messages while the client."
   ]
  },
  {
   "cell_type": "code",
   "execution_count": 6,
   "metadata": {},
   "outputs": [],
   "source": [
    "async def handle_clients(reader,writer):\n",
    "\n",
    "    address = writer.get_extra_info('peername')\n",
    "    print(f\"New connection from {address}\")\n",
    "    on=True\n",
    "    # Send messages\n",
    "    try:\n",
    "        while on:\n",
    "            message=input('> ')\n",
    "            try:\n",
    "                out=cipher_message(message,key,nonce,associated_data)\n",
    "                print(out)\n",
    "                writer.write(out)\n",
    "                await writer.drain()\n",
    "\n",
    "                if message.lower() == 'exit':    \n",
    "                    on=False\n",
    "            except:\n",
    "                continue\n",
    "    except asyncio.CancelledError:\n",
    "        print(f'''Connection closed from {address}''')\n",
    "        pass\n"
   ]
  },
  {
   "cell_type": "markdown",
   "metadata": {},
   "source": [
    "To execute the program all is left is a main function that will run the server and expose it to possible receivers."
   ]
  },
  {
   "cell_type": "code",
   "execution_count": 7,
   "metadata": {},
   "outputs": [
    {
     "name": "stdout",
     "output_type": "stream",
     "text": [
      "Serving on ('127.0.0.1', 8888)\n"
     ]
    },
    {
     "name": "stdout",
     "output_type": "stream",
     "text": [
      "New connection from ('::1', 38868, 0, 0)\n",
      "b'\\xe4\\x81\\xd9(\\xe9\\x16k\\x7f\\x98\\xa8\\xab@\\xc1_k\\xd9\\xb5,\\xd1\\xc2:'\n",
      "b'\\xef\\x85\\xdbd\\xef\\xdf\\x03\\xe9\\xd3\\x96\\x90\\x8d\\xc4S\\xbft\\x964\\xbd\\xb0\\x8c\\xdc\\x9dQ\\xf9\\xa5\\x1d\\x9e\\xfe\\x0ec\\x8c\\x0f \\xe7'\n",
      "b'\\xe9\\x9c\\xdc0A\\x05\\x1b\\x88\\x12#\\x82m\\x93\\x9c\\x8c\\x93\\xfbF(\\xca'\n",
      "New connection from ('::1', 46024, 0, 0)\n",
      "b'\\xe4\\x81\\xd9(\\xe9\\x16k\\x7f\\x98\\xa8\\xab@\\xc1_k\\xd9\\xb5,\\xd1\\xc2:'\n",
      "b'\\xe9\\x9c\\xdc0A\\x05\\x1b\\x88\\x12#\\x82m\\x93\\x9c\\x8c\\x93\\xfbF(\\xca'\n",
      "New connection from ('::1', 39680, 0, 0)\n",
      "b'\\xe4\\x81\\xd9(\\xe9\\x16k\\x7f\\x98\\xa8\\xab@\\xc1_k\\xd9\\xb5,\\xd1\\xc2:'\n",
      "b'\\xef\\x85\\xdbd\\xef\\xdf\\x03\\xe9\\xd3\\x96\\x90\\x8d\\xc4S\\xbft\\x964\\xa2\\xc9}\\xfc\\xec\\xa1\\x97U\\xbc\\x10\\xdc\\xdb\\x80]$\\x11\\xad%\\x9am\\x9f'\n",
      "b'\\xe9\\x9c\\xdc0A\\x05\\x1b\\x88\\x12#\\x82m\\x93\\x9c\\x8c\\x93\\xfbF(\\xca'\n",
      "New connection from ('::1', 51798, 0, 0)\n",
      "b'\\xe2\\x8b\\xc2d\\xef\\xdf\\x14\\xfd\\xb1p\\xf0\\x04\\tAqJMG\\x90\\x93\\xbd\\xea\\x8a\\xa7\\xa4'\n",
      "b'\\xe9\\x9c\\xdc0A\\x05\\x1b\\x88\\x12#\\x82m\\x93\\x9c\\x8c\\x93\\xfbF(\\xca'\n"
     ]
    }
   ],
   "source": [
    "server = await asyncio.start_server(handle_clients, 'localhost', 8888)\n",
    "addr = server.sockets[0].getsockname()\n",
    "print(f'Serving on {addr}')\n",
    "async with server:\n",
    "    await server.serve_forever()"
   ]
  }
 ],
 "metadata": {
  "kernelspec": {
   "display_name": "Python 3",
   "language": "python",
   "name": "python3"
  },
  "language_info": {
   "codemirror_mode": {
    "name": "ipython",
    "version": 3
   },
   "file_extension": ".py",
   "mimetype": "text/x-python",
   "name": "python",
   "nbconvert_exporter": "python",
   "pygments_lexer": "ipython3",
   "version": "3.11.7"
  }
 },
 "nbformat": 4,
 "nbformat_minor": 2
}
