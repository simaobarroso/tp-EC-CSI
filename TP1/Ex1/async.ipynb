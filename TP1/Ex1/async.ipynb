{
 "cells": [
  {
   "cell_type": "markdown",
   "metadata": {},
   "source": [
    "# Estruturas Criptográficas - Criptografia e Segurança da Informação\n",
    "\n",
    "## TP1 - Exercício 1\n",
    "\n",
    "1. Use a package Cryptography   e  o package ascon (instalar daqui) para  criar um comunicação privada assíncrona em modo  “Lightweight Cryptography” entre um agente Emitter e um agente Receiver que cubra os seguintes aspectos:\n",
    "    1. Autenticação do criptograma e dos metadados (associated data) usando Ascon (ver implementação aqui) em modo de cifra.\n",
    "    2. As chaves de cifra, autenticação  e  os “nounces” são gerados por um gerador pseudo aleatório (PRG)  usando o Ascon em modo XOF. As diferentes chaves para inicialização do PRG são inputs do emissor e do receptor.\n",
    "    3. Para implementar a comunicação cliente-servidor use o package python `asyncio`.\n",
    "\n",
    "## Resolução\n",
    "\n",
    "Para resolver este exercicio comecamos por instalar e importar os packages necessarios.\n",
    "\n",
    "Este setup inicial envolveu, para alem do referido no exercicio, a utilizacao do package `nest_asyncio` para garantir a execucao apropriado do `asyncio` no `Jupyter Notebook`. "
   ]
  },
  {
   "cell_type": "code",
   "execution_count": null,
   "metadata": {},
   "outputs": [],
   "source": [
    "%pip install ascon asyncio nest_asyncio\n",
    "\n",
    "import ascon\n",
    "import asyncio\n",
    "import random\n",
    "import nest_asyncio"
   ]
  },
  {
   "cell_type": "markdown",
   "metadata": {},
   "source": [
    "Para continuar o setup do ambiente iniciamos o `nest_asyn` e as variaveis globais para o program."
   ]
  },
  {
   "cell_type": "code",
   "execution_count": null,
   "metadata": {},
   "outputs": [],
   "source": [
    "nest_asyncio.apply()  \n",
    "hashlength=16         # Tamanho da hash\n",
    "tag=0                 # Seq Num da ulima mensagem (legitima) enviada\n",
    "ext=0                 # Seq Num da ulima mensagem (legitima) recebida"
   ]
  },
  {
   "cell_type": "markdown",
   "metadata": {},
   "source": [
    "Funcao para cifrar mensagens. Processo:\n",
    "\n",
    "- Criar a `associated data` para a mensagem especifica\n",
    "- Criar o `nounce` utilizando `Ascon-XOF`\n",
    "- Cifrar a mensagem utilizando a chave, o `nounce` e a `associated data`"
   ]
  },
  {
   "cell_type": "code",
   "execution_count": null,
   "metadata": {},
   "outputs": [],
   "source": [
    "def cipher_message(in_message,key):\n",
    "    global tag\n",
    "    associated_data=f'''message_{tag}'''.encode()\n",
    "    tag+=1\n",
    "    nounce_seed=str(random.getrandbits(128))\n",
    "    nounce=ascon.hash(nounce_seed.encode(),variant=\"Ascon-Xof\", hashlength=hashlength)\n",
    "    try:\n",
    "        out_message=ascon.encrypt(key, nounce, associated_data, in_message.encode(), variant=\"Ascon-128\")\n",
    "        print(f\"Sending: {in_message}\")\n",
    "        print(f\"Outgoing >>> ({out_message},{nounce})\")\n",
    "    except Exception as e:\n",
    "        print(e)\n",
    "    return (out_message,nounce)"
   ]
  },
  {
   "cell_type": "markdown",
   "metadata": {},
   "source": [
    "Funcao para decifrar mensagens. Processo:\n",
    "\n",
    "- Criar a `associated data` para a mensagem esperada\n",
    "- Decifrar a mensagem utilizando a chave, o `nounce` recebido e a `associated data`\n",
    "- Verificar que a mensagem foi decifrada com sucesso"
   ]
  },
  {
   "cell_type": "code",
   "execution_count": null,
   "metadata": {},
   "outputs": [],
   "source": [
    "def read_message(text,key,nounce):\n",
    "    global ext\n",
    "    print(f\"Incoming <<< ({text},{nounce})\")\n",
    "    associated_data=f'''message_{ext}'''.encode()\n",
    "    try:\n",
    "        out_message=ascon.decrypt(key, nounce, associated_data, text, variant=\"Ascon-128\")\n",
    "    except Exception as e:\n",
    "        return \"[ERROR] Message could not be decrypted\"\n",
    "    if out_message==None:\n",
    "        return \"[ERROR] Message could not be decrypted\"\n",
    "    ext+=1\n",
    "    return out_message.decode()"
   ]
  },
  {
   "cell_type": "markdown",
   "metadata": {},
   "source": [
    "Funcao para emitir as mensagens cifradas. Processo:\n",
    "\n",
    "- Aguarda `input` do utilizador para nova mensagem\n",
    "- Cifrar a mensagem com recurso a chave e a funcao previamente criada\n",
    "- Adicionar a mensagem (e o respetivo `nounce`) a queue\n",
    "- Repetir ate que seja enviado codigo para terminar pelo utilizador "
   ]
  },
  {
   "cell_type": "code",
   "execution_count": null,
   "metadata": {},
   "outputs": [],
   "source": [
    "async def emitter(queue,key):\n",
    "    loop = asyncio.get_event_loop()\n",
    "    while True:\n",
    "        message=await loop.run_in_executor(None, input, \"Message to send > \")\n",
    "        out=cipher_message(message,key)\n",
    "        await queue.put(out)\n",
    "        if message==\"exit\":\n",
    "            break"
   ]
  },
  {
   "cell_type": "markdown",
   "metadata": {},
   "source": [
    "Funcao para receber as mensagens cifradas. Processo:\n",
    "\n",
    "- Aguarda que uma nova mensagem seja obtida da queue\n",
    "- Verificar se o `nounce` ja foi recebido previamente\n",
    "    - Se sim, rejeitar a mensagem\n",
    "- Decifrar a mensagem com recurso a chave, ao `nounce` e a funcao previamente criada\n",
    "- Repetir ate que seja recebido um codigo para terminar pelo emissor "
   ]
  },
  {
   "cell_type": "code",
   "execution_count": null,
   "metadata": {},
   "outputs": [],
   "source": [
    "async def receiver(queue,key):\n",
    "    known_nounces=[]\n",
    "    while True:\n",
    "        message,nounce=await queue.get()\n",
    "        if nounce in known_nounces:\n",
    "            print(\"Repeated nounce, ignoring message\")\n",
    "        else:\n",
    "            known_nounces.append(nounce)\n",
    "            text=read_message(message,key,nounce)\n",
    "            print(f\"Received: {text}\")\n",
    "        if text==\"exit\":\n",
    "            break"
   ]
  },
  {
   "cell_type": "markdown",
   "metadata": {},
   "source": [
    "Funcao principal por:\n",
    "\n",
    "- Criar a queue onde serao transmitidas mensagens\n",
    "- Criar uma key com recurso a `Ascon-XOF` com base numa seed fornecida pelo utilizador\n",
    "- Criar e lancar os processos para o emissor e recetor"
   ]
  },
  {
   "cell_type": "code",
   "execution_count": null,
   "metadata": {},
   "outputs": [],
   "source": [
    "async def main():\n",
    "    queue = asyncio.Queue()\n",
    "    key_seed=input(\"Seed for key > \")\n",
    "    key=ascon.hash(key_seed.encode(),variant=\"Ascon-Xof\", hashlength=hashlength)\n",
    "    print(f\"Session Key: {key}\")\n",
    "    # Create separate tasks for emitter and receiver\n",
    "    emitter_task = asyncio.create_task(emitter(queue, key))\n",
    "    receiver_task = asyncio.create_task(receiver(queue, key))\n",
    "    # Wait for both tasks to complete\n",
    "    await asyncio.gather(emitter_task, receiver_task)\n",
    "    print(\"All tasks completed\")\n"
   ]
  },
  {
   "cell_type": "markdown",
   "metadata": {},
   "source": [
    "Finalmente o programa pode ser testado:"
   ]
  },
  {
   "cell_type": "code",
   "execution_count": null,
   "metadata": {},
   "outputs": [],
   "source": [
    "await main()"
   ]
  },
  {
   "cell_type": "markdown",
   "metadata": {},
   "source": [
    "### Possiveis Problemas\n",
    "\n",
    "- Alteracoes a mensagem enviada \n",
    "- Retransmissoes de mensagens (mesmo `nounce`)\n",
    "\n",
    "Para testar estes possiveis problemas foram adicionados os comandos `altered_test` e `repeat_test`, respetivamente, para simular estas atitudes."
   ]
  },
  {
   "cell_type": "code",
   "execution_count": null,
   "metadata": {},
   "outputs": [],
   "source": [
    "sent_nounces=[]\n",
    "\n",
    "def cipher_message(in_message,key):\n",
    "    global tag\n",
    "\n",
    "    # Message data is altered\n",
    "    if in_message==\"altered_test\":\n",
    "        associated_data=f'''message_altered'''.encode()\n",
    "    else:\n",
    "        associated_data=f'''message_{tag}'''.encode()\n",
    "        tag+=1\n",
    "\n",
    "    # Message is repeated\n",
    "    if in_message==\"repeat_test\":\n",
    "        tag-=1\n",
    "        nounce=sent_nounces[-1]\n",
    "    else:\n",
    "        nounce_seed=str(random.getrandbits(128))\n",
    "        nounce=ascon.hash(nounce_seed.encode(),variant=\"Ascon-Xof\", hashlength=hashlength)\n",
    "\n",
    "    try:\n",
    "        out_message=ascon.encrypt(key, nounce, associated_data, in_message.encode(), variant=\"Ascon-128\")\n",
    "        print(f\"Sending: {in_message}\")\n",
    "        print(f\"Outgoing >>> ({out_message},{nounce})\")\n",
    "        sent_nounces.append(nounce)\n",
    "    except Exception as e:\n",
    "        print(e)\n",
    "    \n",
    "    return (out_message,nounce)"
   ]
  },
  {
   "cell_type": "markdown",
   "metadata": {},
   "source": [
    "Assim podemos testar estas atitudes iniciando o programa e, apos a primeira mensagem enviar:\n",
    "\n",
    "- `altered_test` => Para enviar uma mensagem com a `associated_data` alterada\n",
    "- `repeat_test` => Para enviar uma mensagem com o `nounce` anterior "
   ]
  },
  {
   "cell_type": "code",
   "execution_count": null,
   "metadata": {},
   "outputs": [],
   "source": [
    "await main()"
   ]
  }
 ],
 "metadata": {
  "kernelspec": {
   "display_name": "Python 3",
   "language": "python",
   "name": "python3"
  },
  "language_info": {
   "codemirror_mode": {
    "name": "ipython",
    "version": 3
   },
   "file_extension": ".py",
   "mimetype": "text/x-python",
   "name": "python",
   "nbconvert_exporter": "python",
   "pygments_lexer": "ipython3",
   "version": "3.11.7"
  }
 },
 "nbformat": 4,
 "nbformat_minor": 2
}
