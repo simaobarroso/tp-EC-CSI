{
 "cells": [
  {
   "cell_type": "code",
   "execution_count": null,
   "metadata": {},
   "outputs": [],
   "source": [
    "%pip install ascon asyncio nest_asyncio\n",
    "\n",
    "import ascon\n",
    "import asyncio\n",
    "import random\n",
    "import nest_asyncio\n",
    "\n",
    "nest_asyncio.apply()"
   ]
  },
  {
   "cell_type": "code",
   "execution_count": null,
   "metadata": {},
   "outputs": [],
   "source": [
    "hashlength=16\n",
    "tag=0\n",
    "ext=0"
   ]
  },
  {
   "cell_type": "code",
   "execution_count": null,
   "metadata": {},
   "outputs": [],
   "source": [
    "def cipher_message(in_message,key):\n",
    "    global tag\n",
    "    associated_data=f'''message_{tag}'''.encode()\n",
    "    tag+=1\n",
    "    nounce_seed=str(random.getrandbits(128))\n",
    "    nounce=ascon.hash(nounce_seed.encode(),variant=\"Ascon-Xof\", hashlength=hashlength)\n",
    "    try:\n",
    "        out_message=ascon.encrypt(key, nounce, associated_data, in_message.encode(), variant=\"Ascon-128\")\n",
    "        print(f\"Sending: {in_message}\")\n",
    "        print(f\"Outgoing >>> ({out_message},{nounce})\")\n",
    "    except Exception as e:\n",
    "        print(e)\n",
    "    return (out_message,nounce)"
   ]
  },
  {
   "cell_type": "code",
   "execution_count": null,
   "metadata": {},
   "outputs": [],
   "source": [
    "def read_message(text,key,nounce):\n",
    "    global ext\n",
    "    print(f\"Incoming <<< ({text},{nounce})\")\n",
    "    associated_data=f'''message_{ext}'''.encode()\n",
    "    try:\n",
    "        out_message=ascon.decrypt(key, nounce, associated_data, text, variant=\"Ascon-128\")\n",
    "    except Exception as e:\n",
    "        return \"[ERROR] Message could not be decrypted\"\n",
    "    if out_message==None:\n",
    "        return \"[ERROR] Message could not be decrypted\"\n",
    "    ext+=1\n",
    "    return out_message.decode()"
   ]
  },
  {
   "cell_type": "code",
   "execution_count": null,
   "metadata": {},
   "outputs": [],
   "source": [
    "async def emitter(queue,key):\n",
    "    loop = asyncio.get_event_loop()\n",
    "    while True:\n",
    "        message=await loop.run_in_executor(None, input, \"Message to send > \")\n",
    "        out=cipher_message(message,key)\n",
    "        await queue.put(out)\n",
    "        if message==\"exit\":\n",
    "            break"
   ]
  },
  {
   "cell_type": "code",
   "execution_count": null,
   "metadata": {},
   "outputs": [],
   "source": [
    "async def receiver(queue,key):\n",
    "    known_nounces=[]\n",
    "    while True:\n",
    "        message,nounce=await queue.get()\n",
    "        if nounce in known_nounces:\n",
    "            print(\"Repeated nounce, ignoring message\")\n",
    "        else:\n",
    "            known_nounces.append(nounce)\n",
    "            text=read_message(message,key,nounce)\n",
    "            print(f\"Received: {text}\")\n",
    "        if text==\"exit\":\n",
    "            break"
   ]
  },
  {
   "cell_type": "code",
   "execution_count": null,
   "metadata": {},
   "outputs": [],
   "source": [
    "async def main():\n",
    "    queue = asyncio.Queue()\n",
    "    key_seed=input(\"Seed for key > \")\n",
    "    key=ascon.hash(key_seed.encode(),variant=\"Ascon-Xof\", hashlength=hashlength)\n",
    "    print(f\"Session Key: {key}\")\n",
    "    # Create separate tasks for emitter and receiver\n",
    "    emitter_task = asyncio.create_task(emitter(queue, key))\n",
    "    receiver_task = asyncio.create_task(receiver(queue, key))\n",
    "    # Wait for both tasks to complete\n",
    "    await asyncio.gather(emitter_task, receiver_task)\n",
    "    print(\"All tasks completed\")\n"
   ]
  },
  {
   "cell_type": "code",
   "execution_count": null,
   "metadata": {},
   "outputs": [],
   "source": [
    "await main()"
   ]
  },
  {
   "cell_type": "markdown",
   "metadata": {},
   "source": [
    "### Possible Problems"
   ]
  },
  {
   "cell_type": "code",
   "execution_count": null,
   "metadata": {},
   "outputs": [],
   "source": [
    "sent_nounces=[]\n",
    "\n",
    "def cipher_message(in_message,key):\n",
    "    global tag\n",
    "\n",
    "    # Message data is altered\n",
    "    if in_message==\"altered_test\":\n",
    "        associated_data=f'''message_altered'''.encode()\n",
    "    else:\n",
    "        associated_data=f'''message_{tag}'''.encode()\n",
    "        tag+=1\n",
    "\n",
    "    # Message is repeated\n",
    "    if in_message==\"repeat_test\":\n",
    "        tag-=1\n",
    "        nounce=sent_nounces[-1]\n",
    "    else:\n",
    "        nounce_seed=str(random.getrandbits(128))\n",
    "        nounce=ascon.hash(nounce_seed.encode(),variant=\"Ascon-Xof\", hashlength=hashlength)\n",
    "\n",
    "    try:\n",
    "        out_message=ascon.encrypt(key, nounce, associated_data, in_message.encode(), variant=\"Ascon-128\")\n",
    "        print(f\"Sending: {in_message}\")\n",
    "        print(f\"Outgoing >>> ({out_message},{nounce})\")\n",
    "        sent_nounces.append(nounce)\n",
    "    except Exception as e:\n",
    "        print(e)\n",
    "    \n",
    "    return (out_message,nounce)"
   ]
  },
  {
   "cell_type": "code",
   "execution_count": null,
   "metadata": {},
   "outputs": [],
   "source": [
    "await main()"
   ]
  }
 ],
 "metadata": {
  "kernelspec": {
   "display_name": "Python 3",
   "language": "python",
   "name": "python3"
  },
  "language_info": {
   "codemirror_mode": {
    "name": "ipython",
    "version": 3
   },
   "file_extension": ".py",
   "mimetype": "text/x-python",
   "name": "python",
   "nbconvert_exporter": "python",
   "pygments_lexer": "ipython3",
   "version": "3.11.7"
  }
 },
 "nbformat": 4,
 "nbformat_minor": 2
}
