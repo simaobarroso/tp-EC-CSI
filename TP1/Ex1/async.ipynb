{
 "cells": [
  {
   "cell_type": "markdown",
   "metadata": {},
   "source": [
    "# Estruturas Criptográficas - Criptografia e Segurança da Informação\n",
    "\n",
    "## TP1 - Exercício 1\n",
    "\n",
    "1. Use a package Cryptography   e  o package ascon (instalar daqui) para  criar um comunicação privada assíncrona em modo  “Lightweight Cryptography” entre um agente Emitter e um agente Receiver que cubra os seguintes aspectos:\n",
    "    1. Autenticação do criptograma e dos metadados (associated data) usando Ascon (ver implementação aqui) em modo de cifra.\n",
    "    2. As chaves de cifra, autenticação  e  os “nounces” são gerados por um gerador pseudo aleatório (PRG)  usando o Ascon em modo XOF. As diferentes chaves para inicialização do PRG são inputs do emissor e do receptor.\n",
    "    3. Para implementar a comunicação cliente-servidor use o package python `asyncio`.\n",
    "\n",
    "## Resolução\n",
    "\n",
    "Para resolver este exercício comecamos por instalar e importar os packages necessarios.\n",
    "\n",
    "Este setup inicial envolveu, para além do referido no exercício, a utilização do package `nest_asyncio` para garantir a execução apropriada do `asyncio` no `Jupyter Notebook`. "
   ]
  },
  {
   "cell_type": "code",
   "execution_count": 13,
   "metadata": {},
   "outputs": [
    {
     "name": "stdout",
     "output_type": "stream",
     "text": [
      "Requirement already satisfied: ascon in /home/kirim/.local/lib/python3.11/site-packages (0.0.9)\n",
      "Requirement already satisfied: asyncio in /home/kirim/Documents/University/EC/.conda/lib/python3.11/site-packages (3.4.3)\n",
      "Requirement already satisfied: nest_asyncio in /home/kirim/.local/lib/python3.11/site-packages (1.5.8)\n",
      "Note: you may need to restart the kernel to use updated packages.\n"
     ]
    }
   ],
   "source": [
    "%pip install ascon asyncio nest_asyncio\n",
    "\n",
    "import ascon\n",
    "import random\n",
    "import asyncio\n",
    "import hashlib\n",
    "import nest_asyncio"
   ]
  },
  {
   "cell_type": "markdown",
   "metadata": {},
   "source": [
    "Para continuar o setup do ambiente iniciamos o `nest_asyn` e as variáveis globais do programa.\n",
    "Estas incluem o tamanho utilizado para a geração das hashs e as tags `tag` e `ext` para a geração da `associated data`."
   ]
  },
  {
   "cell_type": "code",
   "execution_count": 14,
   "metadata": {},
   "outputs": [],
   "source": [
    "nest_asyncio.apply()  \n",
    "hashlength=16         # Tamanho da hash"
   ]
  },
  {
   "cell_type": "markdown",
   "metadata": {},
   "source": [
    "Função para calcular a hash de uma mensagem. Isto será utilizado como associated data para verificar a autenticidade das mensagens."
   ]
  },
  {
   "cell_type": "code",
   "execution_count": 15,
   "metadata": {},
   "outputs": [],
   "source": [
    "\n",
    "def calculate_sha256(message):\n",
    "    if isinstance(message, str):\n",
    "        message = message.encode()\n",
    "\n",
    "    sha256_hash = hashlib.sha256(message).hexdigest()\n",
    "    return sha256_hash"
   ]
  },
  {
   "cell_type": "markdown",
   "metadata": {},
   "source": [
    "O próximo passo foi a definição da função para cifrar mensagens. \n",
    "\n",
    "Para tal seguiram-se os seguintes passos:\n",
    "\n",
    "- Criar a `associated data` para a mensagem especifica\n",
    "- Criar o `nounce` utilizando `Ascon-XOF`\n",
    "- Cifrar a mensagem utilizando a chave, o `nounce` e a `associated data`"
   ]
  },
  {
   "cell_type": "code",
   "execution_count": 16,
   "metadata": {},
   "outputs": [],
   "source": [
    "def cipher_message(in_message,key):\n",
    "    associated_data=calculate_sha256(in_message).encode()\n",
    "    nounce_seed=str(random.getrandbits(128))\n",
    "    nounce=ascon.hash(nounce_seed.encode(),variant=\"Ascon-Xof\", hashlength=hashlength)\n",
    "    try:\n",
    "        out_message=ascon.encrypt(key, nounce, associated_data, in_message.encode(), variant=\"Ascon-128\")\n",
    "        print(f\"Sending: {in_message}\")\n",
    "        print(f\"Outgoing >>> ({out_message},{nounce},{associated_data})\")\n",
    "    except Exception as e:\n",
    "        print(e)\n",
    "    return (out_message,nounce,associated_data)"
   ]
  },
  {
   "cell_type": "markdown",
   "metadata": {},
   "source": [
    "Similarmente foi criada a função para decifrar mensagens. \n",
    "\n",
    "Esta segue um processo semelhante:\n",
    "\n",
    "- Criar a `associated data` para a mensagem esperada\n",
    "- Decifrar a mensagem utilizando a chave, o `nounce` recebido e a `associated data`\n",
    "- Verificar que a mensagem foi decifrada com sucesso"
   ]
  },
  {
   "cell_type": "code",
   "execution_count": 39,
   "metadata": {},
   "outputs": [],
   "source": [
    "def read_message(text,key,nounce,associated_data):\n",
    "    print(f\"Incoming <<< ({text},{nounce},{associated_data})\")\n",
    "    try:\n",
    "        out_message=ascon.decrypt(key, nounce, associated_data, text, variant=\"Ascon-128\")\n",
    "    except Exception as e:\n",
    "        return \"[ERROR] Message could not be decrypted\"\n",
    "    if out_message==None and calculate_sha256(out_message.decode())!=associated_data.decode():\n",
    "        return \"[ERROR] Message has been tampered\"\n",
    "    return out_message.decode()"
   ]
  },
  {
   "cell_type": "markdown",
   "metadata": {},
   "source": [
    "Com as funções de cifrar e decifrar criadas segue-se a função para emitir as mensagens cifradas. \n",
    "\n",
    "Esta segue os seguintes passos:\n",
    "\n",
    "- Aguarda `input` do utilizador para nova mensagem\n",
    "- Cifrar a mensagem com recurso à chave e à função previamente criada\n",
    "- Adicionar a mensagem (e o respetivo `nounce`) à queue\n",
    "- Repetir até que seja inserido o código para terminar pelo utilizador (\"exit\") "
   ]
  },
  {
   "cell_type": "code",
   "execution_count": 18,
   "metadata": {},
   "outputs": [],
   "source": [
    "async def emitter(queue,key):\n",
    "    loop = asyncio.get_event_loop()\n",
    "    while True:\n",
    "        message=await loop.run_in_executor(None, input, \"Message to send > \")\n",
    "        out=cipher_message(message,key)\n",
    "        await queue.put(out)\n",
    "        if message==\"exit\":\n",
    "            break"
   ]
  },
  {
   "cell_type": "markdown",
   "metadata": {},
   "source": [
    "A função para receber as mensagens cifradas, para além de as decifrar, verifica a sua integridade e se o _nounce_ associado já foi recebido previamente.\n",
    "\n",
    "Para tal segue o seguintes processo:\n",
    "\n",
    "- Aguarda que uma nova mensagem seja obtida da queue\n",
    "- Verificar se o `nounce` já foi recebido previamente\n",
    "    - Se sim, rejeitar a mensagem\n",
    "- Decifrar a mensagem com recurso à chave, ao `nounce` e à função previamente criada\n",
    "- Repetir até que seja recebido um código para terminar pelo emissor (\"exit\") "
   ]
  },
  {
   "cell_type": "code",
   "execution_count": 19,
   "metadata": {},
   "outputs": [],
   "source": [
    "async def receiver(queue,key):\n",
    "    known_nounces=[]\n",
    "    while True:\n",
    "        message,nounce,associated_data=await queue.get()\n",
    "        if nounce in known_nounces:\n",
    "            print(\"Repeated nounce, ignoring message\")\n",
    "        else:\n",
    "            known_nounces.append(nounce)\n",
    "            text=read_message(message,key,nounce,associated_data)\n",
    "            print(f\"Received: {text}\")\n",
    "        if text==\"exit\":\n",
    "            break"
   ]
  },
  {
   "cell_type": "markdown",
   "metadata": {},
   "source": [
    "Finalmente a função principal do programa foi criada com a seguinte estrutura:\n",
    "\n",
    "- Criar a queue onde serão transmitidas mensagens\n",
    "- Criar uma key com recurso a `Ascon-XOF` com base numa seed fornecida pelo utilizador\n",
    "- Criar e lançar os processos para o emissor e recetor"
   ]
  },
  {
   "cell_type": "code",
   "execution_count": 20,
   "metadata": {},
   "outputs": [],
   "source": [
    "async def main():\n",
    "    queue = asyncio.Queue()\n",
    "    key_seed=input(\"Seed for key > \")\n",
    "    key=ascon.hash(key_seed.encode(),variant=\"Ascon-Xof\", hashlength=hashlength)\n",
    "    print(f\"Session Key: {key}\")\n",
    "    # Create separate tasks for emitter and receiver\n",
    "    emitter_task = asyncio.create_task(emitter(queue, key))\n",
    "    receiver_task = asyncio.create_task(receiver(queue, key))\n",
    "    # Wait for both tasks to complete\n",
    "    await asyncio.gather(emitter_task, receiver_task)\n",
    "    print(\"All tasks completed\")\n"
   ]
  },
  {
   "cell_type": "markdown",
   "metadata": {},
   "source": [
    "Finalmente o programa pode ser testado:"
   ]
  },
  {
   "cell_type": "code",
   "execution_count": 21,
   "metadata": {},
   "outputs": [
    {
     "name": "stdout",
     "output_type": "stream",
     "text": [
      "Session Key: b'\\xb0\\xbdX,\\xc1\\x00\\x19\\xfd~c\\x1d\\x888\\xdbzN'\n",
      "Sending: hello\n",
      "Outgoing >>> (b'a\\xf2\\xa7\\xaa\\xd8+\\x890\\xab\\x004\\xb1\\x8e\\xea\\xad9\\xfb\"\\xc0B\\xcf',b'O\\x0cK\\x0c\\xcc]\\x02(\\xaf%\\x8dXp!\\xa5\\x81',b'2cf24dba5fb0a30e26e83b2ac5b9e29e1b161e5c1fa7425e73043362938b9824')\n",
      "Incoming <<< (b'a\\xf2\\xa7\\xaa\\xd8+\\x890\\xab\\x004\\xb1\\x8e\\xea\\xad9\\xfb\"\\xc0B\\xcf',b'O\\x0cK\\x0c\\xcc]\\x02(\\xaf%\\x8dXp!\\xa5\\x81',b'2cf24dba5fb0a30e26e83b2ac5b9e29e1b161e5c1fa7425e73043362938b9824')\n",
      "Received: hello\n",
      "Sending: nice\n",
      "Outgoing >>> (b'\\xbcJ\\x89\\xcf-\\x98\\xa5\\x10d\\xe2\\xe2B\\x1b\\xf6\\xe9\\xcf\\x85\\xdbH\\xfd',b'] 7\\r\\xa7\\x82\\xf1\\xa7\\xe5\\xaae\\xc3\\xe8\\x1b\\xe1L',b'e186022d0931afe9fe0690857e32f85e50165e7fbe0966d49609ef1981f920c6')\n",
      "Incoming <<< (b'\\xbcJ\\x89\\xcf-\\x98\\xa5\\x10d\\xe2\\xe2B\\x1b\\xf6\\xe9\\xcf\\x85\\xdbH\\xfd',b'] 7\\r\\xa7\\x82\\xf1\\xa7\\xe5\\xaae\\xc3\\xe8\\x1b\\xe1L',b'e186022d0931afe9fe0690857e32f85e50165e7fbe0966d49609ef1981f920c6')\n",
      "Received: nice\n",
      "Sending: exit\n",
      "Outgoing >>> (b'\\x17.zZ*7E\\xb9\\x96\\x86\\xe7\\xbf\\xde\\xac\\xa0\\xfc]M\\x80\\x90',b'\\xb7$\\xef<}\\xf3\\xe5@\\xa9D\\xb7\\xa8JB\\xe2o',b'e596899f114b5162402325dfb31fdaa792fabed718628336cc7a35a24f38eaa9')\n",
      "Incoming <<< (b'\\x17.zZ*7E\\xb9\\x96\\x86\\xe7\\xbf\\xde\\xac\\xa0\\xfc]M\\x80\\x90',b'\\xb7$\\xef<}\\xf3\\xe5@\\xa9D\\xb7\\xa8JB\\xe2o',b'e596899f114b5162402325dfb31fdaa792fabed718628336cc7a35a24f38eaa9')\n",
      "Received: exit\n",
      "All tasks completed\n"
     ]
    }
   ],
   "source": [
    "await main()"
   ]
  },
  {
   "cell_type": "markdown",
   "metadata": {},
   "source": [
    "__Possiveis Problemas:__\n",
    "\n",
    "- Alterações à mensagem enviada \n",
    "- Retransmissões de mensagens com o mesmo `nounce`\n",
    "\n",
    "Para testar estes possiveis problemas foram adicionados os comandos `altered_test` e `repeat_test` à função `cipher_message()` para simular, respetivamente, estas atitudes."
   ]
  },
  {
   "cell_type": "code",
   "execution_count": 37,
   "metadata": {},
   "outputs": [],
   "source": [
    "sent_nounces=[]\n",
    "\n",
    "def cipher_message(in_message,key):\n",
    "    associated_data=calculate_sha256(in_message).encode()\n",
    "    # Message is repeated\n",
    "    if in_message==\"repeat_test\":\n",
    "        nounce=sent_nounces[-1]\n",
    "    else:\n",
    "        nounce_seed=str(random.getrandbits(128))\n",
    "        nounce=ascon.hash(nounce_seed.encode(),variant=\"Ascon-Xof\", hashlength=hashlength)\n",
    "\n",
    "    try:\n",
    "        out_message=ascon.encrypt(key, nounce, associated_data, in_message.encode(), variant=\"Ascon-128\")\n",
    "        print(f\"Sending: {in_message}\")\n",
    "\n",
    "        # Message data is altered\n",
    "        if in_message==\"altered_test\":\n",
    "            print(f\"Original >>> ({out_message},{nounce},{associated_data})\")\n",
    "            out_message=out_message[:2]+(f'{out_message[2]+1}'.encode())+out_message[3:]\n",
    "\n",
    "        print(f\"Outgoing >>> ({out_message},{nounce},{associated_data})\")\n",
    "        sent_nounces.append(nounce)\n",
    "    except Exception as e:\n",
    "        print(e)\n",
    "    \n",
    "    return (out_message,nounce,associated_data)"
   ]
  },
  {
   "cell_type": "markdown",
   "metadata": {},
   "source": [
    "Assim podemos testar estas atitudes iniciando o programa e, após o envio da primeira mensagem, introduzir o comando pretendido:\n",
    "\n",
    "- `altered_test` => Para enviar uma mensagem com a `associated_data` alterada\n",
    "- `repeat_test` => Para enviar uma mensagem com o `nounce` anterior "
   ]
  },
  {
   "cell_type": "code",
   "execution_count": 40,
   "metadata": {},
   "outputs": [
    {
     "name": "stdout",
     "output_type": "stream",
     "text": [
      "Session Key: b'O\\x1fM\\xe3LSB\\x18\\xac\\x91\\xe2\\xb3A\\x90&0'\n",
      "Original >>> (b'\\xfb\\x87\\x8eC8\\x99\\xca\\xcf\\xfd\\xe24\\xe4\\xa8\\xa3\\x11Dmf\\x03{\\xce\\xe38b\\x01U\\x93A',b'\\x80\\xfc\\x9c\\xe0\\x05j/\\xaf\"B~\\xcdce*\\xcb',b'4db0985a79cdcb5f0ae754067b4f6316812e19b52edb3c833ae81250e81b1c53')\n",
      "Sending: altered_test\n",
      "Outgoing >>> (b'\\xfb\\x87143C8\\x99\\xca\\xcf\\xfd\\xe24\\xe4\\xa8\\xa3\\x11Dmf\\x03{\\xce\\xe38b\\x01U\\x93A',b'\\x80\\xfc\\x9c\\xe0\\x05j/\\xaf\"B~\\xcdce*\\xcb',b'4db0985a79cdcb5f0ae754067b4f6316812e19b52edb3c833ae81250e81b1c53')\n",
      "Incoming <<< (b'\\xfb\\x87143C8\\x99\\xca\\xcf\\xfd\\xe24\\xe4\\xa8\\xa3\\x11Dmf\\x03{\\xce\\xe38b\\x01U\\x93A',b'\\x80\\xfc\\x9c\\xe0\\x05j/\\xaf\"B~\\xcdce*\\xcb',b'4db0985a79cdcb5f0ae754067b4f6316812e19b52edb3c833ae81250e81b1c53')\n",
      "Received: [ERROR] Message could not be decrypted\n",
      "Sending: exit\n",
      "Outgoing >>> (b'v2?\\rI2\\x12\\x18\\x8d\\xd1\\xfe\\xe4\\rr\\xba\\x182\\x88\\xf0\\xe0',b'T\\xacV}\\xa5\\x90\\xb5y\\x9e\\xec\\x18\\xa4\\x1b\\x9cD\\xcd',b'e596899f114b5162402325dfb31fdaa792fabed718628336cc7a35a24f38eaa9')\n",
      "Incoming <<< (b'v2?\\rI2\\x12\\x18\\x8d\\xd1\\xfe\\xe4\\rr\\xba\\x182\\x88\\xf0\\xe0',b'T\\xacV}\\xa5\\x90\\xb5y\\x9e\\xec\\x18\\xa4\\x1b\\x9cD\\xcd',b'e596899f114b5162402325dfb31fdaa792fabed718628336cc7a35a24f38eaa9')\n",
      "Received: exit\n",
      "All tasks completed\n"
     ]
    }
   ],
   "source": [
    "await main()"
   ]
  }
 ],
 "metadata": {
  "kernelspec": {
   "display_name": "Python 3",
   "language": "python",
   "name": "python3"
  },
  "language_info": {
   "codemirror_mode": {
    "name": "ipython",
    "version": 3
   },
   "file_extension": ".py",
   "mimetype": "text/x-python",
   "name": "python",
   "nbconvert_exporter": "python",
   "pygments_lexer": "ipython3",
   "version": "3.11.7"
  }
 },
 "nbformat": 4,
 "nbformat_minor": 2
}
