{
 "cells": [
  {
   "cell_type": "markdown",
   "metadata": {},
   "source": [
    "# TP1 \n",
    "## Estruturas Criptográficas - Criptografia e Segurança da Informação"
   ]
  },
  {
   "cell_type": "markdown",
   "metadata": {},
   "source": [
    "### Exercício 2\n",
    "\n",
    "2. Use o “package” Cryptography para\n",
    "    1. Implementar uma AEAD com “Tweakable Block Ciphers” conforme está descrito na última secção do texto [+Capítulo 1: Primitivas Criptográficas Básicas](https://paper.dropbox.com/doc/Capitulo-1-Primitivas-Criptograficas-Basicas-YAcE9VWuF88R2fmPyvKlx#:uid=971079522289346670472132&h2=AEAD-com-%E2%80%9CTweakable-Block-Ciph).  A cifra por blocos primitiva, usada para gerar a “tweakable block cipher”, é o AES-256 ou o ChaCha20.\n",
    "    2. Use esta cifra para construir um canal privado de informação assíncrona com acordo de chaves feito com “X448 key exchange” e “Ed448 Signing&Verification” para autenticação  dos agentes. Deve incluir uma fase de confirmação da chave acordada."
   ]
  },
  {
   "cell_type": "markdown",
   "metadata": {},
   "source": [
    "##### Instalar packages necessários"
   ]
  },
  {
   "cell_type": "code",
   "execution_count": null,
   "metadata": {},
   "outputs": [],
   "source": [
    "%pip install cryptography"
   ]
  },
  {
   "cell_type": "markdown",
   "metadata": {},
   "source": [
    "##### Resumo \n",
    "Divisão em duas partes: \n",
    "\n",
    "1. a implementação da AEAD com Tweakable Block Ciphers usando o pacote \"Cryptography\"\n",
    "2. construção do canal privado de informação assíncrona com acordo de chaves usando \"X448 key exchange\" e \"Ed448 Signing&Verification\"."
   ]
  },
  {
   "cell_type": "markdown",
   "metadata": {},
   "source": [
    "##### Parte 1: Implementação da AEAD com Tweakable Block Ciphers"
   ]
  },
  {
   "cell_type": "code",
   "execution_count": 2,
   "metadata": {},
   "outputs": [
    {
     "name": "stdout",
     "output_type": "stream",
     "text": [
      "AES Key: b'`\\xf3\\xc6\\r\\x86F\\x1ecU\\x9f\\xb0\\x00c\\x1a\\x08\\x8f|\\xff\\x06\\xb7\\xc9\\xb6f\\x02\\xff\\x0f\\xbd\\xa2\\x11$kR'\n",
      "Tweak: b'\\xd0\\xb2\\xb4C\\xd5\\xc805U\\x924G\\xc4\\x8b\\x99\\xa0'\n",
      "b'\\xd3\\x96\\x04\\x822\\xce\\xd4\\xf58I\\xb9\\r\\x89\\xb6\\x13i'\n"
     ]
    }
   ],
   "source": [
    "from cryptography.hazmat.primitives.ciphers import Cipher, algorithms, modes\n",
    "from cryptography.hazmat.backends import default_backend\n",
    "import secrets\n",
    "\n",
    "\n",
    "def tweakable_block_cipher(key, tweak):\n",
    "    cipher = Cipher(algorithms.AES(key), modes.ECB(), backend=default_backend())\n",
    "    encryptor = cipher.encryptor()\n",
    "    return encryptor.update(tweak) + encryptor.finalize()\n",
    "\n",
    "\n",
    "def generate_aes_key():\n",
    "    # Gera uma chave AES de 256 bits (32 bytes)\n",
    "    return secrets.token_bytes(32)\n",
    "\n",
    "def generate_tweak():\n",
    "    # Gera um tweak de 128 bits (16 bytes)\n",
    "    return secrets.token_bytes(16)\n",
    "\n",
    "# Exemplo de uso\n",
    "aes_key = generate_aes_key()\n",
    "tweak = generate_tweak()\n",
    "\n",
    "print(\"AES Key:\", aes_key)\n",
    "print(\"Tweak:\", tweak)\n",
    "\n",
    "# Exemplo de uso\n",
    "#key = b'your_aes_key'  # Substitua com sua chave AES\n",
    "#tweak = b'your_tweak'  # Substitua com seu tweak\n",
    "result = tweakable_block_cipher(aes_key, tweak)\n",
    "print(result)\n"
   ]
  },
  {
   "cell_type": "markdown",
   "metadata": {},
   "source": [
    "##### Parte 2: Construção do Canal Privado Assíncrono"
   ]
  },
  {
   "cell_type": "code",
   "execution_count": 3,
   "metadata": {},
   "outputs": [
    {
     "name": "stdout",
     "output_type": "stream",
     "text": [
      "Chave acordada com sucesso!\n",
      "Assinatura verificada com sucesso!\n"
     ]
    }
   ],
   "source": [
    "from cryptography.hazmat.primitives.asymmetric import x448, ed448\n",
    "from cryptography.hazmat.backends import default_backend\n",
    "\n",
    "# Função para gerar chaves X448\n",
    "def generate_x448_key():\n",
    "    private_key = x448.X448PrivateKey.generate()\n",
    "    public_key = private_key.public_key()\n",
    "    return private_key, public_key\n",
    "\n",
    "# Função para gerar chaves Ed448\n",
    "def generate_ed448_key():\n",
    "    private_key = ed448.Ed448PrivateKey.generate()\n",
    "    public_key = private_key.public_key()\n",
    "    return private_key, public_key\n",
    "\n",
    "# Função para realizar o acordo de chaves X448\n",
    "def x448_key_exchange(my_private_key, their_public_key):\n",
    "    shared_key = my_private_key.exchange(their_public_key)\n",
    "    return shared_key\n",
    "\n",
    "# Função para assinar uma mensagem usando Ed448\n",
    "def sign_message(message, private_key):\n",
    "    signature = private_key.sign(message)\n",
    "    return signature\n",
    "\n",
    "# Função para verificar a assinatura usando Ed448\n",
    "def verify_signature(message, signature, public_key):\n",
    "    try:\n",
    "        public_key.verify(signature, message)\n",
    "        return True\n",
    "    except Exception:\n",
    "        return False\n",
    "\n",
    "# Exemplo de uso\n",
    "# Alice\n",
    "alice_private_key_x448, alice_public_key_x448 = generate_x448_key()\n",
    "alice_private_key_ed448, alice_public_key_ed448 = generate_ed448_key()\n",
    "\n",
    "# Bob\n",
    "bob_private_key_x448, bob_public_key_x448 = generate_x448_key()\n",
    "bob_private_key_ed448, bob_public_key_ed448 = generate_ed448_key()\n",
    "\n",
    "# Acordo de chaves X448\n",
    "alice_shared_key = x448_key_exchange(alice_private_key_x448, bob_public_key_x448)\n",
    "bob_shared_key = x448_key_exchange(bob_private_key_x448, alice_public_key_x448)\n",
    "\n",
    "# Confirmação da chave acordada\n",
    "if alice_shared_key == bob_shared_key:\n",
    "    print(\"Chave acordada com sucesso!\")\n",
    "\n",
    "# Assinatura e verificação usando Ed448\n",
    "message = b'Mensagem a ser assinada e verificada'\n",
    "alice_signature = sign_message(message, alice_private_key_ed448)\n",
    "verification_result = verify_signature(message, alice_signature, alice_public_key_ed448)\n",
    "\n",
    "if verification_result:\n",
    "    print(\"Assinatura verificada com sucesso!\")\n",
    "else:\n",
    "    print(\"Falha na verificação da assinatura.\")\n"
   ]
  },
  {
   "cell_type": "markdown",
   "metadata": {},
   "source": [
    "# NOTAS FINAIS : \n",
    "\n",
    "MUDAR ISTO PARA CYTHON\n",
    "\n",
    "Multiprocessing\n",
    "\n",
    "Ver trabalhos anos anteriores\n",
    "\n",
    "Fazer testes\n",
    "\n",
    "Explicar melhor os packages e kernel do miniconda neste arquivo"
   ]
  }
 ],
 "metadata": {
  "kernelspec": {
   "display_name": "csi",
   "language": "python",
   "name": "python3"
  },
  "language_info": {
   "codemirror_mode": {
    "name": "ipython",
    "version": 3
   },
   "file_extension": ".py",
   "mimetype": "text/x-python",
   "name": "python",
   "nbconvert_exporter": "python",
   "pygments_lexer": "ipython3",
   "version": "3.11.7"
  }
 },
 "nbformat": 4,
 "nbformat_minor": 2
}
