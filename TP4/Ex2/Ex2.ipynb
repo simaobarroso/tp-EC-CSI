{
 "cells": [
  {
   "cell_type": "markdown",
   "metadata": {},
   "source": [
    "# Estruturas Criptográficas - Criptografia e Segurança da Informação\n",
    "\n",
    "[Grupo 03](https://paper.dropbox.com/doc/Estruturas-Criptograficas-2023-2024-Trabalhos-Praticos-8WcsdZARGLv0nXS9KasmK)\n",
    "\n",
    "(PG54177) Ricardo Alves Oliveira \n",
    "\n",
    "(PG54236) Simão Oliveira Alvim Barroso\n",
    "\n",
    "## TP4 - Exercício 2\n",
    "\n",
    "Implemente um protótipo do esquema descrito  na norma FIPS 205 que deriva do algoritmo SPHINCS+.\n",
    "\n"
   ]
  },
  {
   "cell_type": "markdown",
   "metadata": {},
   "source": [
    "A nossa resolução baseou-se principalmente no FIPS 205. Também tiramos algumas inspirações de recursos que encontramos na internet como [o paper de submissão ao concurso pós-quantico da NIST](./docs/sphincs.pdf).\n",
    "\n",
    "Temos portanto uma lista de algoritmos para implementar, assim como fizemos nos exercicios antes deste trabalho:\n",
    "\n",
    "![l1](./images/l1.png)\n",
    "\n",
    "![l2](./images/l2.png)\n",
    "\n",
    "\n",
    "# Imports necessários"
   ]
  },
  {
   "cell_type": "code",
   "execution_count": 79,
   "metadata": {},
   "outputs": [],
   "source": [
    "import random\n",
    "import hashlib\n",
    "import os"
   ]
  },
  {
   "cell_type": "markdown",
   "metadata": {},
   "source": [
    "O SPHINCS+ é um esquema de assinatura digital baseado em *hashes* criptográficos que é seguro contra ataques de computadores quânticos. Destaca-se que é um esquema *stateless*, ou seja, não necessita de registar informações após cada assinatura."
   ]
  },
  {
   "cell_type": "markdown",
   "metadata": {},
   "source": [
    "# Parâmetros do esquema SPHINCS+"
   ]
  },
  {
   "cell_type": "code",
   "execution_count": 80,
   "metadata": {},
   "outputs": [],
   "source": [
    "# The security parameter\n",
    "n = 32\n",
    "\n",
    "# Winternitz parameter\n",
    "w = 256\n",
    "\n",
    "# Message length for WOTS\n",
    "len_1 = math.ceil(8 * n / math.log(w, 2))\n",
    "len_2 = math.floor(math.log(len_1 * (w - 1), 2) / math.log(w, 2)) + 1\n",
    "len_0 = len_1 + len_2\n",
    "\n",
    "# Hypertree height\n",
    "h = 12\n",
    "\n",
    "# Hypertree layers\n",
    "d = 3\n",
    "\n",
    "# XMSS Sub-Trees height\n",
    "h_prime = h // d\n",
    "\n",
    "# FORS trees numbers\n",
    "k = 8\n",
    "\n",
    "# FORS trees leaves number\n",
    "a = 4\n",
    "t = 2^a"
   ]
  },
  {
   "cell_type": "markdown",
   "metadata": {},
   "source": [
    "# Funções auxiliares\n",
    "\n",
    "## Strings of Base-$w$ Numbers"
   ]
  },
  {
   "cell_type": "code",
   "execution_count": 81,
   "metadata": {},
   "outputs": [],
   "source": [
    "def base_w(X, w, out_len):\n",
    "    i_in = 0\n",
    "    i_out = 0\n",
    "    ui_total = 0\n",
    "    i_bits = 0\n",
    "    basew = [None] * out_len\n",
    "\n",
    "    for consumed in range(out_len):\n",
    "        if (i_bits == 0):\n",
    "            ui_total = X[i_in]\n",
    "            i_in += 1\n",
    "            i_bits += 8\n",
    "        \n",
    "        i_bits -= log(w, 2)\n",
    "        basew[i_out] = (ui_total >> i_bits) & (w - 1)\n",
    "        i_out += 1\n",
    "\n",
    "    return basew"
   ]
  },
  {
   "cell_type": "markdown",
   "metadata": {},
   "source": [
    "## Hash Function Address Scheme (Structure of ADRS)"
   ]
  },
  {
   "cell_type": "code",
   "execution_count": 82,
   "metadata": {},
   "outputs": [],
   "source": [
    "class ADRS:\n",
    "    # TYPES\n",
    "    WOTS_HASH = 0\n",
    "    WOTS_PK = 1\n",
    "    TREE = 2\n",
    "    FORS_TREE = 3\n",
    "    FORS_ROOTS = 4\n",
    "\n",
    "    def __init__(self):\n",
    "        self.layer = 0\n",
    "        self.tree_address = 0\n",
    "        self.type = 0\n",
    "        self.word_1 = 0\n",
    "        self.word_2 = 0\n",
    "        self.word_3 = 0\n",
    "\n",
    "    def copy(self):\n",
    "        adrs = ADRS()\n",
    "        adrs.layer = self.layer\n",
    "        adrs.tree_address = self.tree_address\n",
    "        adrs.type = self.type\n",
    "        adrs.word_1 = self.word_1\n",
    "        adrs.word_2 = self.word_2\n",
    "        adrs.word_3 = self.word_3\n",
    "        return adrs\n",
    "\n",
    "    def to_bin(self):\n",
    "        adrs = int(self.layer).to_bytes(4, byteorder='big')\n",
    "        adrs += int(self.tree_address).to_bytes(12, byteorder='big')\n",
    "        adrs += int(self.type).to_bytes(4, byteorder='big')\n",
    "        adrs += int(self.word_1).to_bytes(4, byteorder='big')\n",
    "        adrs += int(self.word_2).to_bytes(4, byteorder='big')\n",
    "        adrs += int(self.word_3).to_bytes(4, byteorder='big')\n",
    "        return adrs\n",
    "\n",
    "    def reset_words(self):\n",
    "        self.word_1 = 0\n",
    "        self.word_2 = 0\n",
    "        self.word_3 = 0\n",
    "\n",
    "    def set_type(self, val):\n",
    "        self.type = val\n",
    "        self.word_2 = 0\n",
    "        self.word_3 = 0\n",
    "        self.word_1 = 0\n",
    "\n",
    "    def set_layer_address(self, val):\n",
    "        self.layer = val\n",
    "\n",
    "    def set_tree_address(self, val):\n",
    "        self.tree_address = val\n",
    "\n",
    "    def set_key_pair_address(self, val):\n",
    "        self.word_1 = val\n",
    "\n",
    "    def get_key_pair_address(self):\n",
    "        return self.word_1\n",
    "\n",
    "    def set_chain_address(self, val):\n",
    "        self.word_2 = val\n",
    "\n",
    "    def set_hash_address(self, val):\n",
    "        self.word_3 = val\n",
    "\n",
    "    def set_tree_height(self, val):\n",
    "        self.word_2 = val\n",
    "\n",
    "    def get_tree_height(self):\n",
    "        return self.word_2\n",
    "\n",
    "    def set_tree_index(self, val):\n",
    "        self.word_3 = val\n",
    "\n",
    "    def get_tree_index(self):\n",
    "        return self.word_3"
   ]
  },
  {
   "cell_type": "markdown",
   "metadata": {},
   "source": [
    "## Tweakable Hash Functions"
   ]
  },
  {
   "cell_type": "code",
   "execution_count": 83,
   "metadata": {},
   "outputs": [],
   "source": [
    "\n",
    "\n",
    "def hash(seed, adrs: ADRS, value, digest_size = n):\n",
    "    m = hashlib.sha256()\n",
    "\n",
    "    m.update(seed)\n",
    "    m.update(adrs.to_bin())\n",
    "    m.update(value)\n",
    "\n",
    "    pre_hashed = m.digest()\n",
    "    hashed = pre_hashed[:digest_size]\n",
    "\n",
    "    return hashed\n",
    "\n",
    "def prf(secret_seed, adrs):\n",
    "    random.seed(int.from_bytes(secret_seed + adrs.to_bin(), \"big\"))\n",
    "    return int(random.randint(0, 256 ^ n)).to_bytes(n, byteorder='big')\n",
    "\n",
    "def hash_msg(r, public_seed, public_root, value, digest_size=n):\n",
    "    m = hashlib.sha256()\n",
    "\n",
    "    m.update(str(r).encode('ASCII'))\n",
    "    m.update(public_seed)\n",
    "    m.update(public_root)\n",
    "    m.update(value)\n",
    "\n",
    "    pre_hashed = m.digest()\n",
    "    hashed     = pre_hashed[:digest_size]\n",
    "    i = 0\n",
    "    while len(hashed) < digest_size:\n",
    "        i += 1\n",
    "        m = hashlib.sha256()\n",
    "        \n",
    "        m.update(str(r).encode('ASCII'))\n",
    "        m.update(public_seed)\n",
    "        m.update(public_root)\n",
    "        m.update(value)\n",
    "        m.update(bytes([i]))\n",
    "\n",
    "        hashed += m.digest()[:digest_size - len(hashed)]\n",
    "\n",
    "    return hashed\n",
    "\n",
    "def prf_msg(secret_seed, opt, m):\n",
    "    random.seed(int.from_bytes(secret_seed + opt + hash_msg(b'0', b'0', b'0', m, n*2), \"big\"))\n",
    "    return int(random.randint(0, 256 ^ n)).to_bytes(n, byteorder='big')\n",
    "\n",
    "def sig_wots_from_sig_xmss(sig):\n",
    "    return sig[0:len_0]\n",
    "\n",
    "def auth_from_sig_xmss(sig):\n",
    "    return sig[len_0:]\n",
    "\n",
    "def sigs_xmss_from_sig_ht(sig):\n",
    "    sigs = []\n",
    "    for i in range(0, d):\n",
    "        sigs.append(sig[i*(h_prime + len_0):(i+1)*(h_prime + len_0)])\n",
    "    return sigs\n",
    "\n",
    "def auths_from_sig_fors(sig):\n",
    "    sigs = []\n",
    "    for i in range(0, k):\n",
    "        sigs.append([])\n",
    "        sigs[i].append(sig[(a+1) * i])\n",
    "        sigs[i].append(sig[((a+1) * i + 1):((a+1) * (i+1))])\n",
    "    return sigs"
   ]
  },
  {
   "cell_type": "markdown",
   "metadata": {},
   "source": [
    "# WOTS+ One-Time Signatures\n",
    "## Parâmetros\n",
    "\n",
    "1. $n$ - parâmetro de Segurança: trata-se do tamanho da mensagem, bem como da chave privada, pública ou assinatura em bytes.\n",
    "2. $w$ - parâmetro de Winternitz: corresponde a um elemento do conjunto $\\{4,16,256\\}$."
   ]
  },
  {
   "cell_type": "markdown",
   "metadata": {},
   "source": [
    "## WOTS+ Function chain\n",
    "A função *chain* recebe uma string $x$, uma posição inicial $i$, um número de iterações a serem realizadas $s$, uma public *seed* e um endereço WOTS+ ADRS.\n",
    "A função retorna uma iteração de um *tweakables hash* sobre um *input* de $n$ bytes usando um endereço de *hash* WOTS+ denominado ADRS e a chave pública."
   ]
  },
  {
   "cell_type": "code",
   "execution_count": 84,
   "metadata": {},
   "outputs": [],
   "source": [
    "# Input: Input string X, start index i, number of steps s, public seed PK.seed, address ADRS\n",
    "# Output: value of F iterated s times on X\n",
    "def chain(x, i, s, public_seed, adrs: ADRS):\n",
    "    if s == 0:\n",
    "        return bytes(x)\n",
    "    if (i + s) > (w - 1):\n",
    "        return -1\n",
    "    tmp = chain(x, i, s - 1, public_seed, adrs)\n",
    "    \n",
    "    adrs.set_hash_address(i + s - 1)\n",
    "    tmp = hash(public_seed, adrs, tmp, n)\n",
    "    return tmp"
   ]
  },
  {
   "cell_type": "markdown",
   "metadata": {},
   "source": [
    "## Função *wots_skGen*\n",
    "A função *wots_skGen* recebe uma *secret seed* e um endereço WOTS+ ADRS e retorna uma chave privada WOTS+ de $n$ bytes que deve ser usada para assinar uma única mensagem. Assinar mais do que uma mensagem com a mesma chave compromete a segurança do esquema."
   ]
  },
  {
   "cell_type": "code",
   "execution_count": 85,
   "metadata": {},
   "outputs": [],
   "source": [
    "# Input: secret seed SK.seed, address ADRS\n",
    "# Output: WOTS+ private key sk\n",
    "def wots_sk_gen(secret_seed, adrs: ADRS):\n",
    "    sk = []\n",
    "    for i in range(0, len_0):\n",
    "        adrs.set_chain_address(i)\n",
    "        adrs.set_hash_address(0)\n",
    "        sk.append(prf(secret_seed, adrs.copy()))\n",
    "    return sk"
   ]
  },
  {
   "cell_type": "markdown",
   "metadata": {},
   "source": [
    "## Função *wots_pkGen*\n",
    "\n",
    "A função *wots_pkGen* recebe uma *secret seed* uma *public seed* e um endereço WOTS+ ADRS. A função gera uma chave pública - $n$ *chains* de tamanho $w$."
   ]
  },
  {
   "cell_type": "code",
   "execution_count": 86,
   "metadata": {},
   "outputs": [],
   "source": [
    "# Input: secret seed SK.seed, address ADRS, public seed PK.seed\n",
    "# Output: WOTS+ public key pk\n",
    "def wots_pk_gen(secret_seed, public_seed, adrs: ADRS):\n",
    "    wots_pk_adrs = adrs.copy()\n",
    "    tmp = bytes()\n",
    "    for i in range(0, len_0):\n",
    "        adrs.set_chain_address(i)\n",
    "        adrs.set_hash_address(0)\n",
    "        sk = prf(secret_seed, adrs.copy())\n",
    "        tmp += bytes(chain(sk, 0, w - 1, public_seed, adrs.copy()))\n",
    "\n",
    "    wots_pk_adrs.set_type(ADRS.WOTS_PK)\n",
    "    wots_pk_adrs.set_key_pair_address(adrs.get_key_pair_address())\n",
    "    \n",
    "    pk = hash(public_seed, wots_pk_adrs, tmp)\n",
    "    return pk"
   ]
  },
  {
   "cell_type": "markdown",
   "metadata": {},
   "source": [
    "## Função *wots_sign*\n",
    "\n",
    "A função *wots_sign* recebe uma mensagem $m$, uma *secret seed*, uma *public seed* e um endereço WOTS+ ADRS.  \n",
    "A função trata de maepar a mensagem $m$ para $n$ inteiros entre $0$ e $w-1$. \n",
    "Começa-se por transformar a mensagem $m$ em $len_1$ números de base $w$. Depois, é realizado um *checksum* à mensagem original, transforma-se o *checksum* numa mensagem de $len_2$ número em base $w$ e somam-se as duas transformações.\n",
    "Por fim, os números na mensagem final são usados para selecionar um nodo *hash chain* diferente. A assinatura é a concatenação de todos os nodos."
   ]
  },
  {
   "cell_type": "code",
   "execution_count": 87,
   "metadata": {},
   "outputs": [],
   "source": [
    "# Input: Message M, secret seed SK.seed, public seed PK.seed, address ADRS\n",
    "# Output: WOTS+ signature sig\n",
    "def wots_sign(m, secret_seed, public_seed, adrs):\n",
    "    csum = 0\n",
    "\n",
    "    # convert message to base w\n",
    "    msg = base_w(m, w, len_1)\n",
    "\n",
    "    # compute checksum\n",
    "    for i in range(0, len_1):\n",
    "        csum += w - 1 - msg[i]\n",
    "\n",
    "    # convert csum to base w\n",
    "    if (len_2 * math.floor(math.log(w, 2))) % 8 != 0:\n",
    "        csum = csum << (8 - (len_2 * math.floor(math.log(w, 2))) % 8 )\n",
    "    len2_bytes = math.ceil((len_2 * math.floor(math.log(w, 2))) / 8)\n",
    "    msg += base_w(int(csum).to_bytes(len2_bytes, byteorder='big'), w, len_2)\n",
    "\n",
    "    sig = []\n",
    "    for i in range(0, len_0):\n",
    "        adrs.set_chain_address(i)\n",
    "        adrs.set_hash_address(0)\n",
    "        sk = prf(secret_seed, adrs.copy())\n",
    "        sig += [chain(sk, 0, msg[i], public_seed, adrs.copy())]\n",
    "\n",
    "    return sig"
   ]
  },
  {
   "cell_type": "markdown",
   "metadata": {},
   "source": [
    "## Função *wots_pkFromSig*\n",
    "\n",
    "A função *wots_pkFromSig* recebe uma assinatura *sig*, uma mensagem $m$, uma *public seed* e um endereço WOTS+ ADRS.  \n",
    "A função gera a chave pública WOTS+ através da assinatura *sig*. Diferente da função *wots_sign*, a função *wots_pkFromSig* usa a assinatura, ao invés da chave secreta, e começa a iterarar na posição $i$ da mensagem trasformada $w-1-msg[i]$ vezes."
   ]
  },
  {
   "cell_type": "code",
   "execution_count": 88,
   "metadata": {},
   "outputs": [],
   "source": [
    "def wots_pk_from_sig(sig, m, public_seed, adrs: ADRS):\n",
    "    csum = 0\n",
    "    wots_pk_adrs = adrs.copy()\n",
    "\n",
    "    # convert message to base w\n",
    "    msg = base_w(m, w, len_1)\n",
    "\n",
    "    # compute checksum\n",
    "    for i in range(0, len_1):\n",
    "        csum += w - 1 - msg[i]\n",
    "\n",
    "    # convert csum to base w\n",
    "    if (len_2 * math.floor(math.log(w, 2))) % 8 != 0:\n",
    "        padding = (len_2 * math.floor(math.log(w, 2))) % 8 \n",
    "    else:\n",
    "        padding = 8\n",
    "    csum = csum << (8 - padding)\n",
    "    msg += base_w(int(csum).to_bytes(math.ceil((len_2 * math.floor(math.log(w, 2))) / 8), byteorder='big'), w, len_2)\n",
    "\n",
    "    tmp = bytes()\n",
    "    for i in range(0, len_0):\n",
    "        adrs.set_chain_address(i)\n",
    "        tmp += chain(sig[i], msg[i], w - 1 - msg[i], public_seed, adrs.copy())\n",
    "\n",
    "    wots_pk_adrs.set_type(ADRS.WOTS_PK)\n",
    "    wots_pk_adrs.set_key_pair_address(adrs.get_key_pair_address())\n",
    "    pk_sig = hash(public_seed, wots_pk_adrs, tmp)\n",
    "    return pk_sig"
   ]
  },
  {
   "cell_type": "markdown",
   "metadata": {},
   "source": [
    "# The SPHINCS+ Hypertree\n",
    "## (Fixed Input-Length) XMSS\n",
    "###  XMSS Parameters\n",
    "\n",
    "1. $h$ - Altura da árvore (número de níveis - 1);\n",
    "2. $n$ - Parâmetro de segurança, i.e., tamanho em bytes das mensagens bem como de cada nodo.\n",
    "3. $w$ - Parâmetro de Winternitz.\n",
    "\n",
    "A árvore tem $2^h$ folhas (as folhas são as chaves públicas WOTS+), i.e., um par de chaves XMSS para uma altura $h$ pode ser usado para assinar $2^h$ mensagens diferentes."
   ]
  },
  {
   "cell_type": "markdown",
   "metadata": {},
   "source": [
    "### Função *treehash*\n",
    "\n",
    "A função *treehash* recebe uma *secret seed*, um índice inicial $s$, a altura do nodo escolhido $z$, uma *public seed* e um endereço que codifica a árvore ADRS.  \n",
    "A função retorna a raíz de uma árvore de altura $z$ com a folha mais à esquerda, estando a chave pública WOTS+ no índice $s$."
   ]
  },
  {
   "cell_type": "code",
   "execution_count": 89,
   "metadata": {},
   "outputs": [],
   "source": [
    "# Input: Secret seed SK.seed, start index s, target node height z, public seed PK.seed, address ADRS\n",
    "# Output: n-byte root node - top node on Stack\n",
    "def treehash(secret_seed, s, z, public_seed, adrs: ADRS):\n",
    "    if s % (1 << z) != 0:\n",
    "        return -1\n",
    "\n",
    "    stack = []\n",
    "\n",
    "    for i in range(0, 2^z):\n",
    "        adrs.set_type(ADRS.WOTS_HASH)\n",
    "        adrs.set_key_pair_address(s + i)\n",
    "        node = wots_pk_gen(secret_seed, public_seed, adrs.copy())\n",
    "\n",
    "        adrs.set_type(ADRS.TREE)\n",
    "        adrs.set_tree_height(1)\n",
    "        adrs.set_tree_index(s + i)\n",
    "\n",
    "        if len(stack) > 0:\n",
    "            while stack[len(stack) - 1]['height'] == adrs.get_tree_height():\n",
    "                adrs.set_tree_index((adrs.get_tree_index() - 1) // 2)\n",
    "                node = hash(public_seed, adrs.copy(), stack.pop()['node'] + node, n)\n",
    "                adrs.set_tree_height(adrs.get_tree_height() + 1)\n",
    "\n",
    "                if len(stack) <= 0:\n",
    "                    break\n",
    "\n",
    "        stack.append({'node': node, 'height': adrs.get_tree_height()})\n",
    "\n",
    "    return stack.pop()['node']"
   ]
  },
  {
   "cell_type": "markdown",
   "metadata": {},
   "source": [
    "### Função *xmss_PKgen*\n",
    "\n",
    "A função *xmss_PKgen* recebe uma *secret seed*, uma *public key*, e um endereço ADRS.\n",
    "A função recorre à função *treehash* para gerar a chave pública."
   ]
  },
  {
   "cell_type": "code",
   "execution_count": 90,
   "metadata": {},
   "outputs": [],
   "source": [
    "# Input: Secret seed SK.seed, public seed PK.seed, address ADRS\n",
    "# Output: XMSS public key PK\n",
    "def xmss_pk_gen(secret_seed, public_key, adrs: ADRS):\n",
    "    pk = treehash(secret_seed, 0, h_prime, public_key, adrs.copy())\n",
    "    return pk"
   ]
  },
  {
   "cell_type": "markdown",
   "metadata": {},
   "source": [
    "### Função xmss_sign\n",
    "\n",
    "A função *xmss_sign* recebe uma mensagem $m$, uma *secret seed*, o índice do par de chaves WOTS+ *idx*, uma *public seed* e um endereço ADRS.\n",
    "O objetivo é gerar uma assinatura XMSS. Estas assinaturas têm tamanho $(len_0 + h) * n$ e são compostas por uma assinatura WOTS+ de tamanho *len_0* e o caminho de autenticação AUTH para a folha associada ao par de chaves usadas na assinatura WOTS+."
   ]
  },
  {
   "cell_type": "code",
   "execution_count": 91,
   "metadata": {},
   "outputs": [],
   "source": [
    "# Input: n-byte message M, secret seed SK.seed, index idx, public seed PK.seed, address ADRS\n",
    "# Output: XMSS signature SIG_XMSS = (sig || AUTH)\n",
    "def xmss_sign(m, secret_seed, idx, public_seed, adrs):\n",
    "    # build authentication path\n",
    "    auth = []\n",
    "    for j in range(0, h_prime):\n",
    "        ki = math.floor(idx // 2^j)\n",
    "        if ki % 2 == 1:\n",
    "            ki -= 1\n",
    "        else:\n",
    "            ki += 1\n",
    "        auth += [treehash(secret_seed, ki * 2^j, j, public_seed, adrs.copy())]\n",
    "\n",
    "    adrs.set_type(ADRS.WOTS_HASH)\n",
    "    adrs.set_key_pair_address(idx)\n",
    "    sig = wots_sign(m, secret_seed, public_seed, adrs.copy())\n",
    "    sig_xmss = sig + auth\n",
    "    return sig_xmss"
   ]
  },
  {
   "cell_type": "markdown",
   "metadata": {},
   "source": [
    "### Função *xmss_pkFromSig*\n",
    "\n",
    "A função *xmss_pkFromSig* recebe o indice da assinatura *idx*, uma assinatura XMSS *sig_xmss*, uma mensagem $m$, uma *public seed* e um endereço ADRS.  \n",
    "A partir da função $wots_pk_from_sig$, obtém-se um candidato a chave pública WOTS+, que é usado com os valores do AUTH para obter o nodo da raiz."
   ]
  },
  {
   "cell_type": "code",
   "execution_count": 92,
   "metadata": {},
   "outputs": [],
   "source": [
    "# Input: index idx, XMSS signature SIG_XMSS = (sig || AUTH), n-byte message M, public seed PK.seed, address ADRS\n",
    "# Output: n-byte root value node[0]\n",
    "def xmss_pk_from_sig(idx, sig_xmss, m, public_seed, adrs):\n",
    "    # compute WOTS+ pk from WOTS+ sig\n",
    "    adrs.set_type(ADRS.WOTS_HASH)\n",
    "    adrs.set_key_pair_address(idx)\n",
    "    sig = sig_wots_from_sig_xmss(sig_xmss)\n",
    "    auth = auth_from_sig_xmss(sig_xmss)\n",
    "\n",
    "    node0 = wots_pk_from_sig(sig, m, public_seed, adrs.copy())\n",
    "    node1 = 0\n",
    "\n",
    "    # compute root from WOTS+ pk and AUTH\n",
    "    adrs.set_type(ADRS.TREE)\n",
    "    adrs.set_tree_index(idx)\n",
    "    for i in range(0, h_prime):\n",
    "        adrs.set_tree_height(i + 1)\n",
    "        if math.floor(idx / 2^i) % 2 == 0:\n",
    "            adrs.set_tree_index(adrs.get_tree_index() // 2)\n",
    "            node1 = hash(public_seed, adrs.copy(), node0 + auth[i], n)\n",
    "        else:\n",
    "            adrs.set_tree_index( (adrs.get_tree_index() - 1) // 2)\n",
    "            node1 = hash(public_seed, adrs.copy(), auth[i] + node0, n)\n",
    "        node0 = node1\n",
    "\n",
    "    return node0  "
   ]
  },
  {
   "cell_type": "markdown",
   "metadata": {},
   "source": [
    "## HT: The Hypertee\n",
    "###  HT Parameters\n",
    "\n",
    "1. h  - Altura da árvore;\n",
    "2. d  - Número de camandas de árvores XMSS existentes;\n",
    "3. h' - Altura das (sub-)árvores XMSS, que é igual a *h // d*;\n",
    "4. w  - Parâmetro de Winternitz."
   ]
  },
  {
   "cell_type": "markdown",
   "metadata": {},
   "source": [
    "### Função *ht_PKgen*\n",
    "\n",
    "A função *ht_PKgen* recebe uma *secret seed* e uma *public seed*.\n",
    "A partir da *secret seed*, a função gera todas as chaves privadas WOTS+ da HyperTree."
   ]
  },
  {
   "cell_type": "code",
   "execution_count": 93,
   "metadata": {},
   "outputs": [],
   "source": [
    "# Input: Private seed SK.seed, public seed PK.seed\n",
    "# Output: HT public key PK_HT\n",
    "def ht_pk_gen(secret_seed, public_seed):\n",
    "    adrs = ADRS()\n",
    "    adrs.set_layer_address(d - 1)\n",
    "    adrs.set_tree_address(0)\n",
    "    root = xmss_pk_gen(secret_seed, public_seed, adrs.copy())\n",
    "    return root"
   ]
  },
  {
   "cell_type": "markdown",
   "metadata": {},
   "source": [
    "### Função *ht_sign*\n",
    "\n",
    "A função *ht_sign* recebe uma mensagem $m$, uma *secret seed*, uma *public seed*, o índice *idx_tree* da sub-árvore da HyperTree (árvore XMSS) e o índice idx_leaf da folha da árvore XMSS.\n",
    "O objetivo é assinar a mensagem $m$. A assinatura será uma string de bytes de tamanho $(h+d*len_0)*n$, i.e. $d$ assinaturas XMSS de tamanho $((h/d)+len_0)*n$.  \n",
    "Começa-se por assinar a mensagem a partir do endereço da árvore escolhida. Depois, assina-se consecutivamente a partir das árvores XMSS que estão no caminho desde a árvore escolhida à raiz da HyperTree. "
   ]
  },
  {
   "cell_type": "code",
   "execution_count": 94,
   "metadata": {},
   "outputs": [],
   "source": [
    "# Input: Message M, private seed SK.seed, public seed PK.seed, tree index idx_tree, leaf index idx_leaf\n",
    "# Output: HT signature SIG_HT\n",
    "def ht_sign(m, secret_seed, public_seed, idx_tree, idx_leaf):\n",
    "    # init\n",
    "    adrs = ADRS()\n",
    "\n",
    "    # sign\n",
    "    adrs.set_layer_address(0)\n",
    "    adrs.set_tree_address(idx_tree)\n",
    "    sig_tmp = xmss_sign(m, secret_seed, idx_leaf, public_seed, adrs.copy())\n",
    "    sig_ht = sig_tmp\n",
    "    root = xmss_pk_from_sig(idx_leaf, sig_tmp, m, public_seed, adrs.copy())\n",
    "    for j in range(1, d):\n",
    "        idx_leaf = idx_tree % 2^h_prime\n",
    "        idx_tree = idx_tree >> h_prime\n",
    "        adrs.set_layer_address(j)\n",
    "        adrs.set_tree_address(idx_tree)\n",
    "        sig_tmp = xmss_sign(root, secret_seed, idx_leaf, public_seed, adrs.copy())\n",
    "        sig_ht = sig_ht + sig_tmp\n",
    "        if j < d - 1:\n",
    "            root = xmss_pk_from_sig(idx_leaf, sig_tmp, root, public_seed, adrs.copy())\n",
    "\n",
    "    return sig_ht"
   ]
  },
  {
   "cell_type": "markdown",
   "metadata": {},
   "source": [
    "### Função *ht_verify*\n",
    "\n",
    "A função *ht_sign* recebe uma mensagem $m$, uma assinatura *sig_ht*, uma *public seed*, o índice *idx_tree* da sub-árvore da HyperTree (i.e. uma árvore XMSS) a ser usada para assinar a mensagem, o índice *idx_leaf* da folha da árvore XMSS a ser usada para assinar a mensagem e a chave pública da HyperTree *public_key_ht*.\n",
    "A verificação de assinatura HyperTree pode ser resumida em comparar o valor recebdio com as $d$ iterações de *xmss_pkFromSig*."
   ]
  },
  {
   "cell_type": "code",
   "execution_count": 95,
   "metadata": {},
   "outputs": [],
   "source": [
    "# Input: Message M, signature SIG_HT, public seed PK.seed, tree index idx_tree, leaf index idx_leaf, HT public key PK_HT\n",
    "# Output: Boolean\n",
    "def ht_verify(m, sig_ht, public_seed, idx_tree, idx_leaf, public_key_ht):\n",
    "    # init\n",
    "    adrs = ADRS()\n",
    "\n",
    "    # verify\n",
    "    sigs_xmss = sigs_xmss_from_sig_ht(sig_ht)\n",
    "    sig_tmp = sigs_xmss[0]\n",
    "    adrs.set_layer_address(0)\n",
    "    adrs.set_tree_address(idx_tree)\n",
    "    node = xmss_pk_from_sig(idx_leaf, sig_tmp, m, public_seed, adrs)\n",
    "    for j in range(1, d):\n",
    "        idx_leaf = idx_tree % 2^h_prime\n",
    "        idx_tree = idx_tree >> h_prime\n",
    "        sig_tmp = sigs_xmss[j]\n",
    "        adrs.set_layer_address(j)\n",
    "        adrs.set_tree_address(idx_tree)\n",
    "        node = xmss_pk_from_sig(idx_leaf, sig_tmp, node, public_seed, adrs)\n",
    "    if node == public_key_ht:\n",
    "        return True\n",
    "    else:\n",
    "        return False"
   ]
  },
  {
   "cell_type": "markdown",
   "metadata": {},
   "source": [
    "# FORS: Forest Of Random Subsets\n",
    "\n",
    "## FORS Parameters\n",
    "1. $n$ - Parâmetro de segurança: tamanho da chave privada, da chave pública ou da assinatura em bytes;\n",
    "2. $k$ - Número de *sets* da chave privada, de árvores e de indices computados da string de input; \n",
    "3. $t$ - Número de elementos em cada *set* da chave privada, número de folhas por *hash tree* e o majorante de todos os índices. Tem de ser múltiplo de 2, portanto, $t=2^a$ para um dado $a$. Escolheu-se $a=4$."
   ]
  },
  {
   "cell_type": "markdown",
   "metadata": {},
   "source": [
    "## Função *fors_SKgen*\n",
    "A função *fors_SKgen* recebe uma *secret_seed*, um endereço FORS ADRS, e o índice *idx* da folha a ser usada.  \n",
    "O objetivo é gerar a chave privada FORS.\n"
   ]
  },
  {
   "cell_type": "code",
   "execution_count": 96,
   "metadata": {},
   "outputs": [],
   "source": [
    "# Input: secret seed SK.seed, address ADRS, secret key index idx = it+j\n",
    "# Output: FORS private key sk\n",
    "def fors_sk_gen(secret_seed, adrs: ADRS, idx):\n",
    "    adrs.set_tree_height(0)\n",
    "    adrs.set_tree_index(idx)\n",
    "    sk = prf(secret_seed, adrs.copy())\n",
    "    return sk"
   ]
  },
  {
   "cell_type": "markdown",
   "metadata": {},
   "source": [
    "## Função *fors_treehash*\n",
    "\n",
    "A função *fors_treehash* recebe uma *secret_seed*, o índice de partida $s$, a altura do nodo a calcular $z$, uma *public_seed* e um endereço que codifica o par de chaves FORS.\n",
    "A função retorna a raiz de uma árvore de altura $z$, sendo a folha mais à esquerda no índice $s$ a chave pública FORS."
   ]
  },
  {
   "cell_type": "code",
   "execution_count": 97,
   "metadata": {},
   "outputs": [],
   "source": [
    "# Input: Secret seed SK.seed, start index s, target node height z, public seed PK.seed, address ADRS\n",
    "# Output: n-byte root node - top node on Stack\n",
    "def fors_treehash(secret_seed, s, z, public_seed, adrs):\n",
    "    if s % (1 << z) != 0:\n",
    "        return -1\n",
    "\n",
    "    stack = []\n",
    "    for i in range(0, 2^z):\n",
    "        adrs.set_tree_height(0)\n",
    "        adrs.set_tree_index(s + i)\n",
    "        sk = prf(secret_seed, adrs.copy())\n",
    "        node = hash(public_seed, adrs.copy(), sk, n)\n",
    "        adrs.set_tree_height(1)\n",
    "        adrs.set_tree_index(s + i)\n",
    "        if len(stack) > 0:\n",
    "            while stack[len(stack) - 1]['height'] == adrs.get_tree_height():\n",
    "                adrs.set_tree_index((adrs.get_tree_index() - 1) // 2)\n",
    "                node = hash(public_seed, adrs.copy(), stack.pop()['node'] + node, n)\n",
    "                adrs.set_tree_height(adrs.get_tree_height() + 1)\n",
    "                if len(stack) <= 0:\n",
    "                    break\n",
    "        stack.append({'node': node, 'height': adrs.get_tree_height()})\n",
    "\n",
    "    return stack.pop()['node']"
   ]
  },
  {
   "cell_type": "markdown",
   "metadata": {},
   "source": [
    "## Função *fors_PKgen*\n",
    "\n",
    "A função *fors_PKgen* recebe uma *secret_seed*, uma *public_seed* e um edereço FORS ADRS.  \n",
    "O objetivo é gerar, com recurso à função $fors_treehash$ e uma *tweakable hash function*, uma chave pública FORS."
   ]
  },
  {
   "cell_type": "code",
   "execution_count": 98,
   "metadata": {},
   "outputs": [],
   "source": [
    "# Input: Secret seed SK.seed, public seed PK.seed, address ADRS\n",
    "# Output: FORS public key PK\n",
    "def fors_pk_gen(secret_seed, public_seed, adrs: ADRS):\n",
    "    fors_pk_adrs = adrs.copy() # copy address to create FTS public key address\n",
    "\n",
    "    root = bytes()\n",
    "    for i in range(0, k):\n",
    "        root += fors_treehash(secret_seed, i * t, a, public_seed, adrs)\n",
    "    fors_pk_adrs.set_type(ADRS.FORS_ROOTS)\n",
    "    fors_pk_adrs.set_key_pair_address(adrs.get_key_pair_address())\n",
    "    pk = hash(public_seed, fors_pk_adrs, root)\n",
    "    return pk"
   ]
  },
  {
   "cell_type": "markdown",
   "metadata": {},
   "source": [
    "## Função *fors_sign*\n",
    "\n",
    "A função *fors_sign* recebe uma menagem $m$, uma *secret_seed*, uma *public_seed* e um endereço ADRS.  \n",
    "O objetivo é gerar uma assinatura de tamanho $k(log2(t)+1)$ com strings de tamanho $n$. Essa assinatura contem $k$ valores da chave privada, com $n$ bytes cada, e os respetivos caminhos de autenticação AUTH."
   ]
  },
  {
   "cell_type": "code",
   "execution_count": 99,
   "metadata": {},
   "outputs": [],
   "source": [
    "# Input: Bit string M, secret seed SK.seed, address ADRS, public seed PK.seed\n",
    "# Output: FORS signature SIG_FORS\n",
    "def fors_sign(m, secret_seed, public_seed, adrs):\n",
    "    # compute signature elements\n",
    "    m_int = int.from_bytes(m, 'big')\n",
    "\n",
    "    sig_fors = []\n",
    "    for i in range(0, k):\n",
    "        # get next index\n",
    "        idx = (m_int >> (k - 1 - i) * a) % t\n",
    "\n",
    "        # pick private key element\n",
    "        adrs.set_tree_height(0)\n",
    "        adrs.set_tree_index(i * t + idx)\n",
    "        sig_fors += [prf(secret_seed, adrs.copy())]\n",
    "\n",
    "        # compute auth path\n",
    "        auth = []\n",
    "        for j in range(0, a):\n",
    "            s = math.floor(idx // 2 ^ j)\n",
    "            if s % 2 == 1:\n",
    "                s -= 1\n",
    "            else:\n",
    "                s += 1\n",
    "            auth += [fors_treehash(secret_seed, i * t + s * 2^j, j, public_seed, adrs.copy())]\n",
    "        sig_fors += auth\n",
    "\n",
    "    return sig_fors"
   ]
  },
  {
   "cell_type": "markdown",
   "metadata": {},
   "source": [
    "## Função *fors_pkFromSig*\n",
    "\n",
    "A função *fors_pkFromSig* recebe uma sssinatura *sig_fors*, uma mensagem $m$, uma *public_seed* e um endereço ADRS.  \n",
    "O objetivo é gerar a chave pública a partir da assinatura."
   ]
  },
  {
   "cell_type": "code",
   "execution_count": 100,
   "metadata": {},
   "outputs": [],
   "source": [
    "# Input: FORS signature SIG_FORS, (k lg t)-bit string M, public seed PK.seed, address ADRS\n",
    "# Output: FORS public key\n",
    "def fors_pk_from_sig(sig_fors, m, public_seed, adrs: ADRS):\n",
    "    m_int = int.from_bytes(m, 'big')\n",
    "\n",
    "    sigs = auths_from_sig_fors(sig_fors)\n",
    "    root = bytes()\n",
    "\n",
    "    # compute roots\n",
    "    for i in range(0, k):\n",
    "        # get next index\n",
    "        idx = (m_int >> (k - 1 - i) * a) % t\n",
    "\n",
    "        # compute leaf\n",
    "        sk = sigs[i][0]\n",
    "        adrs.set_tree_height(0)\n",
    "        adrs.set_tree_index(i * t + idx)\n",
    "        node_0 = hash(public_seed, adrs.copy(), sk)\n",
    "        node_1 = 0\n",
    "\n",
    "        # compute root from lead and AUTH\n",
    "        auth = sigs[i][1]\n",
    "        adrs.set_tree_index(i * t + idx) \n",
    "\n",
    "        for j in range(0, a):\n",
    "            adrs.set_tree_height(j+1)\n",
    "\n",
    "            if math.floor(idx / 2^j) % 2 == 0:\n",
    "                adrs.set_tree_index(adrs.get_tree_index() // 2)\n",
    "                node_1 = hash(public_seed, adrs.copy(), node_0 + auth[j], n)\n",
    "            else:\n",
    "                adrs.set_tree_index((adrs.get_tree_index() - 1) // 2)\n",
    "                node_1 = hash(public_seed, adrs.copy(), auth[j] + node_0, n)\n",
    "\n",
    "            node_0 = node_1\n",
    "\n",
    "        root += node_0\n",
    "\n",
    "    fors_pk_adrs = adrs.copy() # copy address to create FTS public key address\n",
    "    fors_pk_adrs.set_type(ADRS.FORS_ROOTS)\n",
    "    fors_pk_adrs.set_key_pair_address(adrs.get_key_pair_address())\n",
    "\n",
    "    pk = hash(public_seed, fors_pk_adrs, root, n)\n",
    "    return pk"
   ]
  },
  {
   "cell_type": "markdown",
   "metadata": {},
   "source": [
    "# SPHINCS+"
   ]
  },
  {
   "cell_type": "markdown",
   "metadata": {},
   "source": [
    "## Função *slh_keygen*\n",
    "\n",
    "São gerados: *secret_seed*, *secret_prf* e *public_seed*.\n",
    "A função retorna dois arrays: *[secret_seed, secret_prf, public_seed, public_root]* como sendo a *private key* e \n",
    "*[public_seed, public_root]* como sendo a *public key*."
   ]
  },
  {
   "cell_type": "code",
   "execution_count": 101,
   "metadata": {},
   "outputs": [],
   "source": [
    "\n",
    "# Input: (none)\n",
    "# Output: SPHINCS+ key pair (SK,PK)\n",
    "def slh_key_gen():\n",
    "    secret_seed = os.urandom(n)\n",
    "    secret_prf = os.urandom(n)\n",
    "    public_seed = os.urandom(n)\n",
    "\n",
    "    public_root = ht_pk_gen(secret_seed, public_seed)\n",
    "\n",
    "    return [secret_seed, secret_prf, public_seed, public_root], [public_seed, public_root]"
   ]
  },
  {
   "cell_type": "markdown",
   "metadata": {},
   "source": [
    "## Função *slh_sign*\n",
    "\n",
    "A função *spx_sign* recebe uma mensagem $m$, e a chave secreta *secret_key*.\n",
    "Ela gera uma assinatura de tamanho $(1+k(a+1)+h+d*len_0)*n$ sobre a mensagem recebida. A assinatura é constituida por uma string $R$ aleatória de $n$ bytes, uma assinatura FORS com $k(a+1)$ strings de tamanho $n$ e uma assinatura da HyperTree com  $h+d*len_0$ strings de $n$ bytes."
   ]
  },
  {
   "cell_type": "code",
   "execution_count": 102,
   "metadata": {},
   "outputs": [],
   "source": [
    "RANDOMIZE = True\n",
    "\n",
    "# Input: Message M, private key SK = (SK.seed, SK.prf, PK.seed, PK.root)\n",
    "# Output: SPHINCS+ signature SIG\n",
    "def slh_sign(m, secret_key):\n",
    "    # Init\n",
    "    adrs = ADRS()\n",
    "    secret_seed = secret_key[0]\n",
    "    secret_prf = secret_key[1]\n",
    "    public_seed = secret_key[2]\n",
    "    public_root = secret_key[3]\n",
    "\n",
    "    # Generate randomizer\n",
    "    opt = bytes(n)\n",
    "    if RANDOMIZE:\n",
    "        opt = os.urandom(n)\n",
    "    r = prf_msg(secret_prf, opt, m)\n",
    "    sig = [r]\n",
    "    \n",
    "    size_md = math.floor((k * a + 7) / 8)\n",
    "    size_idx_tree = math.floor((h - h // d + 7) / 8)\n",
    "    size_idx_leaf = math.floor((h // d + 7) / 8)\n",
    "    \n",
    "    # compute message digest and index\n",
    "    digest = hash_msg(r, public_seed, public_root, m, size_md + size_idx_tree + size_idx_leaf)\n",
    "    tmp_md = digest[:size_md]\n",
    "    tmp_idx_tree = digest[size_md:(size_md + size_idx_tree)]\n",
    "    tmp_idx_leaf = digest[(size_md + size_idx_tree):len(digest)]\n",
    "    \n",
    "    md_int = int.from_bytes(tmp_md, 'big') >> (len(tmp_md) * 8 - k * a)\n",
    "    md = int(md_int).to_bytes(math.ceil(k * a / 8), 'big')\n",
    "    idx_tree = int.from_bytes(tmp_idx_tree, 'big') >> (len(tmp_idx_tree) * 8 - (h - h // d))\n",
    "    idx_leaf = int.from_bytes(tmp_idx_leaf, 'big') >> (len(tmp_idx_leaf) * 8 - (h // d))\n",
    "    \n",
    "    # FORS sign\n",
    "    adrs.set_layer_address(0)\n",
    "    adrs.set_tree_address(idx_tree)\n",
    "    adrs.set_type(ADRS.FORS_TREE)\n",
    "    adrs.set_key_pair_address(idx_leaf)\n",
    "\n",
    "    sig_fors = fors_sign(md, secret_seed, public_seed, adrs.copy())\n",
    "    sig += [sig_fors]\n",
    "    \n",
    "    # get FORS public key\n",
    "    pk_fors = fors_pk_from_sig(sig_fors, md, public_seed, adrs.copy())\n",
    "    \n",
    "    # sign FORS public key with HT\n",
    "    adrs.set_type(ADRS.TREE)\n",
    "    sig_ht = ht_sign(pk_fors, secret_seed, public_seed, idx_tree, idx_leaf)\n",
    "    sig += [sig_ht]\n",
    "\n",
    "    return sig"
   ]
  },
  {
   "cell_type": "markdown",
   "metadata": {},
   "source": [
    "## Função *slh_verify*\n",
    "\n",
    "A função *spx_verify* recebe uma mensagem $m$, uma assinatura *sig* e uma chave publica *public_key*.\n",
    "A função calcula o *digest* da mensagem e recorre às funções $fors_pk_from_sig$ e $ht_verify$ para verificar se a assinatura corresponde à mensagem."
   ]
  },
  {
   "cell_type": "code",
   "execution_count": 103,
   "metadata": {},
   "outputs": [],
   "source": [
    "# Input: Message M, signature SIG, public key PK\n",
    "# Output: Boolean\n",
    "def slh_verify(m, sig, public_key):\n",
    "    # init\n",
    "    adrs = ADRS()\n",
    "    r = sig[0]\n",
    "    sig_fors = sig[1]\n",
    "    sig_ht = sig[2]\n",
    "\n",
    "    public_seed = public_key[0]\n",
    "    public_root = public_key[1]\n",
    "    \n",
    "    size_md = math.floor((k * a + 7) / 8)\n",
    "    size_idx_tree = math.floor((h - h // d + 7) / 8)\n",
    "    size_idx_leaf = math.floor((h // d + 7) / 8)\n",
    "    \n",
    "    # compute message digest and index\n",
    "    digest = hash_msg(r, public_seed, public_root, m, size_md + size_idx_tree + size_idx_leaf)\n",
    "    tmp_md = digest[:size_md]\n",
    "    tmp_idx_tree = digest[size_md:(size_md + size_idx_tree)]\n",
    "    tmp_idx_leaf = digest[(size_md + size_idx_tree):len(digest)]\n",
    "\n",
    "    md_int = int.from_bytes(tmp_md, 'big') >> (len(tmp_md) * 8 - k * a)\n",
    "    md = int(md_int).to_bytes(math.ceil(k * a / 8), 'big')\n",
    "    idx_tree = int.from_bytes(tmp_idx_tree, 'big') >> (len(tmp_idx_tree) * 8 - (h - h // d))\n",
    "    idx_leaf = int.from_bytes(tmp_idx_leaf, 'big') >> (len(tmp_idx_leaf) * 8 - (h // d))\n",
    "\n",
    "    # compute FORS public key\n",
    "    adrs.set_layer_address(0)\n",
    "    adrs.set_tree_address(idx_tree)\n",
    "    adrs.set_type(ADRS.FORS_TREE)\n",
    "    adrs.set_key_pair_address(idx_leaf)\n",
    "\n",
    "    pk_fors = fors_pk_from_sig(sig_fors, md, public_seed, adrs)\n",
    "\n",
    "    # verify HT signature\n",
    "    adrs.set_type(ADRS.TREE)\n",
    "    return ht_verify(pk_fors, sig_ht, public_seed, idx_tree, idx_leaf, public_root)"
   ]
  },
  {
   "cell_type": "markdown",
   "metadata": {},
   "source": [
    "# Exemplo de teste"
   ]
  },
  {
   "cell_type": "code",
   "execution_count": 104,
   "metadata": {},
   "outputs": [
    {
     "name": "stdout",
     "output_type": "stream",
     "text": [
      "Private key:\n",
      " [b'\\xb9f\\x0es\\xdcTC\\x1e\\xd4\\x7f\\xec\\xab+\\x0e\\xbc\\xe4\\xa7;}\\x8e/cu-&N|\\x92\\x00]\\xd2\\xfb', b'\\x9d\\xa3\\x02\\x0e\\xdd\\x87\\x86\\xfd\\xf8\\x00V\\n\\xf9\\xb4\\x94@\\x14J\\x96h+\\x14\\xa2\\x87\\xec\\x81\\xa8\\x02x\\xa9\\xfd\\x05', b'\\x04\\x86W\\xf1\\'!i\\x04\\t\\xf7\\x1f\\xb1\"f!\\x1ad\\xed\\x1c:\\x9c\\xec\\rf.\\x9f\\xd4\\x82\\x90\\xa1\\x1f\\x8e', b'3Qu\\xcf7\\xa3-\\xe9l\\x14\\xc1 \\xec\\xd8G\\xb9\\x04\\xec<\\x95\\xe0J\\xfat~3\\x1e\\xe6Q:}\\x93']\n",
      "\n",
      "Public key:\n",
      " [b'\\x04\\x86W\\xf1\\'!i\\x04\\t\\xf7\\x1f\\xb1\"f!\\x1ad\\xed\\x1c:\\x9c\\xec\\rf.\\x9f\\xd4\\x82\\x90\\xa1\\x1f\\x8e', b'3Qu\\xcf7\\xa3-\\xe9l\\x14\\xc1 \\xec\\xd8G\\xb9\\x04\\xec<\\x95\\xe0J\\xfat~3\\x1e\\xe6Q:}\\x93']\n",
      "\n",
      "Message to be signed:\n",
      " b'Hello there!'\n",
      "\n",
      "Verifying signature...\n",
      " True\n"
     ]
    }
   ],
   "source": [
    "# Generate key pair\n",
    "sk, pk = slh_key_gen()\n",
    "\n",
    "print(\"Private key:\\n\", sk)\n",
    "print(\"Public key:\\n\", pk)\n",
    "\n",
    "m = b'Mensagem teste!!!!!! :)'\n",
    "print(\"\\nMessage to be signed:\\n\", m)\n",
    "\n",
    "s = slh_sign(m, sk)\n",
    "\n",
    "print(\"\\nVerifying signature...\\n\", slh_verify(m, s, pk))"
   ]
  }
 ],
 "metadata": {
  "kernelspec": {
   "display_name": "SageMath 10.2",
   "language": "sage",
   "name": "sagemath"
  },
  "language_info": {
   "codemirror_mode": {
    "name": "ipython",
    "version": 3
   },
   "file_extension": ".py",
   "mimetype": "text/x-python",
   "name": "python",
   "nbconvert_exporter": "python",
   "pygments_lexer": "ipython3",
   "version": "3.9.19"
  }
 },
 "nbformat": 4,
 "nbformat_minor": 2
}
