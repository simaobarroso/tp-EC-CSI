{
 "cells": [
  {
   "cell_type": "markdown",
   "metadata": {},
   "source": [
    "# Estruturas Criptográficas - Criptografia e Segurança da Informação\n",
    "\n",
    "[Grupo 03](https://paper.dropbox.com/doc/Estruturas-Criptograficas-2023-2024-Trabalhos-Praticos-8WcsdZARGLv0nXS9KasmK)\n",
    "\n",
    "(PG54177) Ricardo Alves Oliveira \n",
    "\n",
    "(PG54236) Simão Oliveira Alvim Barroso\n",
    "\n",
    "## TP4 - Exercício 2\n",
    "\n",
    "Implemente um protótipo do esquema descrito  na norma FIPS 205 que deriva do algoritmo SPHINCS+.\n",
    "\n"
   ]
  },
  {
   "cell_type": "markdown",
   "metadata": {},
   "source": [
    "A nossa resolução baseou-se principalmente no FIPS 205. Também tiramos algumas inspirações de recursos que encontramos na internet como [o paper de submissão ao concurso pós-quantico da NIST](./docs/sphincs.pdf).\n",
    "\n",
    "Temos portanto uma lista de algoritmos para implementar, assim como fizemos nos exercicios antes deste trabalho:\n",
    "\n",
    "![l1](./images/l1.png)\n",
    "\n",
    "![l2](./images/l2.png)\n",
    "\n",
    "\n",
    "### Imports necessários"
   ]
  },
  {
   "cell_type": "code",
   "execution_count": 1,
   "metadata": {},
   "outputs": [],
   "source": [
    "import random\n",
    "import hashlib\n",
    "import os"
   ]
  },
  {
   "cell_type": "markdown",
   "metadata": {},
   "source": [
    "O SPHINCS+ é um esquema de assinatura digital baseado em *hashes* criptográficos que é seguro contra ataques de computadores quânticos. Destaca-se que é um esquema *stateless*, ou seja, não necessita de registar informações após cada assinatura."
   ]
  },
  {
   "cell_type": "markdown",
   "metadata": {},
   "source": [
    "### Parâmetros do esquema SPHINCS+"
   ]
  },
  {
   "cell_type": "code",
   "execution_count": 2,
   "metadata": {},
   "outputs": [],
   "source": [
    "n = 32 # The security parameter\n",
    "w = 256\n",
    "len_1 = math.ceil(8 * n / math.log(w, 2))\n",
    "len_2 = math.floor(math.log(len_1 * (w - 1), 2) / math.log(w, 2)) + 1\n",
    "len_0 = len_1 + len_2\n",
    "h = 12\n",
    "d = 3\n",
    "h_prime = h // d\n",
    "k = 8\n",
    "a = 4\n",
    "t = 2^a"
   ]
  },
  {
   "cell_type": "markdown",
   "metadata": {},
   "source": [
    "\n",
    "### base_w"
   ]
  },
  {
   "cell_type": "code",
   "execution_count": 3,
   "metadata": {},
   "outputs": [],
   "source": [
    "def base_w(X, w, out_len):\n",
    "    i_in = 0\n",
    "    i_out = 0\n",
    "    ui_total = 0\n",
    "    i_bits = 0\n",
    "    basew = [None] * out_len\n",
    "\n",
    "    for consumed in range(out_len):\n",
    "        if (i_bits == 0):\n",
    "            ui_total = X[i_in]\n",
    "            i_in += 1\n",
    "            i_bits += 8\n",
    "        \n",
    "        i_bits -= log(w, 2)\n",
    "        basew[i_out] = (ui_total >> i_bits) & (w - 1)\n",
    "        i_out += 1\n",
    "\n",
    "    return basew"
   ]
  },
  {
   "cell_type": "markdown",
   "metadata": {},
   "source": [
    "###  ADRS - adress"
   ]
  },
  {
   "cell_type": "code",
   "execution_count": 4,
   "metadata": {},
   "outputs": [],
   "source": [
    "class ADRS:\n",
    "    # TYPES\n",
    "    WOTS_HASH = 0\n",
    "    WOTS_PK = 1\n",
    "    TREE = 2\n",
    "    FORS_TREE = 3\n",
    "    FORS_ROOTS = 4\n",
    "\n",
    "    def __init__(self):\n",
    "        self.layer = 0\n",
    "        self.tree_address = 0\n",
    "        self.type = 0\n",
    "        self.word_1 = 0\n",
    "        self.word_2 = 0\n",
    "        self.word_3 = 0\n",
    "\n",
    "    def copy(self):\n",
    "        adrs = ADRS()\n",
    "        adrs.layer = self.layer\n",
    "        adrs.tree_address = self.tree_address\n",
    "        adrs.type = self.type\n",
    "        adrs.word_1 = self.word_1\n",
    "        adrs.word_2 = self.word_2\n",
    "        adrs.word_3 = self.word_3\n",
    "        return adrs\n",
    "\n",
    "    def to_bin(self):\n",
    "        adrs = int(self.layer).to_bytes(4, byteorder='big')\n",
    "        adrs += int(self.tree_address).to_bytes(12, byteorder='big')\n",
    "        adrs += int(self.type).to_bytes(4, byteorder='big')\n",
    "        adrs += int(self.word_1).to_bytes(4, byteorder='big')\n",
    "        adrs += int(self.word_2).to_bytes(4, byteorder='big')\n",
    "        adrs += int(self.word_3).to_bytes(4, byteorder='big')\n",
    "        return adrs\n",
    "\n",
    "    def reset_words(self):\n",
    "        self.word_1 = 0\n",
    "        self.word_2 = 0\n",
    "        self.word_3 = 0\n",
    "\n",
    "    def set_type(self, val):\n",
    "        self.type = val\n",
    "        self.word_2 = 0\n",
    "        self.word_3 = 0\n",
    "        self.word_1 = 0\n",
    "\n",
    "    def set_layer_address(self, val):\n",
    "        self.layer = val\n",
    "\n",
    "    def set_tree_address(self, val):\n",
    "        self.tree_address = val\n",
    "\n",
    "    def set_key_pair_address(self, val):\n",
    "        self.word_1 = val\n",
    "\n",
    "    def get_key_pair_address(self):\n",
    "        return self.word_1\n",
    "\n",
    "    def set_chain_address(self, val):\n",
    "        self.word_2 = val\n",
    "\n",
    "    def set_hash_address(self, val):\n",
    "        self.word_3 = val\n",
    "\n",
    "    def set_tree_height(self, val):\n",
    "        self.word_2 = val\n",
    "\n",
    "    def get_tree_height(self):\n",
    "        return self.word_2\n",
    "\n",
    "    def set_tree_index(self, val):\n",
    "        self.word_3 = val\n",
    "\n",
    "    def get_tree_index(self):\n",
    "        return self.word_3"
   ]
  },
  {
   "cell_type": "markdown",
   "metadata": {},
   "source": [
    "### Funções auxiliares"
   ]
  },
  {
   "cell_type": "code",
   "execution_count": 5,
   "metadata": {},
   "outputs": [],
   "source": [
    "\n",
    "\n",
    "def hash(seed, adrs: ADRS, value, digest_size = n):\n",
    "    m = hashlib.sha256()\n",
    "\n",
    "    m.update(seed)\n",
    "    m.update(adrs.to_bin())\n",
    "    m.update(value)\n",
    "\n",
    "    pre_hashed = m.digest()\n",
    "    hashed = pre_hashed[:digest_size]\n",
    "\n",
    "    return hashed\n",
    "\n",
    "def prf(secret_seed, adrs):\n",
    "    random.seed(int.from_bytes(secret_seed + adrs.to_bin(), \"big\"))\n",
    "    return int(random.randint(0, 256 ^ n)).to_bytes(n, byteorder='big')\n",
    "\n",
    "\n",
    "def hash_msg(r, public_seed, public_root, value, digest_size=n):\n",
    "    m = hashlib.sha256()\n",
    "\n",
    "    m.update(str(r).encode('ASCII'))\n",
    "    m.update(public_seed)\n",
    "    m.update(public_root)\n",
    "    m.update(value)\n",
    "\n",
    "    pre_hashed = m.digest()\n",
    "    hashed     = pre_hashed[:digest_size]\n",
    "    i = 0\n",
    "    while len(hashed) < digest_size:\n",
    "        i += 1\n",
    "        m = hashlib.sha256()\n",
    "        \n",
    "        m.update(str(r).encode('ASCII'))\n",
    "        m.update(public_seed)\n",
    "        m.update(public_root)\n",
    "        m.update(value)\n",
    "        m.update(bytes([i]))\n",
    "\n",
    "        hashed += m.digest()[:digest_size - len(hashed)]\n",
    "\n",
    "    return hashed\n",
    "\n",
    "def prf_msg(secret_seed, opt, m):\n",
    "    random.seed(int.from_bytes(secret_seed + opt + hash_msg(b'0', b'0', b'0', m, n*2), \"big\"))\n",
    "    return int(random.randint(0, 256 ^ n)).to_bytes(n, byteorder='big')\n",
    "\n",
    "def sig_wots_from_sig_xmss(sig):\n",
    "    return sig[0:len_0]\n",
    "\n",
    "def auth_from_sig_xmss(sig):\n",
    "    return sig[len_0:]\n",
    "\n",
    "def sigs_xmss_from_sig_ht(sig):\n",
    "    sigs = []\n",
    "    for i in range(0, d):\n",
    "        sigs.append(sig[i*(h_prime + len_0):(i+1)*(h_prime + len_0)])\n",
    "    return sigs\n",
    "\n",
    "def auths_from_sig_fors(sig):\n",
    "    sigs = []\n",
    "    for i in range(0, k):\n",
    "        sigs.append([])\n",
    "        sigs[i].append(sig[(a+1) * i])\n",
    "        sigs[i].append(sig[((a+1) * i + 1):((a+1) * (i+1))])\n",
    "    return sigs"
   ]
  },
  {
   "cell_type": "markdown",
   "metadata": {},
   "source": [
    "### WOTS+ Function chain\n"
   ]
  },
  {
   "cell_type": "code",
   "execution_count": 6,
   "metadata": {},
   "outputs": [],
   "source": [
    "# Input: Input string X, start index i, number of steps s, public seed PK.seed, address ADRS\n",
    "# Output: value of F iterated s times on X\n",
    "def chain(x, i, s, public_seed, adrs: ADRS):\n",
    "    if s == 0:\n",
    "        return bytes(x)\n",
    "    if (i + s) > (w - 1):\n",
    "        return -1\n",
    "    tmp = chain(x, i, s - 1, public_seed, adrs)\n",
    "    \n",
    "    adrs.set_hash_address(i + s - 1)\n",
    "    tmp = hash(public_seed, adrs, tmp, n)\n",
    "    return tmp"
   ]
  },
  {
   "cell_type": "markdown",
   "metadata": {},
   "source": [
    "### Função *wots_pkGen*\n",
    "\n"
   ]
  },
  {
   "cell_type": "code",
   "execution_count": 7,
   "metadata": {},
   "outputs": [],
   "source": [
    "# Input: secret seed SK.seed, address ADRS, public seed PK.seed\n",
    "# Output: WOTS+ public key pk\n",
    "def wots_pk_gen(secret_seed, public_seed, adrs: ADRS):\n",
    "    wots_pk_adrs = adrs.copy()\n",
    "    tmp = bytes()\n",
    "    for i in range(0, len_0):\n",
    "        adrs.set_chain_address(i)\n",
    "        adrs.set_hash_address(0)\n",
    "        sk = prf(secret_seed, adrs.copy())\n",
    "        tmp += bytes(chain(sk, 0, w - 1, public_seed, adrs.copy()))\n",
    "\n",
    "    wots_pk_adrs.set_type(ADRS.WOTS_PK)\n",
    "    wots_pk_adrs.set_key_pair_address(adrs.get_key_pair_address())\n",
    "    \n",
    "    pk = hash(public_seed, wots_pk_adrs, tmp)\n",
    "    return pk"
   ]
  },
  {
   "cell_type": "markdown",
   "metadata": {},
   "source": [
    "### Função *wots_sign*\n",
    "\n"
   ]
  },
  {
   "cell_type": "code",
   "execution_count": 8,
   "metadata": {},
   "outputs": [],
   "source": [
    "# Input: Message M, secret seed SK.seed, public seed PK.seed, address ADRS\n",
    "# Output: WOTS+ signature sig\n",
    "def wots_sign(m, secret_seed, public_seed, adrs):\n",
    "    csum = 0\n",
    "\n",
    "    # convert message to base w\n",
    "    msg = base_w(m, w, len_1)\n",
    "\n",
    "    # compute checksum\n",
    "    for i in range(0, len_1):\n",
    "        csum += w - 1 - msg[i]\n",
    "\n",
    "    # convert csum to base w\n",
    "    if (len_2 * math.floor(math.log(w, 2))) % 8 != 0:\n",
    "        csum = csum << (8 - (len_2 * math.floor(math.log(w, 2))) % 8 )\n",
    "    len2_bytes = math.ceil((len_2 * math.floor(math.log(w, 2))) / 8)\n",
    "    msg += base_w(int(csum).to_bytes(len2_bytes, byteorder='big'), w, len_2)\n",
    "\n",
    "    sig = []\n",
    "    for i in range(0, len_0):\n",
    "        adrs.set_chain_address(i)\n",
    "        adrs.set_hash_address(0)\n",
    "        sk = prf(secret_seed, adrs.copy())\n",
    "        sig += [chain(sk, 0, msg[i], public_seed, adrs.copy())]\n",
    "\n",
    "    return sig"
   ]
  },
  {
   "cell_type": "markdown",
   "metadata": {},
   "source": [
    "### Função *wots_pkFromSig*\n",
    "\n"
   ]
  },
  {
   "cell_type": "code",
   "execution_count": 9,
   "metadata": {},
   "outputs": [],
   "source": [
    "def wots_pk_from_sig(sig, m, public_seed, adrs: ADRS):\n",
    "    csum = 0\n",
    "    wots_pk_adrs = adrs.copy()\n",
    "\n",
    "    # convert message to base w\n",
    "    msg = base_w(m, w, len_1)\n",
    "\n",
    "    # compute checksum\n",
    "    for i in range(0, len_1):\n",
    "        csum += w - 1 - msg[i]\n",
    "\n",
    "    # convert csum to base w\n",
    "    if (len_2 * math.floor(math.log(w, 2))) % 8 != 0:\n",
    "        padding = (len_2 * math.floor(math.log(w, 2))) % 8 \n",
    "    else:\n",
    "        padding = 8\n",
    "    csum = csum << (8 - padding)\n",
    "    msg += base_w(int(csum).to_bytes(math.ceil((len_2 * math.floor(math.log(w, 2))) / 8), byteorder='big'), w, len_2)\n",
    "\n",
    "    tmp = bytes()\n",
    "    for i in range(0, len_0):\n",
    "        adrs.set_chain_address(i)\n",
    "        tmp += chain(sig[i], msg[i], w - 1 - msg[i], public_seed, adrs.copy())\n",
    "\n",
    "    wots_pk_adrs.set_type(ADRS.WOTS_PK)\n",
    "    wots_pk_adrs.set_key_pair_address(adrs.get_key_pair_address())\n",
    "    pk_sig = hash(public_seed, wots_pk_adrs, tmp)\n",
    "    return pk_sig"
   ]
  },
  {
   "cell_type": "markdown",
   "metadata": {},
   "source": [
    "### Função *xms_node*\n"
   ]
  },
  {
   "cell_type": "code",
   "execution_count": 10,
   "metadata": {},
   "outputs": [],
   "source": [
    "# Input: Secret seed SK.seed, start index s, target node height z, public seed PK.seed, address ADRS\n",
    "# Output: n-byte root node - top node on Stack\n",
    "def node(secret_seed, s, z, public_seed, adrs: ADRS):\n",
    "    if s % (1 << z) != 0:\n",
    "        return -1\n",
    "\n",
    "    stack = []\n",
    "\n",
    "    for i in range(0, 2^z):\n",
    "        adrs.set_type(ADRS.WOTS_HASH)\n",
    "        adrs.set_key_pair_address(s + i)\n",
    "        node = wots_pk_gen(secret_seed, public_seed, adrs.copy())\n",
    "\n",
    "        adrs.set_type(ADRS.TREE)\n",
    "        adrs.set_tree_height(1)\n",
    "        adrs.set_tree_index(s + i)\n",
    "\n",
    "        if len(stack) > 0:\n",
    "            while stack[len(stack) - 1]['height'] == adrs.get_tree_height():\n",
    "                adrs.set_tree_index((adrs.get_tree_index() - 1) // 2)\n",
    "                node = hash(public_seed, adrs.copy(), stack.pop()['node'] + node, n)\n",
    "                adrs.set_tree_height(adrs.get_tree_height() + 1)\n",
    "\n",
    "                if len(stack) <= 0:\n",
    "                    break\n",
    "\n",
    "        stack.append({'node': node, 'height': adrs.get_tree_height()})\n",
    "\n",
    "    return stack.pop()['node']"
   ]
  },
  {
   "cell_type": "markdown",
   "metadata": {},
   "source": [
    "### Função xmss_sign\n",
    "\n"
   ]
  },
  {
   "cell_type": "code",
   "execution_count": 11,
   "metadata": {},
   "outputs": [],
   "source": [
    "# Input: n-byte message M, secret seed SK.seed, index idx, public seed PK.seed, address ADRS\n",
    "# Output: XMSS signature SIG_XMSS = (sig || AUTH)\n",
    "def xmss_sign(m, secret_seed, idx, public_seed, adrs):\n",
    "    # build authentication path\n",
    "    auth = []\n",
    "    for j in range(0, h_prime):\n",
    "        ki = math.floor(idx // 2^j)\n",
    "        if ki % 2 == 1:\n",
    "            ki -= 1\n",
    "        else:\n",
    "            ki += 1\n",
    "        auth += [node(secret_seed, ki * 2^j, j, public_seed, adrs.copy())]\n",
    "\n",
    "    adrs.set_type(ADRS.WOTS_HASH)\n",
    "    adrs.set_key_pair_address(idx)\n",
    "    sig = wots_sign(m, secret_seed, public_seed, adrs.copy())\n",
    "    sig_xmss = sig + auth\n",
    "    return sig_xmss"
   ]
  },
  {
   "cell_type": "markdown",
   "metadata": {},
   "source": [
    "### Função *xmss_pkFromSig*\n"
   ]
  },
  {
   "cell_type": "code",
   "execution_count": 12,
   "metadata": {},
   "outputs": [],
   "source": [
    "# Input: index idx, XMSS signature SIG_XMSS = (sig || AUTH), n-byte message M, public seed PK.seed, address ADRS\n",
    "# Output: n-byte root value node[0]\n",
    "def xmss_pk_from_sig(idx, sig_xmss, m, public_seed, adrs):\n",
    "    # compute WOTS+ pk from WOTS+ sig\n",
    "    adrs.set_type(ADRS.WOTS_HASH)\n",
    "    adrs.set_key_pair_address(idx)\n",
    "    sig = sig_wots_from_sig_xmss(sig_xmss)\n",
    "    auth = auth_from_sig_xmss(sig_xmss)\n",
    "\n",
    "    node0 = wots_pk_from_sig(sig, m, public_seed, adrs.copy())\n",
    "    node1 = 0\n",
    "\n",
    "    # compute root from WOTS+ pk and AUTH\n",
    "    adrs.set_type(ADRS.TREE)\n",
    "    adrs.set_tree_index(idx)\n",
    "    for i in range(0, h_prime):\n",
    "        adrs.set_tree_height(i + 1)\n",
    "        if math.floor(idx / 2^i) % 2 == 0:\n",
    "            adrs.set_tree_index(adrs.get_tree_index() // 2)\n",
    "            node1 = hash(public_seed, adrs.copy(), node0 + auth[i], n)\n",
    "        else:\n",
    "            adrs.set_tree_index( (adrs.get_tree_index() - 1) // 2)\n",
    "            node1 = hash(public_seed, adrs.copy(), auth[i] + node0, n)\n",
    "        node0 = node1\n",
    "\n",
    "    return node0  "
   ]
  },
  {
   "cell_type": "markdown",
   "metadata": {},
   "source": [
    "### Função *ht_sign*\n"
   ]
  },
  {
   "cell_type": "code",
   "execution_count": 13,
   "metadata": {},
   "outputs": [],
   "source": [
    "# Input: Message M, private seed SK.seed, public seed PK.seed, tree index idx_tree, leaf index idx_leaf\n",
    "# Output: HT signature SIG_HT\n",
    "def ht_sign(m, secret_seed, public_seed, idx_tree, idx_leaf):\n",
    "    # init\n",
    "    adrs = ADRS()\n",
    "\n",
    "    # sign\n",
    "    adrs.set_layer_address(0)\n",
    "    adrs.set_tree_address(idx_tree)\n",
    "    sig_tmp = xmss_sign(m, secret_seed, idx_leaf, public_seed, adrs.copy())\n",
    "    sig_ht = sig_tmp\n",
    "    root = xmss_pk_from_sig(idx_leaf, sig_tmp, m, public_seed, adrs.copy())\n",
    "    for j in range(1, d):\n",
    "        idx_leaf = idx_tree % 2^h_prime\n",
    "        idx_tree = idx_tree >> h_prime\n",
    "        adrs.set_layer_address(j)\n",
    "        adrs.set_tree_address(idx_tree)\n",
    "        sig_tmp = xmss_sign(root, secret_seed, idx_leaf, public_seed, adrs.copy())\n",
    "        sig_ht = sig_ht + sig_tmp\n",
    "        if j < d - 1:\n",
    "            root = xmss_pk_from_sig(idx_leaf, sig_tmp, root, public_seed, adrs.copy())\n",
    "\n",
    "    return sig_ht"
   ]
  },
  {
   "cell_type": "markdown",
   "metadata": {},
   "source": [
    "### Função *ht_verify*\n"
   ]
  },
  {
   "cell_type": "code",
   "execution_count": 14,
   "metadata": {},
   "outputs": [],
   "source": [
    "# Input: Message M, signature SIG_HT, public seed PK.seed, tree index idx_tree, leaf index idx_leaf, HT public key PK_HT\n",
    "# Output: Boolean\n",
    "def ht_verify(m, sig_ht, public_seed, idx_tree, idx_leaf, public_key_ht):\n",
    "    # init\n",
    "    adrs = ADRS()\n",
    "\n",
    "    # verify\n",
    "    sigs_xmss = sigs_xmss_from_sig_ht(sig_ht)\n",
    "    sig_tmp = sigs_xmss[0]\n",
    "    adrs.set_layer_address(0)\n",
    "    adrs.set_tree_address(idx_tree)\n",
    "    node = xmss_pk_from_sig(idx_leaf, sig_tmp, m, public_seed, adrs)\n",
    "    for j in range(1, d):\n",
    "        idx_leaf = idx_tree % 2^h_prime\n",
    "        idx_tree = idx_tree >> h_prime\n",
    "        sig_tmp = sigs_xmss[j]\n",
    "        adrs.set_layer_address(j)\n",
    "        adrs.set_tree_address(idx_tree)\n",
    "        node = xmss_pk_from_sig(idx_leaf, sig_tmp, node, public_seed, adrs)\n",
    "    if node == public_key_ht:\n",
    "        return True\n",
    "    else:\n",
    "        return False"
   ]
  },
  {
   "cell_type": "markdown",
   "metadata": {},
   "source": [
    "### Função *fors_SKgen*\n"
   ]
  },
  {
   "cell_type": "code",
   "execution_count": 15,
   "metadata": {},
   "outputs": [],
   "source": [
    "def fors_sk_gen(secret_seed, adrs: ADRS, idx):\n",
    "    adrs.set_tree_height(0)\n",
    "    adrs.set_tree_index(idx)\n",
    "    sk = prf(secret_seed, adrs.copy())\n",
    "    return sk"
   ]
  },
  {
   "cell_type": "markdown",
   "metadata": {},
   "source": [
    "### Função *fors_node*"
   ]
  },
  {
   "cell_type": "code",
   "execution_count": 16,
   "metadata": {},
   "outputs": [],
   "source": [
    "def fors_node(secret_seed, s, z, public_seed, adrs):\n",
    "    if s % (1 << z) != 0:\n",
    "        return -1\n",
    "\n",
    "    stack = []\n",
    "    for i in range(0, 2^z):\n",
    "        adrs.set_tree_height(0)\n",
    "        adrs.set_tree_index(s + i)\n",
    "        sk = prf(secret_seed, adrs.copy())\n",
    "        node = hash(public_seed, adrs.copy(), sk, n)\n",
    "        adrs.set_tree_height(1)\n",
    "        adrs.set_tree_index(s + i)\n",
    "        if len(stack) > 0:\n",
    "            while stack[len(stack) - 1]['height'] == adrs.get_tree_height():\n",
    "                adrs.set_tree_index((adrs.get_tree_index() - 1) // 2)\n",
    "                node = hash(public_seed, adrs.copy(), stack.pop()['node'] + node, n)\n",
    "                adrs.set_tree_height(adrs.get_tree_height() + 1)\n",
    "                if len(stack) <= 0:\n",
    "                    break\n",
    "        stack.append({'node': node, 'height': adrs.get_tree_height()})\n",
    "\n",
    "    return stack.pop()['node']"
   ]
  },
  {
   "cell_type": "markdown",
   "metadata": {},
   "source": [
    "### Função *fors_sign*\n"
   ]
  },
  {
   "cell_type": "code",
   "execution_count": 17,
   "metadata": {},
   "outputs": [],
   "source": [
    "# Input: Bit string M, secret seed SK.seed, address ADRS, public seed PK.seed\n",
    "# Output: FORS signature SIG_FORS\n",
    "def fors_sign(m, secret_seed, public_seed, adrs):\n",
    "    # compute signature elements\n",
    "    m_int = int.from_bytes(m, 'big')\n",
    "\n",
    "    sig_fors = []\n",
    "    for i in range(0, k):\n",
    "        # get next index\n",
    "        idx = (m_int >> (k - 1 - i) * a) % t\n",
    "\n",
    "        # pick private key element\n",
    "        adrs.set_tree_height(0)\n",
    "        adrs.set_tree_index(i * t + idx)\n",
    "        sig_fors += [prf(secret_seed, adrs.copy())]\n",
    "\n",
    "        # compute auth path\n",
    "        auth = []\n",
    "        for j in range(0, a):\n",
    "            s = math.floor(idx // 2 ^ j)\n",
    "            if s % 2 == 1:\n",
    "                s -= 1\n",
    "            else:\n",
    "                s += 1\n",
    "            auth += [fors_node(secret_seed, i * t + s * 2^j, j, public_seed, adrs.copy())]\n",
    "        sig_fors += auth\n",
    "\n",
    "    return sig_fors"
   ]
  },
  {
   "cell_type": "markdown",
   "metadata": {},
   "source": [
    "### Função *fors_pkFromSig*\n"
   ]
  },
  {
   "cell_type": "code",
   "execution_count": 18,
   "metadata": {},
   "outputs": [],
   "source": [
    "def fors_pk_from_sig(sig_fors, m, public_seed, adrs: ADRS):\n",
    "    m_int = int.from_bytes(m, 'big')\n",
    "\n",
    "    sigs = auths_from_sig_fors(sig_fors)\n",
    "    root = bytes()\n",
    "\n",
    "    # compute roots\n",
    "    for i in range(0, k):\n",
    "        # get next index\n",
    "        idx = (m_int >> (k - 1 - i) * a) % t\n",
    "\n",
    "        # compute leaf\n",
    "        sk = sigs[i][0]\n",
    "        adrs.set_tree_height(0)\n",
    "        adrs.set_tree_index(i * t + idx)\n",
    "        node_0 = hash(public_seed, adrs.copy(), sk)\n",
    "        node_1 = 0\n",
    "\n",
    "        # compute root from lead and AUTH\n",
    "        auth = sigs[i][1]\n",
    "        adrs.set_tree_index(i * t + idx) \n",
    "\n",
    "        for j in range(0, a):\n",
    "            adrs.set_tree_height(j+1)\n",
    "\n",
    "            if math.floor(idx / 2^j) % 2 == 0:\n",
    "                adrs.set_tree_index(adrs.get_tree_index() // 2)\n",
    "                node_1 = hash(public_seed, adrs.copy(), node_0 + auth[j], n)\n",
    "            else:\n",
    "                adrs.set_tree_index((adrs.get_tree_index() - 1) // 2)\n",
    "                node_1 = hash(public_seed, adrs.copy(), auth[j] + node_0, n)\n",
    "\n",
    "            node_0 = node_1\n",
    "\n",
    "        root += node_0\n",
    "\n",
    "    fors_pk_adrs = adrs.copy() # copy address to create FTS public key address\n",
    "    fors_pk_adrs.set_type(ADRS.FORS_ROOTS)\n",
    "    fors_pk_adrs.set_key_pair_address(adrs.get_key_pair_address())\n",
    "\n",
    "    pk = hash(public_seed, fors_pk_adrs, root, n)\n",
    "    return pk"
   ]
  },
  {
   "cell_type": "markdown",
   "metadata": {},
   "source": [
    "### Função *slh_keygen*\n",
    "\n"
   ]
  },
  {
   "cell_type": "code",
   "execution_count": 19,
   "metadata": {},
   "outputs": [],
   "source": [
    "\n",
    "def slh_key_gen():\n",
    "    secret_seed = os.urandom(n)\n",
    "    secret_prf = os.urandom(n)\n",
    "    public_seed = os.urandom(n)\n",
    "\n",
    "    adrs = ADRS()\n",
    "    adrs.set_layer_address(d - 1)\n",
    "    adrs.set_tree_address(0)\n",
    "    \n",
    "    public_root = node(secret_seed, 0, h_prime, public_seed, adrs.copy())\n",
    "\n",
    "\n",
    "    return [secret_seed, secret_prf, public_seed, public_root], [public_seed, public_root]"
   ]
  },
  {
   "cell_type": "markdown",
   "metadata": {},
   "source": [
    "### Função *slh_sign*\n"
   ]
  },
  {
   "cell_type": "code",
   "execution_count": 20,
   "metadata": {},
   "outputs": [],
   "source": [
    "RANDOMIZE = True\n",
    "\n",
    "\n",
    "def slh_sign(m, secret_key):\n",
    "    # Init\n",
    "    adrs = ADRS()\n",
    "    secret_seed = secret_key[0]\n",
    "    secret_prf = secret_key[1]\n",
    "    public_seed = secret_key[2]\n",
    "    public_root = secret_key[3]\n",
    "\n",
    "    # Generate randomizer\n",
    "    opt = bytes(n)\n",
    "    if RANDOMIZE:\n",
    "        opt = os.urandom(n)\n",
    "    r = prf_msg(secret_prf, opt, m)\n",
    "    sig = [r]\n",
    "    \n",
    "    size_md = math.floor((k * a + 7) / 8)\n",
    "    size_idx_tree = math.floor((h - h // d + 7) / 8)\n",
    "    size_idx_leaf = math.floor((h // d + 7) / 8)\n",
    "    \n",
    "    # compute message digest and index\n",
    "    digest = hash_msg(r, public_seed, public_root, m, size_md + size_idx_tree + size_idx_leaf)\n",
    "    tmp_md = digest[:size_md]\n",
    "    tmp_idx_tree = digest[size_md:(size_md + size_idx_tree)]\n",
    "    tmp_idx_leaf = digest[(size_md + size_idx_tree):len(digest)]\n",
    "    \n",
    "    md_int = int.from_bytes(tmp_md, 'big') >> (len(tmp_md) * 8 - k * a)\n",
    "    md = int(md_int).to_bytes(math.ceil(k * a / 8), 'big')\n",
    "    idx_tree = int.from_bytes(tmp_idx_tree, 'big') >> (len(tmp_idx_tree) * 8 - (h - h // d))\n",
    "    idx_leaf = int.from_bytes(tmp_idx_leaf, 'big') >> (len(tmp_idx_leaf) * 8 - (h // d))\n",
    "    \n",
    "    # FORS sign\n",
    "    adrs.set_layer_address(0)\n",
    "    adrs.set_tree_address(idx_tree)\n",
    "    adrs.set_type(ADRS.FORS_TREE)\n",
    "    adrs.set_key_pair_address(idx_leaf)\n",
    "\n",
    "    sig_fors = fors_sign(md, secret_seed, public_seed, adrs.copy())\n",
    "    sig += [sig_fors]\n",
    "    \n",
    "    # get FORS public key\n",
    "    pk_fors = fors_pk_from_sig(sig_fors, md, public_seed, adrs.copy())\n",
    "    \n",
    "    # sign FORS public key with HT\n",
    "    adrs.set_type(ADRS.TREE)\n",
    "    sig_ht = ht_sign(pk_fors, secret_seed, public_seed, idx_tree, idx_leaf)\n",
    "    sig += [sig_ht]\n",
    "\n",
    "    return sig"
   ]
  },
  {
   "cell_type": "markdown",
   "metadata": {},
   "source": [
    "### Função *slh_verify*\n",
    "\n"
   ]
  },
  {
   "cell_type": "code",
   "execution_count": 21,
   "metadata": {},
   "outputs": [],
   "source": [
    "# Input: Message M, signature SIG, public key PK\n",
    "# Output: Boolean\n",
    "def slh_verify(m, sig, public_key):\n",
    "    # init\n",
    "    adrs = ADRS()\n",
    "    r = sig[0]\n",
    "    sig_fors = sig[1]\n",
    "    sig_ht = sig[2]\n",
    "\n",
    "    public_seed = public_key[0]\n",
    "    public_root = public_key[1]\n",
    "    \n",
    "    size_md = math.floor((k * a + 7) / 8)\n",
    "    size_idx_tree = math.floor((h - h // d + 7) / 8)\n",
    "    size_idx_leaf = math.floor((h // d + 7) / 8)\n",
    "    \n",
    "    # compute message digest and index\n",
    "    digest = hash_msg(r, public_seed, public_root, m, size_md + size_idx_tree + size_idx_leaf)\n",
    "    tmp_md = digest[:size_md]\n",
    "    tmp_idx_tree = digest[size_md:(size_md + size_idx_tree)]\n",
    "    tmp_idx_leaf = digest[(size_md + size_idx_tree):len(digest)]\n",
    "\n",
    "    md_int = int.from_bytes(tmp_md, 'big') >> (len(tmp_md) * 8 - k * a)\n",
    "    md = int(md_int).to_bytes(math.ceil(k * a / 8), 'big')\n",
    "    idx_tree = int.from_bytes(tmp_idx_tree, 'big') >> (len(tmp_idx_tree) * 8 - (h - h // d))\n",
    "    idx_leaf = int.from_bytes(tmp_idx_leaf, 'big') >> (len(tmp_idx_leaf) * 8 - (h // d))\n",
    "\n",
    "    # compute FORS public key\n",
    "    adrs.set_layer_address(0)\n",
    "    adrs.set_tree_address(idx_tree)\n",
    "    adrs.set_type(ADRS.FORS_TREE)\n",
    "    adrs.set_key_pair_address(idx_leaf)\n",
    "\n",
    "    pk_fors = fors_pk_from_sig(sig_fors, md, public_seed, adrs)\n",
    "\n",
    "    # verify HT signature\n",
    "    adrs.set_type(ADRS.TREE)\n",
    "    return ht_verify(pk_fors, sig_ht, public_seed, idx_tree, idx_leaf, public_root)"
   ]
  },
  {
   "cell_type": "markdown",
   "metadata": {},
   "source": [
    "# Exemplo de teste"
   ]
  },
  {
   "cell_type": "code",
   "execution_count": 22,
   "metadata": {},
   "outputs": [
    {
     "name": "stdout",
     "output_type": "stream",
     "text": [
      "Private key:\n",
      " [b'\\xe1\\xf5\\xa3H\\x01\\x84\\x97\\xec\\x15\\xba\\xe9L\\r\\xf2\\xe0}\\x7f\\t\\xd7\\xc2E\\xb1\\x1e\\x8b{\\xfb\\xa7\\xaau~\\xbe\\xea', b'\\x02\\xb0\\x94CX\"\\xce=\\x06\\xbc\\x9f\\xf23\\x81no\\x83\\x03\\xf5\\x0e\\xfa\\x87\\xbb\\x19\\xc1\\x02k\\xf1\\x88B)\\xa5', b'\\x8e\\x96i+tC\\x17\\x8ad\\xaa\\x00\\xfdu\\x11\\x11\\x89\\x91pV\\x9b\\xf1\\xa2qg\\x88\\x16^3@\\xca\\xc6\\xc9', b'\\x96\\x17\\xc8\\xb9\\x88\\x17\\xce\\xd9\\xce\\x15\\xf6\\xc6\\xaae=\\x96\\x88\\xe5]\\xfcb\\x03a8\\xf8L|`h4o$']\n",
      "Public key:\n",
      " [b'\\x8e\\x96i+tC\\x17\\x8ad\\xaa\\x00\\xfdu\\x11\\x11\\x89\\x91pV\\x9b\\xf1\\xa2qg\\x88\\x16^3@\\xca\\xc6\\xc9', b'\\x96\\x17\\xc8\\xb9\\x88\\x17\\xce\\xd9\\xce\\x15\\xf6\\xc6\\xaae=\\x96\\x88\\xe5]\\xfcb\\x03a8\\xf8L|`h4o$']\n",
      "\n",
      "Message to be signed:\n",
      " b'Mensagem teste!!!!!! :)'\n",
      "Verificado?\n",
      " True\n"
     ]
    }
   ],
   "source": [
    "# Generate key pair\n",
    "sk, pk = slh_key_gen()\n",
    "\n",
    "print(\"Private key:\\n\", sk)\n",
    "print(\"Public key:\\n\", pk)\n",
    "\n",
    "m = b'Mensagem teste!!!!!! :)'\n",
    "print(\"\\nMessage to be signed:\\n\", m)\n",
    "\n",
    "s = slh_sign(m, sk)\n",
    "\n",
    "print(\"Verificado?\\n\", slh_verify(m, s, pk))"
   ]
  }
 ],
 "metadata": {
  "kernelspec": {
   "display_name": "SageMath 10.2",
   "language": "sage",
   "name": "sagemath"
  },
  "language_info": {
   "codemirror_mode": {
    "name": "ipython",
    "version": 3
   },
   "file_extension": ".py",
   "mimetype": "text/x-python",
   "name": "python",
   "nbconvert_exporter": "python",
   "pygments_lexer": "ipython3",
   "version": "3.9.19"
  }
 },
 "nbformat": 4,
 "nbformat_minor": 2
}
