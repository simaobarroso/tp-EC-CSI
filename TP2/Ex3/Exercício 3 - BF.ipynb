{
 "cells": [
  {
   "cell_type": "code",
   "execution_count": null,
   "metadata": {},
   "outputs": [],
   "source": [
    "from sage.all import *"
   ]
  },
  {
   "cell_type": "markdown",
   "metadata": {},
   "source": [
    "$$\\left\\{\\begin{array}{rcl} s &\\gets& \\mathsf{Zr} \\\\ \\beta & \\gets& g(s)\\end{array}\\right.$$"
   ]
  },
  {
   "cell_type": "code",
   "execution_count": null,
   "metadata": {},
   "outputs": [],
   "source": [
    "G=None\n",
    "\n",
    "def KeyGen(lmbda):\n",
    "    global G\n",
    "    q = next_prime(2^lmbda)\n",
    "    F = GF(q)\n",
    "    G = F.multiplicative_generator()\n",
    "\n",
    "    s = randint(1, q-1)\n",
    "    beta = G^s\n",
    "\n",
    "    return (s, beta)"
   ]
  },
  {
   "cell_type": "markdown",
   "metadata": {},
   "source": [
    "$$key\\;\\gets\\;(\\,\\vartheta \\;d \\gets \\mathsf{ID}(\\mathit{id})\\;\\centerdot\\; s* d\\,)$$"
   ]
  },
  {
   "cell_type": "code",
   "execution_count": null,
   "metadata": {},
   "outputs": [],
   "source": [
    "def KeyExtract(id, s):\n",
    "    d = ascii_integer(id)\n",
    "    key = s * d\n",
    "    return key\n"
   ]
  },
  {
   "cell_type": "markdown",
   "metadata": {},
   "source": [
    "\n",
    "$$\\mathsf{in\\_ encrypt}(\\mathit{id},x)\\;\\equiv$$ \n",
    "$$\\vartheta\\,d\\gets\\mathsf{ID}(\\mathit{id})\\,\\centerdot\\,\\vartheta\\,v\\gets\\mathsf{Zr}\\,\\centerdot\\,\\vartheta\\,a\\gets H(v\\oplus x)\\,\\centerdot\\,\\vartheta\\,\\mu\\gets\\mathbf{ex}(\\beta,d,a)\\,\\centerdot\\,\\langle x,v,a,\\mu\\rangle$$"
   ]
  },
  {
   "cell_type": "code",
   "execution_count": null,
   "metadata": {},
   "outputs": [],
   "source": [
    "def in_encrypt(id, x, beta):\n",
    "    d = ascii_integer(id)\n",
    "    v = random_zmod_element(beta.order())\n",
    "    a = hash(v + ascii_integer(x))\n",
    "    mu = beta^d * G^a\n",
    "    return (x, v, a, mu)"
   ]
  },
  {
   "cell_type": "markdown",
   "metadata": {},
   "source": [
    "$$\\mathsf{out\\_ encrypt}(x,v,a,\\mu)\\;\\equiv$$\n",
    "$$\\vartheta\\,\\alpha\\gets g(a)\\,\\centerdot\\,\\vartheta\\,v'\\gets v\\oplus f(\\mu)\\,\\centerdot\\,x'\\gets x\\oplus H(v)\\,\\centerdot\\,\\langle \\alpha,v',x'\\rangle$$"
   ]
  },
  {
   "cell_type": "code",
   "execution_count": null,
   "metadata": {},
   "outputs": [],
   "source": [
    "def out_encrypt(x, v, a, mu):\n",
    "    alpha = G^a\n",
    "    v_prime = v ^ mu\n",
    "    x_prime = x ^ hash(v)\n",
    "    return (alpha, v_prime, x_prime)\n"
   ]
  },
  {
   "cell_type": "markdown",
   "metadata": {},
   "source": [
    "\n",
    "$$\\mathsf{Encrypt}(\\mathit{id}, x) \\;\\equiv\\;$$  \n",
    "$$\\vartheta \\,x,v,a,\\mu \\gets \\mathsf{in}(\\mathit{id},x)\\,\\centerdot\\,\\mathsf{out}(x,v,a,\\mu)$$"
   ]
  },
  {
   "cell_type": "code",
   "execution_count": null,
   "metadata": {},
   "outputs": [],
   "source": [
    "def Encrypt(id, x, beta):\n",
    "    x, v, a, mu = in_encrypt(id, x, beta)\n",
    "    alpha, v_prime, x_prime = out_encrypt(x, v, a, mu)\n",
    "    return (alpha, v_prime, x_prime)"
   ]
  },
  {
   "cell_type": "markdown",
   "metadata": {},
   "source": [
    "\n",
    "$$\\mathsf{in\\_ decrypt}(\\mathit{key},\\alpha, v', x')\\;\\equiv$$\n",
    "$$\\vartheta\\,\\mu \\gets \\mathbf{ex}(\\alpha,\\mathit{key},1)\\,\\centerdot\\,\\vartheta\\,v \\gets v'\\oplus f(\\mu)\\,\\centerdot\\,x\\gets x'\\oplus H(v)\\,\\centerdot\\,\\langle \\alpha,v,x\\rangle$$"
   ]
  },
  {
   "cell_type": "code",
   "execution_count": null,
   "metadata": {},
   "outputs": [],
   "source": [
    "def in_decrypt(key, alpha, v_prime, x_prime):\n",
    "    mu = alpha^key\n",
    "    v = v_prime ^ mu\n",
    "    x = x_prime ^ hash(v)\n",
    "    return (alpha, v, x)\n"
   ]
  },
  {
   "cell_type": "markdown",
   "metadata": {},
   "source": [
    "\n",
    "$$\\mathsf{out\\_ decrypt}(\\alpha,v,x)\\;\\equiv$$\n",
    "$$\\vartheta\\,a\\gets H(v\\oplus x)\\,\\centerdot\\,\\mathsf{if}\\;\\;\\alpha\\neq g(a)\\;\\;\\mathsf{then}\\;\\;\\texttt{fails}\\;\\;\\mathsf{else}\\;\\;x$$"
   ]
  },
  {
   "cell_type": "code",
   "execution_count": null,
   "metadata": {},
   "outputs": [],
   "source": [
    "def out_decrypt(alpha, v, x):\n",
    "    a = hash(v + x)\n",
    "    if G^a != alpha:\n",
    "        return \"Decryption failed\"\n",
    "    return x"
   ]
  },
  {
   "cell_type": "markdown",
   "metadata": {},
   "source": [
    "$$\\mathsf{Decrypt}(\\mathit{key}, c) \\;\\equiv\\;$$\n",
    "$$\\vartheta \\,\\alpha,v,x \\gets \\mathsf{in}(\\mathit{key},c)\\,\\centerdot\\,\\mathsf{out}(\\alpha,v,x)$$"
   ]
  },
  {
   "cell_type": "code",
   "execution_count": null,
   "metadata": {},
   "outputs": [],
   "source": [
    "\n",
    "def Decrypt(key, alpha, v_prime, x_prime):\n",
    "    alpha, v, x = in_decrypt(key, alpha, v_prime, x_prime)\n",
    "    return out_decrypt(alpha, v, x)"
   ]
  },
  {
   "cell_type": "code",
   "execution_count": null,
   "metadata": {},
   "outputs": [],
   "source": [
    "lmbda = 128\n",
    "id = \"sender@test.com\"\n",
    "x = 12345\n",
    "\n",
    "s, beta = KeyGen(lmbda)\n",
    "key = KeyExtract(id, s)\n",
    "alpha, v_prime, x_prime = Encrypt(id, x, beta)\n",
    "decrypted_x = Decrypt(key, alpha, v_prime, x_prime)\n",
    "print(\"Original message:\", x)\n",
    "print(\"Decrypted message:\", decrypted_x)"
   ]
  }
 ],
 "metadata": {
  "kernelspec": {
   "display_name": ".venv",
   "language": "python",
   "name": "python3"
  },
  "language_info": {
   "codemirror_mode": {
    "name": "ipython",
    "version": 3
   },
   "file_extension": ".py",
   "mimetype": "text/x-python",
   "name": "python",
   "nbconvert_exporter": "python",
   "pygments_lexer": "ipython3",
   "version": "3.11.2"
  }
 },
 "nbformat": 4,
 "nbformat_minor": 2
}
