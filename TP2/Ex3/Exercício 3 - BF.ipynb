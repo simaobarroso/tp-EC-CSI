{
 "cells": [
  {
   "cell_type": "markdown",
   "metadata": {},
   "source": [
    "# Estruturas Criptográficas - Criptografia e Segurança da Informação\n",
    "\n",
    "[Grupo 03](https://paper.dropbox.com/doc/Estruturas-Criptograficas-2023-2024-Trabalhos-Praticos-8WcsdZARGLv0nXS9KasmK)\n",
    "\n",
    "(PG54177) Ricardo Alves Oliveira \n",
    "\n",
    "(PG54236) Simão Oliveira Alvim Barroso\n",
    "\n",
    "## TP3 - Exercício 3\n",
    "\n",
    "3. O algoritmo de Boneh e Franklin (BF) discutido no +Capítulo 5b:  Curvas Elípticas e sua Aritmética é uma tecnica fundamental na chamada “Criptografia Orientada à Identidade”. Seguindo as orientações definidas nesse texto, pretende-se construir usando Sagemath uma classe Python que implemente este criptosistema.\n",
    "\n",
    "## Resolução\n",
    "\n",
    "Para resolver este exercício começamos por importar a biblioteca `sagemath` e definir a variável global `G` que representa o ponto gerador da curva elíptica."
   ]
  },
  {
   "cell_type": "code",
   "execution_count": 12,
   "metadata": {},
   "outputs": [],
   "source": [
    "from sage.all import *\n",
    "\n",
    "G=None\n",
    "q=random_prime(2^256)"
   ]
  },
  {
   "cell_type": "markdown",
   "metadata": {},
   "source": [
    "De seguida definimos as funções auxiliares do criptosistema com recurso ao sagemath seguindo as orientações abaixo:\n",
    "\n",
    "$$\\mathsf{Zr}\\;\\colon\\;\\mathbb{N}\\,\\to\\,\\mathbb{Z}_q$$ \n",
    "$$f\\;\\colon\\;\\mathbb{F}_{p^2}\\,\\to\\,\\mathbb{Z}$$\n",
    "$$h \\;\\colon\\; \\mathsf{Bytes} \\,\\to\\, \\mathbb{Z}$$\n",
    "$$H\\,\\colon\\,\\mathbb{Z}\\,\\to\\,\\mathbb{Z}_q$$\n",
    "$$g\\;\\colon\\;\\mathbb{Z}\\,\\to\\,\\mathbb{G}\\quad$$ \n",
    "$$\\mathsf{ID}\\;\\colon\\;\\mathsf{Bytes}\\,\\to\\,\\mathbb{G}\\quad$$\n"
   ]
  },
  {
   "cell_type": "code",
   "execution_count": null,
   "metadata": {},
   "outputs": [],
   "source": [
    "# Gerador pseudo-aleatório\n",
    "def Zr(n):\n",
    "    return ZZ.random_element(n)\n",
    "\n",
    "# Função de hash f\n",
    "def f(element):\n",
    "    return hash(element)\n",
    "\n",
    "# Função de hash h\n",
    "def h(bytes_seq):\n",
    "    return hash(bytes_seq)\n",
    "\n",
    "# Função de hash H\n",
    "def H(integer):\n",
    "    return hash(integer)\n",
    "\n",
    "# Função g\n",
    "def g(n, G):\n",
    "    return n * G\n",
    "\n",
    "# Função ID\n",
    "def ID(m, g, h):\n",
    "    return g(h(m))\n",
    "\n",
    "def ex(self, P, Q, l=1):\n",
    "    return P.tate_pairing(self.phi(Q), self.q, 2) ^ l"
   ]
  },
  {
   "cell_type": "markdown",
   "metadata": {},
   "source": [
    "$$\\left\\{\\begin{array}{rcl} s &\\gets& \\mathsf{Zr} \\\\ \\beta & \\gets& g(s)\\end{array}\\right.$$"
   ]
  },
  {
   "cell_type": "code",
   "execution_count": 13,
   "metadata": {},
   "outputs": [],
   "source": [
    "def KeyGen(lmbda):\n",
    "    global G\n",
    "    q = 2^lmbda\n",
    "    F = GF(q)\n",
    "    G = F.multiplicative_generator()\n",
    "    \n",
    "    s = Zr(q)\n",
    "    beta = g(s, G)\n",
    "\n",
    "    return (s, beta)"
   ]
  },
  {
   "cell_type": "markdown",
   "metadata": {},
   "source": [
    "$$key\\;\\gets\\;(\\,\\vartheta \\;d \\gets \\mathsf{ID}(\\mathit{id})\\;\\centerdot\\; s* d\\,)$$"
   ]
  },
  {
   "cell_type": "code",
   "execution_count": 14,
   "metadata": {},
   "outputs": [],
   "source": [
    "def KeyExtract(id, s):\n",
    "    d = ID(id, g, h)\n",
    "    key = s * d\n",
    "    return key\n"
   ]
  },
  {
   "cell_type": "markdown",
   "metadata": {},
   "source": [
    "\n",
    "$$\\mathsf{in\\_ encrypt}(\\mathit{id},x)\\;\\equiv$$ \n",
    "$$\\vartheta\\,d\\gets\\mathsf{ID}(\\mathit{id})\\,\\centerdot\\,\\vartheta\\,v\\gets\\mathsf{Zr}\\,\\centerdot\\,\\vartheta\\,a\\gets H(v\\oplus x)\\,\\centerdot\\,\\vartheta\\,\\mu\\gets\\mathbf{ex}(\\beta,d,a)\\,\\centerdot\\,\\langle x,v,a,\\mu\\rangle$$"
   ]
  },
  {
   "cell_type": "code",
   "execution_count": 15,
   "metadata": {},
   "outputs": [],
   "source": [
    "def in_encrypt(id, x, beta):\n",
    "    d = ID(id)\n",
    "    v = Zr(q)\n",
    "    a = H(v ^ x)\n",
    "    mu = ex(s * G, d) ** a\n",
    "    return v, a, mu"
   ]
  },
  {
   "cell_type": "markdown",
   "metadata": {},
   "source": [
    "$$\\mathsf{out\\_ encrypt}(x,v,a,\\mu)\\;\\equiv$$\n",
    "$$\\vartheta\\,\\alpha\\gets g(a)\\,\\centerdot\\,\\vartheta\\,v'\\gets v\\oplus f(\\mu)\\,\\centerdot\\,x'\\gets x\\oplus H(v)\\,\\centerdot\\,\\langle \\alpha,v',x'\\rangle$$"
   ]
  },
  {
   "cell_type": "code",
   "execution_count": 16,
   "metadata": {},
   "outputs": [],
   "source": [
    "def out_encrypt(x, v, a, mu):\n",
    "    alpha = G^a\n",
    "    v_prime = v ^ mu\n",
    "    x_prime = x ^ hash(v)\n",
    "    return (alpha, v_prime, x_prime)\n"
   ]
  },
  {
   "cell_type": "markdown",
   "metadata": {},
   "source": [
    "\n",
    "$$\\mathsf{Encrypt}(\\mathit{id}, x) \\;\\equiv\\;$$  \n",
    "$$\\vartheta \\,x,v,a,\\mu \\gets \\mathsf{in}(\\mathit{id},x)\\,\\centerdot\\,\\mathsf{out}(x,v,a,\\mu)$$"
   ]
  },
  {
   "cell_type": "code",
   "execution_count": 17,
   "metadata": {},
   "outputs": [],
   "source": [
    "def Encrypt(id, x, beta):\n",
    "    x, v, a, mu = in_encrypt(id, x, beta)\n",
    "    alpha, v_prime, x_prime = out_encrypt(x, v, a, mu)\n",
    "    return (alpha, v_prime, x_prime)"
   ]
  },
  {
   "cell_type": "markdown",
   "metadata": {},
   "source": [
    "\n",
    "$$\\mathsf{in\\_ decrypt}(\\mathit{key},\\alpha, v', x')\\;\\equiv$$\n",
    "$$\\vartheta\\,\\mu \\gets \\mathbf{ex}(\\alpha,\\mathit{key},1)\\,\\centerdot\\,\\vartheta\\,v \\gets v'\\oplus f(\\mu)\\,\\centerdot\\,x\\gets x'\\oplus H(v)\\,\\centerdot\\,\\langle \\alpha,v,x\\rangle$$"
   ]
  },
  {
   "cell_type": "code",
   "execution_count": 18,
   "metadata": {},
   "outputs": [],
   "source": [
    "def in_decrypt(key, alpha, v_prime, x_prime):\n",
    "    mu = alpha^key\n",
    "    v = v_prime ^ mu\n",
    "    x = x_prime ^ hash(v)\n",
    "    return (alpha, v, x)\n"
   ]
  },
  {
   "cell_type": "markdown",
   "metadata": {},
   "source": [
    "\n",
    "$$\\mathsf{out\\_ decrypt}(\\alpha,v,x)\\;\\equiv$$\n",
    "$$\\vartheta\\,a\\gets H(v\\oplus x)\\,\\centerdot\\,\\mathsf{if}\\;\\;\\alpha\\neq g(a)\\;\\;\\mathsf{then}\\;\\;\\texttt{fails}\\;\\;\\mathsf{else}\\;\\;x$$"
   ]
  },
  {
   "cell_type": "code",
   "execution_count": 19,
   "metadata": {},
   "outputs": [],
   "source": [
    "def out_decrypt(alpha, v, x):\n",
    "    a = hash(v + x)\n",
    "    if G^a != alpha:\n",
    "        return \"Decryption failed\"\n",
    "    return x"
   ]
  },
  {
   "cell_type": "markdown",
   "metadata": {},
   "source": [
    "$$\\mathsf{Decrypt}(\\mathit{key}, c) \\;\\equiv\\;$$\n",
    "$$\\vartheta \\,\\alpha,v,x \\gets \\mathsf{in}(\\mathit{key},c)\\,\\centerdot\\,\\mathsf{out}(\\alpha,v,x)$$"
   ]
  },
  {
   "cell_type": "code",
   "execution_count": 20,
   "metadata": {},
   "outputs": [],
   "source": [
    "\n",
    "def Decrypt(key, alpha, v_prime, x_prime):\n",
    "    alpha, v, x = in_decrypt(key, alpha, v_prime, x_prime)\n",
    "    return out_decrypt(alpha, v, x)"
   ]
  },
  {
   "cell_type": "code",
   "execution_count": 21,
   "metadata": {},
   "outputs": [
    {
     "ename": "NameError",
     "evalue": "name 'ascii_integer' is not defined",
     "output_type": "error",
     "traceback": [
      "\u001b[0;31m---------------------------------------------------------------------------\u001b[0m",
      "\u001b[0;31mNameError\u001b[0m                                 Traceback (most recent call last)",
      "Cell \u001b[0;32mIn [21], line 6\u001b[0m\n\u001b[1;32m      3\u001b[0m x \u001b[38;5;241m=\u001b[39m \u001b[38;5;124mb\u001b[39m\u001b[38;5;124m'\u001b[39m\u001b[38;5;124mola\u001b[39m\u001b[38;5;124m'\u001b[39m\n\u001b[1;32m      5\u001b[0m s, beta \u001b[38;5;241m=\u001b[39m KeyGen(lmbda)\n\u001b[0;32m----> 6\u001b[0m key \u001b[38;5;241m=\u001b[39m \u001b[43mKeyExtract\u001b[49m\u001b[43m(\u001b[49m\u001b[38;5;28;43mid\u001b[39;49m\u001b[43m,\u001b[49m\u001b[43m \u001b[49m\u001b[43ms\u001b[49m\u001b[43m)\u001b[49m\n\u001b[1;32m      7\u001b[0m alpha, v_prime, x_prime \u001b[38;5;241m=\u001b[39m Encrypt(\u001b[38;5;28mid\u001b[39m, x, beta)\n\u001b[1;32m      8\u001b[0m decrypted_x \u001b[38;5;241m=\u001b[39m Decrypt(key, alpha, v_prime, x_prime)\n",
      "Cell \u001b[0;32mIn [14], line 2\u001b[0m, in \u001b[0;36mKeyExtract\u001b[0;34m(id, s)\u001b[0m\n\u001b[1;32m      1\u001b[0m \u001b[38;5;28;01mdef\u001b[39;00m \u001b[38;5;21mKeyExtract\u001b[39m(\u001b[38;5;28mid\u001b[39m, s):\n\u001b[0;32m----> 2\u001b[0m     d \u001b[38;5;241m=\u001b[39m \u001b[43mascii_integer\u001b[49m(\u001b[38;5;28mid\u001b[39m)\n\u001b[1;32m      3\u001b[0m     key \u001b[38;5;241m=\u001b[39m s \u001b[38;5;241m*\u001b[39m d\n\u001b[1;32m      4\u001b[0m     \u001b[38;5;28;01mreturn\u001b[39;00m key\n",
      "\u001b[0;31mNameError\u001b[0m: name 'ascii_integer' is not defined"
     ]
    }
   ],
   "source": [
    "lmbda = 128\n",
    "id = \"sender@test.com\"\n",
    "x = b'ola'\n",
    "\n",
    "s, beta = KeyGen(lmbda)\n",
    "key = KeyExtract(id, s)\n",
    "alpha, v_prime, x_prime = Encrypt(id, x, beta)\n",
    "decrypted_x = Decrypt(key, alpha, v_prime, x_prime)\n",
    "print(\"Original message:\", x)\n",
    "print(\"Decrypted message:\", decrypted_x)"
   ]
  },
  {
   "cell_type": "code",
   "execution_count": null,
   "metadata": {},
   "outputs": [],
   "source": [
    "# Geração dos primos  q, p\n",
    "bq     = 192                # tamanho em bits do primo \"q\"\n",
    "bp     = 768                # tamanho minimo em bits do primo \"p\"\n",
    "\n",
    "q = random_prime(2^bq-1,lbound=2^(bq-1))\n",
    "\n",
    "t = q*3*2^(bp - bq)\n",
    "while not is_prime(t-1):\n",
    "    t = t << 1\n",
    "\n",
    "p = t - 1\n",
    "\n",
    "# Aneis e Corpos\n",
    "Fp     = GF(p)                  # corpo primo com \"p\" elementos\n",
    "R.<z>  = Fp[]                   # anel dos polinomios em \"z\" de coeficientes em Fp\n",
    "f     = R(z^2 + z + 1)\n",
    "Fp2.<z> = GF(p^2, modulus=f)   \n",
    "# extensão de Fp de dimensão 2 cujo módulo é o polinómio \"f\"\n",
    "# o polinómio \"f\"  é irredutivel, tem grau 2 e verifica  z^3 = 1 mod f\n",
    "# se o ponto (x,y) verificar a equação y^2 = x^3 + 1, \n",
    "#      então o ponto (z*x,y) verifica a mesma equação\n",
    "\n",
    "def trace(x):       # função linear que mapeia Fp2  em  Fp\n",
    "    return x + x^p\n",
    "\n",
    "# Curvas Elipticas supersingulares em Sagemath\n",
    "\n",
    "# a curva supersingular sobre Fp2  definida pela equação  y^2 = x^3 + 1\n",
    "E2 = EllipticCurve(Fp2, [0,1])\n",
    "\n",
    "# ponto arbitrário  de ordem \"q\" em E2        \n",
    "cofac = (p + 1)//q\n",
    "G = cofac * E2.random_point()\n",
    "\n",
    "# emparelhamento e oraculo DDHP\n",
    "\n",
    "def phi(P):             # a isogenia que mapeia  (x,y)  ->  (z*x,y)\n",
    "    (x,y) = P.xy()\n",
    "    return E2(z*x,y)\n",
    "\n",
    "def TateX(P,Q,l=1):      # o emparelhamento de Tate generalizado\n",
    "    return P.tate_pairing(phi(Q), q, 2)^l\n",
    "\n",
    "def ddhp(P,Q,R):        # o oraculo DDHP  que decide se (P,Q,R) é um triplo de DH\n",
    "    return tateX(P,Q) == tateX(R,G)"
   ]
  }
 ],
 "metadata": {
  "kernelspec": {
   "display_name": "SageMath 9.5",
   "language": "sage",
   "name": "sagemath"
  },
  "language_info": {
   "codemirror_mode": {
    "name": "ipython",
    "version": 3
   },
   "file_extension": ".py",
   "mimetype": "text/x-python",
   "name": "python",
   "nbconvert_exporter": "python",
   "pygments_lexer": "ipython3",
   "version": "3.11.2"
  }
 },
 "nbformat": 4,
 "nbformat_minor": 2
}
