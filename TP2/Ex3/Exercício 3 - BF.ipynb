{
 "cells": [
  {
   "cell_type": "markdown",
   "metadata": {},
   "source": [
    "# Estruturas Criptográficas - Criptografia e Segurança da Informação\n",
    "\n",
    "[Grupo 03](https://paper.dropbox.com/doc/Estruturas-Criptograficas-2023-2024-Trabalhos-Praticos-8WcsdZARGLv0nXS9KasmK)\n",
    "\n",
    "(PG54177) Ricardo Alves Oliveira \n",
    "\n",
    "(PG54236) Simão Oliveira Alvim Barroso\n",
    "\n",
    "## TP2 - Exercício 3\n",
    "\n",
    "3. O algoritmo de Boneh e Franklin (BF) discutido no Capítulo 5b:  Curvas Elípticas e sua Aritmética é uma tecnica fundamental na chamada “Criptografia Orientada à Identidade”. Seguindo as orientações definidas nesse texto, pretende-se construir usando Sagemath uma classe Python que implemente este criptosistema.\n"
   ]
  },
  {
   "cell_type": "markdown",
   "metadata": {},
   "source": [
    "Ao longo deste trabalho, utilizamos como fonte para o desenvolvimento o `RFC5091` e as seguintes secções dos apontamentos da UC:\n",
    "\n",
    "- [Criptosistema de Boneh-Franklin](https://paper.dropbox.com/doc/Capitulo-5b-Curvas-Elipticas-e-sua-Aritmetica-PtqeK8HbDo1r6zwmVlhLh#:uid=571403267584864073407827&h2=Criptosistema-de-Boneh-Frankli)\n",
    "\n",
    "- [IBE : “Pairing Based Encryption”](https://paper.dropbox.com/doc/Capitulo-5b-Curvas-Elipticas-e-sua-Aritmetica-PtqeK8HbDo1r6zwmVlhLh)\n",
    "\n",
    "- [Emparelhamentos](https://paper.dropbox.com/doc/Capitulo-5b-Curvas-Elipticas-e-sua-Aritmetica-PtqeK8HbDo1r6zwmVlhLh#:uid=461434470606183093213311&h2=Emparelhamentos)"
   ]
  },
  {
   "cell_type": "markdown",
   "metadata": {},
   "source": [
    "## Resolução\n",
    "\n",
    "Para resolver este exercício começamos por importar a biblioteca `sagemath`."
   ]
  },
  {
   "cell_type": "code",
   "execution_count": 99,
   "metadata": {},
   "outputs": [],
   "source": [
    "from sage.all import *\n",
    "\n",
    "# variaveis globais (explicadas em baixo)\n",
    "q = None\n",
    "p = None\n",
    "f = None\n",
    "G = None\n",
    "z = None\n",
    "s = None\n",
    "beta = None\n",
    "E2 = None\n",
    "nonce = 54345264"
   ]
  },
  {
   "cell_type": "markdown",
   "metadata": {},
   "source": [
    "Um emparelhamento  tate  definido num grupo de torção $\\mathbb{G}$ de ordem prima $q$ como vimos na secção de emparelhamentos.  O grupo $\\mathbb{G}\\,$ tem o gerador $G$."
   ]
  },
  {
   "cell_type": "markdown",
   "metadata": {},
   "source": [
    "### Emparelhamentos e “Pairing Based Encryption”"
   ]
  },
  {
   "cell_type": "markdown",
   "metadata": {},
   "source": [
    "De seguida definimos as funções auxiliares do criptosistema com recurso ao sagemath seguindo as orientações abaixo (nome das funções, domínios e contradomínios):\n",
    "\n",
    "$$\\mathsf{Zr}\\;\\colon\\;\\mathbb{N}\\,\\to\\,\\mathbb{Z}_q$$ \n",
    "\n",
    "$$f\\;\\colon\\;\\mathbb{F}_{p^2}\\,\\to\\,\\mathbb{Z}$$\n",
    "$$h \\;\\colon\\; \\mathsf{Bytes} \\,\\to\\, \\mathbb{Z}$$\n",
    "$$H\\,\\colon\\,\\mathbb{Z}\\,\\to\\,\\mathbb{Z}_q$$\n",
    "$$g\\;\\colon\\;\\mathbb{Z}\\,\\to\\,\\mathbb{G}\\quad$$ \n",
    "$$\\mathsf{ID}\\;\\colon\\;\\mathsf{Bytes}\\,\\to\\,\\mathbb{G}\\quad$$"
   ]
  },
  {
   "cell_type": "markdown",
   "metadata": {},
   "source": [
    "\n",
    "A função `Zr` é um gerador pseudo-aleatório de inteiros no intervalo $[0, q-1]$. Utiliza a função [`set_random_seed`](https://doc.sagemath.org/html/en/reference/misc/sage/misc/randstate.html) do sagemath com esse intuito(gerador pseudo-aleatório (PRG) que toma como argumento um “nounce” $\\,n\\,$ e produz um inteiro no intervalo $\\,\\mathbb{Z}_q\\,$ ).\n",
    "\n",
    "A função `f_hash` e a função `h` são funções de hash que convertem os seus tipos de dados do dominio em inteiros, utilizando a função hash do sagemath.\n",
    "\n",
    "Já a função de Hash `H` tem como dominio os inteiros e como contradomínio os inteiros módulo $q$. \n",
    "\n",
    "A função `g` tem definida como  $\\;g \\,\\colon n \\,\\mapsto\\, n\\ast G$, assim como descrita nos apontamentos da UC.\n",
    "\n",
    "A função `ID` está feita como descrita nos apontamentos da UC  definida como $\\quad\\mathsf{ID}(m)\\;\\equiv\\; g(h(m))$\n",
    "\n",
    "A função `phi` e a função `TateX` são utilizadas para o emparelhamento de tate. Esta função realizará, no que toca ao criptosistema, o papel de `ex` e é responsável pelo emparelhamento generalizado.\n"
   ]
  },
  {
   "cell_type": "code",
   "execution_count": 100,
   "metadata": {},
   "outputs": [],
   "source": [
    "# Gerador pseudo-aleatório\n",
    "def Zr():\n",
    "    set_random_seed(nonce)\n",
    "    random_number = randint(0, q - 1)\n",
    "    return random_number\n",
    "\n",
    "# Função de hash f\n",
    "def f_hash(data):\n",
    "    return hash(data)\n",
    "\n",
    "# Função de hash h\n",
    "def h(bytes_seq):\n",
    "    return hash(bytes_seq)\n",
    "\n",
    "# Função de hash H\n",
    "def H(integer):\n",
    "    return hash(integer)%q\n",
    "\n",
    "# Função g\n",
    "def g(n):\n",
    "    return n * G\n",
    "\n",
    "# Função ID\n",
    "def ID(m):\n",
    "    return g(h(m))\n",
    "\n",
    "def phi(P):         # a isogenia que mapeia  (x,y)  ->  (z*x,y)\n",
    "    (x,y) = P.xy()\n",
    "    return E2(z*x,y)\n",
    "\n",
    "def TateX(P,Q,l=1):      # o emparelhamento de Tate generalizado\n",
    "    return P.tate_pairing(phi(Q), q, 2)^l\n"
   ]
  },
  {
   "cell_type": "markdown",
   "metadata": {},
   "source": [
    "### Criptosistema de Boneh-Franklin\n",
    "\n",
    "A função $\\mathsf{KeyGen}(\\lambda)$, em baixo codificada e explicada, foi a primeira função que desenvolvemos das necessárias para a implementação do criptosistema de Boneh-Franklin.\n",
    "\n",
    "Aqui em baixo está o descrito no apontamento da UC, que fizemos:\n",
    "\n",
    "Este algoritmo gera um segredo administrativo $s\\,$  e uma chave pública administrativa $\\,\\beta\\,$ a partir de um parâmetro de segurança $\\lambda$.\n",
    "\n",
    "    - Gera os elementos comuns com q≈2​λ​​.\n",
    "    - Gera :\n",
    "$\\left\\{\\begin{array}{rcl} s &\\gets& \\mathsf{Zr} \\\\ \\beta & \\gets& g(s)\\end{array}\\right.$\n",
    "\n",
    "Em tudo o que se segue é público o representante da identidade do receptor  $\\,\\textit{id}\\,\\in\\,\\mathsf{Bytes}\\,$ e equivalentemente a sua descrição em $\\,\\mathbb{G}\\,$  calculada como $\\;d \\gets \\mathsf{ID}(\\textit{id})\\;$. \n",
    "\n",
    "\n",
    "É de relembrar que para além disso utilizamos curvas eliticas para calcular G (grupo de torção)."
   ]
  },
  {
   "cell_type": "code",
   "execution_count": 101,
   "metadata": {},
   "outputs": [],
   "source": [
    "def KeyGen(lbd):\n",
    "    global q, p, f, G, z, s, beta, E2\n",
    "    lbd = 8\n",
    "    bq = 2^(lbd-1)\n",
    "    bp = 2^lbd-1\n",
    "    q = random_prime(bp,lbound=bq)\n",
    "    \n",
    "    t = q*3*2^(bp - bq)\n",
    "    while not is_prime(t-1):\n",
    "        t = t << 1\n",
    "    \n",
    "    p = t - 1\n",
    "    \n",
    "    \n",
    "    Fp     = GF(p)         \n",
    "    R.<z>  = Fp[]          \n",
    "    f     = R(z^2 + z + 1)\n",
    "    Fp2.<z> = GF(p^2, modulus=f)   \n",
    "    \n",
    "    \n",
    "    E2 = EllipticCurve(Fp2, [0,1])\n",
    "    \n",
    "    cofac = (p + 1)//q\n",
    "    G = cofac * E2.random_point()\n",
    "    \n",
    "    s = Zr()\n",
    "    beta = g(s)\n",
    "\n",
    "    return (s, beta)\n"
   ]
  },
  {
   "cell_type": "markdown",
   "metadata": {},
   "source": [
    "Abaixo encontramos alguns exemplos do funcionamento normal de cada uma das funções definidas, incluindo a função `KeyGen` do criptosistema."
   ]
  },
  {
   "cell_type": "code",
   "execution_count": 102,
   "metadata": {},
   "outputs": [
    {
     "name": "stdout",
     "output_type": "stream",
     "text": [
      "KeyGen(8): (43, (2273509137437079069073044363616197667795552*z + 2586539837687654800395197499527599141963365 : 2601031599955598367050358798398131368305268*z + 3666844326123734211351882443400913088361704 : 1))\n",
      "Zr: 43\n",
      "f(120): 120\n",
      "h(b'120'): -6704737720330644928\n",
      "H(1209): 44\n",
      "g(7879804275796629580): (447862481297099378476202810527519997145296*z + 1461048300905744039827616491204872797300801 : 3250663916209159572589715430952517634635430*z + 813324317439946188892337006353278162771996 : 1)\n",
      "ID(b'120'): (1838468207785596571188274807642605336280829*z + 1015814752453841911732129789248543680971279 : 692066221863991911169549172785863290907791*z + 1266632313281915923121514064029698030698563 : 1)\n"
     ]
    }
   ],
   "source": [
    "\n",
    "print(\"KeyGen(8):\", KeyGen(8))\n",
    "print(\"Zr:\", Zr())\n",
    "print(\"f(120):\", f_hash(120))\n",
    "print(\"h(b'120'):\", h(b'120'))\n",
    "print(\"H(1209):\", H(1209))\n",
    "print(\"g(7879804275796629580):\", g(7879804275796629580))\n",
    "print(\"ID(b'120'):\", ID(b'120'))"
   ]
  },
  {
   "cell_type": "markdown",
   "metadata": {},
   "source": [
    "\n",
    "Relativame ao keyExtract (algoritmo usa a informação de administração para extrair a chave privada $\\,\\mathit{key}\\,$ associada à chave pública $\\,\\textit{id}\\,$, é implementado como está enunciado no diagrama:\n",
    "\n",
    "$$key\\;\\gets\\;(\\,\\vartheta \\;d \\gets \\mathsf{ID}(\\mathit{id})\\;\\centerdot\\; s* d\\,)$$"
   ]
  },
  {
   "cell_type": "code",
   "execution_count": 103,
   "metadata": {},
   "outputs": [
    {
     "name": "stdout",
     "output_type": "stream",
     "text": [
      "KeyExtract(b'120'): (242328491312070938471230498263647530060281*z + 1372628945229091290119271217719971001182061 : 313249654328383345859482642652467216406237*z + 2195553208011767821144680133372618889417073 : 1)\n"
     ]
    }
   ],
   "source": [
    "def KeyExtract(id):\n",
    "    d = ID(id)\n",
    "    key = s * d\n",
    "    return key\n",
    "\n",
    "key = KeyExtract(b'120')\n",
    "\n",
    "print(\"KeyExtract(b'120'):\",key)"
   ]
  },
  {
   "cell_type": "markdown",
   "metadata": {},
   "source": [
    "No in_encrypt temos a seguinte definição:\n",
    "\n",
    "$$\\mathsf{in\\_ encrypt}(\\mathit{id},x)\\;\\equiv$$ \n",
    "$$\\vartheta\\,d\\gets\\mathsf{ID}(\\mathit{id})\\,\\centerdot\\,\\vartheta\\,v\\gets\\mathsf{Zr}\\,\\centerdot\\,\\vartheta\\,a\\gets H(v\\oplus x)\\,\\centerdot\\,\\vartheta\\,\\mu\\gets\\mathbf{ex}(\\beta,d,a)\\,\\centerdot\\,\\langle x,v,a,\\mu\\rangle$$"
   ]
  },
  {
   "cell_type": "code",
   "execution_count": 104,
   "metadata": {},
   "outputs": [
    {
     "name": "stdout",
     "output_type": "stream",
     "text": [
      "in_encrypt(b'120', 120): (43, 83, 2629630024904420427856237800297019839180494*z + 1884864036726402927662965387476718460785243)\n"
     ]
    }
   ],
   "source": [
    "def in_encrypt(id, x):\n",
    "    d = ID(id)\n",
    "    v = Zr()\n",
    "    a = H(v ^^ x)\n",
    "    mu = TateX(beta, d, a)\n",
    "    return v, a, mu\n",
    "\n",
    "v, a, mu = in_encrypt(b'120', 120)\n",
    "\n",
    "# print para debug\n",
    "print(\"in_encrypt(b'120', 120):\", (v, a, mu))"
   ]
  },
  {
   "cell_type": "markdown",
   "metadata": {},
   "source": [
    "No out_encrypt temos de mencionar extra a utilização do ^^ para fazer xor, com recurso ao sagemath. Segue o diagrama apresentado em baixo:\n",
    "\n",
    "$$\\mathsf{out\\_ encrypt}(x,v,a,\\mu)\\;\\equiv$$\n",
    "$$\\vartheta\\,\\alpha\\gets g(a)\\,\\centerdot\\,\\vartheta\\,v'\\gets v\\oplus f(\\mu)\\,\\centerdot\\,x'\\gets x\\oplus H(v)\\,\\centerdot\\,\\langle \\alpha,v',x'\\rangle$$"
   ]
  },
  {
   "cell_type": "code",
   "execution_count": 105,
   "metadata": {},
   "outputs": [
    {
     "name": "stdout",
     "output_type": "stream",
     "text": [
      "out_encrypt(120,v,a,mu): ((847233263721477088871220453940206233687146*z + 2595127466026680811584227734898508292904506 : 2658283201752406190710119028625335768515877*z + 1052028975402982538101411525669900895040728 : 1), 7697624891466661929, 83)\n"
     ]
    }
   ],
   "source": [
    "def out_encrypt(x, v, a, mu):\n",
    "    alpha = g(a)\n",
    "    v_prime = v ^^ f_hash(mu)\n",
    "    x_prime = x ^^ H(v)\n",
    "    return (alpha, v_prime, x_prime)\n",
    "\n",
    "# print para debug\n",
    "print(\"out_encrypt(120,v,a,mu):\", out_encrypt(120, v, a, mu))"
   ]
  },
  {
   "cell_type": "markdown",
   "metadata": {},
   "source": [
    "Por sua vez, a função de Encrypt é uma composição das funções `in_encrypt` e `out_encrypt`:\n",
    "\n",
    "$$\\mathsf{Encrypt}(\\mathit{id}, x) \\;\\equiv\\;$$  \n",
    "$$\\vartheta \\,x,v,a,\\mu \\gets \\mathsf{in}(\\mathit{id},x)\\,\\centerdot\\,\\mathsf{out}(x,v,a,\\mu)$$"
   ]
  },
  {
   "cell_type": "code",
   "execution_count": 106,
   "metadata": {},
   "outputs": [
    {
     "name": "stdout",
     "output_type": "stream",
     "text": [
      "Encrypt(b'120', 120): ((847233263721477088871220453940206233687146*z + 2595127466026680811584227734898508292904506 : 2658283201752406190710119028625335768515877*z + 1052028975402982538101411525669900895040728 : 1), 7697624891466661929, 83)\n"
     ]
    }
   ],
   "source": [
    "def Encrypt(id, x):\n",
    "    v, a, mu = in_encrypt(id, x)\n",
    "    alpha, v_prime, x_prime = out_encrypt(x, v, a, mu)\n",
    "    return (alpha, v_prime, x_prime)\n",
    "\n",
    "alpha, v_prime, x_prime = Encrypt(b'120', 120)\n",
    "\n",
    "# print para debug\n",
    "print(\"Encrypt(b'120', 120):\", (alpha, v_prime, x_prime))"
   ]
  },
  {
   "cell_type": "markdown",
   "metadata": {},
   "source": [
    "Na implementação do `in_decrypt` utilizamos surge a necessidade de utilizar a função `ex` para realizar o emparelhamento generalizado que, no nosso caso, recorre à função `TateX`:\n",
    "\n",
    "$$\\mathsf{in\\_ decrypt}(\\mathit{key},\\alpha, v', x')\\;\\equiv$$\n",
    "$$\\vartheta\\,\\mu \\gets \\mathbf{ex}(\\alpha,\\mathit{key},1)\\,\\centerdot\\,\\vartheta\\,v \\gets v'\\oplus f(\\mu)\\,\\centerdot\\,x\\gets x'\\oplus H(v)\\,\\centerdot\\,\\langle \\alpha,v,x\\rangle$$"
   ]
  },
  {
   "cell_type": "code",
   "execution_count": 107,
   "metadata": {},
   "outputs": [
    {
     "name": "stdout",
     "output_type": "stream",
     "text": [
      "in_decrypt(key,alpha,v_prime,x_prime): ((847233263721477088871220453940206233687146*z + 2595127466026680811584227734898508292904506 : 2658283201752406190710119028625335768515877*z + 1052028975402982538101411525669900895040728 : 1), 43, 120)\n"
     ]
    }
   ],
   "source": [
    "def in_decrypt(key, alpha, v_prime, x_prime):\n",
    "    mu = TateX(alpha,key,1)\n",
    "    v = v_prime ^^ f_hash(mu)\n",
    "    x = x_prime ^^ H(v)\n",
    "    return (alpha, v, x)\n",
    "\n",
    "alpha, v, x = in_decrypt(key,alpha,v_prime,x_prime)\n",
    "\n",
    "print(\"in_decrypt(key,alpha,v_prime,x_prime):\", (alpha, v, x))"
   ]
  },
  {
   "cell_type": "markdown",
   "metadata": {},
   "source": [
    "A função `out_decrypt` é a função que realiza a desencriptação final do texto cifrado e a sua verificação, devolve o texto em limpo no caso de sucesso e `Decryption failed` no caso de falha.\n",
    "\n",
    "$$\\mathsf{out\\_ decrypt}(\\alpha,v,x)\\;\\equiv$$\n",
    "$$\\vartheta\\,a\\gets H(v\\oplus x)\\,\\centerdot\\,\\mathsf{if}\\;\\;\\alpha\\neq g(a)\\;\\;\\mathsf{then}\\;\\;\\texttt{fails}\\;\\;\\mathsf{else}\\;\\;x$$"
   ]
  },
  {
   "cell_type": "code",
   "execution_count": 108,
   "metadata": {},
   "outputs": [
    {
     "name": "stdout",
     "output_type": "stream",
     "text": [
      "out_decrypt(alpha, v, x): 120\n"
     ]
    }
   ],
   "source": [
    "def out_decrypt(alpha, v, x):\n",
    "    a = H(v ^^ x)\n",
    "    if g(a) != alpha:\n",
    "        return \"Decryption failed\"\n",
    "    return x\n",
    "\n",
    "print(\"out_decrypt(alpha, v, x):\", out_decrypt(alpha, v, x))"
   ]
  },
  {
   "cell_type": "markdown",
   "metadata": {},
   "source": [
    "O `Decript`, mais uma vez, é uma composição das funções `in_decrypt` e `out_decrypt`:\n",
    "\n",
    "$$\\mathsf{Decrypt}(\\mathit{key}, c) \\;\\equiv\\;$$\n",
    "$$\\vartheta \\,\\alpha,v,x \\gets \\mathsf{in}(\\mathit{key},c)\\,\\centerdot\\,\\mathsf{out}(\\alpha,v,x)$$"
   ]
  },
  {
   "cell_type": "code",
   "execution_count": 109,
   "metadata": {},
   "outputs": [
    {
     "name": "stdout",
     "output_type": "stream",
     "text": [
      "Decrypt(key, alpha, v_prime, x_prime): 120\n"
     ]
    }
   ],
   "source": [
    "\n",
    "def Decrypt(key, alpha, v_prime, x_prime):\n",
    "    alpha, v, x = in_decrypt(key, alpha, v_prime, x_prime)\n",
    "    return out_decrypt(alpha, v, x)\n",
    "\n",
    "print(\"Decrypt(key, alpha, v_prime, x_prime):\", Decrypt(key, alpha, v_prime, x_prime))"
   ]
  },
  {
   "cell_type": "markdown",
   "metadata": {},
   "source": [
    "Desde já, com os testes individuais de cada função, podemos concluir que o criptosistema de Boneh-Franklin está a funcionar corretamente e que as funções estão a ser executadas de acordo com o esperado. Isto pode ser verificado nos outputs de cada função do criptosistema e, de forma completa, na secção de testes que se segue."
   ]
  },
  {
   "cell_type": "markdown",
   "metadata": {},
   "source": [
    "### Testes\n",
    "\n",
    "Nesta secção temos alguns testes que fizemos para demonstrar o bom funcionamento do código."
   ]
  },
  {
   "cell_type": "markdown",
   "metadata": {},
   "source": [
    "##### Bem sucedido\n",
    "\n",
    "Primeiramente temos um teste bem sucedido, onde tudo acontece como deve. Começamos por criar um lambda, um id (decididimos um email exemplo) e uma mensagem, neste caso e para facilitar um numero inteiro.\n",
    "\n",
    "Depois utilizamos o lamba para gerar um segredo administrativo e uma chave publica. Extraimos a chave priva pelo id. Ciframos e deciframos e mensagens deram iguais como era de esperar."
   ]
  },
  {
   "cell_type": "code",
   "execution_count": 110,
   "metadata": {},
   "outputs": [
    {
     "name": "stdout",
     "output_type": "stream",
     "text": [
      "Original message: 7655465\n",
      "Decrypted message: 7655465\n"
     ]
    }
   ],
   "source": [
    "lmbda = 128\n",
    "id = \"sender@test.com\"\n",
    "x = 7655465\n",
    "\n",
    "s, beta = KeyGen(lmbda)\n",
    "key = KeyExtract(id)\n",
    "alpha, v_prime, x_prime = Encrypt(id, x)\n",
    "decrypted_x = Decrypt(key, alpha, v_prime, x_prime)\n",
    "print(\"Original message:\", x)\n",
    "print(\"Decrypted message:\", decrypted_x)"
   ]
  },
  {
   "cell_type": "markdown",
   "metadata": {},
   "source": [
    "##### Teste Falhado - Mudança do id\n",
    "\n",
    "Fizemos este teste para verificar que ao mudar o id e gerar uma nova key com esse id. Vemos que a decifração falha, como era de esperar."
   ]
  },
  {
   "cell_type": "code",
   "execution_count": 111,
   "metadata": {},
   "outputs": [
    {
     "name": "stdout",
     "output_type": "stream",
     "text": [
      "Original message: 7655465\n",
      "Decrypted message: Decryption failed\n"
     ]
    }
   ],
   "source": [
    "lmbda = 128\n",
    "id = \"sender@test.com\"\n",
    "\n",
    "x = 7655465\n",
    "\n",
    "s, beta = KeyGen(lmbda)\n",
    "key = KeyExtract(id)\n",
    "alpha, v_prime, x_prime = Encrypt(id, x)\n",
    "id = \"mudamos_o_id@vamosVerSeMuda.pt\"\n",
    "key = KeyExtract(id)\n",
    "decrypted_x = Decrypt(key, alpha, v_prime, x_prime)\n",
    "print(\"Original message:\", x)\n",
    "print(\"Decrypted message:\", decrypted_x)"
   ]
  }
 ],
 "metadata": {
  "kernelspec": {
   "display_name": "SageMath 10.2",
   "language": "sage",
   "name": "sagemath"
  },
  "language_info": {
   "codemirror_mode": {
    "name": "ipython",
    "version": 3
   },
   "file_extension": ".py",
   "mimetype": "text/x-python",
   "name": "python",
   "nbconvert_exporter": "python",
   "pygments_lexer": "ipython3",
   "version": "3.9.19"
  }
 },
 "nbformat": 4,
 "nbformat_minor": 2
}
