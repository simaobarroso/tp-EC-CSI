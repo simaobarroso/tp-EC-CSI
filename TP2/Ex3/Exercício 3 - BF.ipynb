{
 "cells": [
  {
   "cell_type": "markdown",
   "metadata": {},
   "source": [
    "# Estruturas Criptográficas - Criptografia e Segurança da Informação\n",
    "\n",
    "[Grupo 03](https://paper.dropbox.com/doc/Estruturas-Criptograficas-2023-2024-Trabalhos-Praticos-8WcsdZARGLv0nXS9KasmK)\n",
    "\n",
    "(PG54177) Ricardo Alves Oliveira \n",
    "\n",
    "(PG54236) Simão Oliveira Alvim Barroso\n",
    "\n",
    "## TP3 - Exercício 3\n",
    "\n",
    "3. O algoritmo de Boneh e Franklin (BF) discutido no +Capítulo 5b:  Curvas Elípticas e sua Aritmética é uma tecnica fundamental na chamada “Criptografia Orientada à Identidade”. Seguindo as orientações definidas nesse texto, pretende-se construir usando Sagemath uma classe Python que implemente este criptosistema.\n",
    "\n",
    "## Resolução\n",
    "\n",
    "Para resolver este exercício começamos por importar a biblioteca `sagemath`."
   ]
  },
  {
   "cell_type": "code",
   "execution_count": 160,
   "metadata": {},
   "outputs": [],
   "source": [
    "from sage.all import *\n",
    "\n",
    "q = None\n",
    "p = None\n",
    "f = None\n",
    "G = None\n",
    "z = None\n",
    "s = None\n",
    "beta = None\n",
    "E2 = None\n",
    "nonce = 54345264"
   ]
  },
  {
   "cell_type": "markdown",
   "metadata": {},
   "source": [
    "Um emparelhamento  tate  definido num grupo de torção $$\\mathbb{G}$$ de ordem prima $$q$$ como vimos na secção de emparelhamentos.  O grupo $$\\mathbb{G}\\,$$ tem o gerador $$G$$."
   ]
  },
  {
   "cell_type": "markdown",
   "metadata": {},
   "source": [
    "Emparelhamento de tate."
   ]
  },
  {
   "cell_type": "markdown",
   "metadata": {},
   "source": [
    "De seguida definimos as funções auxiliares do criptosistema com recurso ao sagemath seguindo as orientações abaixo:\n",
    "\n",
    "$$\\mathsf{Zr}\\;\\colon\\;\\mathbb{N}\\,\\to\\,\\mathbb{Z}_q$$ \n",
    "$$f\\;\\colon\\;\\mathbb{F}_{p^2}\\,\\to\\,\\mathbb{Z}$$\n",
    "$$h \\;\\colon\\; \\mathsf{Bytes} \\,\\to\\, \\mathbb{Z}$$\n",
    "$$H\\,\\colon\\,\\mathbb{Z}\\,\\to\\,\\mathbb{Z}_q$$\n",
    "$$g\\;\\colon\\;\\mathbb{Z}\\,\\to\\,\\mathbb{G}\\quad$$ \n",
    "$$\\mathsf{ID}\\;\\colon\\;\\mathsf{Bytes}\\,\\to\\,\\mathbb{G}\\quad$$\n"
   ]
  },
  {
   "cell_type": "code",
   "execution_count": 161,
   "metadata": {},
   "outputs": [],
   "source": [
    "# Gerador pseudo-aleatório\n",
    "def Zr():\n",
    "    set_random_seed(nonce)\n",
    "    random_number = randint(0, q - 1)\n",
    "    return random_number\n",
    "\n",
    "# Função de hash f\n",
    "def f_hash(data):\n",
    "    return hash(data)\n",
    "\n",
    "# Função de hash h\n",
    "def h(bytes_seq):\n",
    "    return hash(bytes_seq)\n",
    "\n",
    "# Função de hash H\n",
    "def H(integer):\n",
    "    return hash(integer)%q\n",
    "\n",
    "# Função g\n",
    "def g(n):\n",
    "    return n * G\n",
    "\n",
    "# Função ID\n",
    "def ID(m):\n",
    "    return g(h(m))\n",
    "\n",
    "def phi(P):         \n",
    "    (x,y) = P.xy()\n",
    "    return E2(z*x,y)\n",
    "\n",
    "def TateX(P,Q,l=1):      \n",
    "    return P.tate_pairing(phi(Q), q, 2)^l\n"
   ]
  },
  {
   "cell_type": "code",
   "execution_count": 162,
   "metadata": {},
   "outputs": [],
   "source": [
    "def KeyGen(lbd):\n",
    "    global q, p, f, G, z, s, beta, E2\n",
    "    lbd = 8\n",
    "    bq = 2^(lbd-1)\n",
    "    bp = 2^lbd-1\n",
    "    q = random_prime(bp,lbound=bq)\n",
    "    \n",
    "    t = q*3*2^(bp - bq)\n",
    "    while not is_prime(t-1):\n",
    "        t = t << 1\n",
    "    \n",
    "    p = t - 1\n",
    "    \n",
    "    \n",
    "    Fp     = GF(p)         \n",
    "    R.<z>  = Fp[]          \n",
    "    f     = R(z^2 + z + 1)\n",
    "    Fp2.<z> = GF(p^2, modulus=f)   \n",
    "    \n",
    "    \n",
    "    E2 = EllipticCurve(Fp2, [0,1])\n",
    "    \n",
    "    cofac = (p + 1)//q\n",
    "    G = cofac * E2.random_point()\n",
    "    \n",
    "    s = Zr()\n",
    "    beta = g(s)\n",
    "\n",
    "    return (s, beta)\n"
   ]
  },
  {
   "cell_type": "code",
   "execution_count": 163,
   "metadata": {},
   "outputs": [
    {
     "name": "stdout",
     "output_type": "stream",
     "text": [
      "KeyGen(8): (43, (2273509137437079069073044363616197667795552*z + 2586539837687654800395197499527599141963365 : 1204686391688177408324022811118764308618635*z + 138873665520041564022499166115982588562199 : 1))\n",
      "Zr: 43\n",
      "f(120): 120\n",
      "h(b'120'): 6309581710264563278\n",
      "H(1209): 44\n",
      "g(7879804275796629580): (447862481297099378476202810527519997145296*z + 1461048300905744039827616491204872797300801 : 555054075434616202784666178564378042288473*z + 2992393674203829586482044603163617514151907 : 1)\n",
      "ID(b'120'): (301152104990636760498829661831703504363451*z + 3170673939305747100803916162932807622929809 : 1387567861736718772149878436344543592901995*z + 3706628427427890658021697706745543624310667 : 1)\n"
     ]
    }
   ],
   "source": [
    "\n",
    "print(\"KeyGen(8):\", KeyGen(8))\n",
    "print(\"Zr:\", Zr())\n",
    "print(\"f(120):\", f_hash(120))\n",
    "print(\"h(b'120'):\", h(b'120'))\n",
    "print(\"H(1209):\", H(1209))\n",
    "print(\"g(7879804275796629580):\", g(7879804275796629580))\n",
    "print(\"ID(b'120'):\", ID(b'120'))"
   ]
  },
  {
   "cell_type": "markdown",
   "metadata": {},
   "source": [
    "$$key\\;\\gets\\;(\\,\\vartheta \\;d \\gets \\mathsf{ID}(\\mathit{id})\\;\\centerdot\\; s* d\\,)$$"
   ]
  },
  {
   "cell_type": "code",
   "execution_count": 164,
   "metadata": {},
   "outputs": [
    {
     "name": "stdout",
     "output_type": "stream",
     "text": [
      "KeyExtract(b'120'): (3362662182034269113809441857599421975414990*z + 3268573714501534688373970942333921246643851 : 2595618829414932721530002935789100233440100*z + 176330492917635750850022489055232096125347 : 1)\n"
     ]
    }
   ],
   "source": [
    "def KeyExtract(id):\n",
    "    d = ID(id)\n",
    "    key = s * d\n",
    "    return key\n",
    "\n",
    "key = KeyExtract(b'120')\n",
    "\n",
    "print(\"KeyExtract(b'120'):\",key)"
   ]
  },
  {
   "cell_type": "markdown",
   "metadata": {},
   "source": [
    "\n",
    "$$\\mathsf{in\\_ encrypt}(\\mathit{id},x)\\;\\equiv$$ \n",
    "$$\\vartheta\\,d\\gets\\mathsf{ID}(\\mathit{id})\\,\\centerdot\\,\\vartheta\\,v\\gets\\mathsf{Zr}\\,\\centerdot\\,\\vartheta\\,a\\gets H(v\\oplus x)\\,\\centerdot\\,\\vartheta\\,\\mu\\gets\\mathbf{ex}(\\beta,d,a)\\,\\centerdot\\,\\langle x,v,a,\\mu\\rangle$$"
   ]
  },
  {
   "cell_type": "code",
   "execution_count": 165,
   "metadata": {},
   "outputs": [
    {
     "name": "stdout",
     "output_type": "stream",
     "text": [
      "in_encrypt(b'120', 120): (43, 83, 882560302452970277186011465024579528179184*z + 1477901369596924849905210313696855830796412)\n"
     ]
    }
   ],
   "source": [
    "def in_encrypt(id, x):\n",
    "    d = ID(id)\n",
    "    v = Zr()\n",
    "    a = H(v ^^ x)\n",
    "    mu = TateX(beta, d, a)\n",
    "    return v, a, mu\n",
    "\n",
    "v, a, mu = in_encrypt(b'120', 120)\n",
    "\n",
    "print(\"in_encrypt(b'120', 120):\", (v, a, mu))"
   ]
  },
  {
   "cell_type": "markdown",
   "metadata": {},
   "source": [
    "$$\\mathsf{out\\_ encrypt}(x,v,a,\\mu)\\;\\equiv$$\n",
    "$$\\vartheta\\,\\alpha\\gets g(a)\\,\\centerdot\\,\\vartheta\\,v'\\gets v\\oplus f(\\mu)\\,\\centerdot\\,x'\\gets x\\oplus H(v)\\,\\centerdot\\,\\langle \\alpha,v',x'\\rangle$$"
   ]
  },
  {
   "cell_type": "code",
   "execution_count": 166,
   "metadata": {},
   "outputs": [
    {
     "name": "stdout",
     "output_type": "stream",
     "text": [
      "out_encrypt(120,v,a,mu): ((847233263721477088871220453940206233687146*z + 2595127466026680811584227734898508292904506 : 1147434789891369584664262580891559908408026*z + 2753689016240793237272970083846994781883175 : 1), -3169791819069603670, 83)\n"
     ]
    }
   ],
   "source": [
    "def out_encrypt(x, v, a, mu):\n",
    "    alpha = g(a)\n",
    "    v_prime = v ^^ f_hash(mu)\n",
    "    x_prime = x ^^ H(v)\n",
    "    return (alpha, v_prime, x_prime)\n",
    "\n",
    "print(\"out_encrypt(120,v,a,mu):\", out_encrypt(120, v, a, mu))"
   ]
  },
  {
   "cell_type": "markdown",
   "metadata": {},
   "source": [
    "\n",
    "$$\\mathsf{Encrypt}(\\mathit{id}, x) \\;\\equiv\\;$$  \n",
    "$$\\vartheta \\,x,v,a,\\mu \\gets \\mathsf{in}(\\mathit{id},x)\\,\\centerdot\\,\\mathsf{out}(x,v,a,\\mu)$$"
   ]
  },
  {
   "cell_type": "code",
   "execution_count": 167,
   "metadata": {},
   "outputs": [
    {
     "name": "stdout",
     "output_type": "stream",
     "text": [
      "Encrypt(b'120', 120): ((847233263721477088871220453940206233687146*z + 2595127466026680811584227734898508292904506 : 1147434789891369584664262580891559908408026*z + 2753689016240793237272970083846994781883175 : 1), -3169791819069603670, 83)\n"
     ]
    }
   ],
   "source": [
    "def Encrypt(id, x):\n",
    "    v, a, mu = in_encrypt(id, x)\n",
    "    alpha, v_prime, x_prime = out_encrypt(x, v, a, mu)\n",
    "    return (alpha, v_prime, x_prime)\n",
    "\n",
    "alpha, v_prime, x_prime = Encrypt(b'120', 120)\n",
    "\n",
    "print(\"Encrypt(b'120', 120):\", (alpha, v_prime, x_prime))"
   ]
  },
  {
   "cell_type": "markdown",
   "metadata": {},
   "source": [
    "\n",
    "$$\\mathsf{in\\_ decrypt}(\\mathit{key},\\alpha, v', x')\\;\\equiv$$\n",
    "$$\\vartheta\\,\\mu \\gets \\mathbf{ex}(\\alpha,\\mathit{key},1)\\,\\centerdot\\,\\vartheta\\,v \\gets v'\\oplus f(\\mu)\\,\\centerdot\\,x\\gets x'\\oplus H(v)\\,\\centerdot\\,\\langle \\alpha,v,x\\rangle$$"
   ]
  },
  {
   "cell_type": "code",
   "execution_count": 168,
   "metadata": {},
   "outputs": [
    {
     "name": "stdout",
     "output_type": "stream",
     "text": [
      "in_decrypt(key,alpha,v_prime,x_prime): ((847233263721477088871220453940206233687146*z + 2595127466026680811584227734898508292904506 : 1147434789891369584664262580891559908408026*z + 2753689016240793237272970083846994781883175 : 1), 43, 120)\n"
     ]
    }
   ],
   "source": [
    "def in_decrypt(key, alpha, v_prime, x_prime):\n",
    "    mu = TateX(alpha,key,1)\n",
    "    v = v_prime ^^ f_hash(mu)\n",
    "    x = x_prime ^^ H(v)\n",
    "    return (alpha, v, x)\n",
    "\n",
    "alpha, v, x = in_decrypt(key,alpha,v_prime,x_prime)\n",
    "\n",
    "print(\"in_decrypt(key,alpha,v_prime,x_prime):\", (alpha, v, x))"
   ]
  },
  {
   "cell_type": "markdown",
   "metadata": {},
   "source": [
    "\n",
    "$$\\mathsf{out\\_ decrypt}(\\alpha,v,x)\\;\\equiv$$\n",
    "$$\\vartheta\\,a\\gets H(v\\oplus x)\\,\\centerdot\\,\\mathsf{if}\\;\\;\\alpha\\neq g(a)\\;\\;\\mathsf{then}\\;\\;\\texttt{fails}\\;\\;\\mathsf{else}\\;\\;x$$"
   ]
  },
  {
   "cell_type": "code",
   "execution_count": 169,
   "metadata": {},
   "outputs": [
    {
     "name": "stdout",
     "output_type": "stream",
     "text": [
      "out_decrypt(alpha, v, x): 120\n"
     ]
    }
   ],
   "source": [
    "def out_decrypt(alpha, v, x):\n",
    "    a = H(v ^^ x)\n",
    "    if g(a) != alpha:\n",
    "        return \"Decryption failed\"\n",
    "    return x\n",
    "\n",
    "print(\"out_decrypt(alpha, v, x):\", out_decrypt(alpha, v, x))"
   ]
  },
  {
   "cell_type": "markdown",
   "metadata": {},
   "source": [
    "$$\\mathsf{Decrypt}(\\mathit{key}, c) \\;\\equiv\\;$$\n",
    "$$\\vartheta \\,\\alpha,v,x \\gets \\mathsf{in}(\\mathit{key},c)\\,\\centerdot\\,\\mathsf{out}(\\alpha,v,x)$$"
   ]
  },
  {
   "cell_type": "code",
   "execution_count": 170,
   "metadata": {},
   "outputs": [
    {
     "name": "stdout",
     "output_type": "stream",
     "text": [
      "Decrypt(key, alpha, v_prime, x_prime): 120\n"
     ]
    }
   ],
   "source": [
    "\n",
    "def Decrypt(key, alpha, v_prime, x_prime):\n",
    "    alpha, v, x = in_decrypt(key, alpha, v_prime, x_prime)\n",
    "    return out_decrypt(alpha, v, x)\n",
    "\n",
    "print(\"Decrypt(key, alpha, v_prime, x_prime):\", Decrypt(key, alpha, v_prime, x_prime))"
   ]
  },
  {
   "cell_type": "code",
   "execution_count": 171,
   "metadata": {},
   "outputs": [
    {
     "name": "stdout",
     "output_type": "stream",
     "text": [
      "Original message: 7655465\n",
      "Decrypted message: 7655465\n"
     ]
    }
   ],
   "source": [
    "lmbda = 128\n",
    "id = \"sender@test.com\"\n",
    "x = 7655465\n",
    "\n",
    "s, beta = KeyGen(lmbda)\n",
    "key = KeyExtract(id)\n",
    "alpha, v_prime, x_prime = Encrypt(id, x)\n",
    "decrypted_x = Decrypt(key, alpha, v_prime, x_prime)\n",
    "print(\"Original message:\", x)\n",
    "print(\"Decrypted message:\", decrypted_x)"
   ]
  }
 ],
 "metadata": {
  "kernelspec": {
   "display_name": "SageMath 9.5",
   "language": "sage",
   "name": "sagemath"
  },
  "language_info": {
   "codemirror_mode": {
    "name": "ipython",
    "version": 3
   },
   "file_extension": ".py",
   "mimetype": "text/x-python",
   "name": "python",
   "nbconvert_exporter": "python",
   "pygments_lexer": "ipython3",
   "version": "3.11.2"
  }
 },
 "nbformat": 4,
 "nbformat_minor": 2
}
