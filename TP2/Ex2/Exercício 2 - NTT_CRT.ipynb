{
 "cells": [
  {
   "cell_type": "markdown",
   "metadata": {},
   "source": [
    "# Estruturas Criptográficas - Criptografia e Segurança da Informação\n",
    "\n",
    "[Grupo 03](https://paper.dropbox.com/doc/Estruturas-Criptograficas-2023-2024-Trabalhos-Praticos-8WcsdZARGLv0nXS9KasmK)\n",
    "\n",
    "(PG54177) Ricardo Alves Oliveira \n",
    "\n",
    "(PG54236) Simão Oliveira Alvim Barroso\n",
    "\n",
    "## TP2 - Exercício 2\n",
    "\n",
    "2. Uma das aplicações mais importantes do teorema chinês dos restos (CRT) em criptografia é a transformada NTT “Number Theoretic Transform”.  Esta transformada é uma componente importantes de “standards” PQC  como o Kyber e o Dilithium mas também de outros algoritmos submetidos ao concurso NIST PQC.  \n",
    "A transformação NTT tem várias opções e aquela que está apresentada no +Capítulo 4:  Problemas Difíceis  usa o CRT.\n",
    "Neste problema pretende-se uma implementação Sagemath  do NTT-CRT tal como é descrito nesse documento.\n",
    "\n",
    "## Resolução\n",
    "\n",
    "Para resolver este exercício comecamos por instalar e importar o SageMath. "
   ]
  },
  {
   "cell_type": "code",
   "execution_count": null,
   "metadata": {},
   "outputs": [],
   "source": [
    "from sage.all import *\n",
    "import random"
   ]
  },
  {
   "cell_type": "markdown",
   "metadata": {},
   "source": [
    "A função find_q(n) tem como objetivo encontrar um número primo que satisfaça a condição q≡1mod(2N), onde N pertence a [32, 64, 128, 256, 512, 1024, 2048]."
   ]
  },
  {
   "cell_type": "code",
   "execution_count": null,
   "metadata": {},
   "outputs": [],
   "source": [
    "def find_q(n):\n",
    "    if not  n in [32,64,128,256,512,1024,2048]:\n",
    "        raise ValueError(\"improper argument \",n)\n",
    "        \n",
    "    q = 1 + 2*n\n",
    "    while True:\n",
    "        if (q).is_prime():\n",
    "            return q\n",
    "        q += 2*n\n",
    "    "
   ]
  },
  {
   "cell_type": "markdown",
   "metadata": {},
   "source": [
    "De seguida implementamos a função NTT que recebe como argumentos:\n",
    "\n",
    "- f: Polinómio de entrada\n",
    "- N: Tamanho do polinómio\n",
    "- xi: Raiz primitiva de N\n",
    "- F: Campo finito onde serão realizadas as operações\n",
    "\n",
    "Esta função devolve o polinómio transformado de acordo com a transformada NTT. Para tal foram implementadas as seguintes funções auxiliares:\n",
    "\n",
    "- \\_expand\\_: Esta função recebe um polinómio e um tamanho N e devolve um polinómio de tamanho N com os coeficientes do polinómio de entrada e os restantes coeficientes a 0.\n",
    "- \\_ntt\\_: Esta função recebe um polinómio de entrada e devolve o polinómio transformado de acordo com a transformada NTT.\n",
    "\n",
    "Por fim, a implementação da transformada segue o algoritmo descrito no [Capítulo 4](https://paper.dropbox.com/doc/Estruturas-Criptograficas-2023-2024-SUMARIO-UoGN1qanDMVYkNV8D5avY)."
   ]
  },
  {
   "cell_type": "code",
   "execution_count": null,
   "metadata": {},
   "outputs": [],
   "source": [
    "def ntt(f,N,xi,F):                            \n",
    "    def _expand_(f): \n",
    "        u = f.list()\n",
    "        return u + [0]*(N-len(u)) \n",
    "    \n",
    "    def _ntt_(xi,N,f):\n",
    "        if N==1:\n",
    "            return f\n",
    "        N_ = N/2 ; xi2 =  xi^2  \n",
    "        f0 = [f[2*i]   for i in range(N_)] ; f1 = [f[2*i+1] for i in range(N_)] \n",
    "        ff0 = _ntt_(xi2,N_,f0) ; ff1 = _ntt_(xi2,N_,f1)  \n",
    "\n",
    "        s  = xi ; ff = [F(0) for i in range(N)] \n",
    "        for i in range(N_):\n",
    "            a = ff0[i] ; b = s*ff1[i]  \n",
    "            ff[i] = a + b ; ff[i + N_] = a - b \n",
    "            s = s * xi2                     \n",
    "        return ff \n",
    "    \n",
    "    return _ntt_(xi,N,_expand_(f))"
   ]
  },
  {
   "cell_type": "markdown",
   "metadata": {},
   "source": [
    "Para o cálculo da inversa da transformada NTT foi implementada a função ntt_inv que ao receber o polinómio transformado, o tamanho do polinómio e o array de bases do crt, devolve o polinómio original."
   ]
  },
  {
   "cell_type": "code",
   "execution_count": null,
   "metadata": {},
   "outputs": [],
   "source": [
    "def ntt_inv(ff,N,base):                             \n",
    "    return sum([ff[i]*base[i] for i in range(N)])"
   ]
  },
  {
   "cell_type": "markdown",
   "metadata": {},
   "source": [
    "A função auxiliar random_pol e responsável por gerar um polinómio aleatório a partir de um anel polinomial R. "
   ]
  },
  {
   "cell_type": "code",
   "execution_count": null,
   "metadata": {},
   "outputs": [],
   "source": [
    "def random_pol(R,args=None):\n",
    "    return R.random_element(args)"
   ]
  },
  {
   "cell_type": "markdown",
   "metadata": {},
   "source": [
    "Para testar a implementação precisamos agora de obter o N desejado e gerar o q correspondente, com recurso à função find_q(n) mencionada anteriormente. "
   ]
  },
  {
   "cell_type": "code",
   "execution_count": null,
   "metadata": {},
   "outputs": [],
   "source": [
    "N = int(input(\"Enter N: \"))\n",
    "q = find_q(N)\n",
    "print(\"q = \",q)\n"
   ]
  },
  {
   "cell_type": "markdown",
   "metadata": {},
   "source": [
    "Com as variáveis de entrada defenidas podemos agora definir:\n",
    "\n",
    "- O campo finito F\n",
    "- O anel polinomial R com base no campo finito F\n",
    "- O gerador do anel de polinômios R, representado por w\n",
    "- O polinómio g, utilizado para encontrar as raízes primitivas\n",
    "- As raízes primitivas xi\n",
    "- As raízes rs que são geradas segundo a forma `xi^(2i+1)`\n",
    "- A base do CRT calculada através da função `crt_basis`"
   ]
  },
  {
   "cell_type": "code",
   "execution_count": null,
   "metadata": {},
   "outputs": [],
   "source": [
    "F = FiniteField(q)   \n",
    "R = PolynomialRing(F, name=\"w\")\n",
    "w = R.gen()\n",
    "g = (w^N + 1)\n",
    "xi = g.roots(multiplicities=False)[-1]\n",
    "rs = [xi^(2*i+1) for i in range(N)] \n",
    "base = crt_basis([(w - r) for r in rs]) "
   ]
  },
  {
   "cell_type": "markdown",
   "metadata": {},
   "source": [
    "Com as variáveis definidas podemos agora testar a implementação da transformada NTT e da sua inversa. Para tal, geramos um polinómio aleatório de tamanho entre 1 e N-1."
   ]
  },
  {
   "cell_type": "code",
   "execution_count": null,
   "metadata": {},
   "outputs": [],
   "source": [
    "f = random_pol(R,N-random.randint(1,N-1))\n",
    "print(\"f = \",end='')\n",
    "for i in range(N-1):\n",
    "    print(f\"{f[i]}*w^{i} + \",end='')\n",
    "print(f\"{f[N-1]}*w^{N-1}\")"
   ]
  },
  {
   "cell_type": "markdown",
   "metadata": {},
   "source": [
    "De seguida calculamos o polinómio transformado através da função NTT."
   ]
  },
  {
   "cell_type": "code",
   "execution_count": null,
   "metadata": {},
   "outputs": [],
   "source": [
    "ff = ntt(f,N,xi,F)\n",
    "print(\"ff = \",end='')\n",
    "for i in range(N-1):\n",
    "    print(f\"{ff[i]}*w^{i} + \",end='')\n",
    "print(f\"{ff[N-1]}*w^{N-1}\")"
   ]
  },
  {
   "cell_type": "markdown",
   "metadata": {},
   "source": [
    "Por fim calculamos o polinómio original através da função ntt_inv, utilizando para isso o polinómio transformado, o tamanho do polinómio e o array de bases do crt.\n",
    "\n",
    "Para verificar fazemos a comparação entre o polinómio original e o polinómio obtido através da inversa da transformada NTT do polinómio transformado."
   ]
  },
  {
   "cell_type": "code",
   "execution_count": null,
   "metadata": {},
   "outputs": [],
   "source": [
    "\n",
    "fff = ntt_inv(ff,N,base)\n",
    "print(\"fff = \",end='')\n",
    "for i in range(N-1):\n",
    "    print(f\"{fff[i]}*w^{i} + \",end='')\n",
    "print(f\"{fff[N-1]}*w^{N-1}\")\n",
    "\n",
    "print(\"Correto ? \",f == fff) "
   ]
  }
 ],
 "metadata": {
  "kernelspec": {
   "display_name": ".venv",
   "language": "python",
   "name": "python3"
  },
  "language_info": {
   "codemirror_mode": {
    "name": "ipython",
    "version": 3
   },
   "file_extension": ".py",
   "mimetype": "text/x-python",
   "name": "python",
   "nbconvert_exporter": "python",
   "pygments_lexer": "ipython3",
   "version": "3.11.2"
  }
 },
 "nbformat": 4,
 "nbformat_minor": 2
}
