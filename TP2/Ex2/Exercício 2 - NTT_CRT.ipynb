{
 "cells": [
  {
   "cell_type": "code",
   "execution_count": null,
   "metadata": {},
   "outputs": [],
   "source": [
    "from sage.all import *\n",
    "import random"
   ]
  },
  {
   "cell_type": "code",
   "execution_count": null,
   "metadata": {},
   "outputs": [],
   "source": [
    "def find_q(n):\n",
    "    if not  n in [32,64,128,256,512,1024,2048]:\n",
    "        raise ValueError(\"improper argument \",n)\n",
    "        \n",
    "    q = 1 + 2*n\n",
    "    while True:\n",
    "        if (q).is_prime():\n",
    "            return q\n",
    "        q += 2*n\n",
    "    "
   ]
  },
  {
   "cell_type": "code",
   "execution_count": null,
   "metadata": {},
   "outputs": [],
   "source": [
    "def ntt(f,N,xi,F):                            \n",
    "    def _expand_(f): \n",
    "        u = f.list()\n",
    "        return u + [0]*(N-len(u)) \n",
    "    \n",
    "    def _ntt_(xi,N,f):\n",
    "        if N==1:\n",
    "            return f\n",
    "        N_ = N/2 ; xi2 =  xi^2  \n",
    "        f0 = [f[2*i]   for i in range(N_)] ; f1 = [f[2*i+1] for i in range(N_)] \n",
    "        ff0 = _ntt_(xi2,N_,f0) ; ff1 = _ntt_(xi2,N_,f1)  \n",
    "\n",
    "        s  = xi ; ff = [F(0) for i in range(N)] \n",
    "        for i in range(N_):\n",
    "            a = ff0[i] ; b = s*ff1[i]  \n",
    "            ff[i] = a + b ; ff[i + N_] = a - b \n",
    "            s = s * xi2                     \n",
    "        return ff \n",
    "    \n",
    "    return _ntt_(xi,N,_expand_(f))"
   ]
  },
  {
   "cell_type": "code",
   "execution_count": null,
   "metadata": {},
   "outputs": [],
   "source": [
    "def ntt_inv(ff,N,base):                             \n",
    "    return sum([ff[i]*base[i] for i in range(N)])"
   ]
  },
  {
   "cell_type": "code",
   "execution_count": null,
   "metadata": {},
   "outputs": [],
   "source": [
    "def random_pol(R,args=None):\n",
    "    return R.random_element(args)"
   ]
  },
  {
   "cell_type": "code",
   "execution_count": null,
   "metadata": {},
   "outputs": [],
   "source": [
    "N = int(input(\"Enter N: \"))\n",
    "q = find_q(N)\n",
    "print(\"q = \",q)\n"
   ]
  },
  {
   "cell_type": "code",
   "execution_count": null,
   "metadata": {},
   "outputs": [],
   "source": [
    "F = FiniteField(q)   \n",
    "R = PolynomialRing(F, name=\"w\")\n",
    "w = R.gen()\n",
    "g = (w^N + 1)\n",
    "xi = g.roots(multiplicities=False)[-1]\n",
    "rs = [xi^(2*i+1) for i in range(N)] \n",
    "base = crt_basis([(w - r) for r in rs]) "
   ]
  },
  {
   "cell_type": "code",
   "execution_count": null,
   "metadata": {},
   "outputs": [],
   "source": [
    "f = random_pol(R,N-random.randint(1,N-1))\n",
    "print(\"f = \",end='')\n",
    "for i in range(N-1):\n",
    "    print(f\"{f[i]}*w^{i} + \",end='')\n",
    "print(f\"{f[N-1]}*w^{N-1}\")"
   ]
  },
  {
   "cell_type": "code",
   "execution_count": null,
   "metadata": {},
   "outputs": [],
   "source": [
    "ff = ntt(f,N,xi,F)\n",
    "print(\"ff = \",end='')\n",
    "for i in range(N-1):\n",
    "    print(f\"{ff[i]}*w^{i} + \",end='')\n",
    "print(f\"{ff[N-1]}*w^{N-1}\")"
   ]
  },
  {
   "cell_type": "code",
   "execution_count": null,
   "metadata": {},
   "outputs": [],
   "source": [
    "\n",
    "fff = ntt_inv(ff,N,base)\n",
    "print(\"fff = \",end='')\n",
    "for i in range(N-1):\n",
    "    print(f\"{fff[i]}*w^{i} + \",end='')\n",
    "print(f\"{fff[N-1]}*w^{N-1}\")\n",
    "\n",
    "print(\"Correto ? \",f == fff) "
   ]
  }
 ],
 "metadata": {
  "kernelspec": {
   "display_name": ".venv",
   "language": "python",
   "name": "python3"
  },
  "language_info": {
   "codemirror_mode": {
    "name": "ipython",
    "version": 3
   },
   "file_extension": ".py",
   "mimetype": "text/x-python",
   "name": "python",
   "nbconvert_exporter": "python",
   "pygments_lexer": "ipython3",
   "version": "3.11.2"
  }
 },
 "nbformat": 4,
 "nbformat_minor": 2
}
