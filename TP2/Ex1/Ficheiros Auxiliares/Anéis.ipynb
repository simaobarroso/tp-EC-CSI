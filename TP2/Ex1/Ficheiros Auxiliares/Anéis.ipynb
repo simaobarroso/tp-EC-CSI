{
 "cells": [
  {
   "cell_type": "markdown",
   "id": "3a88b01d",
   "metadata": {},
   "source": [
    "### Anéis de polinómios e anéis quociente"
   ]
  },
  {
   "cell_type": "code",
   "execution_count": null,
   "id": "81a09e3f",
   "metadata": {
    "vscode": {
     "languageId": "python"
    }
   },
   "outputs": [],
   "source": [
    "R = PolynomialRing(ZZ,name='w')\n",
    "print(R)"
   ]
  },
  {
   "cell_type": "code",
   "execution_count": null,
   "id": "48abbd8b",
   "metadata": {
    "vscode": {
     "languageId": "python"
    }
   },
   "outputs": [],
   "source": [
    "N = 16\n",
    "w = R.gen()\n",
    "r = 1 + w + w^N\n",
    "print(r)\n",
    "print(r.is_irreducible())"
   ]
  },
  {
   "cell_type": "code",
   "execution_count": null,
   "id": "a88f4599",
   "metadata": {
    "vscode": {
     "languageId": "python"
    }
   },
   "outputs": [],
   "source": [
    "I = R.ideal(r)\n",
    "K.<z> = QuotientRing(R,I)\n",
    "print(K)"
   ]
  },
  {
   "cell_type": "code",
   "execution_count": null,
   "id": "766a33d3",
   "metadata": {
    "vscode": {
     "languageId": "python"
    }
   },
   "outputs": [],
   "source": [
    "K.random_element()"
   ]
  },
  {
   "cell_type": "code",
   "execution_count": null,
   "id": "d99dfdde",
   "metadata": {
    "vscode": {
     "languageId": "python"
    }
   },
   "outputs": [],
   "source": [
    "z = K.gen()\n",
    "print(z^256)\n",
    "\n",
    "try:\n",
    "    print(z^(-256))\n",
    "except Exception as ex:\n",
    "    print(\"Exception\",ex.args)\n",
    "          "
   ]
  },
  {
   "cell_type": "markdown",
   "id": "20279761",
   "metadata": {},
   "source": [
    "$K$ não é um corpo, apesar de $(1+w+w^256)$ ser irredutível, porque os coeficientes do polinómio inicial não pertencem a um corpo."
   ]
  },
  {
   "cell_type": "code",
   "execution_count": null,
   "id": "2a35fa14",
   "metadata": {
    "vscode": {
     "languageId": "python"
    }
   },
   "outputs": [],
   "source": [
    "q = 311\n",
    "\n",
    "R = PolynomialRing(GF(q),name='w')\n",
    "w = R.gen()\n",
    "r = (1 + w + w^256)\n",
    "print(r.is_irreducible())\n",
    "\n",
    "I = R.ideal(r)\n",
    "K.<z> = QuotientRing(R,I)\n",
    "print(K)"
   ]
  },
  {
   "cell_type": "markdown",
   "id": "bc38c218",
   "metadata": {},
   "source": [
    "Agora $311$ é primo e os coeficientes dos polinómios pertencem ao corpo finito $\\mathsf{GF}(311)$.\n",
    "\n",
    "Porque com este corpo de coeficientes o polinómio $(1+w+w^{256})$ é irreducível, o anel quociente $K$ já é um corpo."
   ]
  },
  {
   "cell_type": "code",
   "execution_count": null,
   "id": "48c97135",
   "metadata": {
    "vscode": {
     "languageId": "python"
    }
   },
   "outputs": [],
   "source": [
    "z = K.gen()\n",
    "\n",
    "try:\n",
    "    print(z^256)\n",
    "    print(z^(-256))\n",
    "except Exception as ex:\n",
    "    print(\"Exception\",ex.args)"
   ]
  },
  {
   "cell_type": "code",
   "execution_count": null,
   "id": "005f53e8",
   "metadata": {
    "vscode": {
     "languageId": "python"
    }
   },
   "outputs": [],
   "source": []
  }
 ],
 "metadata": {
  "kernelspec": {
   "display_name": "SageMath 9.5",
   "language": "sage",
   "name": "sagemath"
  },
  "language_info": {
   "codemirror_mode": {
    "name": "ipython",
    "version": 3
   },
   "file_extension": ".py",
   "mimetype": "text/x-python",
   "name": "sage",
   "nbconvert_exporter": "python",
   "pygments_lexer": "ipython3",
   "version": "3.11.6"
  }
 },
 "nbformat": 4,
 "nbformat_minor": 5
}
