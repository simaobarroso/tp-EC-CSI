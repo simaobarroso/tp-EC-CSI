{
 "cells": [
  {
   "cell_type": "markdown",
   "id": "3a88b01d",
   "metadata": {},
   "source": [
    "### Anéis de polinómios e anéis quociente"
   ]
  },
  {
   "cell_type": "code",
   "execution_count": 1,
   "id": "81a09e3f",
   "metadata": {},
   "outputs": [
    {
     "name": "stdout",
     "output_type": "stream",
     "text": [
      "Univariate Polynomial Ring in w over Integer Ring\n"
     ]
    }
   ],
   "source": [
    "R = PolynomialRing(ZZ,name='w')\n",
    "print(R)"
   ]
  },
  {
   "cell_type": "code",
   "execution_count": 2,
   "id": "48abbd8b",
   "metadata": {},
   "outputs": [
    {
     "name": "stdout",
     "output_type": "stream",
     "text": [
      "w^16 + w + 1\n",
      "True\n"
     ]
    }
   ],
   "source": [
    "N = 16\n",
    "w = R.gen()\n",
    "r = 1 + w + w^N\n",
    "print(r)\n",
    "print(r.is_irreducible())"
   ]
  },
  {
   "cell_type": "code",
   "execution_count": 3,
   "id": "a88f4599",
   "metadata": {},
   "outputs": [
    {
     "name": "stdout",
     "output_type": "stream",
     "text": [
      "Univariate Quotient Polynomial Ring in z over Integer Ring with modulus w^16 + w + 1\n"
     ]
    }
   ],
   "source": [
    "I = R.ideal(r)\n",
    "K.<z> = QuotientRing(R,I)\n",
    "print(K)"
   ]
  },
  {
   "cell_type": "code",
   "execution_count": 4,
   "id": "766a33d3",
   "metadata": {},
   "outputs": [
    {
     "data": {
      "text/plain": [
       "z^15 + 4*z^14 - z^13 + 11*z^12 + z^10 + 2*z^9 + z^6 - z^5 + 4*z^4 + z^3 - 3*z^2 + 3*z - 3"
      ]
     },
     "execution_count": 4,
     "metadata": {},
     "output_type": "execute_result"
    }
   ],
   "source": [
    "K.random_element()"
   ]
  },
  {
   "cell_type": "code",
   "execution_count": 5,
   "id": "d99dfdde",
   "metadata": {},
   "outputs": [
    {
     "name": "stdout",
     "output_type": "stream",
     "text": [
      "16*z^15 + 120*z^14 + 560*z^13 + 1820*z^12 + 4368*z^11 + 8008*z^10 + 11440*z^9 + 12870*z^8 + 11440*z^7 + 8008*z^6 + 4368*z^5 + 1820*z^4 + 560*z^3 + 120*z^2 + 15*z\n",
      "Exception ('The base ring (=Integer Ring) is not a field',)\n"
     ]
    }
   ],
   "source": [
    "z = K.gen()\n",
    "print(z^256)\n",
    "\n",
    "try:\n",
    "    print(z^(-256))\n",
    "except Exception as ex:\n",
    "    print(\"Exception\",ex.args)\n",
    "          "
   ]
  },
  {
   "cell_type": "markdown",
   "id": "20279761",
   "metadata": {},
   "source": [
    "$K$ não é um corpo, apesar de $(1+w+w^256)$ ser irredutível, porque os coeficientes do polinómio inicial não pertencem a um corpo."
   ]
  },
  {
   "cell_type": "code",
   "execution_count": 6,
   "id": "2a35fa14",
   "metadata": {},
   "outputs": [
    {
     "name": "stdout",
     "output_type": "stream",
     "text": [
      "True\n",
      "Univariate Quotient Polynomial Ring in z over Finite Field of size 311 with modulus w^256 + w + 1\n"
     ]
    }
   ],
   "source": [
    "q = 311\n",
    "\n",
    "R = PolynomialRing(GF(q),name='w')\n",
    "w = R.gen()\n",
    "r = (1 + w + w^256)\n",
    "print(r.is_irreducible())\n",
    "\n",
    "I = R.ideal(r)\n",
    "K.<z> = QuotientRing(R,I)\n",
    "print(K)"
   ]
  },
  {
   "cell_type": "markdown",
   "id": "bc38c218",
   "metadata": {},
   "source": [
    "Agora $311$ é primo e os coeficientes dos polinómios pertencem ao corpo finito $\\mathsf{GF}(311)$.\n",
    "\n",
    "Porque com este corpo de coeficientes o polinómio $(1+w+w^{256})$ é irreducível, o anel quociente $K$ já é um corpo."
   ]
  },
  {
   "cell_type": "code",
   "execution_count": null,
   "id": "48c97135",
   "metadata": {},
   "outputs": [],
   "source": [
    "z = K.gen()\n",
    "\n",
    "try:\n",
    "    print(z^256)\n",
    "    print(z^(-256))\n",
    "except Exception as ex:\n",
    "    print(\"Exception\",ex.args)"
   ]
  },
  {
   "cell_type": "code",
   "execution_count": null,
   "id": "005f53e8",
   "metadata": {},
   "outputs": [],
   "source": []
  }
 ],
 "metadata": {
  "kernelspec": {
   "display_name": "SageMath 10.1",
   "language": "sage",
   "name": "sagemath"
  },
  "language_info": {
   "codemirror_mode": {
    "name": "ipython",
    "version": 3
   },
   "file_extension": ".py",
   "mimetype": "text/x-python",
   "name": "python",
   "nbconvert_exporter": "python",
   "pygments_lexer": "ipython3",
   "version": "3.11.6"
  }
 },
 "nbformat": 4,
 "nbformat_minor": 5
}
