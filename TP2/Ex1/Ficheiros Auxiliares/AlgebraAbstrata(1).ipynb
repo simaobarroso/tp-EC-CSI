{
 "cells": [
  {
   "cell_type": "markdown",
   "id": "provincial-portfolio",
   "metadata": {},
   "source": [
    "# Introdução\n",
    "\n",
    "**Grupos** são estruturas algébricas com uma *operação binária* soma (se o grupo for aditivo) ou multiplicação (se o grupo for multiplicativo).\n",
    "\n",
    "Contém um *elemento neutro*: $0$ nos grupos aditivos e $1$ nos multiplicativos. \n",
    "\n",
    "Adicionalmente cada elemento tem um e só um  *inverso* : $-x + x = 0$ nos grupos aditivos e $1/x * x = 1$ nos grupos multiplicativos.\n",
    "\n",
    "---\n",
    "\n",
    "**Anéis** são estruturas algébricas com duas operações binárias, soma e multiplicação, e os respetivos elementos neutros, $0$ e $1$, verificando as leis da distributividade.\n",
    "\n",
    "Em criptografia, a menos que seja explicitamente dito o contrário, assume-se que todo os anéis são comutativos e não-triviais (isto é, $0\\neq 1$).\n",
    "\n",
    "Todo anel é um grupo em relação à soma mas não é um grupo em relação à multiplicação; os elementos do anel com inversa multiplicativas dizem-se *unidades*.\n",
    "\n",
    "\n",
    "---\n",
    "\n",
    "**Corpos** são anéis em que todo o elemento não zero é uma unidade.\n",
    "\n",
    "---\n",
    "\n",
    "**Domínio Integral** é um anel onde a multiplicação de dois elementos não-zero é sempre não-zero. \n",
    "\n",
    "**Ideal** $I$ num anel $R$ é um subconjunto $I\\subseteq R$ fechado por somas e que contém todos os múltiplos de qualquer dos seus elementos. Isto é: $a,b\\in I \\Rightarrow a+b\\in I\\,$ e  $a\\in I, r\\in R \\Rightarrow a*r \\in I$.\n",
    "\n",
    "Um ideal é **principal** se é formado por todos os múltiplos de um dos seus elementos; esse elemento designa-se _gerador_.\n",
    "\n",
    "**Principal Ideal Domain (PID)** é um domínio integral em que cada um dos seus ideais é principal. \n",
    "1. Todo o corpo é um PID. \n",
    "2. Num PID existe a noção de máximo divisor comum. \n",
    "3. Num PID todo a unidade tem uma fatorização por elementos primos que é única a menos da ordem dos elementos.\n"
   ]
  },
  {
   "cell_type": "markdown",
   "id": "emotional-sending",
   "metadata": {},
   "source": [
    "# Anéis standard\n",
    "https://doc.sagemath.org/html/en/reference/rings_standard/index.html\n",
    "https://doc.sagemath.org/html/en/reference/rings_standard/sage/rings/integer_ring.html"
   ]
  },
  {
   "cell_type": "code",
   "execution_count": null,
   "id": "upper-clark",
   "metadata": {},
   "outputs": [],
   "source": [
    "# O anel dos inteiros representa-se por ZZ e é o resultado da função IntegerRing()\n",
    "\n",
    "\n",
    "print(ZZ)\n",
    "print(ZZ == IntegerRing())"
   ]
  },
  {
   "cell_type": "code",
   "execution_count": null,
   "id": "unlimited-portuguese",
   "metadata": {},
   "outputs": [],
   "source": [
    "x = ZZ('010000111', base=2)\n",
    "y = ZZ([1,1,1,0,0,0,0,1,0], base=2)\n",
    "print(x,y)"
   ]
  },
  {
   "cell_type": "code",
   "execution_count": null,
   "id": "superb-house",
   "metadata": {},
   "outputs": [],
   "source": [
    "# gerar aleatoriamente inteiros com \"l\" bits\n",
    "l = 12\n",
    "for _ in range(10):\n",
    "    x = ZZ.random_element(2^(l-1),2^l-1)\n",
    "    xx = x.binary()\n",
    "    print(x,xx)\n",
    "    \n",
    "#type(xx)"
   ]
  },
  {
   "cell_type": "code",
   "execution_count": null,
   "id": "greek-cooper",
   "metadata": {},
   "outputs": [],
   "source": [
    "# Gerar aleatoriamente amostras de uma distribuição gaussiana inteira de média \"0\" e desvio padrão \"s\"\n",
    "s = 2^12\n",
    "for _ in range(10):\n",
    "    x = ZZ.random_element(s,distribution=\"gaussian\")\n",
    "    print(x)"
   ]
  },
  {
   "cell_type": "markdown",
   "id": "tender-amber",
   "metadata": {},
   "source": [
    "O **anel dos racionais** é um corpo que pode ser descrito de vários modos\n",
    "https://doc.sagemath.org/html/en/reference/rings_standard/sage/rings/rational.html"
   ]
  },
  {
   "cell_type": "code",
   "execution_count": null,
   "id": "handled-verification",
   "metadata": {},
   "outputs": [],
   "source": [
    "Q0 = QQ\n",
    "Q1 = RationalField()\n",
    "Q2 = FractionField(ZZ)  # o corpo das frações com inteiros como numerador e denominador\n",
    "\n",
    "print(Q0 == Q1 , Q0 == Q2)"
   ]
  },
  {
   "cell_type": "markdown",
   "id": "resistant-expression",
   "metadata": {},
   "source": [
    "## Anéis de frações\n",
    "https://doc.sagemath.org/html/en/reference/rings/sage/rings/fraction_field_element.html\n",
    "\n",
    "A  construção \"FractionField\" aplica-se a qualquer anel  $R$. Uma fração é um par $(a,b)\\in R$ representado como $a/b$.\n",
    "\n",
    "Frações são sempre definidas a menos da relação de equivalência\n",
    "$$a/b\\,\\cong\\,a'/b'\\quad\\text{sse}\\quad a*b' = a'*b$$"
   ]
  },
  {
   "cell_type": "code",
   "execution_count": null,
   "id": "searching-reputation",
   "metadata": {},
   "outputs": [],
   "source": [
    "Z = PolynomialRing(ZZ , name='z')        # anel dos polinómios de coeficientes inteiros e variável \"z\"\n",
    "ZF = FractionField(Z)\n",
    "print(Z)\n",
    "print(ZF)\n",
    "\n",
    "print(Z.random_element(6))\n",
    "print(ZF.random_element(6))"
   ]
  },
  {
   "cell_type": "markdown",
   "id": "static-australian",
   "metadata": {},
   "source": [
    "## Anéis quociente\n",
    "https://doc.sagemath.org/html/en/reference/rings/sage/rings/quotient_ring.html\n",
    "\n",
    "Dado um anel $R$ e um ideal $I \\subseteq R$ é sempre possível definir um outro anel, representado por $R/I$ e designado por **anel quociente**  que tem por elementos as classes de equivalência geradas em $R$ pela relação $$ a\\cong b\\quad\\text{sse}\\quad a - b \\in I$$\n",
    "\n",
    "Como em todas as relações de equivalência, as classes $[a]\\subseteq R$ são definidas por\n",
    "$$[a]\\;=\\;[b]\\quad \\text{sse}\\quad a \\cong b$$\n",
    "\n",
    "As operações de soma e multiplicação em $R/I$ são executadas módulo essa relação de equivalência.\n",
    "$$[a] + [b] \\,=\\,[a+b] \\qquad,\\qquad [a] * [b] \\,=\\,[a*b] $$\n"
   ]
  },
  {
   "cell_type": "code",
   "execution_count": 22,
   "id": "b3d2fb5c",
   "metadata": {},
   "outputs": [],
   "source": [
    "d   = 64                                 # tamanho do primo \"q\" em bits\n",
    "q   = random_prime(2^d - 1, 2^(d-1))     # um primo aleatoriamente gerado com  \"d\" bits\n",
    "Zq.<w>   = PolynomialRing(GF(q))         # anel dos polinómios de variável \"w\" e coeficientes no corpo finito GF(q)"
   ]
  },
  {
   "cell_type": "code",
   "execution_count": 23,
   "id": "2b809d09",
   "metadata": {},
   "outputs": [
    {
     "name": "stdout",
     "output_type": "stream",
     "text": [
      "w^2 + w + 1 é irredutivel em Z_12052927579277312261 ? True\n",
      "Zq2 é um corpo? True\n"
     ]
    }
   ],
   "source": [
    "m   = w^2 + w + 1                        # módulo\n",
    "\n",
    "print(f\"{m} é irredutivel em Z_{q} ? {m.is_irreducible()}\")\n",
    "\n",
    "Zq2     = QuotientRing(Zq, Zq.ideal(m))\n",
    "\n",
    "print(f\"Zq2 é um corpo? {Zq2.is_field()}\")"
   ]
  },
  {
   "cell_type": "code",
   "execution_count": 16,
   "id": "10b648b3-3567-4b70-ba24-758af2e7bcc1",
   "metadata": {
    "scrolled": true
   },
   "outputs": [
    {
     "name": "stdout",
     "output_type": "stream",
     "text": [
      "random element x = 148562255716919028*wbar + 261165591914344567\n",
      "1\n"
     ]
    }
   ],
   "source": [
    "x = Zq2.random_element()\n",
    "print(f\"random element x = {x}\")\n",
    "print(x^(q^2-1))"
   ]
  },
  {
   "cell_type": "code",
   "execution_count": 4,
   "id": "2e0ec644",
   "metadata": {},
   "outputs": [
    {
     "data": {
      "text/plain": [
       "15128966113361739011"
      ]
     },
     "execution_count": 4,
     "metadata": {},
     "output_type": "execute_result"
    }
   ],
   "source": [
    "while True:\n",
    "    q  = random_prime(2^d - 1, 2^(d-1)) \n",
    "    Zq.<w> = PolynomialRing(GF(q))   \n",
    "    if (1 + w + w^256).is_irreducible():\n",
    "        break\n",
    "q"
   ]
  },
  {
   "cell_type": "markdown",
   "id": "relevant-premium",
   "metadata": {},
   "source": [
    "# Anéis Finitos de Inteiros\n",
    "https://doc.sagemath.org/html/en/reference/finite_rings/sage/rings/finite_rings/integer_mod_ring.html\n",
    "https://doc.sagemath.org/html/en/reference/finite_rings/sage/rings/finite_rings/integer_mod.html"
   ]
  },
  {
   "cell_type": "code",
   "execution_count": null,
   "id": "explicit-bailey",
   "metadata": {},
   "outputs": [],
   "source": [
    "# Anel dos inteiros módulo um inteiro positivo não zero  \"N\"\n",
    "# pode ser definido de várias formas\n",
    "\n",
    "N = 23\n",
    "\n",
    "R = Integers(N)\n",
    "ID = lambda R : print(f\"{R} é um domínio integar?\", R.is_integral_domain())\n",
    "\n",
    "ID(R)\n",
    "\n",
    "print(f\"{R} tem ordem \", R.order())\n",
    "print(f\"{R} é um corpo? \", R.is_field())\n",
    "\n",
    "R1 = IntegerModRing(N)\n",
    "print(f\"{R1} coincide com {R} ? \", R == R1)\n",
    "\n",
    "R2 = QuotientRing(ZZ,N)\n",
    "print(f\"{R2} coincide com {R} ? \", R == R2)\n",
    "\n",
    "ID(R2)\n"
   ]
  },
  {
   "cell_type": "code",
   "execution_count": null,
   "id": "later-portsmouth",
   "metadata": {},
   "outputs": [],
   "source": [
    "for n in range(N-7,N+7):\n",
    "    try:\n",
    "        R = Integers(n)\n",
    "        print(FractionField(R))\n",
    "    except TypeError:\n",
    "        ID(R)\n"
   ]
  },
  {
   "cell_type": "code",
   "execution_count": null,
   "id": "equal-johnson",
   "metadata": {},
   "outputs": [],
   "source": [
    "a = R.random_element() ; b = R.random_element() ; c = a*b\n",
    "\n",
    "#testar se é invertível\n",
    "print(f\"{a} é invertível? \",a.is_unit())\n",
    "print(f\"{b} é invertível? \",b.is_unit())\n",
    "print(f\"{c} é invertível? \",c.is_unit())"
   ]
  },
  {
   "cell_type": "code",
   "execution_count": null,
   "id": "affected-marine",
   "metadata": {},
   "outputs": [],
   "source": [
    "print(f\"ordem multiplicativa de {a} = \",a.multiplicative_order())\n",
    "print(f\"ordem multiplicativa de {b} = \",b.multiplicative_order())\n",
    "print(f\"ordem multiplicativa de {c} = \",c.multiplicative_order())"
   ]
  },
  {
   "cell_type": "code",
   "execution_count": null,
   "id": "known-suspension",
   "metadata": {},
   "outputs": [],
   "source": [
    "def foo(a):\n",
    "    return a^(a.multiplicative_order())\n",
    "\n",
    "x = R.random_element()\n",
    "foo(x)"
   ]
  },
  {
   "cell_type": "markdown",
   "id": "lasting-cleanup",
   "metadata": {},
   "source": [
    "Todo o anel $R$ dá origem a um grupo multiplicativo formado pelas unidades de $R$.\n",
    "\n",
    "Esse grupo representa-se por $R^\\ast$"
   ]
  },
  {
   "cell_type": "code",
   "execution_count": null,
   "id": "centered-tennessee",
   "metadata": {
    "scrolled": true
   },
   "outputs": [],
   "source": [
    "Rstar = R.unit_group()\n",
    "print(f\"grupo multiplicativo de {R} é \",Rstar)\n",
    "\n",
    "L = R.list_of_elements_of_multiplicative_group()\n",
    "print(\"conjunto das unidades \", L)"
   ]
  },
  {
   "cell_type": "code",
   "execution_count": null,
   "id": "deluxe-three",
   "metadata": {},
   "outputs": [],
   "source": [
    "print(R.multiplicative_subgroups())\n",
    "print(R.square_roots_of_one())"
   ]
  },
  {
   "cell_type": "markdown",
   "id": "closing-reasoning",
   "metadata": {},
   "source": [
    "# Corpos Finitos de Inteiros\n",
    "\n",
    "Um anel finito de inteiros é um corpo se e só se tem ordem prima.\n",
    "\n",
    "Todo o corpo finito de inteiros é cíclico; ou seja, os elementos do grupo multiplicativo formam um ideal principal.\n",
    "\n"
   ]
  },
  {
   "cell_type": "code",
   "execution_count": null,
   "id": "cognitive-production",
   "metadata": {},
   "outputs": [],
   "source": [
    "# O Sagemath distingue entre um anel finito de inteiros que é um corpo e \n",
    "# um corpo finito com o mesmo número de elementos.\n",
    "\n",
    "p = 61\n",
    "\n",
    "print(is_prime(p))\n",
    "\n",
    "R  = Integers(p)\n",
    "F  = GF(p)\n",
    "\n",
    "\n",
    "print(R); print(F) ; print(R==F)\n",
    "\n",
    "# no entanto !!!\n",
    "a = R.random_element() ; b = F.random_element() \n",
    "\n",
    "print(type(a) == type(b))"
   ]
  },
  {
   "cell_type": "code",
   "execution_count": null,
   "id": "broken-walker",
   "metadata": {},
   "outputs": [],
   "source": [
    "# grupo multiplicativo\n",
    "\n",
    "Rstar = R.unit_group()\n",
    "print(Rstar.is_cyclic())\n",
    "\n",
    "\n",
    "g = R.multiplicative_generator()\n",
    "o = Rstar.order()\n",
    "\n",
    "print(f\"grupo multiplicativo {Rstar} com gerador {g} de ordem {o}\\n\")\n",
    "\n",
    "el = [g^n for n in range(o)]\n",
    "print(el)\n"
   ]
  },
  {
   "cell_type": "code",
   "execution_count": null,
   "id": "medieval-reminder",
   "metadata": {},
   "outputs": [],
   "source": [
    "print(f\"subgrupos multiplicativos\",R.multiplicative_subgroups())\n",
    "\n",
    "for n in [2,3,4,8,9,11,16,32,47,48,60]:\n",
    "    print(f\"a ordem multiplicativa de {n} é \", R(n).multiplicative_order())"
   ]
  },
  {
   "cell_type": "markdown",
   "id": "excellent-discharge",
   "metadata": {},
   "source": [
    "# Corpos Finitos\n",
    "https://doc.sagemath.org/html/en/reference/finite_rings/sage/rings/finite_rings/finite_field_constructor.html\n",
    "https://doc.sagemath.org/html/en/reference/finite_rings/sage/rings/finite_rings/finite_field_base.html\n",
    "https://doc.sagemath.org/html/en/reference/finite_rings/sage/rings/finite_rings/element_base.html\n",
    "\n",
    "\n",
    "\n",
    "Um corpo finito com $q$ elementos, representado por  $\\mathbb{F}_q$  ou $\\mathsf{GF}(q)$ verifica\n",
    "\n",
    "1. O inteiro $q$ tem sempre a forma  $q = p^d$ sendo $p$ um primo designado por *característica* e $d$ um inteiro positivo designado por *dimensão*.\n",
    "\n",
    "2. O grupo das unidades de $\\mathbb{F}_q$, representado por $\\mathbb{F}_q^\\ast$, é sempre cíclico.\n",
    "\n",
    "3. Seja $\\mathbb{R}_p$ o anel de polinómios a uma variável anónima com coeficientes em $\\mathbb{F}_p$. \n",
    "Então existe sempre um polinómio irredutível $\\phi \\in \\mathbb{R}_p$, com grau $d$ , tal que\n",
    "$$\\mathbb{F}_q\\;\\cong\\; \\mathbb{R}_p/(\\phi)$$"
   ]
  },
  {
   "cell_type": "code",
   "execution_count": null,
   "id": "84afa1d4",
   "metadata": {},
   "outputs": [],
   "source": [
    "K = GF(2401, name='z')\n",
    "print(K)\n",
    "K.free_module(map=False)"
   ]
  },
  {
   "cell_type": "code",
   "execution_count": null,
   "id": "macro-fourth",
   "metadata": {},
   "outputs": [],
   "source": [
    "f = K.modulus()\n",
    "print(f)\n",
    "\n",
    "print(K.random_element())"
   ]
  },
  {
   "cell_type": "code",
   "execution_count": null,
   "id": "hollywood-nutrition",
   "metadata": {},
   "outputs": [],
   "source": [
    "R = K.polynomial_ring('x')\n",
    "print(R)\n",
    "\n",
    "K1.<z> = QuotientRing(R,f)\n",
    "print(K1.is_field())\n",
    "print(K == K1)\n",
    "\n",
    "type(K.random_element()) == type(K1.random_element())"
   ]
  },
  {
   "cell_type": "code",
   "execution_count": null,
   "id": "exterior-entrance",
   "metadata": {},
   "outputs": [],
   "source": [
    "K.some_elements()"
   ]
  },
  {
   "cell_type": "markdown",
   "id": "e8cc90de",
   "metadata": {},
   "source": [
    "## Anéis e Corpos de Polinómios"
   ]
  },
  {
   "cell_type": "code",
   "execution_count": null,
   "id": "6a0594c1",
   "metadata": {},
   "outputs": [],
   "source": [
    "Zw = PolynomialRing(ZZ,name='w')\n",
    "print(Zw)\n",
    "\n",
    "w = Zw.gen()\n",
    "f = w^64 + 1\n",
    "Zwf = QuotientRing(Zw,Zw.ideal(f))\n",
    "print(Zwf)\n",
    "\n",
    "ID(Zw)\n",
    "ID(Zwf)"
   ]
  },
  {
   "cell_type": "code",
   "execution_count": null,
   "id": "97b00da8",
   "metadata": {},
   "outputs": [],
   "source": [
    "ID = lambda r : print(f\"{r} é um domínio integral?\", r.is_integral_domain())\n",
    "\n",
    "n = 64\n",
    "\n",
    "q = next_prime(1000)\n",
    "assert is_prime(q)\n",
    "\n",
    "Zq = PolynomialRing(GF(q),name='w')\n",
    "print(Zq)\n",
    "\n",
    "w = Zq.gen()\n",
    "f = w^n + 1\n",
    "\n",
    "Zqf = QuotientRing(Zq,Zq.ideal(f))\n",
    "print(Zqf)\n",
    "\n",
    "ID(Zq)\n",
    "ID(Zqf)\n"
   ]
  },
  {
   "cell_type": "markdown",
   "id": "legendary-heavy",
   "metadata": {},
   "source": [
    "## Corpos Finitos Binários: exemplos"
   ]
  },
  {
   "cell_type": "code",
   "execution_count": 24,
   "id": "included-baker",
   "metadata": {},
   "outputs": [
    {
     "name": "stdout",
     "output_type": "stream",
     "text": [
      "True True\n"
     ]
    }
   ],
   "source": [
    "P.<z> = PolynomialRing(GF(2))\n",
    "f = z^128 + z^7 + z^2 + z + 1\n",
    "g = z^8 + z^4 + z^3 + z + 1\n",
    "\n",
    "print(f.is_irreducible(), g.is_irreducible())"
   ]
  },
  {
   "cell_type": "code",
   "execution_count": 25,
   "id": "passing-brother",
   "metadata": {},
   "outputs": [
    {
     "name": "stdout",
     "output_type": "stream",
     "text": [
      "Finite Field in z of size 2^8\n",
      "Finite Field in x of size 2^128\n"
     ]
    }
   ],
   "source": [
    "Byte = GF(2^8, name='z', modulus=g)\n",
    "Block128 = GF(2^128, name='x', modulus=f)\n",
    "\n",
    "print(Byte)\n",
    "print(Block128)"
   ]
  },
  {
   "cell_type": "code",
   "execution_count": 7,
   "id": "saving-outdoors",
   "metadata": {},
   "outputs": [],
   "source": [
    "# construir um corpo finito de dimensão 16 sobre o corpo binário de dimensão 8\n",
    "\n",
    "# construir o anel de polinómios\n",
    "Q.<w> = PolynomialRing(Byte)\n",
    "d = 16\n",
    "\n",
    "# determinar um módulo irredutível\n",
    "while True:\n",
    "    h = Q.random_element(d)\n",
    "    if h.is_irreducible():\n",
    "        break"
   ]
  },
  {
   "cell_type": "code",
   "execution_count": 8,
   "id": "median-contemporary",
   "metadata": {},
   "outputs": [
    {
     "name": "stdout",
     "output_type": "stream",
     "text": [
      "modulus=  w^16 + (z^7 + z^3)*w^15 + (z^7 + z^5 + z^4 + z^3 + z^2)*w^14 + (z^4 + z^3 + z^2)*w^13 + (z^6 + z^5 + z^4 + z^3 + 1)*w^12 + (z^5 + 1)*w^11 + (z^7 + z^6 + z^5 + z^2 + z)*w^10 + (z^7 + z^6 + z^5 + z^4 + z^2 + z)*w^9 + (z^3 + 1)*w^8 + (z^5 + z^4 + z)*w^7 + (z^7 + z^6 + z^4 + z^3)*w^6 + (z^6 + z^5 + z^4 + z^2)*w^5 + (z^7 + z^6 + z^4 + 1)*w^4 + (z^7 + z^6 + z^5 + z^4)*w^3 + (z^7 + z^4 + z^3 + z^2 + z)*w^2 + (z^3 + z + 1)*w + z^6 + z^5 + z^4 + z + 1\n"
     ]
    }
   ],
   "source": [
    "# transformar \"h\" num polinómio mónico\n",
    "t = h[d]\n",
    "h = Q([h[i]/t for i in range(d+1)])\n",
    "print('modulus= ',h)"
   ]
  },
  {
   "cell_type": "code",
   "execution_count": 9,
   "id": "buried-actor",
   "metadata": {},
   "outputs": [
    {
     "name": "stdout",
     "output_type": "stream",
     "text": [
      "é um corpo ?  True\n",
      "o que é Block ? Univariate Quotient Polynomial Ring in w over Finite Field in z of size 2^8 with modulus w^16 + (z^7 + z^3)*w^15 + (z^7 + z^5 + z^4 + z^3 + z^2)*w^14 + (z^4 + z^3 + z^2)*w^13 + (z^6 + z^5 + z^4 + z^3 + 1)*w^12 + (z^5 + 1)*w^11 + (z^7 + z^6 + z^5 + z^2 + z)*w^10 + (z^7 + z^6 + z^5 + z^4 + z^2 + z)*w^9 + (z^3 + 1)*w^8 + (z^5 + z^4 + z)*w^7 + (z^7 + z^6 + z^4 + z^3)*w^6 + (z^6 + z^5 + z^4 + z^2)*w^5 + (z^7 + z^6 + z^4 + 1)*w^4 + (z^7 + z^6 + z^5 + z^4)*w^3 + (z^7 + z^4 + z^3 + z^2 + z)*w^2 + (z^3 + z + 1)*w + z^6 + z^5 + z^4 + z + 1\n",
      "True\n"
     ]
    }
   ],
   "source": [
    "# Calcular o anel quociente\n",
    "\n",
    "Block.<w> = QuotientRing(Q,h)\n",
    "\n",
    "print(\"é um corpo ? \",Block.is_field())\n",
    "print(\"o que é Block ?\", Block)\n",
    "print(Block.is_field())"
   ]
  },
  {
   "cell_type": "code",
   "execution_count": null,
   "id": "homeless-collector",
   "metadata": {},
   "outputs": [],
   "source": [
    "a = Block.random_element(); b = Block.random_element()\n",
    "print('a = ',a,'\\n')\n",
    "print('b = ',b,'\\n')\n",
    "print('a*b = ',a*b)"
   ]
  },
  {
   "cell_type": "markdown",
   "id": "favorite-slide",
   "metadata": {},
   "source": [
    "# Anéis \"ciclotómicos\"\n",
    "\n",
    "Por razões de eficiência um conjunto significativo de técnicas de chave pública pós-quânticas usam formas especiais de anéis relacionados com polinómio ciclotómicos\n",
    "https://doc.sagemath.org/html/en/reference/polynomial_rings/sage/rings/polynomial/cyclotomic.html"
   ]
  },
  {
   "cell_type": "code",
   "execution_count": null,
   "id": "together-background",
   "metadata": {},
   "outputs": [],
   "source": [
    "## 1º Tipo\n",
    "\n",
    "### o anel base é o dos polinómios sobre um corpo finito inteiro GF(p)\n",
    "### o módulo \"f\" é da forma   x^n + 1 em que \n",
    "### \"n\" é da forma 2^k e \"p\" é um primo que verifica  p == 1 mod 2*n\n",
    "\n",
    "n = 256\n",
    "\n",
    "p = next_prime(2*n)\n",
    "while True:\n",
    "    if p%(2*n) == 1:\n",
    "        break\n",
    "    else:\n",
    "        p = next_prime(p+1)\n",
    "\n",
    "print(p,n)"
   ]
  },
  {
   "cell_type": "code",
   "execution_count": null,
   "id": "right-birmingham",
   "metadata": {},
   "outputs": [],
   "source": [
    "R = PolynomialRing(GF(p),name='x')\n",
    "#x = R.gen()\n",
    "f = x^n + 1\n",
    "Rf = QuotientRing(R , f)\n",
    "\n",
    "print(Rf)"
   ]
  },
  {
   "cell_type": "code",
   "execution_count": null,
   "id": "sharing-marks",
   "metadata": {},
   "outputs": [],
   "source": [
    "# motivo desta escolha de parâmetros\n",
    "# o módulo factoriza em monómios; \n",
    "f.factor()"
   ]
  },
  {
   "cell_type": "code",
   "execution_count": null,
   "id": "cardiac-india",
   "metadata": {},
   "outputs": [],
   "source": [
    "## 2º Tipo\n",
    "\n",
    "### O anel base é o dos polinómios sobre um corpo primo GF(p)\n",
    "### O módulo é da forma   f = x^n - 1\n",
    "### \"n\" é primo tal que f/(x-1) é irredutível\n",
    "\n",
    "### motivo: multiplicações polinomiais muito eficientes\n",
    "\n",
    "p = 2^23 - 2^11 + 11\n",
    "R = PolynomialRing(GF(p), name='x') \n",
    "x = R.gen()\n",
    "\n",
    "n = next_prime(128)\n",
    "while True:\n",
    "    t = sum([x^k for k in range(n)])\n",
    "    if t.is_irreducible():\n",
    "        break\n",
    "    else:\n",
    "        n = next_prime(n+1)\n",
    "print(p,n)"
   ]
  },
  {
   "cell_type": "code",
   "execution_count": null,
   "id": "governmental-beatles",
   "metadata": {},
   "outputs": [],
   "source": [
    "f = x^n-1\n",
    "Rf = QuotientRing(R,f)\n",
    "print(Rf)"
   ]
  },
  {
   "cell_type": "code",
   "execution_count": null,
   "id": "universal-juice",
   "metadata": {},
   "outputs": [],
   "source": []
  }
 ],
 "metadata": {
  "kernelspec": {
   "display_name": "SageMath 10.1",
   "language": "sage",
   "name": "sagemath"
  },
  "language_info": {
   "codemirror_mode": {
    "name": "ipython",
    "version": 3
   },
   "file_extension": ".py",
   "mimetype": "text/x-python",
   "name": "python",
   "nbconvert_exporter": "python",
   "pygments_lexer": "ipython3",
   "version": "3.11.6"
  }
 },
 "nbformat": 4,
 "nbformat_minor": 5
}
