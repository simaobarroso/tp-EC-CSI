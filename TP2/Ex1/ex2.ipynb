{
 "cells": [
  {
   "attachments": {},
   "cell_type": "markdown",
   "metadata": {},
   "source": [
    "# Ex2"
   ]
  },
  {
   "cell_type": "code",
   "execution_count": 22,
   "metadata": {
    "vscode": {
     "languageId": "python"
    }
   },
   "outputs": [],
   "source": [
    "#from sage.all import *\n",
    "import os\n",
    "import hashlib"
   ]
  },
  {
   "attachments": {},
   "cell_type": "markdown",
   "metadata": {},
   "source": [
    "Classe fornecida para representar pontos *edward*"
   ]
  },
  {
   "cell_type": "code",
   "execution_count": 23,
   "metadata": {
    "vscode": {
     "languageId": "python"
    }
   },
   "outputs": [],
   "source": [
    "class EdPnt(object):\n",
    "    def __init__(self,pt=None,curve=None,x=None,y=None):\n",
    "        if pt != None:\n",
    "            self.curve = pt.curve\n",
    "            self.x = pt.x\n",
    "            self.y = pt.y\n",
    "            self.w = pt.w\n",
    "        else:\n",
    "            self.curve = curve\n",
    "            self.x = x\n",
    "            self.y = y\n",
    "            self.w = x * y\n",
    "    \n",
    "    def eq(self, other):\n",
    "        return self.x == other.x and self.y == other.y\n",
    "    \n",
    "    def copy(self):\n",
    "        return EdPnt(curve=self.curve, x=self.x, y=self.y)\n",
    "    \n",
    "    def zero(self):\n",
    "        return EdPnt(curve=self.curve ,x=0, y=1)\n",
    "    \n",
    "    def sim(self):\n",
    "        return EdPnt(curve=self.curve, x= -self.x, y= self.y)\n",
    "    \n",
    "    def soma(self, other):\n",
    "        a = self.curve.a\n",
    "        d = self.curve.d\n",
    "        delta = d * self.w * other.w\n",
    "\n",
    "        self.x,self.y = (self.x * other.y + self.y * other.x)/(1 + delta),(self.y * other.y - a * self.x * other.x)/(1 - delta)\n",
    "        self.w = self.x * self.y\n",
    "        \n",
    "    def duplica(self):\n",
    "        a = self.curve.a\n",
    "        d = self.curve.d\n",
    "        delta = d*(self.w)**2\n",
    "\n",
    "        self.x,self.y = (2 * self.w)/(1 + delta),(self.y**2 - a * self.x**2)/(1 - delta)\n",
    "        self.w = self.x * self.y\n",
    "        \n",
    "    def mult(self, n):\n",
    "        m = Mod(n, self.curve.L).lift().digits(2)\n",
    "        Q = self.copy()\n",
    "        A = self.zero()\n",
    "\n",
    "        for b in m:\n",
    "            if b == 1:\n",
    "                A.soma(Q)\n",
    "            Q.duplica()\n",
    "\n",
    "        return A"
   ]
  },
  {
   "attachments": {},
   "cell_type": "markdown",
   "metadata": {},
   "source": [
    "Funções auxiliares, como compressão de pontos *edwards*"
   ]
  },
  {
   "cell_type": "code",
   "execution_count": 24,
   "metadata": {
    "vscode": {
     "languageId": "python"
    }
   },
   "outputs": [],
   "source": [
    "def sha512(x):\n",
    "    return hashlib.sha512(str(x).encode()).digest()\n",
    "\n",
    "def sha512_modq(s): \n",
    "    return int.from_bytes(sha512(s), \"little\") % ZZ(2**252 + 27742317777372353535851937790883648493)\n",
    "\n",
    "def modp_inv(x, p): \n",
    "    return pow(x, p-2, p)\n",
    "\n",
    "def recover_x(y, sign, p, d):\n",
    "    if y >= p: \n",
    "        return None\n",
    "    \n",
    "    x2 = (y*y-1) * modp_inv(d*y*y+1, p)\n",
    "\n",
    "    if x2 == 0:\n",
    "        if sign:\n",
    "             return None\n",
    "        else: \n",
    "            return 0\n",
    "        \n",
    "    x = pow(x2, (p+3) // 8, p)\n",
    "    x = int(x.lift())\n",
    "    \n",
    "    if (x*x - x2) % p != 0:\n",
    "        x = x * pow(2, (p-1) // 4, p) % p \n",
    "\n",
    "    if (x*x - x2) % p != 0:\n",
    "        return None\n",
    "    \n",
    "    if (int(x) & 1) != sign:\n",
    "        x = p - x\n",
    "\n",
    "    return x\n",
    "\n",
    "def point_decompress(s,p,d):\n",
    "    if len(s) != 32:\n",
    "        raise Exception(\"Invalid input length for decompression\") \n",
    "    \n",
    "    y = int.from_bytes(s, \"little\")\n",
    "    sign = y >> 255\n",
    "    y &= (1 << 255) - 1\n",
    "\n",
    "    x = recover_x(y, sign, p, d)\n",
    "\n",
    "    if x is None:\n",
    "         return None\n",
    "    else:\n",
    "        return (x, y, 1, x*y % p)\n",
    "\n",
    "def point_compress(P, p):\n",
    "    p_x = P.x\n",
    "    p_y = P.y\n",
    "    p_z = 1\n",
    "\n",
    "    zinv = modp_inv(p_z,p)\n",
    "    x = p_x * zinv % p\n",
    "    y = p_y * zinv % p\n",
    "\n",
    "    return int.to_bytes(int(int(p_y) | ((int(p_x) & 1) << 255)), 32, \"little\")"
   ]
  },
  {
   "attachments": {},
   "cell_type": "markdown",
   "metadata": {},
   "source": [
    "Classe que implementa o EdCDSA fazendo uso de *twisted edwards curves* - *edwards25519* "
   ]
  },
  {
   "cell_type": "code",
   "execution_count": 25,
   "metadata": {
    "vscode": {
     "languageId": "python"
    }
   },
   "outputs": [],
   "source": [
    "class EdCDSA:\n",
    "    def __init__(self,p,b,n,K,a,d,Px,Py,L,c):\n",
    "        self.a = a\n",
    "        self.d = d\n",
    "        self.p = p\n",
    "        self.K = K\n",
    "        self.L = L\n",
    "        \n",
    "        self.Px = Px\n",
    "        self.Py = Py\n",
    "\n",
    "        assert a != d and is_prime(p) and p > 3\n",
    "        \n",
    "        A = 2 * (a + d)/(a - d)\n",
    "        B = 4/(a - d)\n",
    "        self.alfa = A/(3*B)\n",
    "        self.s = B\n",
    "\n",
    "        a4 = self.s**(-2) - 3*self.alfa**2\n",
    "        a6 = (-self.alfa)**3 - a4*self.alfa\n",
    " \n",
    "        self.EC = EllipticCurve(K, [a4, a6])\n",
    "        self.P = self.ed2ec(Px,Py)\n",
    "\n",
    "    #Calculate private key\n",
    "    def private_key(self, seed):\n",
    "        if (len(seed) != 32):\n",
    "            raise Exception(\"Bad seed length\")\n",
    "        \n",
    "        hashed_seed = sha512(seed)\n",
    "        a = int.from_bytes(hashed_seed[:32], \"little\")\n",
    "        a &= (1 << 254) - 8\n",
    "        a |= (1 << 254)\n",
    "\n",
    "        return (a, hashed_seed[32:])\n",
    "        \n",
    "    #Calculate public key\n",
    "    def public_key(self, seed):\n",
    "        (a,dummy) = self.private_key(seed)\n",
    "\n",
    "        point = EdPnt(curve=self, x=self.Px, y=self.Py)\n",
    "        point = point.mult(a)\n",
    "\n",
    "        return point_compress(point, self.p)\n",
    "\n",
    "    #Sign message\n",
    "    def sign(self, message, seed):\n",
    "        (a,prefix) = self.private_key(seed) \n",
    "        #Public key calculation\n",
    "        point_A = EdPnt(curve=self, x=self.Px, y=self.Py)\n",
    "        point_A = point_A.mult(a)\n",
    "        A = point_compress(point_A, self.p)\n",
    "        #Secret number calculation\n",
    "        r = sha512_modq(prefix + message)\n",
    "\n",
    "        #Ponto R\n",
    "        point_R = EdPnt(curve=self, x=self.Px, y=self.Py)\n",
    "        point_R = point_R.mult(r)\n",
    "        Rs = point_compress(point_R, self.p)\n",
    "\n",
    "        h = sha512_modq(Rs + A + message)\n",
    "        s = (r + h * a) % self.L\n",
    "\n",
    "        return Rs + int.to_bytes(int(s), 32, \"little\")\n",
    "\n",
    "    #Verify message signature\n",
    "    def verify(self, message, signature, public_key):\n",
    "        if len(public_key) != 32: \n",
    "            raise Exception(\"Bad public key length\") \n",
    "        if len(signature) != 64: \n",
    "            Exception(\"Bad signature length\") \n",
    "        \n",
    "        #Obter ponto representativo da public key\n",
    "        A = point_decompress(public_key, self.p, self.d)\n",
    "        if not A: \n",
    "            return False \n",
    "        \n",
    "        #Obter ponto r\n",
    "        Rs = signature[:32]\n",
    "        R = point_decompress(Rs, self.p, self.d) \n",
    "        point_r = EdPnt(curve=self, x=R[0], y=R[1])\n",
    "\n",
    "        if not R:\n",
    "            return False \n",
    "        \n",
    "        s = int.from_bytes(signature[32:], \"little\") \n",
    "        if s >= self.L: \n",
    "            return False \n",
    "        \n",
    "        h = sha512_modq(Rs + public_key + message) \n",
    "\n",
    "        point_s = EdPnt(curve=self, x=self.Px, y=self.Py)\n",
    "        point_s = point_s.mult(s)\n",
    "        \n",
    "        point_h = EdPnt(curve=self, x=A[0], y=A[1])\n",
    "        point_h = point_h.mult(h)\n",
    "        \n",
    "        point_r.soma(point_h)\n",
    "\n",
    "        #Compara os pontos\n",
    "        return point_s.eq(point_r)\n",
    "    \n",
    "    def ed2ec(self,x,y):\n",
    "        if (x,y) == (0,1):\n",
    "            return self.EC(0)\n",
    "        \n",
    "        z = (1 + y)/(1 - y) \n",
    "        w = z/x\n",
    "        \n",
    "        return self.EC(z/self.s + self.alfa , w/self.s)\n",
    "    \n",
    "    def ec2ed(self,P):\n",
    "        if P == self.EC(0):\n",
    "            return (0,1)\n",
    "        \n",
    "        x,y = P.xy()\n",
    "        u = self.s * (x - self.alfa)\n",
    "        v = self.s * y\n",
    "        \n",
    "        return (u / v, (u - 1) / (u + 1))"
   ]
  },
  {
   "attachments": {},
   "cell_type": "markdown",
   "metadata": {},
   "source": [
    "## Edwards25519\n",
    "\n",
    "Definição de todas as variáveis de acordo com o RFC 8032."
   ]
  },
  {
   "cell_type": "code",
   "execution_count": 26,
   "metadata": {
    "vscode": {
     "languageId": "python"
    }
   },
   "outputs": [
    {
     "data": {
      "text/plain": [
       "'\\np = 2**255 - 19\\nb = 256\\nn = 254\\n\\nK = GF(p)\\na = K(-1)\\nd = K(-121665)/K(121666)\\nPx = K(15112221349535400772501151409588531511454012693041857206046113283949847762202)\\nPy = K(46316835694926478169428394003475163141307993866256225615783033603165251855960)\\n\\nL = ZZ(2**252 + 27742317777372353535851937790883648493)\\nc = 3\\n'"
      ]
     },
     "execution_count": 26,
     "metadata": {},
     "output_type": "execute_result"
    }
   ],
   "source": [
    "'''\n",
    "p = 2**255 - 19\n",
    "b = 256\n",
    "n = 254\n",
    "\n",
    "K = GF(p)\n",
    "a = K(-1)\n",
    "d = K(-121665)/K(121666)\n",
    "Px = K(15112221349535400772501151409588531511454012693041857206046113283949847762202)\n",
    "Py = K(46316835694926478169428394003475163141307993866256225615783033603165251855960)\n",
    "\n",
    "L = ZZ(2**252 + 27742317777372353535851937790883648493)\n",
    "c = 3\n",
    "'''"
   ]
  },
  {
   "cell_type": "code",
   "execution_count": 27,
   "metadata": {
    "vscode": {
     "languageId": "python"
    }
   },
   "outputs": [],
   "source": [
    "p = 2**448 - 2**224 - 1\n",
    "b = 456\n",
    "n = 447\n",
    "\n",
    "\n",
    "\n",
    "K = GF(p)\n",
    "a = K(-1)\n",
    "d = K(-39081)\n",
    "Px = K(224580040295924300187604334099896036246789641632564134246125461686950415467406032909029192869357953282578032075146446173674602635247710)\n",
    "Py = K(298819210078481492676017930443930673437544040154080242095928241372331506189835876003536878655418784733982303233503462500531545062832660)\n",
    "L = ZZ(2**446 - 13818066809895115352007386748515426880336692474882178609894547503885)\n",
    "c = 2"
   ]
  },
  {
   "attachments": {},
   "cell_type": "markdown",
   "metadata": {},
   "source": [
    "### Teste 1 - Sucedido"
   ]
  },
  {
   "cell_type": "code",
   "execution_count": 28,
   "metadata": {
    "vscode": {
     "languageId": "python"
    }
   },
   "outputs": [
    {
     "ename": "TypeError",
     "evalue": "unsupported operand parent(s) for /: 'Rational Field' and 'Finite Field of size 726838724295606890549323807888004534353641360687318060281490199180612328166730772686396383698676545930088884461843637361053498018365439'",
     "output_type": "error",
     "traceback": [
      "\u001b[0;31m---------------------------------------------------------------------------\u001b[0m",
      "\u001b[0;31mTypeError\u001b[0m                                 Traceback (most recent call last)",
      "\u001b[0;32m/tmp/ipykernel_7536/4283664002.py\u001b[0m in \u001b[0;36m<module>\u001b[0;34m\u001b[0m\n\u001b[1;32m      3\u001b[0m \u001b[0;34m\u001b[0m\u001b[0m\n\u001b[1;32m      4\u001b[0m \u001b[0;31m#Criar objeto\u001b[0m\u001b[0;34m\u001b[0m\u001b[0;34m\u001b[0m\u001b[0m\n\u001b[0;32m----> 5\u001b[0;31m \u001b[0mE\u001b[0m \u001b[0;34m=\u001b[0m \u001b[0mEdCDSA\u001b[0m\u001b[0;34m(\u001b[0m\u001b[0mp\u001b[0m\u001b[0;34m,\u001b[0m\u001b[0mb\u001b[0m\u001b[0;34m,\u001b[0m\u001b[0mn\u001b[0m\u001b[0;34m,\u001b[0m\u001b[0mK\u001b[0m\u001b[0;34m,\u001b[0m\u001b[0ma\u001b[0m\u001b[0;34m,\u001b[0m\u001b[0md\u001b[0m\u001b[0;34m,\u001b[0m\u001b[0mPx\u001b[0m\u001b[0;34m,\u001b[0m\u001b[0mPy\u001b[0m\u001b[0;34m,\u001b[0m\u001b[0mL\u001b[0m\u001b[0;34m,\u001b[0m\u001b[0mc\u001b[0m\u001b[0;34m)\u001b[0m\u001b[0;34m\u001b[0m\u001b[0;34m\u001b[0m\u001b[0m\n\u001b[0m\u001b[1;32m      6\u001b[0m \u001b[0mmessage\u001b[0m \u001b[0;34m=\u001b[0m \u001b[0;34mb\"mensagem muito importante que vamos assinar\"\u001b[0m\u001b[0;34m\u001b[0m\u001b[0;34m\u001b[0m\u001b[0m\n\u001b[1;32m      7\u001b[0m \u001b[0;34m\u001b[0m\u001b[0m\n",
      "\u001b[0;32m/tmp/ipykernel_7536/3413329371.py\u001b[0m in \u001b[0;36m__init__\u001b[0;34m(self, p, b, n, K, a, d, Px, Py, L, c)\u001b[0m\n\u001b[1;32m     21\u001b[0m \u001b[0;34m\u001b[0m\u001b[0m\n\u001b[1;32m     22\u001b[0m         \u001b[0mself\u001b[0m\u001b[0;34m.\u001b[0m\u001b[0mEC\u001b[0m \u001b[0;34m=\u001b[0m \u001b[0mEllipticCurve\u001b[0m\u001b[0;34m(\u001b[0m\u001b[0mK\u001b[0m\u001b[0;34m,\u001b[0m \u001b[0;34m[\u001b[0m\u001b[0ma4\u001b[0m\u001b[0;34m,\u001b[0m \u001b[0ma6\u001b[0m\u001b[0;34m]\u001b[0m\u001b[0;34m)\u001b[0m\u001b[0;34m\u001b[0m\u001b[0;34m\u001b[0m\u001b[0m\n\u001b[0;32m---> 23\u001b[0;31m         \u001b[0mself\u001b[0m\u001b[0;34m.\u001b[0m\u001b[0mP\u001b[0m \u001b[0;34m=\u001b[0m \u001b[0mself\u001b[0m\u001b[0;34m.\u001b[0m\u001b[0med2ec\u001b[0m\u001b[0;34m(\u001b[0m\u001b[0mPx\u001b[0m\u001b[0;34m,\u001b[0m\u001b[0mPy\u001b[0m\u001b[0;34m)\u001b[0m\u001b[0;34m\u001b[0m\u001b[0;34m\u001b[0m\u001b[0m\n\u001b[0m\u001b[1;32m     24\u001b[0m \u001b[0;34m\u001b[0m\u001b[0m\n\u001b[1;32m     25\u001b[0m     \u001b[0;31m#Calculate private key\u001b[0m\u001b[0;34m\u001b[0m\u001b[0;34m\u001b[0m\u001b[0m\n",
      "\u001b[0;32m/tmp/ipykernel_7536/3413329371.py\u001b[0m in \u001b[0;36med2ec\u001b[0;34m(self, x, y)\u001b[0m\n\u001b[1;32m    108\u001b[0m         \u001b[0mw\u001b[0m \u001b[0;34m=\u001b[0m \u001b[0mz\u001b[0m\u001b[0;34m/\u001b[0m\u001b[0mx\u001b[0m\u001b[0;34m\u001b[0m\u001b[0;34m\u001b[0m\u001b[0m\n\u001b[1;32m    109\u001b[0m \u001b[0;34m\u001b[0m\u001b[0m\n\u001b[0;32m--> 110\u001b[0;31m         \u001b[0;32mreturn\u001b[0m \u001b[0mself\u001b[0m\u001b[0;34m.\u001b[0m\u001b[0mEC\u001b[0m\u001b[0;34m(\u001b[0m\u001b[0mz\u001b[0m\u001b[0;34m/\u001b[0m\u001b[0mself\u001b[0m\u001b[0;34m.\u001b[0m\u001b[0ms\u001b[0m \u001b[0;34m+\u001b[0m \u001b[0mself\u001b[0m\u001b[0;34m.\u001b[0m\u001b[0malfa\u001b[0m \u001b[0;34m,\u001b[0m \u001b[0mw\u001b[0m\u001b[0;34m/\u001b[0m\u001b[0mself\u001b[0m\u001b[0;34m.\u001b[0m\u001b[0ms\u001b[0m\u001b[0;34m)\u001b[0m\u001b[0;34m\u001b[0m\u001b[0;34m\u001b[0m\u001b[0m\n\u001b[0m\u001b[1;32m    111\u001b[0m \u001b[0;34m\u001b[0m\u001b[0m\n\u001b[1;32m    112\u001b[0m     \u001b[0;32mdef\u001b[0m \u001b[0mec2ed\u001b[0m\u001b[0;34m(\u001b[0m\u001b[0mself\u001b[0m\u001b[0;34m,\u001b[0m\u001b[0mP\u001b[0m\u001b[0;34m)\u001b[0m\u001b[0;34m:\u001b[0m\u001b[0;34m\u001b[0m\u001b[0;34m\u001b[0m\u001b[0m\n",
      "\u001b[0;32m/usr/lib/python3/dist-packages/sage/rings/rational.pyx\u001b[0m in \u001b[0;36msage.rings.rational.Rational.__truediv__ (build/cythonized/sage/rings/rational.cpp:21545)\u001b[0;34m()\u001b[0m\n\u001b[1;32m   2470\u001b[0m             \u001b[0;32mreturn\u001b[0m \u001b[0mx\u001b[0m\u001b[0;34m\u001b[0m\u001b[0;34m\u001b[0m\u001b[0m\n\u001b[1;32m   2471\u001b[0m \u001b[0;34m\u001b[0m\u001b[0m\n\u001b[0;32m-> 2472\u001b[0;31m         \u001b[0;32mreturn\u001b[0m \u001b[0mcoercion_model\u001b[0m\u001b[0;34m.\u001b[0m\u001b[0mbin_op\u001b[0m\u001b[0;34m(\u001b[0m\u001b[0mleft\u001b[0m\u001b[0;34m,\u001b[0m \u001b[0mright\u001b[0m\u001b[0;34m,\u001b[0m \u001b[0moperator\u001b[0m\u001b[0;34m.\u001b[0m\u001b[0mtruediv\u001b[0m\u001b[0;34m)\u001b[0m\u001b[0;34m\u001b[0m\u001b[0;34m\u001b[0m\u001b[0m\n\u001b[0m\u001b[1;32m   2473\u001b[0m \u001b[0;34m\u001b[0m\u001b[0m\n\u001b[1;32m   2474\u001b[0m     \u001b[0mcpdef\u001b[0m \u001b[0m_div_\u001b[0m\u001b[0;34m(\u001b[0m\u001b[0mself\u001b[0m\u001b[0;34m,\u001b[0m \u001b[0mright\u001b[0m\u001b[0;34m)\u001b[0m\u001b[0;34m:\u001b[0m\u001b[0;34m\u001b[0m\u001b[0;34m\u001b[0m\u001b[0m\n",
      "\u001b[0;32m/usr/lib/python3/dist-packages/sage/structure/coerce.pyx\u001b[0m in \u001b[0;36msage.structure.coerce.CoercionModel.bin_op (build/cythonized/sage/structure/coerce.c:11821)\u001b[0;34m()\u001b[0m\n\u001b[1;32m   1246\u001b[0m         \u001b[0;31m# We should really include the underlying error.\u001b[0m\u001b[0;34m\u001b[0m\u001b[0;34m\u001b[0m\u001b[0m\n\u001b[1;32m   1247\u001b[0m         \u001b[0;31m# This causes so much headache.\u001b[0m\u001b[0;34m\u001b[0m\u001b[0;34m\u001b[0m\u001b[0m\n\u001b[0;32m-> 1248\u001b[0;31m         \u001b[0;32mraise\u001b[0m \u001b[0mbin_op_exception\u001b[0m\u001b[0;34m(\u001b[0m\u001b[0mop\u001b[0m\u001b[0;34m,\u001b[0m \u001b[0mx\u001b[0m\u001b[0;34m,\u001b[0m \u001b[0my\u001b[0m\u001b[0;34m)\u001b[0m\u001b[0;34m\u001b[0m\u001b[0;34m\u001b[0m\u001b[0m\n\u001b[0m\u001b[1;32m   1249\u001b[0m \u001b[0;34m\u001b[0m\u001b[0m\n\u001b[1;32m   1250\u001b[0m     \u001b[0mcpdef\u001b[0m \u001b[0mcanonical_coercion\u001b[0m\u001b[0;34m(\u001b[0m\u001b[0mself\u001b[0m\u001b[0;34m,\u001b[0m \u001b[0mx\u001b[0m\u001b[0;34m,\u001b[0m \u001b[0my\u001b[0m\u001b[0;34m)\u001b[0m\u001b[0;34m:\u001b[0m\u001b[0;34m\u001b[0m\u001b[0;34m\u001b[0m\u001b[0m\n",
      "\u001b[0;31mTypeError\u001b[0m: unsupported operand parent(s) for /: 'Rational Field' and 'Finite Field of size 726838724295606890549323807888004534353641360687318060281490199180612328166730772686396383698676545930088884461843637361053498018365439'"
     ]
    }
   ],
   "source": [
    "#Gerar chave privada\n",
    "private_key = os.urandom(32)\n",
    "\n",
    "#Criar objeto\n",
    "E = EdCDSA(p,b,n,K,a,d,Px,Py,L,c)\n",
    "message = b\"mensagem muito importante que vamos assinar\"\n",
    "\n",
    "#Calcular chave publica\n",
    "public_key = E.public_key(private_key)\n",
    "print(\"Public key: \", public_key)\n",
    "\n",
    "#Assinar mensagem\n",
    "signature = E.sign(message, private_key)\n",
    "print(\"Signature: \", signature)\n",
    "\n",
    "#Verificar que assinatura corresponde à mensagem\n",
    "print(\"Verify: \", E.verify(message, signature, public_key))"
   ]
  },
  {
   "attachments": {},
   "cell_type": "markdown",
   "metadata": {},
   "source": [
    "### Teste 2 - Não sucedido"
   ]
  },
  {
   "cell_type": "code",
   "execution_count": null,
   "metadata": {
    "vscode": {
     "languageId": "python"
    }
   },
   "outputs": [
    {
     "name": "stdout",
     "output_type": "stream",
     "text": [
      "Public key:  b'\\xa392{c\\x92\\xbff$\\\\\\xa8\\x0ep\\x8d\\x02>@\\xd8\\x8d\\xa3e\\xccpJ\\xdb\\xafKB6\\x10F\\x10'\n",
      "Signature:  b'k\\x82\\xe1\\xb0\\x99{\\xcds3\\xf3\\xf4Q\\x88\\xb3\\x01\\x9c*\\xf0[[\\x0ex\\x97\\xaf\\xf6J\\xd3(\\x01\\xf3Pg\\x92M\\xd3H\\x99LC\\xcc\\xf08\\xcf\\x92\\x1f\\x19\\xf3\\xe17&s\\xa9v\\x08Au\\x9e\\xdb\\xcb\\xda\\xe5\\xdc\\x98\\x0c'\n",
      "Verify:  False\n"
     ]
    }
   ],
   "source": [
    "#Gerar chave privada\n",
    "private_key = os.urandom(32)\n",
    "\n",
    "#Criar objeto\n",
    "E = EdCDSA(p,b,n,K,a,d,Px,Py,L,c)\n",
    "message = b\"mensagem muito importante que vamos assinar\"\n",
    "\n",
    "#Calcular chave publica\n",
    "public_key = E.public_key(private_key)\n",
    "print(\"Public key: \", public_key)\n",
    "\n",
    "#Assinar mensagem\n",
    "signature = E.sign(message, private_key)\n",
    "print(\"Signature: \", signature)\n",
    "\n",
    "#Modificar mensagem\n",
    "message = b\"mensagem muito importante que iriamos assinar\"\n",
    "\n",
    "#Verificar que assinatura corresponde à mensagem\n",
    "print(\"Verify: \", E.verify(message, signature, public_key))"
   ]
  },
  {
   "attachments": {},
   "cell_type": "markdown",
   "metadata": {},
   "source": [
    "## C)"
   ]
  },
  {
   "cell_type": "code",
   "execution_count": null,
   "metadata": {
    "vscode": {
     "languageId": "python"
    }
   },
   "outputs": [
    {
     "name": "stdout",
     "output_type": "stream",
     "text": [
      "Bob knows the private key\n"
     ]
    }
   ],
   "source": [
    "E_A = EdCDSA(p,b,n,K,a,d,Px,Py,L,c)\n",
    "E_B = EdCDSA(p,b,n,K,a,d,Px,Py,L,c)\n",
    "\n",
    "private_key = os.urandom(32)\n",
    "\n",
    "\n",
    "#ALICE desafia Bob a provar que conhece a sua chave\n",
    "challenge_alice = os.urandom(32)\n",
    "\n",
    "#BOB assina o desafio para provar que conhece a chave privada\n",
    "public_key_bob = E.public_key(private_key)\n",
    "signature_bob = E.sign(challenge_alice, private_key)\n",
    "#BOB envia assinatura e chave publica para ALICE\n",
    "\n",
    "#ALICE verifica o desafio\n",
    "verify = E_A.verify(challenge_alice, signature_bob, public_key_bob)\n",
    "\n",
    "#Se a verificação for verdadeira, então ALICE sabe que BOB conhece a chave privada\n",
    "if(verify):\n",
    "    print(\"Bob knows the private key\")\n",
    "else:\n",
    "    print(\"Bob does not know the private key\")"
   ]
  }
 ],
 "metadata": {
  "kernelspec": {
   "display_name": "SageMath 9.5",
   "language": "sage",
   "name": "sagemath"
  },
  "language_info": {
   "codemirror_mode": {
    "name": "ipython",
    "version": 3
   },
   "file_extension": ".py",
   "mimetype": "text/x-python",
   "name": "sage",
   "nbconvert_exporter": "python",
   "pygments_lexer": "ipython3",
   "version": "3.10.12"
  },
  "orig_nbformat": 4
 },
 "nbformat": 4,
 "nbformat_minor": 2
}
