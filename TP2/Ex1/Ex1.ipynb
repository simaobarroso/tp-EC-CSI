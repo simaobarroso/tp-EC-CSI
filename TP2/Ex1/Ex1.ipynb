{
 "cells": [
  {
   "cell_type": "markdown",
   "id": "bf9d4b45",
   "metadata": {},
   "source": [
    "# Estruturas Cripográficas - Criptografia e Segurança da Informação\n",
    "\n",
    "## TP2 - Exercício 1"
   ]
  },
  {
   "cell_type": "markdown",
   "id": "0f64169c",
   "metadata": {},
   "source": [
    "#### Enunciado\n",
    "\n",
    "Estes problemas destinam à iniciação do uso do SageMath  em protótipos de esquemas clássicos de chave pública.\n",
    "\n",
    "1. Construir uma classe Python que implemente o  EdDSA a partir do [“standard” FIPS186-5](https://csrc.nist.gov/publications/detail/fips/186/5/draft)\n",
    "    1. A implementação deve conter funções para assinar digitalmente e verificar a assinatura.\n",
    "    2. A implementação da classe deve usar  uma das “Twisted Edwards Curves” definidas no standard e escolhida  na iniciação da classe: a curva  “edwards25519” ou “edwards448”."
   ]
  },
  {
   "cell_type": "markdown",
   "id": "751c70e2",
   "metadata": {},
   "source": [
    "# Versão do SageMath \n",
    "\n",
    "`SageMath 9.5` (Confirmar não se vou mudar)\n",
    "METER PASSOS PARA INSTALAR + SECCÇÃO COM IMPORTS EM BAIXO"
   ]
  },
  {
   "cell_type": "markdown",
   "id": "b8fee741",
   "metadata": {},
   "source": [
    "#### Classe EdDSA - Capítulo 7 do FIPS186-5"
   ]
  },
  {
   "cell_type": "code",
   "execution_count": null,
   "id": "cc0feec2",
   "metadata": {
    "vscode": {
     "languageId": "plaintext"
    }
   },
   "outputs": [],
   "source": []
  },
  {
   "cell_type": "markdown",
   "id": "54d3834f",
   "metadata": {},
   "source": [
    "#### Testes"
   ]
  },
  {
   "cell_type": "code",
   "execution_count": null,
   "id": "e61b80ad",
   "metadata": {
    "vscode": {
     "languageId": "plaintext"
    }
   },
   "outputs": [],
   "source": []
  }
 ],
 "metadata": {
  "kernelspec": {
   "display_name": "SageMath 9.5",
   "language": "sage",
   "name": "sagemath"
  },
  "language_info": {
   "codemirror_mode": {
    "name": "ipython",
    "version": 3
   },
   "file_extension": ".py",
   "mimetype": "text/x-python",
   "name": "sage",
   "nbconvert_exporter": "python",
   "pygments_lexer": "ipython3",
   "version": "3.10.12"
  }
 },
 "nbformat": 4,
 "nbformat_minor": 5
}
