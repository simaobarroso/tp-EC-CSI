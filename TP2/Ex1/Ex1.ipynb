{
 "cells": [
  {
   "cell_type": "markdown",
   "id": "bf9d4b45",
   "metadata": {},
   "source": [
    "Estes problemas destinam à iniciação do uso do SageMath  em protótipos de esquemas clássicos de chave pública.\n",
    "\n",
    "1. Construir uma classe Python que implemente o  EdDSA a partir do “standard” FIPS186-5\n",
    "    1. A implementação deve conter funções para assinar digitalmente e verificar a assinatura.\n",
    "    2. A implementação da classe deve usar  uma das “Twisted Edwards Curves” definidas no standard e escolhida  na iniciação da classe: a curva  “edwards25519” ou “edwards448”."
   ]
  }
 ],
 "metadata": {
  "kernelspec": {
   "display_name": "SageMath 9.5",
   "language": "sage",
   "name": "sagemath"
  },
  "language_info": {
   "codemirror_mode": {
    "name": "ipython",
    "version": 3
   },
   "file_extension": ".py",
   "mimetype": "text/x-python",
   "name": "python",
   "nbconvert_exporter": "python",
   "pygments_lexer": "ipython3",
   "version": "3.10.12"
  }
 },
 "nbformat": 4,
 "nbformat_minor": 5
}
